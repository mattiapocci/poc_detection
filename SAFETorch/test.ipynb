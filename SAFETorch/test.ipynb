{
 "cells": [
  {
   "cell_type": "markdown",
   "metadata": {},
   "source": [
    "# Test SAFEtorch pipeline"
   ]
  },
  {
   "cell_type": "code",
   "execution_count": null,
   "metadata": {},
   "outputs": [],
   "source": [
    "#ubuntu\n",
    "import sys \n",
    "sys.path.append('/home/mattia/Desktop/tesi_magistrale/SAFEtorch/SAFEtorch')"
   ]
  },
  {
   "cell_type": "code",
   "execution_count": null,
   "metadata": {},
   "outputs": [],
   "source": [
    "from utils.function_normalizer import FunctionNormalizer\n",
    "from utils.instructions_converter import InstructionsConverter\n",
    "from utils.capstone_disassembler import disassemble\n",
    "from utils.radare_analyzer import BinaryAnalyzer\n",
    "from safetorch.safe_network import SAFE\n",
    "from safetorch.parameters import Config\n",
    "import torch"
   ]
  },
  {
   "cell_type": "code",
   "execution_count": null,
   "metadata": {},
   "outputs": [],
   "source": [
    "# initialize SAFE\n",
    "config = Config()\n",
    "safe = SAFE(config)"
   ]
  },
  {
   "cell_type": "code",
   "execution_count": null,
   "metadata": {},
   "outputs": [],
   "source": [
    "# load instruction converter and normalizer\n",
    "#ubuntu\n",
    "I2V_FILENAME = \"../../SAFEtorch/SAFEtorch/model/word2id.json\"\n",
    "#windows\n",
    "#I2V_FILENAME = \"SAFEtorch/model/word2id.json\"\n",
    "converter = InstructionsConverter(I2V_FILENAME)\n",
    "normalizer = FunctionNormalizer(max_instruction=150)"
   ]
  },
  {
   "cell_type": "code",
   "execution_count": null,
   "metadata": {},
   "outputs": [],
   "source": [
    "# load SAFE weights\n",
    "#windows\n",
    "#SAFE_torch_model_path = \"SAFEtorch/model/SAFEtorch.pt\"\n",
    "#ubuntu\n",
    "SAFE_torch_model_path = \"../../SAFEtorch/SAFEtorch/model/SAFEtorch.pt\"\n",
    "state_dict = torch.load(SAFE_torch_model_path)\n",
    "safe.load_state_dict(state_dict)\n",
    "safe = safe.eval()"
   ]
  },
  {
   "cell_type": "markdown",
   "metadata": {},
   "source": [
    "# Create exploits_embeddings"
   ]
  },
  {
   "cell_type": "code",
   "execution_count": null,
   "metadata": {},
   "outputs": [],
   "source": [
    "#change these variables according to your setup\n",
    "#path to folder with exploits\n",
    "#windows\n",
    "#exploit_folder = 'C:/Users/matti/Desktop/Magistrale/tesi/poc_detection/temp_dir/'\n",
    "#ubuntu\n",
    "exploit_folder = '/media/mattia/2068D30968D2DC9A1/Users/matti/Desktop/Magistrale/tesi/poc_detection/temp_dir/'\n",
    "\n",
    "\n",
    "#path to embeddings_extractor script\n",
    "embeddings_extractor = 'embeddings_extractor.py'\n"
   ]
  },
  {
   "cell_type": "code",
   "execution_count": null,
   "metadata": {},
   "outputs": [],
   "source": [
    "'''\n",
    "from SAFEtorch.utils.function_normalizer import FunctionNormalizer\n",
    "from SAFEtorch.utils.instructions_converter import InstructionsConverter\n",
    "from SAFEtorch.utils.capstone_disassembler import disassemble\n",
    "from SAFEtorch.utils.radare_analyzer import BinaryAnalyzer\n",
    "from SAFEtorch.safetorch.safe_network import SAFE\n",
    "from SAFEtorch.safetorch.parameters import Config\n",
    "'''\n",
    "import torch\n",
    "import gc\n",
    "gc.collect()\n",
    "import os\n",
    "filtered = filter(lambda elem: 'exe' in exploit_folder + elem, os.listdir(exploit_folder))\n",
    "filtered = map(lambda elem: exploit_folder + elem, filtered)\n",
    "binary_exploits = list(filtered)\n",
    "\n",
    "# create dict with {exploit name, (function_name,embedding)}\n",
    "exploits_embeddings = {}\n",
    "    \n",
    "for exe in binary_exploits:\n",
    "    !python $embeddings_extractor $exe\n",
    "    exploits_embeddings[exe.replace('.exe','').replace(exploit_folder,'')] = torch.load('/home/mattia/Desktop/tesi_magistrale/SAFEtorch/SAFEtorch/dizionarione.pt')\n",
    "\n",
    "\n",
    "\n",
    "\n",
    "\n",
    "    '''\n",
    "    listone = !python $embeddings_extractor $exe\n",
    "    if len(listone) > 0:\n",
    "        exploits_embeddings[exe.replace('.exe','').replace(exploit_folder,'')] = listone\n",
    "        print(listone)\n",
    "    print(exe.replace('.exe','').replace(exploit_folder,'') + ' processed')\n",
    "    '''\n",
    "\n"
   ]
  },
  {
   "cell_type": "code",
   "execution_count": null,
   "metadata": {},
   "outputs": [],
   "source": [
    "torch.save(exploits_embeddings,'/media/mattia/2068D30968D2DC9A1/Users/matti/Desktop/Magistrale/tesi/poc_detection/temp_dir/exploits_embeddings_complete.pt')"
   ]
  },
  {
   "cell_type": "code",
   "execution_count": null,
   "metadata": {},
   "outputs": [],
   "source": [
    "exploits_embeddings = torch.load('/media/mattia/2068D30968D2DC9A1/Users/matti/Desktop/Magistrale/tesi/poc_detection/temp_dir/exploits_embeddings_complete.pt')\n",
    "print(exploits_embeddings)"
   ]
  },
  {
   "cell_type": "markdown",
   "metadata": {},
   "source": [
    "## Remove invalid entries in exploits_embeddings"
   ]
  },
  {
   "cell_type": "code",
   "execution_count": null,
   "metadata": {},
   "outputs": [],
   "source": [
    "# remove invalid entries in exploits_embeddings\n",
    "from copy import deepcopy\n",
    "d = deepcopy(exploits_embeddings)\n",
    "# Check if a tensor is zero: if my_tensor.float().sum().data[0] == 0:\n",
    "for key in d:\n",
    "    for minikey in d[key]:\n",
    "        if d[key][minikey].float().sum().item() == 0:\n",
    "            del exploits_embeddings[key][minikey]\n",
    "            #print(str(a) + ' ' + str(a==0))\n",
    "\n",
    "\n",
    "print(exploits_embeddings)\n",
    "# save exploits_embeddings as file\n",
    "#torch.save(exploits_embeddings,'/home/mattia/Desktop/tesi_magistrale/SAFEtorch/SAFEtorch/exploits_embeddings_complete.pt')"
   ]
  },
  {
   "cell_type": "code",
   "execution_count": null,
   "metadata": {},
   "outputs": [],
   "source": [
    "#Save clean exploits_embeddings\n",
    "torch.save(exploits_embeddings,'/media/mattia/2068D30968D2DC9A1/Users/matti/Desktop/Magistrale/tesi/poc_detection/temp_dir/exploits_embeddings_complete.pt')"
   ]
  },
  {
   "cell_type": "markdown",
   "metadata": {},
   "source": [
    "# Load exploits_embeddings from file"
   ]
  },
  {
   "cell_type": "code",
   "execution_count": null,
   "metadata": {},
   "outputs": [],
   "source": [
    "#windows\n",
    "#exploits_embeddings = torch.load('C:\\\\Users\\\\matti\\\\Desktop\\\\Magistrale\\\\tesi\\\\poc_detection\\\\datasets\\\\exploits_embeddings_complete.pt')\n",
    "#ubuntu\n",
    "exploits_embeddings = torch.load('/media/mattia/2068D30968D2DC9A1/Users/matti/Desktop/Magistrale/tesi/poc_detection/temp_dir/exploits_embeddings_complete.pt')\n",
    "print('exploits_embeddings loaded')"
   ]
  },
  {
   "cell_type": "code",
   "execution_count": null,
   "metadata": {},
   "outputs": [],
   "source": [
    "exploits_embeddings"
   ]
  },
  {
   "cell_type": "code",
   "execution_count": null,
   "metadata": {},
   "outputs": [],
   "source": [
    "def cosine_similarity(fun1,fun2):\n",
    "    cos = torch.nn.CosineSimilarity(dim=1, eps=1e-6)\n",
    "    return cos(fun1, fun2)\n",
    "\n",
    "def max_similarity(nome, embedding, lista2):\n",
    "    res = 0\n",
    "    n1,n2 = ''\n",
    "    for(nome2,embedding2) in lista2:\n",
    "        cos = cosine_similarity(embedding,embedding2)\n",
    "        if(cos > res):\n",
    "            res = cos\n",
    "            n1 = nome\n",
    "            n2 = nome2\n",
    "    return res,n1,n2\n",
    "\n",
    "exe = 'C:/Users/matti/Desktop/Magistrale/tesi/poc_detection/temp_dir/10102.exe'\n",
    "listone = !python $embeddings_extractor $exe\n",
    "print(listone)"
   ]
  }
 ],
 "metadata": {
  "interpreter": {
   "hash": "821f77f8828e8180cefca8102545d12ca0833cd7d3d8d53e6ac19f9670a558a3"
  },
  "kernelspec": {
   "display_name": "Python 3.9.4 64-bit ('venv': venv)",
   "name": "python3"
  },
  "language_info": {
   "codemirror_mode": {
    "name": "ipython",
    "version": 3
   },
   "file_extension": ".py",
   "mimetype": "text/x-python",
   "name": "python",
   "nbconvert_exporter": "python",
   "pygments_lexer": "ipython3",
   "version": "3.9.4"
  }
 },
 "nbformat": 4,
 "nbformat_minor": 4
}
