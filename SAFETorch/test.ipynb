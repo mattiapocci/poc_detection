{
 "cells": [
  {
   "cell_type": "markdown",
   "source": [
    "# Test SAFEtorch pipeline"
   ],
   "metadata": {}
  },
  {
   "cell_type": "code",
   "execution_count": null,
   "source": [
    "from utils.function_normalizer import FunctionNormalizer\n",
    "from utils.instructions_converter import InstructionsConverter\n",
    "from utils.capstone_disassembler import disassemble\n",
    "from utils.radare_analyzer import BinaryAnalyzer\n",
    "from safetorch.safe_network import SAFE\n",
    "from safetorch.parameters import Config\n",
    "import torch"
   ],
   "outputs": [],
   "metadata": {}
  },
  {
   "cell_type": "code",
   "execution_count": null,
   "source": [
    "# initialize SAFE\n",
    "config = Config()\n",
    "safe = SAFE(config)"
   ],
   "outputs": [],
   "metadata": {}
  },
  {
   "cell_type": "code",
   "execution_count": null,
   "source": [
    "# load instruction converter and normalizer\n",
    "I2V_FILENAME = \"model/word2id.json\"\n",
    "converter = InstructionsConverter(I2V_FILENAME)\n",
    "normalizer = FunctionNormalizer(max_instruction=150)"
   ],
   "outputs": [],
   "metadata": {}
  },
  {
   "cell_type": "code",
   "execution_count": null,
   "source": [
    "# load SAFE weights\n",
    "SAFE_torch_model_path = \"model/SAFEtorch.pt\"\n",
    "state_dict = torch.load(SAFE_torch_model_path)\n",
    "safe.load_state_dict(state_dict)\n",
    "safe = safe.eval()"
   ],
   "outputs": [],
   "metadata": {}
  },
  {
   "cell_type": "code",
   "execution_count": null,
   "source": [
    "cos = torch.nn.CosineSimilarity(dim=1, eps=1e-6)\n",
    "print('Cosine Similarity: ')\n",
    "print(cos(main, main_fuffa))"
   ],
   "outputs": [],
   "metadata": {}
  },
  {
   "cell_type": "markdown",
   "source": [
    "# Create exploits_embeddings"
   ],
   "metadata": {}
  },
  {
   "cell_type": "code",
   "execution_count": null,
   "source": [
    "#change these variables according to your setup\n",
    "#path to folder with exploits\n",
    "exploit_folder = '/media/mattia/2068D30968D2DC9A/Users/matti/Desktop/Magistrale/tesi/poc_detection/temp_dir/'\n",
    "#path to embeddings_extractor script\n",
    "embeddings_extractor = 'embeddings_extractor.py'\n"
   ],
   "outputs": [],
   "metadata": {}
  },
  {
   "cell_type": "code",
   "execution_count": null,
   "source": [
    "from utils.function_normalizer import FunctionNormalizer\n",
    "from utils.instructions_converter import InstructionsConverter\n",
    "from utils.capstone_disassembler import disassemble\n",
    "from utils.radare_analyzer import BinaryAnalyzer\n",
    "from safetorch.safe_network import SAFE\n",
    "from safetorch.parameters import Config\n",
    "import torch\n",
    "import gc\n",
    "gc.collect()\n",
    "import os\n",
    "filtered = filter(lambda elem: 'exe' in exploit_folder + elem, os.listdir(exploit_folder))\n",
    "filtered = map(lambda elem: exploit_folder + elem, filtered)\n",
    "binary_exploits = list(filtered)\n",
    "\n",
    "# create dict with {exploit name, (function_name,embedding)}\n",
    "exploits_embeddings = {}\n",
    "    \n",
    "for exe in binary_exploits:\n",
    "    listone = !python $embeddings_extractor $exe\n",
    "    if len(listone) > 0:\n",
    "        exploits_embeddings[exe.replace('.exe','').replace(exploit_folder,'')] = listone\n",
    "    print(exe.replace('.exe','').replace(exploit_folder,'') + ' processed')\n",
    "\n"
   ],
   "outputs": [],
   "metadata": {}
  },
  {
   "cell_type": "markdown",
   "source": [
    "## Remove invalid entries in exploits_embeddings"
   ],
   "metadata": {}
  },
  {
   "cell_type": "code",
   "execution_count": null,
   "source": [
    "# remove invalid entries in exploits_embeddings\n",
    "from copy import deepcopy\n",
    "d = deepcopy(exploits_embeddings)\n",
    "\n",
    "for key in d:\n",
    "    x =str(d[key])\n",
    "    if 'exe' in x:\n",
    "        del exploits_embeddings[key]\n",
    "\n",
    "exploits_embeddings\n",
    "# save exploits_embeddings as file\n",
    "torch.save(exploits_embeddings,'/home/mattia/Desktop/tesi_magistrale/SAFEtorch/SAFEtorch/exploits_embeddings_complete.pt')"
   ],
   "outputs": [],
   "metadata": {}
  },
  {
   "cell_type": "markdown",
   "source": [
    "# Load exploits_embeddings from file"
   ],
   "metadata": {}
  },
  {
   "cell_type": "code",
   "execution_count": null,
   "source": [
    "exploits_embeddings = torch.load('/home/mattia/Desktop/tesi_magistrale/SAFEtorch/SAFEtorch/exploits_embeddings_complete.pt')\n",
    "print('exploits_embeddings loaded')"
   ],
   "outputs": [],
   "metadata": {}
  }
 ],
 "metadata": {
  "kernelspec": {
   "name": "python3",
   "display_name": "Python 3.8.10 64-bit ('SAFEtorch': venv)"
  },
  "language_info": {
   "codemirror_mode": {
    "name": "ipython",
    "version": 3
   },
   "file_extension": ".py",
   "mimetype": "text/x-python",
   "name": "python",
   "nbconvert_exporter": "python",
   "pygments_lexer": "ipython3",
   "version": "3.8.10"
  },
  "interpreter": {
   "hash": "ba100f46a1b0843432bbeab94a8f4f549380c0a60c00481b6904b7664bb4f11d"
  }
 },
 "nbformat": 4,
 "nbformat_minor": 4
}