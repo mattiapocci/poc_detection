{
 "cells": [
  {
   "cell_type": "code",
   "execution_count": 4,
   "metadata": {},
   "outputs": [],
   "source": [
    "import torch\n",
    "import os\n",
    "#da levare se docker container\n",
    "os.getcwd()\n",
    "#dataset = torch.load('../datasets/exploits_embeddings_complete.pt')\n",
    "dataset = torch.load('../datasets/embeddings/exploits_embeddings_complete.pt')\n",
    "embeddings = torch.load('../datasets/embeddings/embeddings_dict.pt')"
   ]
  },
  {
   "cell_type": "code",
   "execution_count": null,
   "metadata": {},
   "outputs": [],
   "source": [
    "rev_dict = {}\n",
    "for key, value in dataset.items():\n",
    "\trev_dict.setdefault(str(value), set()).add(key)\n",
    "\n",
    "\n",
    "result = filter(lambda x: len(x)>1, rev_dict.values())\n",
    "res = list(result)\n",
    "for s in res:\n",
    "    print(s)\n",
    "    print(len(s))\n",
    "    print('---')"
   ]
  },
  {
   "cell_type": "code",
   "execution_count": null,
   "metadata": {},
   "outputs": [],
   "source": [
    "for s in res:\n",
    "    primo = True\n",
    "    for minis in s:\n",
    "        if not primo:\n",
    "            del dataset[minis]\n",
    "        else:\n",
    "            primo = False"
   ]
  },
  {
   "cell_type": "code",
   "execution_count": null,
   "metadata": {},
   "outputs": [],
   "source": [
    "rev_dict = {}\n",
    "for key, value in dataset.items():\n",
    "\trev_dict.setdefault(str(value), set()).add(key)\n",
    "\tresult = filter(lambda x: len(x)>1, rev_dict.values())\n",
    "res = list(result)\n",
    "for s in res:\n",
    "    print(s)\n",
    "    print(len(s))\n",
    "    print('---')"
   ]
  },
  {
   "cell_type": "code",
   "execution_count": null,
   "metadata": {},
   "outputs": [],
   "source": [
    "dataset.keys()"
   ]
  },
  {
   "cell_type": "code",
   "execution_count": 6,
   "metadata": {},
   "outputs": [
    {
     "data": {
      "text/plain": [
       "993"
      ]
     },
     "execution_count": 6,
     "metadata": {},
     "output_type": "execute_result"
    }
   ],
   "source": [
    "len(list(embeddings.keys()))"
   ]
  }
 ],
 "metadata": {
  "interpreter": {
   "hash": "821f77f8828e8180cefca8102545d12ca0833cd7d3d8d53e6ac19f9670a558a3"
  },
  "kernelspec": {
   "display_name": "Python 3.9.4 64-bit ('venv': venv)",
   "name": "python3"
  },
  "language_info": {
   "codemirror_mode": {
    "name": "ipython",
    "version": 3
   },
   "file_extension": ".py",
   "mimetype": "text/x-python",
   "name": "python",
   "nbconvert_exporter": "python",
   "pygments_lexer": "ipython3",
   "version": "3.9.4"
  },
  "orig_nbformat": 4
 },
 "nbformat": 4,
 "nbformat_minor": 2
}
