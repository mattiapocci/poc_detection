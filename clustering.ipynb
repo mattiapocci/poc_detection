{
 "metadata": {
  "language_info": {
   "codemirror_mode": {
    "name": "ipython",
    "version": 3
   },
   "file_extension": ".py",
   "mimetype": "text/x-python",
   "name": "python",
   "nbconvert_exporter": "python",
   "pygments_lexer": "ipython3",
   "version": "3.9.4"
  },
  "orig_nbformat": 2,
  "kernelspec": {
   "name": "python394jvsc74a57bd0a0ded08c67edfe2a4354d36b10e2f98b3ecfce6631b76726d618bad84dd97c1f",
   "display_name": "Python 3.9.4 64-bit"
  },
  "metadata": {
   "interpreter": {
    "hash": "a0ded08c67edfe2a4354d36b10e2f98b3ecfce6631b76726d618bad84dd97c1f"
   }
  }
 },
 "nbformat": 4,
 "nbformat_minor": 2,
 "cells": [
  {
   "cell_type": "code",
   "execution_count": null,
   "metadata": {},
   "outputs": [],
   "source": [
    "import pandas as pd\n",
    "from bs4 import BeautifulSoup\n",
    "import requests\n",
    "print('done')"
   ]
  },
  {
   "cell_type": "code",
   "execution_count": null,
   "metadata": {
    "tags": []
   },
   "outputs": [],
   "source": [
    "prefix = 'https://www.cvedetails.com'\n",
    "def cve_scraper(url, product, dataframe):\n",
    "    #df = pd.DataFrame(columns=['product','cve_id'])\n",
    "    #df = df.append({'product':product,'cve_id':''},ignore_index=True)\n",
    "    #print(df)\n",
    "    df = dataframe\n",
    "    site = requests.get(url)\n",
    "    soup = BeautifulSoup(site.text)\n",
    "    #print(soup.prettify())\n",
    "\n",
    "    list_of_cves = soup.find_all('tr', {'class': 'srrowns'})\n",
    "\n",
    "    for tr in list_of_cves:\n",
    "        table_elems = tr.find_all('td')\n",
    "        for td in table_elems:\n",
    "            if 'CVE' in td.text:\n",
    "                df = df.append({'product':product,'cve_id':td.text},ignore_index=True)\n",
    "\n",
    "\n",
    "    # for e in list_of_cves[0].find_all('td'):\n",
    "    #     if 'CVE' in e.text:\n",
    "    #         print(e.text)\n",
    "\n",
    "\n",
    "    list_of_pages = soup.find('div', {'id': 'pagingb'})\n",
    "    anchors = list_of_pages.find_all('a')\n",
    "\n",
    "    for a in anchors:\n",
    "        print(int(a.text))\n",
    "        if(int(a.text) == 1):\n",
    "            continue\n",
    "        page_n = requests.get(prefix + a['href'])\n",
    "        sp = BeautifulSoup(page_n.text)\n",
    "        list_of_cves = sp.find_all('tr', {'class': 'srrowns'})\n",
    "        for tr in list_of_cves:\n",
    "            table_elems = tr.find_all('td')\n",
    "            for td in table_elems:\n",
    "                if 'CVE' in td.text:\n",
    "                    df = df.append({'product':product,'cve_id':td.text},ignore_index=True)\n",
    "    return df"
   ]
  },
  {
   "cell_type": "code",
   "execution_count": null,
   "metadata": {
    "tags": []
   },
   "outputs": [],
   "source": [
    "'''\n",
    "The aim of this block is to collect information about product-specific CVEs, up to 2021 \n",
    "'''\n",
    "prefix = 'https://www.cvedetails.com'\n",
    "df = pd.DataFrame(columns=['product','cve_id'])\n",
    "url_products = 'https://www.cvedetails.com/top-50-products.php?year=0'\n",
    "products_site = requests.get(url_products)\n",
    "soup = BeautifulSoup(products_site.text)\n",
    "#print(soup.prettify())\n",
    "table = soup.find('table', {'class':'listtable'})\n",
    "product,product_url = ('','')\n",
    "for body in table:\n",
    "    for tr in body:\n",
    "        product,product_url = ('','')\n",
    "        for td in tr:\n",
    "            if 'Product Details' in str(td):\n",
    "                product = td.text\n",
    "            if 'All vulnerabilities related to products' in str(td):\n",
    "                product_url = prefix + td['href']\n",
    "        try:\n",
    "            df = cve_scraper(product_url,product,df)\n",
    "        except:\n",
    "            pass\n",
    "\n",
    "print(df)\n"
   ]
  },
  {
   "cell_type": "code",
   "execution_count": null,
   "metadata": {},
   "outputs": [],
   "source": [
    "df.to_csv(r'datasets/product_cveid.csv', index = False)"
   ]
  },
  {
   "cell_type": "code",
   "execution_count": null,
   "metadata": {},
   "outputs": [],
   "source": [
    "'''\n",
    "The aim of this block is to collect information about types of CVEs, up to 2021 \n",
    "'''\n",
    "url_type = 'https://www.cvedetails.com/vulnerabilities-by-types.php'"
   ]
  }
 ]
}