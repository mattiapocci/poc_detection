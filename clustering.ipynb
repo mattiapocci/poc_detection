{
 "metadata": {
  "language_info": {
   "codemirror_mode": {
    "name": "ipython",
    "version": 3
   },
   "file_extension": ".py",
   "mimetype": "text/x-python",
   "name": "python",
   "nbconvert_exporter": "python",
   "pygments_lexer": "ipython3",
   "version": "3.9.4"
  },
  "orig_nbformat": 2,
  "kernelspec": {
   "name": "python394jvsc74a57bd0a0ded08c67edfe2a4354d36b10e2f98b3ecfce6631b76726d618bad84dd97c1f",
   "display_name": "Python 3.9.4 64-bit"
  },
  "metadata": {
   "interpreter": {
    "hash": "a0ded08c67edfe2a4354d36b10e2f98b3ecfce6631b76726d618bad84dd97c1f"
   }
  }
 },
 "nbformat": 4,
 "nbformat_minor": 2,
 "cells": [
  {
   "cell_type": "code",
   "execution_count": null,
   "metadata": {},
   "outputs": [],
   "source": [
    "import pandas as pd\n",
    "from bs4 import BeautifulSoup\n",
    "import requests\n",
    "print('done')"
   ]
  },
  {
   "cell_type": "code",
   "execution_count": null,
   "metadata": {
    "tags": []
   },
   "outputs": [],
   "source": [
    "prefix = 'https://www.cvedetails.com'\n",
    "def cve_scraper(url, product, dataframe):\n",
    "    #df = pd.DataFrame(columns=['product','cve_id'])\n",
    "    #df = df.append({'product':product,'cve_id':''},ignore_index=True)\n",
    "    #print(df)\n",
    "    df = dataframe\n",
    "    site = requests.get(url)\n",
    "    soup = BeautifulSoup(site.text)\n",
    "    #print(soup.prettify())\n",
    "\n",
    "    list_of_cves = soup.find_all('tr', {'class': 'srrowns'})\n",
    "\n",
    "    for tr in list_of_cves:\n",
    "        table_elems = tr.find_all('td')\n",
    "        for td in table_elems:\n",
    "            if 'CVE' in td.text:\n",
    "                df = df.append({'product':product,'cve_id':td.text},ignore_index=True)\n",
    "\n",
    "\n",
    "    # for e in list_of_cves[0].find_all('td'):\n",
    "    #     if 'CVE' in e.text:\n",
    "    #         print(e.text)\n",
    "\n",
    "\n",
    "    list_of_pages = soup.find('div', {'id': 'pagingb'})\n",
    "    anchors = list_of_pages.find_all('a')\n",
    "\n",
    "    for a in anchors:\n",
    "        print(int(a.text))\n",
    "        if(int(a.text) == 1):\n",
    "            continue\n",
    "        page_n = requests.get(prefix + a['href'])\n",
    "        sp = BeautifulSoup(page_n.text)\n",
    "        list_of_cves = sp.find_all('tr', {'class': 'srrowns'})\n",
    "        for tr in list_of_cves:\n",
    "            table_elems = tr.find_all('td')\n",
    "            for td in table_elems:\n",
    "                if 'CVE' in td.text:\n",
    "                    df = df.append({'product':product,'cve_id':td.text},ignore_index=True)\n",
    "    return df"
   ]
  },
  {
   "cell_type": "code",
   "execution_count": null,
   "metadata": {
    "tags": []
   },
   "outputs": [],
   "source": [
    "'''\n",
    "The aim of this block is to collect information about product-specific CVEs, up to 2021 \n",
    "'''\n",
    "prefix = 'https://www.cvedetails.com'\n",
    "df = pd.DataFrame(columns=['product','cve_id'])\n",
    "url_products = 'https://www.cvedetails.com/top-50-products.php?year=0'\n",
    "products_site = requests.get(url_products)\n",
    "soup = BeautifulSoup(products_site.text)\n",
    "#print(soup.prettify())\n",
    "table = soup.find('table', {'class':'listtable'})\n",
    "product,product_url = ('','')\n",
    "for body in table:\n",
    "    for tr in body:\n",
    "        product,product_url = ('','')\n",
    "        for td in tr:\n",
    "            if 'Product Details' in str(td):\n",
    "                product = td.text\n",
    "            if 'All vulnerabilities related to products' in str(td):\n",
    "                product_url = prefix + td['href']\n",
    "        try:\n",
    "            df = cve_scraper(product_url,product,df)\n",
    "        except:\n",
    "            pass\n",
    "\n",
    "print(df)\n"
   ]
  },
  {
   "cell_type": "code",
   "execution_count": 77,
   "metadata": {},
   "outputs": [
    {
     "output_type": "stream",
     "name": "stdout",
     "text": [
      "['']\n"
     ]
    }
   ],
   "source": [
    "print(df['product'].unique())"
   ]
  },
  {
   "cell_type": "code",
   "execution_count": null,
   "metadata": {},
   "outputs": [],
   "source": [
    "# Save to csv\n",
    "df.to_csv(r'datasets/product_cveid.csv', index = False)"
   ]
  },
  {
   "cell_type": "code",
   "execution_count": 74,
   "metadata": {},
   "outputs": [
    {
     "output_type": "execute_result",
     "data": {
      "text/plain": [
       "       product            cve_id\n",
       "0          NaN  CVE-2019-1000020\n",
       "1          NaN  CVE-2019-1000019\n",
       "2          NaN  CVE-2019-1000018\n",
       "3          NaN    CVE-2019-17362\n",
       "4          NaN    CVE-2019-16943\n",
       "...        ...               ...\n",
       "51243      NaN     CVE-1999-0022\n",
       "51244      NaN     CVE-1999-0018\n",
       "51245      NaN     CVE-1999-0009\n",
       "51246      NaN     CVE-1999-0008\n",
       "51247      NaN     CVE-1999-0003\n",
       "\n",
       "[51248 rows x 2 columns]"
      ],
      "text/html": "<div>\n<style scoped>\n    .dataframe tbody tr th:only-of-type {\n        vertical-align: middle;\n    }\n\n    .dataframe tbody tr th {\n        vertical-align: top;\n    }\n\n    .dataframe thead th {\n        text-align: right;\n    }\n</style>\n<table border=\"1\" class=\"dataframe\">\n  <thead>\n    <tr style=\"text-align: right;\">\n      <th></th>\n      <th>product</th>\n      <th>cve_id</th>\n    </tr>\n  </thead>\n  <tbody>\n    <tr>\n      <th>0</th>\n      <td>NaN</td>\n      <td>CVE-2019-1000020</td>\n    </tr>\n    <tr>\n      <th>1</th>\n      <td>NaN</td>\n      <td>CVE-2019-1000019</td>\n    </tr>\n    <tr>\n      <th>2</th>\n      <td>NaN</td>\n      <td>CVE-2019-1000018</td>\n    </tr>\n    <tr>\n      <th>3</th>\n      <td>NaN</td>\n      <td>CVE-2019-17362</td>\n    </tr>\n    <tr>\n      <th>4</th>\n      <td>NaN</td>\n      <td>CVE-2019-16943</td>\n    </tr>\n    <tr>\n      <th>...</th>\n      <td>...</td>\n      <td>...</td>\n    </tr>\n    <tr>\n      <th>51243</th>\n      <td>NaN</td>\n      <td>CVE-1999-0022</td>\n    </tr>\n    <tr>\n      <th>51244</th>\n      <td>NaN</td>\n      <td>CVE-1999-0018</td>\n    </tr>\n    <tr>\n      <th>51245</th>\n      <td>NaN</td>\n      <td>CVE-1999-0009</td>\n    </tr>\n    <tr>\n      <th>51246</th>\n      <td>NaN</td>\n      <td>CVE-1999-0008</td>\n    </tr>\n    <tr>\n      <th>51247</th>\n      <td>NaN</td>\n      <td>CVE-1999-0003</td>\n    </tr>\n  </tbody>\n</table>\n<p>51248 rows × 2 columns</p>\n</div>"
     },
     "metadata": {},
     "execution_count": 74
    }
   ],
   "source": [
    "# Load from csv\n",
    "product_cveid = pd.read_csv(\"datasets/product_cveid.csv\")\n",
    "product_cveid"
   ]
  },
  {
   "cell_type": "code",
   "execution_count": null,
   "metadata": {},
   "outputs": [],
   "source": [
    "'''\n",
    "The aim of this block is to collect information about types of CVEs, up to 2021 \n",
    "'''\n",
    "url_type = 'https://www.cvedetails.com/vulnerabilities-by-types.php'"
   ]
  }
 ]
}