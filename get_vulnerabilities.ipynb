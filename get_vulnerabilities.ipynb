{
 "metadata": {
  "language_info": {
   "codemirror_mode": {
    "name": "ipython",
    "version": 3
   },
   "file_extension": ".py",
   "mimetype": "text/x-python",
   "name": "python",
   "nbconvert_exporter": "python",
   "pygments_lexer": "ipython3",
   "version": "3.9.4"
  },
  "orig_nbformat": 2,
  "kernelspec": {
   "name": "python394jvsc74a57bd0a0ded08c67edfe2a4354d36b10e2f98b3ecfce6631b76726d618bad84dd97c1f",
   "display_name": "Python 3.9.4 64-bit"
  },
  "metadata": {
   "interpreter": {
    "hash": "a0ded08c67edfe2a4354d36b10e2f98b3ecfce6631b76726d618bad84dd97c1f"
   }
  }
 },
 "nbformat": 4,
 "nbformat_minor": 2,
 "cells": [
  {
   "cell_type": "code",
   "execution_count": 1,
   "metadata": {},
   "outputs": [
    {
     "output_type": "stream",
     "name": "stdout",
     "text": [
      "done\n"
     ]
    }
   ],
   "source": [
    "import pandas as pd\n",
    "print('done')"
   ]
  },
  {
   "cell_type": "code",
   "execution_count": 2,
   "metadata": {},
   "outputs": [
    {
     "output_type": "stream",
     "name": "stdout",
     "text": [
      "Loading Datasets\n",
      "Loaded product_cveid\n",
      "Loaded type_cveid\n",
      "Loaded cve_with_exploits\n"
     ]
    }
   ],
   "source": [
    "# Load datasets\n",
    "print('Loading Datasets')\n",
    "product_cveid = pd.read_csv(\"datasets/product_cveid.csv\")\n",
    "print('Loaded product_cveid')\n",
    "type_cveid = pd.read_csv(\"datasets/type_cveid.csv\")\n",
    "print('Loaded type_cveid')\n",
    "cve_with_exploits = pd.read_csv('datasets/cve_with_exploits.csv')\n",
    "print('Loaded cve_with_exploits')"
   ]
  },
  {
   "cell_type": "code",
   "execution_count": 27,
   "metadata": {},
   "outputs": [
    {
     "output_type": "stream",
     "name": "stdout",
     "text": [
      "CVE-2009-4186\n"
     ]
    },
    {
     "output_type": "execute_result",
     "data": {
      "text/plain": [
       "      exploit_db_id                      cve_id  \\\n",
       "0             10102               CVE-2009-4186   \n",
       "1             10201               CVE-2009-4781   \n",
       "2             10226               CVE-2009-4097   \n",
       "3             10258               CVE-2009-4194   \n",
       "4             10484               CVE-2009-4452   \n",
       "...             ...                         ...   \n",
       "2300           9705               CVE-2009-4663   \n",
       "2301           9707               CVE-2009-4659   \n",
       "2302           9717  CVE-2009-4657CVE-2009-4658   \n",
       "2303           9734               CVE-2009-4661   \n",
       "2304            983               CVE-2005-1667   \n",
       "\n",
       "                                                exploit type_of_exploit  \n",
       "0     #!/usr/bin/perl\\n# ithinkthereforeiexist.pl\\n#...              pl  \n",
       "1     #!/usr/bin/perl\\n\\n# Exploit: TEKUVA Password ...              pl  \n",
       "2     #!/usr/bin/python\\n#\\n# ######################...              py  \n",
       "3     # Exploit Title: [Golden FTP Server File Delet...              pl  \n",
       "4     ShineShadow Security Report 16122009-15\\n\\nTIT...             txt  \n",
       "...                                                 ...             ...  \n",
       "2300  <html>\\n <head>\\n    <!--\\n      -- Quiksoft E...            html  \n",
       "2301  #!/usr/bin/perl\\n#############################...              pl  \n",
       "2302  ##############################################...             txt  \n",
       "2303  #!/usr/bin/env python\\n\\n#####################...              py  \n",
       "2304  /*\\n\\nDataTrac Activity Console DoS Exploit\\n-...             cpp  \n",
       "\n",
       "[2305 rows x 4 columns]"
      ],
      "text/html": "<div>\n<style scoped>\n    .dataframe tbody tr th:only-of-type {\n        vertical-align: middle;\n    }\n\n    .dataframe tbody tr th {\n        vertical-align: top;\n    }\n\n    .dataframe thead th {\n        text-align: right;\n    }\n</style>\n<table border=\"1\" class=\"dataframe\">\n  <thead>\n    <tr style=\"text-align: right;\">\n      <th></th>\n      <th>exploit_db_id</th>\n      <th>cve_id</th>\n      <th>exploit</th>\n      <th>type_of_exploit</th>\n    </tr>\n  </thead>\n  <tbody>\n    <tr>\n      <th>0</th>\n      <td>10102</td>\n      <td>CVE-2009-4186</td>\n      <td>#!/usr/bin/perl\\n# ithinkthereforeiexist.pl\\n#...</td>\n      <td>pl</td>\n    </tr>\n    <tr>\n      <th>1</th>\n      <td>10201</td>\n      <td>CVE-2009-4781</td>\n      <td>#!/usr/bin/perl\\n\\n# Exploit: TEKUVA Password ...</td>\n      <td>pl</td>\n    </tr>\n    <tr>\n      <th>2</th>\n      <td>10226</td>\n      <td>CVE-2009-4097</td>\n      <td>#!/usr/bin/python\\n#\\n# ######################...</td>\n      <td>py</td>\n    </tr>\n    <tr>\n      <th>3</th>\n      <td>10258</td>\n      <td>CVE-2009-4194</td>\n      <td># Exploit Title: [Golden FTP Server File Delet...</td>\n      <td>pl</td>\n    </tr>\n    <tr>\n      <th>4</th>\n      <td>10484</td>\n      <td>CVE-2009-4452</td>\n      <td>ShineShadow Security Report 16122009-15\\n\\nTIT...</td>\n      <td>txt</td>\n    </tr>\n    <tr>\n      <th>...</th>\n      <td>...</td>\n      <td>...</td>\n      <td>...</td>\n      <td>...</td>\n    </tr>\n    <tr>\n      <th>2300</th>\n      <td>9705</td>\n      <td>CVE-2009-4663</td>\n      <td>&lt;html&gt;\\n &lt;head&gt;\\n    &lt;!--\\n      -- Quiksoft E...</td>\n      <td>html</td>\n    </tr>\n    <tr>\n      <th>2301</th>\n      <td>9707</td>\n      <td>CVE-2009-4659</td>\n      <td>#!/usr/bin/perl\\n#############################...</td>\n      <td>pl</td>\n    </tr>\n    <tr>\n      <th>2302</th>\n      <td>9717</td>\n      <td>CVE-2009-4657CVE-2009-4658</td>\n      <td>##############################################...</td>\n      <td>txt</td>\n    </tr>\n    <tr>\n      <th>2303</th>\n      <td>9734</td>\n      <td>CVE-2009-4661</td>\n      <td>#!/usr/bin/env python\\n\\n#####################...</td>\n      <td>py</td>\n    </tr>\n    <tr>\n      <th>2304</th>\n      <td>983</td>\n      <td>CVE-2005-1667</td>\n      <td>/*\\n\\nDataTrac Activity Console DoS Exploit\\n-...</td>\n      <td>cpp</td>\n    </tr>\n  </tbody>\n</table>\n<p>2305 rows × 4 columns</p>\n</div>"
     },
     "metadata": {},
     "execution_count": 27
    }
   ],
   "source": [
    "print(cve_with_exploits.iloc[0]['cve_id'])\n",
    "for index, row in cve_with_exploits.iterrows():\n",
    "    cve_id = row['cve_id']\n",
    "    id = cve_id.replace(' ', '')\n",
    "    cve_with_exploits.loc[index, 'cve_id'] = id\n",
    "\n",
    "cve_with_exploits"
   ]
  },
  {
   "cell_type": "code",
   "execution_count": 19,
   "metadata": {},
   "outputs": [
    {
     "output_type": "stream",
     "name": "stdout",
     "text": [
      "CVE-2009-4186\n"
     ]
    },
    {
     "output_type": "execute_result",
     "data": {
      "text/plain": [
       "                    type         cve_id\n",
       "16527  denial of service  CVE-2009-4186\n",
       "69042           overflow  CVE-2009-4186"
      ],
      "text/html": "<div>\n<style scoped>\n    .dataframe tbody tr th:only-of-type {\n        vertical-align: middle;\n    }\n\n    .dataframe tbody tr th {\n        vertical-align: top;\n    }\n\n    .dataframe thead th {\n        text-align: right;\n    }\n</style>\n<table border=\"1\" class=\"dataframe\">\n  <thead>\n    <tr style=\"text-align: right;\">\n      <th></th>\n      <th>type</th>\n      <th>cve_id</th>\n    </tr>\n  </thead>\n  <tbody>\n    <tr>\n      <th>16527</th>\n      <td>denial of service</td>\n      <td>CVE-2009-4186</td>\n    </tr>\n    <tr>\n      <th>69042</th>\n      <td>overflow</td>\n      <td>CVE-2009-4186</td>\n    </tr>\n  </tbody>\n</table>\n</div>"
     },
     "metadata": {},
     "execution_count": 19
    }
   ],
   "source": [
    "cveid = cve_with_exploits.iloc[0]['cve_id'].replace(' ','')\n",
    "print(cveid)\n",
    "prova = product_cveid.loc[product_cveid['cve_id'] == cveid]\n",
    "prova\n",
    "ariprova = type_cveid.loc[type_cveid['cve_id'] == cveid]\n",
    "ariprova"
   ]
  },
  {
   "cell_type": "code",
   "execution_count": 29,
   "metadata": {},
   "outputs": [
    {
     "output_type": "execute_result",
     "data": {
      "text/plain": [
       "                   type          cve_id              product  exploit_db_id  \\\n",
       "0     denial of service  CVE-2018-11529         Debian Linux          45626   \n",
       "1          execute code  CVE-2018-11529         Debian Linux          45626   \n",
       "2     denial of service   CVE-2018-6947            Windows 7          44167   \n",
       "3     denial of service   CVE-2018-6947            Windows 7          44168   \n",
       "4     denial of service   CVE-2018-6947           Windows 10          44167   \n",
       "...                 ...             ...                  ...            ...   \n",
       "2523     gain privilege   CVE-2010-2744           Windows Xp          15894   \n",
       "2524     gain privilege   CVE-2009-2564       Acrobat Reader           9199   \n",
       "2525     gain privilege   CVE-2008-1436  Windows Server 2008           6705   \n",
       "2526     gain privilege   CVE-2008-1436        Windows Vista           6705   \n",
       "2527     gain privilege   CVE-2008-1436           Windows Xp           6705   \n",
       "\n",
       "                                                exploit type_of_exploit  \n",
       "0     ##\\n# This module requires Metasploit: https:/...              rb  \n",
       "1     ##\\n# This module requires Metasploit: https:/...              rb  \n",
       "2     #include “stdafx.h”\\n\\n#include <Windows.h>\\n\\...               c  \n",
       "3     from ctypes import *\\n\\nfrom ctypes.wintypes i...              py  \n",
       "4     #include “stdafx.h”\\n\\n#include <Windows.h>\\n\\...               c  \n",
       "...                                                 ...             ...  \n",
       "2523  #include <windows.h>\\n\\n/*\\nSource:\\nhttp://mi...               c  \n",
       "2524  Adobe related service (getPlus_HelperSvc.exe) ...             txt  \n",
       "2525  (From http://nomoreroot.blogspot.com/2008/10/w...             txt  \n",
       "2526  (From http://nomoreroot.blogspot.com/2008/10/w...             txt  \n",
       "2527  (From http://nomoreroot.blogspot.com/2008/10/w...             txt  \n",
       "\n",
       "[2528 rows x 6 columns]"
      ],
      "text/html": "<div>\n<style scoped>\n    .dataframe tbody tr th:only-of-type {\n        vertical-align: middle;\n    }\n\n    .dataframe tbody tr th {\n        vertical-align: top;\n    }\n\n    .dataframe thead th {\n        text-align: right;\n    }\n</style>\n<table border=\"1\" class=\"dataframe\">\n  <thead>\n    <tr style=\"text-align: right;\">\n      <th></th>\n      <th>type</th>\n      <th>cve_id</th>\n      <th>product</th>\n      <th>exploit_db_id</th>\n      <th>exploit</th>\n      <th>type_of_exploit</th>\n    </tr>\n  </thead>\n  <tbody>\n    <tr>\n      <th>0</th>\n      <td>denial of service</td>\n      <td>CVE-2018-11529</td>\n      <td>Debian Linux</td>\n      <td>45626</td>\n      <td>##\\n# This module requires Metasploit: https:/...</td>\n      <td>rb</td>\n    </tr>\n    <tr>\n      <th>1</th>\n      <td>execute code</td>\n      <td>CVE-2018-11529</td>\n      <td>Debian Linux</td>\n      <td>45626</td>\n      <td>##\\n# This module requires Metasploit: https:/...</td>\n      <td>rb</td>\n    </tr>\n    <tr>\n      <th>2</th>\n      <td>denial of service</td>\n      <td>CVE-2018-6947</td>\n      <td>Windows 7</td>\n      <td>44167</td>\n      <td>#include “stdafx.h”\\n\\n#include &lt;Windows.h&gt;\\n\\...</td>\n      <td>c</td>\n    </tr>\n    <tr>\n      <th>3</th>\n      <td>denial of service</td>\n      <td>CVE-2018-6947</td>\n      <td>Windows 7</td>\n      <td>44168</td>\n      <td>from ctypes import *\\n\\nfrom ctypes.wintypes i...</td>\n      <td>py</td>\n    </tr>\n    <tr>\n      <th>4</th>\n      <td>denial of service</td>\n      <td>CVE-2018-6947</td>\n      <td>Windows 10</td>\n      <td>44167</td>\n      <td>#include “stdafx.h”\\n\\n#include &lt;Windows.h&gt;\\n\\...</td>\n      <td>c</td>\n    </tr>\n    <tr>\n      <th>...</th>\n      <td>...</td>\n      <td>...</td>\n      <td>...</td>\n      <td>...</td>\n      <td>...</td>\n      <td>...</td>\n    </tr>\n    <tr>\n      <th>2523</th>\n      <td>gain privilege</td>\n      <td>CVE-2010-2744</td>\n      <td>Windows Xp</td>\n      <td>15894</td>\n      <td>#include &lt;windows.h&gt;\\n\\n/*\\nSource:\\nhttp://mi...</td>\n      <td>c</td>\n    </tr>\n    <tr>\n      <th>2524</th>\n      <td>gain privilege</td>\n      <td>CVE-2009-2564</td>\n      <td>Acrobat Reader</td>\n      <td>9199</td>\n      <td>Adobe related service (getPlus_HelperSvc.exe) ...</td>\n      <td>txt</td>\n    </tr>\n    <tr>\n      <th>2525</th>\n      <td>gain privilege</td>\n      <td>CVE-2008-1436</td>\n      <td>Windows Server 2008</td>\n      <td>6705</td>\n      <td>(From http://nomoreroot.blogspot.com/2008/10/w...</td>\n      <td>txt</td>\n    </tr>\n    <tr>\n      <th>2526</th>\n      <td>gain privilege</td>\n      <td>CVE-2008-1436</td>\n      <td>Windows Vista</td>\n      <td>6705</td>\n      <td>(From http://nomoreroot.blogspot.com/2008/10/w...</td>\n      <td>txt</td>\n    </tr>\n    <tr>\n      <th>2527</th>\n      <td>gain privilege</td>\n      <td>CVE-2008-1436</td>\n      <td>Windows Xp</td>\n      <td>6705</td>\n      <td>(From http://nomoreroot.blogspot.com/2008/10/w...</td>\n      <td>txt</td>\n    </tr>\n  </tbody>\n</table>\n<p>2528 rows × 6 columns</p>\n</div>"
     },
     "metadata": {},
     "execution_count": 29
    }
   ],
   "source": [
    "provajoin = pd.merge(type_cveid, product_cveid, on=['cve_id'])\n",
    "provajoin = pd.merge(provajoin, cve_with_exploits, on=['cve_id'])\n",
    "provajoin"
   ]
  },
  {
   "cell_type": "code",
   "execution_count": 31,
   "metadata": {},
   "outputs": [],
   "source": [
    "def get_dataframe_product(df,product_name):\n",
    "    return df.loc[df['product'] == product_name]\n",
    "def get_dataframe_type(df,type_name):\n",
    "    return df.loc[df['type'] == type_name]\n",
    "def get_dataframe_product_type(df,product_name,type_name):\n",
    "    return df.loc[df['product'] == product_name].loc[df['type'] == type_name]\n",
    "'''\n",
    "TODO\n",
    "- canonization of type, product\n",
    "- change input dataframe, not only exploit with windows\n",
    "'''\n",
    "\n"
   ]
  },
  {
   "cell_type": "code",
   "execution_count": 35,
   "metadata": {},
   "outputs": [
    {
     "output_type": "execute_result",
     "data": {
      "text/plain": [
       "           type          cve_id       product  exploit_db_id  \\\n",
       "1  execute code  CVE-2018-11529  Debian Linux          45626   \n",
       "\n",
       "                                             exploit type_of_exploit  \n",
       "1  ##\\n# This module requires Metasploit: https:/...              rb  "
      ],
      "text/html": "<div>\n<style scoped>\n    .dataframe tbody tr th:only-of-type {\n        vertical-align: middle;\n    }\n\n    .dataframe tbody tr th {\n        vertical-align: top;\n    }\n\n    .dataframe thead th {\n        text-align: right;\n    }\n</style>\n<table border=\"1\" class=\"dataframe\">\n  <thead>\n    <tr style=\"text-align: right;\">\n      <th></th>\n      <th>type</th>\n      <th>cve_id</th>\n      <th>product</th>\n      <th>exploit_db_id</th>\n      <th>exploit</th>\n      <th>type_of_exploit</th>\n    </tr>\n  </thead>\n  <tbody>\n    <tr>\n      <th>1</th>\n      <td>execute code</td>\n      <td>CVE-2018-11529</td>\n      <td>Debian Linux</td>\n      <td>45626</td>\n      <td>##\\n# This module requires Metasploit: https:/...</td>\n      <td>rb</td>\n    </tr>\n  </tbody>\n</table>\n</div>"
     },
     "metadata": {},
     "execution_count": 35
    }
   ],
   "source": [
    "a = get_dataframe_product_type(provajoin,'Debian Linux','execute code')\n",
    "a"
   ]
  }
 ]
}