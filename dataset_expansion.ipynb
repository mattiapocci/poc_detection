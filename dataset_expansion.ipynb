{
 "metadata": {
  "language_info": {
   "codemirror_mode": {
    "name": "ipython",
    "version": 3
   },
   "file_extension": ".py",
   "mimetype": "text/x-python",
   "name": "python",
   "nbconvert_exporter": "python",
   "pygments_lexer": "ipython3",
   "version": "3.9.4"
  },
  "orig_nbformat": 4,
  "kernelspec": {
   "name": "python3",
   "display_name": "Python 3.9.4 64-bit"
  },
  "interpreter": {
   "hash": "a0ded08c67edfe2a4354d36b10e2f98b3ecfce6631b76726d618bad84dd97c1f"
  }
 },
 "nbformat": 4,
 "nbformat_minor": 2,
 "cells": [
  {
   "cell_type": "code",
   "execution_count": null,
   "metadata": {},
   "outputs": [],
   "source": [
    "import subprocess\n",
    "import os\n",
    "from pprint import pprint\n",
    "import json\n",
    "import pandas as pd\n",
    "import utilities as utils\n",
    "print('imports completed')"
   ]
  },
  {
   "cell_type": "code",
   "execution_count": null,
   "metadata": {},
   "outputs": [],
   "source": [
    "df = pd.read_csv('datasets/cve_with_exploits.csv')\n",
    "print(df)"
   ]
  },
  {
   "cell_type": "code",
   "execution_count": null,
   "metadata": {
    "tags": []
   },
   "outputs": [],
   "source": [
    "# Pick 4 CVEs with c exploit\n",
    "c_cves = pd.DataFrame()\n",
    "suffix = 'c'\n",
    "indexes = df.loc[df.isin([suffix]).any(axis=1)].index.tolist()\n",
    "#print(str(indexes))\n",
    "for i in range(0,2):\n",
    "    print('i: ' + str(indexes[i]) + str(df.iloc[[indexes[i]]]))\n",
    "    c_cves = c_cves.append(df.iloc[[indexes[i]]],ignore_index=True)\n",
    "c_cves"
   ]
  },
  {
   "cell_type": "code",
   "execution_count": null,
   "metadata": {
    "tags": []
   },
   "outputs": [],
   "source": [
    "# Create c files with the exploits\n",
    "dirr = 'C:\\\\Users\\\\matti\\\\Desktop\\\\Magistrale\\\\tesi\\\\poc_detection\\\\temp_dir\\\\dataset_expansion_programs'\n",
    "os.chdir(dirr)\n",
    "strlist = []\n",
    "i = 0\n",
    "for index, row in c_cves.iterrows():\n",
    "    filename = 'exp' + str(i) + '.c'\n",
    "    s = row['exploit']\n",
    "    temp_file = open(filename, 'w')\n",
    "    temp_file.write(s)\n",
    "    temp_file.close()\n",
    "    strlist.append(s)\n",
    "    i = i + 1"
   ]
  },
  {
   "cell_type": "code",
   "execution_count": null,
   "metadata": {},
   "outputs": [],
   "source": [
    "# read simple sum c program\n",
    "simple_programs_c_dir = 'C:\\\\Users\\\\matti\\\\Desktop\\\\Magistrale\\\\tesi\\\\poc_detection\\\\simple_programs\\\\c'\n",
    "f = open(simple_programs_c_dir + '\\\\sum.c', 'r')\n",
    "sum_c = f.read()\n",
    "f.close()\n",
    "# list files in current directory\n",
    "ls = utils.ls(dirr)\n",
    "ls\n",
    "for elem in ls:\n",
    "    # if c file then copy in append to sum.c and generate a new c file\n",
    "    if '.c' in elem:\n",
    "        # load exploit file\n",
    "        exploit_file = open(elem,'r')\n",
    "        exploit = exploit_file.read()\n",
    "        exploit_file.close()\n",
    "        # create new file\n",
    "        f = open(elem.replace('.c','_sum.c'), 'w')\n",
    "        f.write(sum_c + exploit.replace('main','main1'))\n",
    "        f.close()\n",
    "    else:\n",
    "        print('Not a c file')"
   ]
  },
  {
   "cell_type": "code",
   "execution_count": null,
   "metadata": {},
   "outputs": [],
   "source": [
    "# compile all c exploits in the current folder\n",
    "vcvars = '\\\"C:\\\\Program Files (x86)\\\\Microsoft Visual Studio\\\\2019\\\\BuildTools\\\\VC\\\\Auxiliary\\\\Build\\\\vcvars64\\\"'\n",
    "c_cli_command = vcvars + ' && cl ' + '<temp_file_name>' + ' /Fa'\n",
    "utils.compile_generic_c_folder(dirr,c_cli_command)"
   ]
  }
 ]
}