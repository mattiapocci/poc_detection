{
 "cells": [
  {
   "cell_type": "markdown",
   "metadata": {},
   "source": [
    "# Permutations loading and evaluation of methods"
   ]
  },
  {
   "cell_type": "code",
   "execution_count": null,
   "metadata": {},
   "outputs": [],
   "source": [
    "os.getcwd()"
   ]
  },
  {
   "cell_type": "code",
   "execution_count": null,
   "metadata": {},
   "outputs": [],
   "source": [
    "cattive = ['MiniPig','amateur_cpp_malware','helloworld','amateur_cpp_malware_4157','amateur_cpp_malware_40069','MiniPig_149','exes','amateur_cpp_malware_19034']\n",
    "def rimuovi_cattive(listone):\n",
    "    for elem in listone:\n",
    "        if elem in cattive:\n",
    "            listone.remove(elem)\n",
    "    return listone"
   ]
  },
  {
   "cell_type": "code",
   "execution_count": null,
   "metadata": {},
   "outputs": [],
   "source": [
    "import torch\n",
    "a = torch.load('final_permutations_cosine.pt')\n",
    "print(list(a.keys()))\n",
    "for elem in list(a.keys()):\n",
    "    if elem in cattive:\n",
    "        print(elem)\n",
    "        a.pop(elem)\n",
    "print(list(a.keys()))\n",
    "#torch.save(a,'final_permutations_cosine.pt')"
   ]
  },
  {
   "cell_type": "code",
   "execution_count": null,
   "metadata": {},
   "outputs": [],
   "source": [
    "import torch\n",
    "a = torch.load('permutations_newmethod_cosine_pt2_0_10.pt')\n",
    "print(list(a.keys()))\n",
    "a = torch.load('permutations_newmethod_cosine_pt2_11_20.pt')\n",
    "print(list(a.keys()))"
   ]
  },
  {
   "cell_type": "code",
   "execution_count": null,
   "metadata": {},
   "outputs": [],
   "source": [
    "import torch\n",
    "cosine_results = {}\n",
    "#colors_results = {}\n",
    "#newmethod_results = {}\n",
    "\n",
    "cosine_partial = torch.load('final_permutations_cosine.pt')\n",
    "cosine_results.update(cosine_partial)\n",
    "cosine_partial = torch.load('permutations_newmethod_cosine_pt2_0_10.pt')\n",
    "cosine_results.update(cosine_partial)\n",
    "cosine_partial = torch.load('permutations_newmethod_cosine_pt2_11_20.pt')\n",
    "cosine_results.update(cosine_partial)\n",
    "\n",
    "\n",
    "cosine_results.pop('amateur_cpp_malware_4157')\n",
    "cosine_results.pop('amateur_cpp_malware_40069')\n",
    "cosine_results.pop('MiniPig_149')\n",
    "cosine_results.pop('exes')\n",
    "list(cosine_results.keys())\n",
    "\n",
    "#colors_partial = torch.load('/home/jovyan/work/result_analysis/colors_results.pt')\n",
    "#newmethod_partial = torch.load('/home/jovyan/work/result_analysis/newmethod_results.pt')"
   ]
  },
  {
   "cell_type": "code",
   "execution_count": null,
   "metadata": {},
   "outputs": [],
   "source": [
    "len(list(cosine_results.keys()))"
   ]
  },
  {
   "cell_type": "code",
   "execution_count": null,
   "metadata": {},
   "outputs": [],
   "source": [
    "torch.save(cosine_results,'final_test_cosine_permutations_20_12_2021.pt')"
   ]
  },
  {
   "cell_type": "code",
   "execution_count": null,
   "metadata": {},
   "outputs": [],
   "source": [
    "cosine_results = torch.load('final_test_cosine_permutations_20_12_2021.pt')"
   ]
  },
  {
   "cell_type": "code",
   "execution_count": null,
   "metadata": {},
   "outputs": [],
   "source": [
    "important = []\n",
    "for score in cosine_results.keys():\n",
    "    scores = cosine_results[score]\n",
    "    scores = dict(sorted(scores.items(), key=lambda item: item[1], reverse=True))\n",
    "    i = 1\n",
    "    print('Top ' + str(10) + ' similar exploits to ' + score + ': ')\n",
    "    for elem in scores:\n",
    "        if score.split('_')[-1] in elem:\n",
    "            index = str(i)\n",
    "            id = score.split('_')[-1]\n",
    "            sim = scores[elem]\n",
    "\n",
    "        if i>10:\n",
    "            if score.split('_')[-1] in elem:\n",
    "                print('('+ str(i) + ') '+ 'ID: ' + str(elem) + ' Similarity: ' + str(scores[elem]))\n",
    "        else:\n",
    "            print('('+ str(i) + ') '+ 'ID: ' + str(elem) + ' Similarity: ' + str(scores[elem]))\n",
    "        i = i + 1\n",
    "    print(score,index,id,sim)\n",
    "    important.append((score,index,id,sim))"
   ]
  },
  {
   "cell_type": "code",
   "execution_count": null,
   "metadata": {},
   "outputs": [],
   "source": [
    "def get_true_positives(list):\n",
    "    res = []\n",
    "    for elem in list:\n",
    "        if elem[1]=='1':\n",
    "            res.append(elem)\n",
    "    return res\n",
    "\n",
    "def get_scajoni(list):\n",
    "    res = []\n",
    "    for elem in list:\n",
    "        if elem[1]!='1':\n",
    "            res.append(elem)\n",
    "    return res\n",
    "\n",
    "def printella(important):\n",
    "    for elem in important:\n",
    "        try:\n",
    "            print(elem[1],'\\t',elem[2],'\\t',elem[3].item())\n",
    "        except:\n",
    "            print(elem[1],'\\t',elem[2],'\\t',elem[3])\n",
    "\n",
    "def media_sim(list):\n",
    "    i = 0\n",
    "    acc = 0\n",
    "    for elem in list:\n",
    "        acc += elem[3]\n",
    "        i += 1\n",
    "    return acc/i\n",
    "def precision(tp,fp):\n",
    "    if tp+fp == 0:\n",
    "        return 0\n",
    "    return tp/(tp+fp)\n",
    "def recall(tp,fn):\n",
    "    if tp+fn == 0:\n",
    "        return 0\n",
    "    return tp/(tp+fn)\n",
    "def f1(precision,recall):\n",
    "    if precision+recall == 0:\n",
    "        return 0\n",
    "    return 2*precision*recall/(precision+recall)\n",
    "def accuracy(tp,fp,fn,tn):\n",
    "    if tp+fp+fn+tn == 0:\n",
    "        return 0\n",
    "    return (tp+tn)/(tp+fp+fn+tn)"
   ]
  },
  {
   "cell_type": "code",
   "execution_count": null,
   "metadata": {},
   "outputs": [],
   "source": [
    "for elem in important:\n",
    "    try:\n",
    "        print(elem[1],'\\t',elem[2],'\\t',elem[3].item())\n",
    "    except:\n",
    "        print(elem[1],'\\t',elem[2],'\\t',elem[3])\n"
   ]
  },
  {
   "cell_type": "code",
   "execution_count": null,
   "metadata": {},
   "outputs": [],
   "source": [
    "media_sim(get_true_positives(important))"
   ]
  },
  {
   "cell_type": "code",
   "execution_count": null,
   "metadata": {},
   "outputs": [],
   "source": [
    "media_sim(get_scajoni(important))"
   ]
  },
  {
   "cell_type": "code",
   "execution_count": null,
   "metadata": {},
   "outputs": [],
   "source": [
    "media_sim(important)"
   ]
  },
  {
   "cell_type": "code",
   "execution_count": null,
   "metadata": {},
   "outputs": [],
   "source": [
    "printella(get_true_positives(important))"
   ]
  },
  {
   "cell_type": "code",
   "execution_count": null,
   "metadata": {},
   "outputs": [],
   "source": [
    "printella(important)"
   ]
  },
  {
   "cell_type": "code",
   "execution_count": null,
   "metadata": {},
   "outputs": [],
   "source": [
    "import torch\n",
    "cosine_results = torch.load('final_test_cosine_permutations_20_12_2021.pt')\n",
    "tp = {}\n",
    "fp = {}\n",
    "fn = {}\n",
    "tn = {}\n",
    "threshold = 0.9834\n",
    "for score in cosine_results.keys():\n",
    "    tp[score] = 0\n",
    "    fp[score] = 0\n",
    "    fn[score] = 0\n",
    "    tn[score] = 0\n",
    "    scores = cosine_results[score]\n",
    "    scores = dict(sorted(scores.items(), key=lambda item: item[1], reverse=True))\n",
    "    i = 1\n",
    "    for elem in scores:\n",
    "        sim = float(scores[elem])\n",
    "        if score.split('_')[-1] in elem:\n",
    "            if(sim)>=threshold:\n",
    "                tp[score] = tp[score] + 1\n",
    "            else:\n",
    "                fn[score] = fn[score] + 1\n",
    "        else:\n",
    "            if(get_num_funcs(elem)>=get_num_funcs(score)):\n",
    "                tn[score] = tn[score] + 1\n",
    "                continue\n",
    "            if(sim)>=threshold:\n",
    "                fp[score] = fp[score] + 1\n",
    "            else:\n",
    "                tn[score] = tn[score] + 1"
   ]
  },
  {
   "cell_type": "code",
   "execution_count": null,
   "metadata": {},
   "outputs": [],
   "source": [
    "tps = 0\n",
    "for key in tp:\n",
    "    if tp[key] != 0:\n",
    "        tps+=tp[key]\n",
    "fps = 0\n",
    "for key in fp:\n",
    "    if fp[key] != 0:\n",
    "        fps+=fp[key]\n",
    "fns = 0\n",
    "for key in fn:\n",
    "    if fn[key] != 0:\n",
    "        fns+=fn[key]\n",
    "tns = 0\n",
    "for key in tn:\n",
    "    if tn[key] != 0:\n",
    "        tns+=tn[key]"
   ]
  },
  {
   "cell_type": "code",
   "execution_count": null,
   "metadata": {},
   "outputs": [],
   "source": [
    "print('TP:',tps,'FP:',fps,'FN:',fns,'TN:',tns)\n",
    "print('Precision:',precision(tps,fps))\n",
    "print('Recall:',recall(tps,fns))\n",
    "print('F1:',f1(precision(tps,fps),recall(tps,fns)))\n",
    "print('Accuracy:',accuracy(tps,fps,fns,tns))"
   ]
  },
  {
   "cell_type": "markdown",
   "metadata": {},
   "source": [
    "# Same but for colors"
   ]
  },
  {
   "cell_type": "code",
   "execution_count": null,
   "metadata": {},
   "outputs": [],
   "source": [
    "colors_partial = torch.load('final_permutations_cosine_colors.pt')\n",
    "colors_keys_1 = rimuovi_cattive(list(colors_partial.keys()))\n",
    "colors_partial = torch.load('permutations_newmethod_cosine_colors_pt2_0_20.pt')\n",
    "colors_keys_2 = rimuovi_cattive(list(colors_partial.keys()))\n",
    "print(len(colors_keys_1))\n",
    "print(len(colors_keys_2))"
   ]
  },
  {
   "cell_type": "code",
   "execution_count": null,
   "metadata": {},
   "outputs": [],
   "source": [
    "import torch\n",
    "colors_results = {}\n",
    "#newmethod_results = {}\n",
    "\n",
    "colors_partial = torch.load('final_permutations_cosine_colors.pt')\n",
    "colors_results.update(colors_partial)\n",
    "colors_partial = torch.load('permutations_newmethod_cosine_colors_pt2_0_20.pt')\n",
    "colors_results.update(colors_partial)\n",
    "\n",
    "for elem in cattive:\n",
    "    try:\n",
    "        del colors_results[elem]\n",
    "    except:\n",
    "        pass\n",
    "colors_results.keys()"
   ]
  },
  {
   "cell_type": "code",
   "execution_count": null,
   "metadata": {},
   "outputs": [],
   "source": [
    "len(colors_results.keys())"
   ]
  },
  {
   "cell_type": "code",
   "execution_count": null,
   "metadata": {},
   "outputs": [],
   "source": [
    "torch.save(colors_results,'final_test_colors_permutations_partial_20_12_2021.pt')"
   ]
  },
  {
   "cell_type": "code",
   "execution_count": null,
   "metadata": {},
   "outputs": [],
   "source": [
    "colors_results = torch.load('final_test_colors_permutations_partial_20_12_2021.pt')\n",
    "important = []\n",
    "for score in colors_results.keys():\n",
    "    scores = colors_results[score]\n",
    "    scores = dict(sorted(scores.items(), key=lambda item: item[1], reverse=True))\n",
    "    i = 1\n",
    "    print('Top ' + str(10) + ' similar exploits to ' + score + ': ')\n",
    "    for elem in scores:\n",
    "        if score.split('_')[-1] in elem:\n",
    "            index = str(i)\n",
    "            id = score.split('_')[-1]\n",
    "            sim = scores[elem]\n",
    "\n",
    "        if i>10:\n",
    "            if score.split('_')[-1] in elem:\n",
    "                print('('+ str(i) + ') '+ 'ID: ' + str(elem) + ' Similarity: ' + str(scores[elem]))\n",
    "        else:\n",
    "            print('('+ str(i) + ') '+ 'ID: ' + str(elem) + ' Similarity: ' + str(scores[elem]))\n",
    "        i = i + 1\n",
    "    print(score,index,id,sim)\n",
    "    important.append((score,index,id,sim))"
   ]
  },
  {
   "cell_type": "code",
   "execution_count": null,
   "metadata": {},
   "outputs": [],
   "source": [
    "media_sim(important)"
   ]
  },
  {
   "cell_type": "code",
   "execution_count": null,
   "metadata": {},
   "outputs": [],
   "source": [
    "import torch\n",
    "colors_results = torch.load('final_test_colors_permutations_partial_20_12_2021.pt')\n",
    "tp = {}\n",
    "fp = {}\n",
    "fn = {}\n",
    "tn = {}\n",
    "threshold = 0.9473\n",
    "for score in colors_results.keys():\n",
    "    tp[score] = 0\n",
    "    fp[score] = 0\n",
    "    fn[score] = 0\n",
    "    tn[score] = 0\n",
    "    scores = colors_results[score]\n",
    "    scores = dict(sorted(scores.items(), key=lambda item: item[1], reverse=True))\n",
    "    i = 1\n",
    "    for elem in scores:\n",
    "        sim = float(scores[elem])\n",
    "        if score.split('_')[-1] in elem:\n",
    "            if(sim)>=threshold:\n",
    "                tp[score] = tp[score] + 1\n",
    "            else:\n",
    "                fn[score] = fn[score] + 1\n",
    "        else:\n",
    "            if(get_num_funcs(elem)>=get_num_funcs(score)):\n",
    "                tn[score] = tn[score] + 1\n",
    "                continue\n",
    "            if(sim)>=threshold:\n",
    "                fp[score] = fp[score] + 1\n",
    "            else:\n",
    "                tn[score] = tn[score] + 1\n",
    "\n",
    "\n",
    "tps = 0\n",
    "for key in tp:\n",
    "    if tp[key] != 0:\n",
    "        tps+=tp[key]\n",
    "fps = 0\n",
    "for key in fp:\n",
    "    if fp[key] != 0:\n",
    "        fps+=fp[key]\n",
    "fns = 0\n",
    "for key in fn:\n",
    "    if fn[key] != 0:\n",
    "        fns+=fn[key]\n",
    "tns = 0\n",
    "for key in tn:\n",
    "    if tn[key] != 0:\n",
    "        tns+=tn[key]\n",
    "\n",
    "\n",
    "print('TP:',tps,'FP:',fps,'FN:',fns,'TN:',tns)\n",
    "print('Precision:',precision(tps,fps))\n",
    "print('Recall:',recall(tps,fns))\n",
    "print('F1:',f1(precision(tps,fps),recall(tps,fns)))\n",
    "print('Accuracy:',accuracy(tps,fps,fns,tns))"
   ]
  },
  {
   "cell_type": "markdown",
   "metadata": {},
   "source": [
    "# Same but for new method"
   ]
  },
  {
   "cell_type": "code",
   "execution_count": null,
   "metadata": {},
   "outputs": [],
   "source": [
    "newmethod_partial = torch.load('final_cosine_newmethod/final_permutations_newmethod_pt2_0_10.pt')\n",
    "newmethod_keys_1 = rimuovi_cattive(list(newmethod_partial.keys()))\n",
    "newmethod_partial = torch.load('final_cosine_newmethod/final_permutations_newmethod_pt2_11_20.pt')\n",
    "newmethod_keys_2 = rimuovi_cattive(list(newmethod_partial.keys()))\n",
    "print(len(newmethod_keys_1))\n",
    "print(len(newmethod_keys_2))"
   ]
  },
  {
   "cell_type": "code",
   "execution_count": null,
   "metadata": {},
   "outputs": [],
   "source": [
    "newmethod_partial = torch.load('first_test_new_method.pt')\n"
   ]
  },
  {
   "cell_type": "code",
   "execution_count": null,
   "metadata": {},
   "outputs": [],
   "source": [
    "newmethod_partial"
   ]
  },
  {
   "cell_type": "code",
   "execution_count": null,
   "metadata": {},
   "outputs": [],
   "source": [
    "import torch\n",
    "newmethod_results = {}\n",
    "#newmethod_results = {}\n",
    "\n",
    "newmethod_partial = torch.load('final_cosine_newmethod/final_permutations_newmethod_pt2_0_10.pt')\n",
    "newmethod_results.update(newmethod_partial)\n",
    "newmethod_partial = torch.load('final_cosine_newmethod/final_permutations_newmethod_pt2_11_20.pt')\n",
    "newmethod_results.update(newmethod_partial)\n",
    "\n",
    "for elem in cattive:\n",
    "    try:\n",
    "        del newmethod_results[elem]\n",
    "    except:\n",
    "        pass\n",
    "newmethod_results.keys()\n",
    "torch.save(newmethod_results,'final_test_newmethod_permutations_partial_20_12_2021.pt')"
   ]
  },
  {
   "cell_type": "code",
   "execution_count": null,
   "metadata": {},
   "outputs": [],
   "source": [
    "newmethod_results = torch.load('final_test_newmethod_permutations_partial_20_12_2021.pt')\n",
    "important = []\n",
    "for score in newmethod_results.keys():\n",
    "    scores = newmethod_results[score]\n",
    "    scores = dict(sorted(scores.items(), key=lambda item: item[1], reverse=True))\n",
    "    i = 1\n",
    "    print('Top ' + str(10) + ' similar exploits to ' + score + ': ')\n",
    "    for elem in scores:\n",
    "        if score.split('_')[-1] in elem:\n",
    "            index = str(i)\n",
    "            id = score.split('_')[-1]\n",
    "            sim = scores[elem][0]/scores[elem][1]\n",
    "\n",
    "        if i>10:\n",
    "            if score.split('_')[-1] in elem:\n",
    "                print('('+ str(i) + ') '+ 'ID: ' + str(elem) + ' Similarity: ' + str(scores[elem]))\n",
    "        else:\n",
    "            print('('+ str(i) + ') '+ 'ID: ' + str(elem) + ' Similarity: ' + str(scores[elem]))\n",
    "        i = i + 1\n",
    "    print(score,index,id,sim)\n",
    "    important.append((score,index,id,sim))"
   ]
  },
  {
   "cell_type": "code",
   "execution_count": null,
   "metadata": {},
   "outputs": [],
   "source": [
    "media_sim(important)"
   ]
  },
  {
   "cell_type": "code",
   "execution_count": null,
   "metadata": {},
   "outputs": [],
   "source": [
    "import torch\n",
    "newmethod_results = torch.load('final_test_newmethod_permutations_partial_20_12_2021.pt')\n",
    "tp = {}\n",
    "fp = {}\n",
    "fn = {}\n",
    "tn = {}\n",
    "threshold = 0.7987034083525312\n",
    "for score in newmethod_results.keys():\n",
    "    tp[score] = 0\n",
    "    fp[score] = 0\n",
    "    fn[score] = 0\n",
    "    tn[score] = 0\n",
    "    scores = newmethod_results[score]\n",
    "    scores = dict(sorted(scores.items(), key=lambda item: item[1], reverse=True))\n",
    "    i = 1\n",
    "    for elem in scores:\n",
    "        sim = float(scores[elem][0]/scores[elem][1])\n",
    "        if score.split('_')[-1] in elem:\n",
    "            if(sim)>=threshold:\n",
    "                tp[score] = tp[score] + 1\n",
    "            else:\n",
    "                fn[score] = fn[score] + 1\n",
    "        else:\n",
    "            if(get_num_funcs(elem)>=get_num_funcs(score)):\n",
    "                tn[score] = tn[score] + 1\n",
    "                continue\n",
    "            if(sim)>=threshold:\n",
    "                fp[score] = fp[score] + 1\n",
    "            else:\n",
    "                tn[score] = tn[score] + 1\n",
    "\n",
    "tps = 0\n",
    "for key in tp:\n",
    "    if tp[key] != 0:\n",
    "        tps+=tp[key]\n",
    "fps = 0\n",
    "for key in fp:\n",
    "    if fp[key] != 0:\n",
    "        fps+=fp[key]\n",
    "fns = 0\n",
    "for key in fn:\n",
    "    if fn[key] != 0:\n",
    "        fns+=fn[key]\n",
    "tns = 0\n",
    "for key in tn:\n",
    "    if tn[key] != 0:\n",
    "        tns+=tn[key]\n",
    "\n",
    "\n",
    "print('TP:',tps,'FP:',fps,'FN:',fns,'TN:',tns)\n",
    "print('Precision:',precision(tps,fps))\n",
    "print('Recall:',recall(tps,fns))\n",
    "print('F1:',f1(precision(tps,fps),recall(tps,fns)))\n",
    "print('Accuracy:',accuracy(tps,fps,fns,tns))"
   ]
  },
  {
   "cell_type": "markdown",
   "metadata": {},
   "source": [
    "# View other things"
   ]
  },
  {
   "cell_type": "markdown",
   "metadata": {},
   "source": [
    "## new ones"
   ]
  },
  {
   "cell_type": "code",
   "execution_count": null,
   "metadata": {},
   "outputs": [],
   "source": [
    "import torch\n",
    "permutations_pt1 = torch.load('../datasets/embeddings/final_permutations_embeddings.pt')\n",
    "permutations_pt2 = torch.load('../datasets/permutations/NEW/final_permutations_embeddings_pt2.pt')"
   ]
  },
  {
   "cell_type": "code",
   "execution_count": null,
   "metadata": {},
   "outputs": [],
   "source": [
    "first_keys = rimuovi_cattive(list(permutations_pt1.keys()))\n",
    "second_keys = rimuovi_cattive(list(permutations_pt2.keys()))"
   ]
  },
  {
   "cell_type": "code",
   "execution_count": null,
   "metadata": {},
   "outputs": [],
   "source": [
    "len(first_keys)"
   ]
  },
  {
   "cell_type": "code",
   "execution_count": null,
   "metadata": {},
   "outputs": [],
   "source": [
    "len(second_keys)"
   ]
  },
  {
   "cell_type": "code",
   "execution_count": null,
   "metadata": {},
   "outputs": [],
   "source": [
    "listone = first_keys + second_keys"
   ]
  },
  {
   "cell_type": "code",
   "execution_count": null,
   "metadata": {},
   "outputs": [],
   "source": [
    "len(listone)"
   ]
  },
  {
   "cell_type": "markdown",
   "metadata": {},
   "source": [
    "## old ones"
   ]
  },
  {
   "cell_type": "code",
   "execution_count": null,
   "metadata": {},
   "outputs": [],
   "source": [
    "import torch\n",
    "dataset = torch.load('../datasets/embeddings/all_exes_filtered.pt')"
   ]
  },
  {
   "cell_type": "code",
   "execution_count": null,
   "metadata": {},
   "outputs": [],
   "source": [
    "for entry in dataset:\n",
    "    for e in dataset[entry]:\n",
    "        print(e, dataset[entry][e].size())"
   ]
  },
  {
   "cell_type": "code",
   "execution_count": null,
   "metadata": {},
   "outputs": [],
   "source": [
    "import torch\n",
    "dataset = torch.load('first_test_new_method.pt')"
   ]
  },
  {
   "cell_type": "code",
   "execution_count": null,
   "metadata": {},
   "outputs": [],
   "source": [
    "for key in dataset.keys():\n",
    "    print(key)\n"
   ]
  },
  {
   "cell_type": "code",
   "execution_count": null,
   "metadata": {},
   "outputs": [],
   "source": [
    "from pprint import pprint\n",
    "keyperc = {}\n",
    "for key in dataset.keys():\n",
    "    keyperc[key] = {}\n",
    "    for k in dataset[key].keys():\n",
    "        if k not in keyperc.keys():\n",
    "            tpl = dataset[key][k]\n",
    "            percentage = tpl[0]/tpl[1]\n",
    "            keyperc[key][k] = percentage\n",
    "    #print(key, percentage)\n",
    "for key in keyperc.keys():\n",
    "    print(key)\n",
    "    pprint(sorted(list(keyperc[key].items()),key=lambda x: x[1],reverse=True))\n",
    "    #pprint({k: v for k, v in sorted(keyperc[key].items(), key=lambda item: item[1],reverse=True)})\n"
   ]
  },
  {
   "cell_type": "code",
   "execution_count": null,
   "metadata": {},
   "outputs": [],
   "source": [
    "os.getcwd()"
   ]
  },
  {
   "cell_type": "code",
   "execution_count": null,
   "metadata": {},
   "outputs": [],
   "source": [
    "pocs = torch.load('../datasets/embeddings/all_exes_filtered.pt')"
   ]
  },
  {
   "cell_type": "code",
   "execution_count": null,
   "metadata": {},
   "outputs": [],
   "source": [
    "ciotte = []\n",
    "for key in pocs.keys():\n",
    "    if"
   ]
  },
  {
   "cell_type": "markdown",
   "metadata": {},
   "source": [
    "# Load all datasets in final_cosine_newmethod"
   ]
  },
  {
   "cell_type": "code",
   "execution_count": null,
   "metadata": {},
   "outputs": [],
   "source": [
    "folder = 'final_cosine_newmethod/'\n",
    "import os\n",
    "import torch\n",
    "ls = list(filter(lambda elem: 'pt' in elem, os.listdir(folder)))\n",
    "embeddings_dict = {}\n",
    "\n",
    "for elem in ls:\n",
    "    if 'test' in elem:\n",
    "        continue\n",
    "    try:\n",
    "        similarities = torch.load(os.path.join(folder, elem))\n",
    "        print(elem, len(similarities.keys()))\n",
    "        embeddings_dict.update(similarities)\n",
    "    except:\n",
    "        print(elem)\n",
    "\n",
    "print('Total length: ', len(embeddings_dict.keys()))"
   ]
  },
  {
   "cell_type": "code",
   "execution_count": null,
   "metadata": {},
   "outputs": [],
   "source": [
    "similarities_dict_frac = {}\n",
    "for key in embeddings_dict.keys():\n",
    "    similarities_dict_frac[key] = {}\n",
    "    for k in embeddings_dict[key].keys():\n",
    "        first = embeddings_dict[key][k][0]\n",
    "        second = embeddings_dict[key][k][1]\n",
    "        frac = float(first)/float(second)\n",
    "        if frac > 0.6:\n",
    "            similarities_dict_frac[key][k] = frac\n",
    "            print(key,k,frac)\n",
    "    #print(embeddings_dict[key])\n",
    "    #print(len(embeddings_dict[key]))\n",
    "    #print()\n"
   ]
  },
  {
   "cell_type": "code",
   "execution_count": null,
   "metadata": {},
   "outputs": [],
   "source": [
    "for key in similarities_dict_frac.keys():\n",
    "    print(key, len(list(similarities_dict_frac[key].keys())))"
   ]
  },
  {
   "cell_type": "code",
   "execution_count": null,
   "metadata": {},
   "outputs": [],
   "source": [
    "int1 = '38895ca4da6111265ad5d5f995d306085ccfcff13fcb2175d4596307a42135b1'\n",
    "int2 = '60dd8814d409e4ce28bf068df0982a3ab82549f40589da218af79a47be93078c'\n",
    "for entry in sorted(similarities_dict_frac[int1].keys(),key=lambda x: similarities_dict_frac[int1][x],reverse=True):\n",
    "    print(int1, entry, similarities_dict_frac[int1][entry])"
   ]
  },
  {
   "cell_type": "code",
   "execution_count": null,
   "metadata": {},
   "outputs": [],
   "source": [
    "for entry in sorted(similarities_dict_frac[int2].keys(),key=lambda x: similarities_dict_frac[int2][x],reverse=True):\n",
    "    print(int2, entry, similarities_dict_frac[int2][entry])\n",
    "# so tutti co crafted file, i primi con zip, ed effettivamente il malware agisce su di un file zip"
   ]
  },
  {
   "cell_type": "markdown",
   "metadata": {},
   "source": [
    "# Data preparation for result plotting"
   ]
  },
  {
   "cell_type": "code",
   "execution_count": null,
   "metadata": {},
   "outputs": [],
   "source": [
    "# load csv\n",
    "import pandas as pd\n",
    "malware_info = pd.read_csv('../datasets/descriptions/malwarebazaar_description.csv')\n",
    "poc_info = pd.read_csv('../datasets/descriptions/poc_dataset_description.csv')"
   ]
  },
  {
   "cell_type": "code",
   "execution_count": null,
   "metadata": {},
   "outputs": [],
   "source": [
    "malware_info.shape"
   ]
  },
  {
   "cell_type": "code",
   "execution_count": null,
   "metadata": {},
   "outputs": [],
   "source": [
    "from tqdm import tqdm\n",
    "malware_plot_dict = {}\n",
    "poc_plot_dict = {}\n",
    "for key in tqdm(embeddings_dict.keys()):\n",
    "    malware_plot_dict[key] = {}\n",
    "    malware_plot_dict[key]['signature'] = str(malware_info.loc[malware_info['sha256_hash'] == key]['signature'].item())\n",
    "    for poc in embeddings_dict[key].keys():\n",
    "        malware_plot_dict[key][poc] = {}\n",
    "        malware_plot_dict[key][poc]['funcs'] = embeddings_dict[key][poc]\n",
    "        malware_plot_dict[key][poc]['similarity'] = embeddings_dict[key][poc][0]/embeddings_dict[key][poc][1]        \n",
    "    "
   ]
  },
  {
   "cell_type": "code",
   "execution_count": null,
   "metadata": {},
   "outputs": [],
   "source": [
    "malware_plot_dict['69f485e0ea916f303f13e5ba45a4d1854bcb38e39d2b10068c3da786b7666c5f'].keys()\n",
    "malware_plot_dict['69f485e0ea916f303f13e5ba45a4d1854bcb38e39d2b10068c3da786b7666c5f']['signature']"
   ]
  },
  {
   "cell_type": "markdown",
   "metadata": {},
   "source": [
    "# New MalwareBazaar 50x50 to test three algorithms"
   ]
  },
  {
   "cell_type": "code",
   "execution_count": null,
   "metadata": {},
   "outputs": [],
   "source": [
    "import torch\n",
    "original = torch.load('../datasets/embeddings/malwarebazaar_embeddings_filtered.pt')"
   ]
  },
  {
   "cell_type": "code",
   "execution_count": null,
   "metadata": {},
   "outputs": [],
   "source": [
    "len(list(original.keys()))"
   ]
  },
  {
   "cell_type": "code",
   "execution_count": null,
   "metadata": {},
   "outputs": [],
   "source": [
    "i = 0\n",
    "first50 = {}\n",
    "for key in original.keys():\n",
    "    if i == 50:\n",
    "        break\n",
    "    first50[key] = original[key]\n",
    "    print(i)\n",
    "    i+=1\n",
    "    "
   ]
  },
  {
   "cell_type": "code",
   "execution_count": null,
   "metadata": {},
   "outputs": [],
   "source": [
    "torch.save(first50, '../datasets/embeddings/malwarebazaar_embeddings_filtered_first50.pt')"
   ]
  },
  {
   "cell_type": "markdown",
   "metadata": {},
   "source": [
    "## Cosine"
   ]
  },
  {
   "cell_type": "code",
   "execution_count": null,
   "metadata": {},
   "outputs": [],
   "source": [
    "cosine_5050 = torch.load('malware5050test/50test_cosine.pt')\n",
    "len(list(cosine_5050.keys()))"
   ]
  },
  {
   "cell_type": "code",
   "execution_count": null,
   "metadata": {},
   "outputs": [],
   "source": [
    "toeliminate = []\n",
    "for key in cosine_5050.keys():\n",
    "    n = 0\n",
    "    for k in cosine_5050[key].keys():\n",
    "        if cosine_5050[key][k] == 0:\n",
    "            n+=1\n",
    "    if n >= 50:\n",
    "        toeliminate.append(key)\n",
    "for elem in toeliminate:\n",
    "    del cosine_5050[elem]\n",
    "len(list(cosine_5050.keys()))"
   ]
  },
  {
   "cell_type": "code",
   "execution_count": null,
   "metadata": {},
   "outputs": [],
   "source": [
    "important = []\n",
    "for score in cosine_5050.keys():\n",
    "    scores = cosine_5050[score]\n",
    "    scores = dict(sorted(scores.items(), key=lambda item: item[1], reverse=True))\n",
    "    i = 1\n",
    "    print('Top ' + str(10) + ' similar exploits to ' + score + ': ')\n",
    "    for elem in scores:\n",
    "        if score == elem:\n",
    "            index = str(i)\n",
    "            id = score\n",
    "            sim = scores[elem]\n",
    "        if i>10:\n",
    "            if score.split('_')[-1] in elem:\n",
    "                print('('+ str(i) + ') '+ 'ID: ' + str(elem) + ' Similarity: ' + str(scores[elem]))\n",
    "        else:\n",
    "            print('('+ str(i) + ') '+ 'ID: ' + str(elem) + ' Similarity: ' + str(scores[elem]))\n",
    "        i = i + 1\n",
    "    print(score,index,id,sim)\n",
    "    important.append((score,index,id,sim))"
   ]
  },
  {
   "cell_type": "code",
   "execution_count": null,
   "metadata": {},
   "outputs": [],
   "source": [
    "media_sim(important)"
   ]
  },
  {
   "cell_type": "code",
   "execution_count": null,
   "metadata": {},
   "outputs": [],
   "source": [
    "import torch\n",
    "tp = {}\n",
    "fp = {}\n",
    "fn = {}\n",
    "tn = {}\n",
    "threshold = 1\n",
    "for score in cosine_5050.keys():\n",
    "    tp[score] = 0\n",
    "    fp[score] = 0\n",
    "    fn[score] = 0\n",
    "    tn[score] = 0\n",
    "    scores = cosine_5050[score]\n",
    "    scores = dict(sorted(scores.items(), key=lambda item: item[1], reverse=True))\n",
    "    i = 1\n",
    "    for elem in scores:\n",
    "        sim = float(scores[elem])\n",
    "        if score.split('_')[-1] in elem:\n",
    "            if(sim)>=threshold:\n",
    "                tp[score] = tp[score] + 1\n",
    "            else:\n",
    "                fn[score] = fn[score] + 1\n",
    "        else:\n",
    "            if(get_num_funcs(elem)>=get_num_funcs(score)):\n",
    "                tn[score] = tn[score] + 1\n",
    "                continue\n",
    "            if(sim)>=threshold:\n",
    "                fp[score] = fp[score] + 1\n",
    "            else:\n",
    "                tn[score] = tn[score] + 1\n",
    "\n",
    "\n",
    "tps = 0\n",
    "for key in tp:\n",
    "    if tp[key] != 0:\n",
    "        tps+=tp[key]\n",
    "fps = 0\n",
    "for key in fp:\n",
    "    if fp[key] != 0:\n",
    "        fps+=fp[key]\n",
    "fns = 0\n",
    "for key in fn:\n",
    "    if fn[key] != 0:\n",
    "        fns+=fn[key]\n",
    "tns = 0\n",
    "for key in tn:\n",
    "    if tn[key] != 0:\n",
    "        tns+=tn[key]\n",
    "\n",
    "\n",
    "print('TP:',tps,'FP:',fps,'FN:',fns,'TN:',tns)\n",
    "print('Precision:',precision(tps,fps))\n",
    "print('Recall:',recall(tps,fns))\n",
    "print('F1:',f1(precision(tps,fps),recall(tps,fns)))\n",
    "print('Accuracy:',accuracy(tps,fps,fns,tns))"
   ]
  },
  {
   "cell_type": "markdown",
   "metadata": {},
   "source": [
    "## Colors"
   ]
  },
  {
   "cell_type": "code",
   "execution_count": null,
   "metadata": {},
   "outputs": [],
   "source": [
    "colors_5050 = torch.load('malware5050test/50test_colors.pt')\n",
    "len(list(colors_5050.keys()))"
   ]
  },
  {
   "cell_type": "code",
   "execution_count": null,
   "metadata": {},
   "outputs": [],
   "source": [
    "toeliminate = []\n",
    "for key in colors_5050.keys():\n",
    "    n = 0\n",
    "    for k in colors_5050[key].keys():\n",
    "        if colors_5050[key][k] == 0:\n",
    "            n+=1\n",
    "    if n >= 50:\n",
    "        toeliminate.append(key)\n",
    "for elem in toeliminate:\n",
    "    del colors_5050[elem]\n",
    "len(list(colors_5050.keys()))"
   ]
  },
  {
   "cell_type": "code",
   "execution_count": null,
   "metadata": {},
   "outputs": [],
   "source": [
    "important = []\n",
    "for score in colors_5050.keys():\n",
    "    scores = colors_5050[score]\n",
    "    scores = dict(sorted(scores.items(), key=lambda item: item[1], reverse=True))\n",
    "    i = 1\n",
    "    print('Top ' + str(10) + ' similar exploits to ' + score + ': ')\n",
    "    for elem in scores:\n",
    "        if score == elem:\n",
    "            index = str(i)\n",
    "            id = score\n",
    "            sim = scores[elem]\n",
    "        if i>10:\n",
    "            if score.split('_')[-1] in elem:\n",
    "                print('('+ str(i) + ') '+ 'ID: ' + str(elem) + ' Similarity: ' + str(scores[elem]))\n",
    "        else:\n",
    "            print('('+ str(i) + ') '+ 'ID: ' + str(elem) + ' Similarity: ' + str(scores[elem]))\n",
    "        i = i + 1\n",
    "    print(score,index,id,sim)\n",
    "    important.append((score,index,id,sim))"
   ]
  },
  {
   "cell_type": "code",
   "execution_count": null,
   "metadata": {},
   "outputs": [],
   "source": [
    "media_sim(important)"
   ]
  },
  {
   "cell_type": "code",
   "execution_count": null,
   "metadata": {},
   "outputs": [],
   "source": [
    "import torch\n",
    "tp = {}\n",
    "fp = {}\n",
    "fn = {}\n",
    "tn = {}\n",
    "threshold = 1\n",
    "for score in cosine_5050.keys():\n",
    "    tp[score] = 0\n",
    "    fp[score] = 0\n",
    "    fn[score] = 0\n",
    "    tn[score] = 0\n",
    "    scores = cosine_5050[score]\n",
    "    scores = dict(sorted(scores.items(), key=lambda item: item[1], reverse=True))\n",
    "    i = 1\n",
    "    for elem in scores:\n",
    "        sim = float(scores[elem])\n",
    "        if score.split('_')[-1] in elem:\n",
    "            if(sim)>=threshold:\n",
    "                tp[score] = tp[score] + 1\n",
    "            else:\n",
    "                fn[score] = fn[score] + 1\n",
    "        else:\n",
    "            if(get_num_funcs(elem)>=get_num_funcs(score)):\n",
    "                tn[score] = tn[score] + 1\n",
    "                continue\n",
    "            if(sim)>=threshold:\n",
    "                fp[score] = fp[score] + 1\n",
    "            else:\n",
    "                tn[score] = tn[score] + 1\n",
    "\n",
    "\n",
    "tps = 0\n",
    "for key in tp:\n",
    "    if tp[key] != 0:\n",
    "        tps+=tp[key]\n",
    "fps = 0\n",
    "for key in fp:\n",
    "    if fp[key] != 0:\n",
    "        fps+=fp[key]\n",
    "fns = 0\n",
    "for key in fn:\n",
    "    if fn[key] != 0:\n",
    "        fns+=fn[key]\n",
    "tns = 0\n",
    "for key in tn:\n",
    "    if tn[key] != 0:\n",
    "        tns+=tn[key]\n",
    "\n",
    "\n",
    "print('TP:',tps,'FP:',fps,'FN:',fns,'TN:',tns)\n",
    "print('Precision:',precision(tps,fps))\n",
    "print('Recall:',recall(tps,fns))\n",
    "print('F1:',f1(precision(tps,fps),recall(tps,fns)))\n",
    "print('Accuracy:',accuracy(tps,fps,fns,tns))"
   ]
  },
  {
   "cell_type": "markdown",
   "metadata": {},
   "source": [
    "## New method"
   ]
  },
  {
   "cell_type": "code",
   "execution_count": null,
   "metadata": {},
   "outputs": [],
   "source": [
    "newmethod_5050 = torch.load('malware5050test/50test_newmethod.pt')\n",
    "len(list(newmethod_5050.keys()))"
   ]
  },
  {
   "cell_type": "code",
   "execution_count": null,
   "metadata": {},
   "outputs": [],
   "source": [
    "toeliminate = []\n",
    "for key in newmethod_5050.keys():\n",
    "    n = 0\n",
    "    for k in newmethod_5050[key].keys():\n",
    "        if newmethod_5050[key][k][1] == 0:\n",
    "            n+=1\n",
    "    if n >= 50:\n",
    "        toeliminate.append(key)\n",
    "for elem in toeliminate:\n",
    "    del newmethod_5050[elem]\n",
    "len(list(newmethod_5050.keys()))"
   ]
  },
  {
   "cell_type": "code",
   "execution_count": null,
   "metadata": {},
   "outputs": [],
   "source": [
    "important = []\n",
    "for score in newmethod_5050.keys():\n",
    "    if score == '69f485e0ea916f303f13e5ba45a4d1854bcb38e39d2b10068c3da786b7666c5f':\n",
    "        continue\n",
    "    scores = newmethod_5050[score]\n",
    "    scores = dict(sorted(scores.items(), key=lambda item: item[1], reverse=True))\n",
    "    i = 1\n",
    "    print('Top ' + str(10) + ' similar exploits to ' + score + ': ')\n",
    "    for elem in scores:\n",
    "        if score.split('_')[-1] in elem:\n",
    "            try:\n",
    "                index = str(i)\n",
    "                id = score.split('_')[-1]\n",
    "                sim = scores[elem][0]/scores[elem][1]\n",
    "            except:\n",
    "                print(score,elem,scores[elem])\n",
    "                continue\n",
    "\n",
    "        if i>10:\n",
    "            if score.split('_')[-1] in elem:\n",
    "                print('('+ str(i) + ') '+ 'ID: ' + str(elem) + ' Similarity: ' + str(scores[elem]))\n",
    "        else:\n",
    "            print('('+ str(i) + ') '+ 'ID: ' + str(elem) + ' Similarity: ' + str(scores[elem]))\n",
    "        i = i + 1\n",
    "    print(score,index,id,sim)\n",
    "    important.append((score,index,id,sim))"
   ]
  },
  {
   "cell_type": "code",
   "execution_count": null,
   "metadata": {},
   "outputs": [],
   "source": [
    "important"
   ]
  },
  {
   "cell_type": "code",
   "execution_count": null,
   "metadata": {},
   "outputs": [],
   "source": [
    "media_sim(important)"
   ]
  },
  {
   "cell_type": "code",
   "execution_count": null,
   "metadata": {},
   "outputs": [],
   "source": [
    "newmethod_5050"
   ]
  },
  {
   "cell_type": "code",
   "execution_count": null,
   "metadata": {},
   "outputs": [],
   "source": [
    "import torch\n",
    "tp = {}\n",
    "fp = {}\n",
    "fn = {}\n",
    "tn = {}\n",
    "threshold = 0.8689132206789041\n",
    "for score in newmethod_5050.keys():\n",
    "    if score == '69f485e0ea916f303f13e5ba45a4d1854bcb38e39d2b10068c3da786b7666c5f':\n",
    "        continue\n",
    "    tp[score] = 0\n",
    "    fp[score] = 0\n",
    "    fn[score] = 0\n",
    "    tn[score] = 0\n",
    "    scores = newmethod_5050[score]\n",
    "    scores = dict(sorted(scores.items(), key=lambda item: item[1], reverse=True))\n",
    "    i = 1\n",
    "    for elem in scores:\n",
    "        try:\n",
    "            sim = float(scores[elem][0]/scores[elem][1])\n",
    "        except:\n",
    "            sim = 0\n",
    "        if score.split('_')[-1] in elem:\n",
    "            if(sim)>=threshold:\n",
    "                tp[score] = tp[score] + 1\n",
    "            else:\n",
    "                fn[score] = fn[score] + 1\n",
    "        else:\n",
    "            if(get_num_funcs(elem)>=get_num_funcs(score)):\n",
    "                tn[score] = tn[score] + 1\n",
    "                continue\n",
    "            if(sim)>=threshold:\n",
    "                fp[score] = fp[score] + 1\n",
    "            else:\n",
    "                tn[score] = tn[score] + 1\n",
    "\n",
    "tps = 0\n",
    "for key in tp:\n",
    "    if tp[key] != 0:\n",
    "        tps+=tp[key]\n",
    "fps = 0\n",
    "for key in fp:\n",
    "    if fp[key] != 0:\n",
    "        fps+=fp[key]\n",
    "fns = 0\n",
    "for key in fn:\n",
    "    if fn[key] != 0:\n",
    "        fns+=fn[key]\n",
    "tns = 0\n",
    "for key in tn:\n",
    "    if tn[key] != 0:\n",
    "        tns+=tn[key]\n",
    "\n",
    "\n",
    "print('TP:',tps,'FP:',fps,'FN:',fns,'TN:',tns)\n",
    "print('Precision:',precision(tps,fps))\n",
    "print('Recall:',recall(tps,fns))\n",
    "print('F1:',f1(precision(tps,fps),recall(tps,fns)))\n",
    "print('Accuracy:',accuracy(tps,fps,fns,tns))"
   ]
  },
  {
   "cell_type": "markdown",
   "metadata": {},
   "source": [
    "# Number of functions dict"
   ]
  },
  {
   "cell_type": "code",
   "execution_count": null,
   "metadata": {},
   "outputs": [],
   "source": [
    "numfuncs = {}\n",
    "malwares = torch.load('../datasets/embeddings/malwarebazaar_embeddings_filtered.pt')\n",
    "for key in malwares.keys():\n",
    "    numfuncs[key] = len(malwares[key])"
   ]
  },
  {
   "cell_type": "code",
   "execution_count": null,
   "metadata": {},
   "outputs": [],
   "source": [
    "all_exes_filtered = torch.load('../datasets/embeddings/all_exes_filtered.pt')\n",
    "for key in all_exes_filtered.keys():\n",
    "    numfuncs[key] = len(all_exes_filtered[key])"
   ]
  },
  {
   "cell_type": "code",
   "execution_count": null,
   "metadata": {},
   "outputs": [],
   "source": [
    "permutations_pt1 = torch.load('../datasets/embeddings/final_permutations_embeddings.pt')\n",
    "permutations_pt2 = torch.load('../datasets/permutations/NEW/final_permutations_embeddings_pt2.pt')\n",
    "for key in permutations_pt1.keys():\n",
    "    numfuncs[key] = len(permutations_pt1[key])\n",
    "for key in permutations_pt2.keys():\n",
    "    numfuncs[key] = len(permutations_pt2[key])"
   ]
  },
  {
   "cell_type": "code",
   "execution_count": null,
   "metadata": {},
   "outputs": [],
   "source": [
    "torch.save(numfuncs,'../datasets/descriptions/numfuncs.pt')"
   ]
  },
  {
   "cell_type": "code",
   "execution_count": null,
   "metadata": {},
   "outputs": [],
   "source": [
    "def get_num_funcs(key):\n",
    "    return numfuncs[key]"
   ]
  }
 ],
 "metadata": {
  "interpreter": {
   "hash": "821f77f8828e8180cefca8102545d12ca0833cd7d3d8d53e6ac19f9670a558a3"
  },
  "kernelspec": {
   "display_name": "Python 3.9.4 64-bit ('venv': venv)",
   "language": "python",
   "name": "python3"
  },
  "language_info": {
   "codemirror_mode": {
    "name": "ipython",
    "version": 3
   },
   "file_extension": ".py",
   "mimetype": "text/x-python",
   "name": "python",
   "nbconvert_exporter": "python",
   "pygments_lexer": "ipython3",
   "version": "3.9.4"
  },
  "orig_nbformat": 4
 },
 "nbformat": 4,
 "nbformat_minor": 2
}
