{
 "metadata": {
  "language_info": {
   "codemirror_mode": {
    "name": "ipython",
    "version": 3
   },
   "file_extension": ".py",
   "mimetype": "text/x-python",
   "name": "python",
   "nbconvert_exporter": "python",
   "pygments_lexer": "ipython3",
   "version": "3.9.4-final"
  },
  "orig_nbformat": 2,
  "kernelspec": {
   "name": "python394jvsc74a57bd0a0ded08c67edfe2a4354d36b10e2f98b3ecfce6631b76726d618bad84dd97c1f",
   "display_name": "Python 3.9.4 64-bit"
  },
  "metadata": {
   "interpreter": {
    "hash": "a0ded08c67edfe2a4354d36b10e2f98b3ecfce6631b76726d618bad84dd97c1f"
   }
  }
 },
 "nbformat": 4,
 "nbformat_minor": 2,
 "cells": [
  {
   "cell_type": "code",
   "execution_count": 1,
   "metadata": {},
   "outputs": [
    {
     "output_type": "stream",
     "name": "stdout",
     "text": [
      "done\n"
     ]
    }
   ],
   "source": [
    "import subprocess\n",
    "import os\n",
    "from pprint import pprint\n",
    "import json\n",
    "import pandas as pd\n",
    "from win_cli_compiler import compile_generic\n",
    "print('done')"
   ]
  },
  {
   "cell_type": "code",
   "execution_count": 2,
   "metadata": {},
   "outputs": [
    {
     "output_type": "stream",
     "name": "stdout",
     "text": [
      "      exploit_db_id                        cve_id  \\\n0             10102                 CVE-2009-4186   \n1             10201                 CVE-2009-4781   \n2             10226                 CVE-2009-4097   \n3             10258                 CVE-2009-4194   \n4             10484                 CVE-2009-4452   \n...             ...                           ...   \n2300           9705                 CVE-2009-4663   \n2301           9707                 CVE-2009-4659   \n2302           9717   CVE-2009-4657 CVE-2009-4658   \n2303           9734                 CVE-2009-4661   \n2304            983                 CVE-2005-1667   \n\n                                                exploit type_of_exploit  \n0     #!/usr/bin/perl\\n# ithinkthereforeiexist.pl\\n#...              pl  \n1     #!/usr/bin/perl\\n\\n# Exploit: TEKUVA Password ...              pl  \n2     #!/usr/bin/python\\n#\\n# ######################...              py  \n3     # Exploit Title: [Golden FTP Server File Delet...              pl  \n4     ShineShadow Security Report 16122009-15\\n\\nTIT...             txt  \n...                                                 ...             ...  \n2300  <html>\\n <head>\\n    <!--\\n      -- Quiksoft E...            html  \n2301  #!/usr/bin/perl\\n#############################...              pl  \n2302  ##############################################...             txt  \n2303  #!/usr/bin/env python\\n\\n#####################...              py  \n2304  /*\\n\\nDataTrac Activity Console DoS Exploit\\n-...             cpp  \n\n[2305 rows x 4 columns]\n"
     ]
    }
   ],
   "source": [
    "df = pd.read_csv('datasets/cve_with_exploits.csv')\n",
    "print(df)"
   ]
  },
  {
   "cell_type": "code",
   "execution_count": 3,
   "metadata": {
    "tags": [
     "outputPrepend"
    ]
   },
   "outputs": [
    {
     "output_type": "stream",
     "name": "stdout",
     "text": [
      "ft (R) C/C++ Optimizing Compiler versione 19.28.29913 per x64\\nCopyright (C) Microsoft Corporation. Tutti i diritti  sono riservati.\\n\\n6515.c\\n6515.c(28): warning C4142: 'NTSTATUS': ridefinizione di tipo sicura\\nC:\\\\Program Files (x86)\\\\Windows Kits\\\\10\\\\include\\\\10.0.19041.0\\\\shared\\\\bcrypt.h(39): note: vedere la dichiarazione di 'NTSTATUS'\\nMicrosoft (R) Incremental Linker Version 14.28.29913.0\\nCopyright (C) Microsoft Corporation.  All rights reserved.\\n\\n/out:6515.exe \\n6515.obj \\n6515.obj : error LNK2019: riferimento al simbolo esterno __imp_RtlInitUnicodeString non risolto nella funzione main\\n6515.obj : error LNK2019: riferimento al simbolo esterno __imp_RtlFreeUnicodeString non risolto nella funzione main\\n6515.obj : error LNK2019: riferimento al simbolo esterno __imp_NtCreateFile non risolto nella funzione main\\n6515.obj : error LNK2019: riferimento al simbolo esterno __imp_NtDeviceIoControlFile non risolto nella funzione main\\n6515.obj : error LNK2019: riferimento al simbolo esterno __imp_NtClose non risolto nella funzione main\\n6515.obj : error LNK2019: riferimento al simbolo esterno __imp_NtDelayExecution non risolto nella funzione main\\n6515.exe : fatal error LNK1120: 6 esterni non risolti\")\n",
      "(0, '')\n",
      "N: 1920\n",
      "dir: C:\\Users\\matti\\Desktop\\Magistrale\\tesi\\zozzate\n",
      "suffix: c\n",
      "compile_command: \"C:\\Program Files (x86)\\Microsoft Visual Studio\\2019\\BuildTools\\VC\\Auxiliary\\Build\\vcvars64\" && cl <temp_file_name> /Fa\n",
      "\"C:\\Program Files (x86)\\Microsoft Visual Studio\\2019\\BuildTools\\VC\\Auxiliary\\Build\\vcvars64\" && cl 6647.c /Fa\n",
      "(2, \"**********************************************************************\\n** Visual Studio 2019 Developer Command Prompt v16.9.3\\n** Copyright (c) 2021 Microsoft Corporation\\n**********************************************************************\\n[vcvarsall.bat] Environment initialized for: 'x64'\\nMicrosoft (R) C/C++ Optimizing Compiler versione 19.28.29913 per x64\\nCopyright (C) Microsoft Corporation. Tutti i diritti  sono riservati.\\n\\n6647.c\\n6647.c(35): warning C4142: 'NTSTATUS': ridefinizione di tipo sicura\\nC:\\\\Program Files (x86)\\\\Windows Kits\\\\10\\\\include\\\\10.0.19041.0\\\\shared\\\\bcrypt.h(39): note: vedere la dichiarazione di 'NTSTATUS'\\n6647.c(232): warning C4312: 'cast di tipo': conversione da 'unsigned int' a 'PVOID', di dimensioni maggiori\\nMicrosoft (R) Incremental Linker Version 14.28.29913.0\\nCopyright (C) Microsoft Corporation.  All rights reserved.\\n\\n/out:6647.exe \\n6647.obj \\n6647.obj : error LNK2019: riferimento al simbolo esterno __imp_RtlInitUnicodeString non risolto nella funzione main\\n6647.obj : error LNK2019: riferimento al simbolo esterno __imp_NtCreateFile non risolto nella funzione main\\n6647.obj : error LNK2019: riferimento al simbolo esterno __imp_NtDeviceIoControlFile non risolto nella funzione main\\n6647.obj : error LNK2019: riferimento al simbolo esterno __imp_NtDelayExecution non risolto nella funzione main\\n6647.obj : error LNK2019: riferimento al simbolo esterno __imp_NtClose non risolto nella funzione main\\n6647.exe : fatal error LNK1120: 5 esterni non risolti\")\n",
      "(0, '')\n",
      "N: 1929\n",
      "dir: C:\\Users\\matti\\Desktop\\Magistrale\\tesi\\zozzate\n",
      "suffix: c\n",
      "compile_command: \"C:\\Program Files (x86)\\Microsoft Visual Studio\\2019\\BuildTools\\VC\\Auxiliary\\Build\\vcvars64\" && cl <temp_file_name> /Fa\n",
      "\"C:\\Program Files (x86)\\Microsoft Visual Studio\\2019\\BuildTools\\VC\\Auxiliary\\Build\\vcvars64\" && cl 6671.c /Fa\n",
      "(2, \"**********************************************************************\\n** Visual Studio 2019 Developer Command Prompt v16.9.3\\n** Copyright (c) 2021 Microsoft Corporation\\n**********************************************************************\\n[vcvarsall.bat] Environment initialized for: 'x64'\\nMicrosoft (R) C/C++ Optimizing Compiler versione 19.28.29913 per x64\\nCopyright (C) Microsoft Corporation. Tutti i diritti  sono riservati.\\n\\n6671.c\\nMicrosoft (R) Incremental Linker Version 14.28.29913.0\\nCopyright (C) Microsoft Corporation.  All rights reserved.\\n\\n/out:6671.exe \\n6671.obj \\n6671.obj : error LNK2019: riferimento al simbolo esterno __imp_GetStockObject non risolto nella funzione main\\n6671.obj : error LNK2019: riferimento al simbolo esterno __imp_RegisterClassW non risolto nella funzione main\\n6671.obj : error LNK2019: riferimento al simbolo esterno __imp_LoadCursorA non risolto nella funzione main\\n6671.exe : fatal error LNK1120: 3 esterni non risolti\")\n",
      "(0, '')\n",
      "N: 1961\n",
      "dir: C:\\Users\\matti\\Desktop\\Magistrale\\tesi\\zozzate\n",
      "suffix: c\n",
      "compile_command: \"C:\\Program Files (x86)\\Microsoft Visual Studio\\2019\\BuildTools\\VC\\Auxiliary\\Build\\vcvars64\" && cl <temp_file_name> /Fa\n",
      "\"C:\\Program Files (x86)\\Microsoft Visual Studio\\2019\\BuildTools\\VC\\Auxiliary\\Build\\vcvars64\" && cl 6834.c /Fa\n",
      "(2, \"**********************************************************************\\n** Visual Studio 2019 Developer Command Prompt v16.9.3\\n** Copyright (c) 2021 Microsoft Corporation\\n**********************************************************************\\n[vcvarsall.bat] Environment initialized for: 'x64'\\nMicrosoft (R) C/C++ Optimizing Compiler versione 19.28.29913 per x64\\nCopyright (C) Microsoft Corporation. Tutti i diritti  sono riservati.\\n\\n6834.c\\nC:\\\\Program Files (x86)\\\\Microsoft Visual Studio\\\\2019\\\\BuildTools\\\\VC\\\\Tools\\\\MSVC\\\\14.28.29910\\\\include\\\\cstdio(33): error C2061: errore di sintassi: identificatore 'std'\\nC:\\\\Program Files (x86)\\\\Microsoft Visual Studio\\\\2019\\\\BuildTools\\\\VC\\\\Tools\\\\MSVC\\\\14.28.29910\\\\include\\\\cstdio(33): error C2059: errore di sintassi: ';'\\nC:\\\\Program Files (x86)\\\\Microsoft Visual Studio\\\\2019\\\\BuildTools\\\\VC\\\\Tools\\\\MSVC\\\\14.28.29910\\\\include\\\\cstdio(33): error C2449: trovato '{' in ambito file. Si Š omesso di specificare un'intestazione di funzione?\\nC:\\\\Program Files (x86)\\\\Microsoft Visual Studio\\\\2019\\\\BuildTools\\\\VC\\\\Tools\\\\MSVC\\\\14.28.29910\\\\include\\\\cstdio(91): error C2059: errore di sintassi: '}'\\nC:\\\\Program Files (x86)\\\\Windows Kits\\\\10\\\\include\\\\10.0.19041.0\\\\um\\\\winnt.h(1124): warning C4164: '_rotl': funzione intrinseca non dichiarata\\nC:\\\\Program Files (x86)\\\\Windows Kits\\\\10\\\\include\\\\10.0.19041.0\\\\um\\\\winnt.h(1125): warning C4164: '_rotl64': funzione intrinseca non dichiarata\\nC:\\\\Program Files (x86)\\\\Windows Kits\\\\10\\\\include\\\\10.0.19041.0\\\\um\\\\winnt.h(1126): warning C4164: '_rotr': funzione intrinseca non dichiarata\\nC:\\\\Program Files (x86)\\\\Windows Kits\\\\10\\\\include\\\\10.0.19041.0\\\\um\\\\winnt.h(1127): warning C4164: '_rotr64': funzione intrinseca non dichiarata\\n6834.c(89): fatal error C1004: fine del file imprevista\")\n",
      "(0, '')\n",
      "N: 1978\n",
      "dir: C:\\Users\\matti\\Desktop\\Magistrale\\tesi\\zozzate\n",
      "suffix: c\n",
      "compile_command: \"C:\\Program Files (x86)\\Microsoft Visual Studio\\2019\\BuildTools\\VC\\Auxiliary\\Build\\vcvars64\" && cl <temp_file_name> /Fa\n",
      "\"C:\\Program Files (x86)\\Microsoft Visual Studio\\2019\\BuildTools\\VC\\Auxiliary\\Build\\vcvars64\" && cl 7104.c /Fa\n",
      "(2, \"**********************************************************************\\n** Visual Studio 2019 Developer Command Prompt v16.9.3\\n** Copyright (c) 2021 Microsoft Corporation\\n**********************************************************************\\n[vcvarsall.bat] Environment initialized for: 'x64'\\nMicrosoft (R) C/C++ Optimizing Compiler versione 19.28.29913 per x64\\nCopyright (C) Microsoft Corporation. Tutti i diritti  sono riservati.\\n\\n7104.c\\n7104.c(10): fatal error C1083: Non Š possibile aprire il file inclusione: 'stdafx.h': No such file or directory\")\n",
      "(0, '')\n",
      "N: 2059\n",
      "dir: C:\\Users\\matti\\Desktop\\Magistrale\\tesi\\zozzate\n",
      "suffix: c\n",
      "compile_command: \"C:\\Program Files (x86)\\Microsoft Visual Studio\\2019\\BuildTools\\VC\\Auxiliary\\Build\\vcvars64\" && cl <temp_file_name> /Fa\n",
      "\"C:\\Program Files (x86)\\Microsoft Visual Studio\\2019\\BuildTools\\VC\\Auxiliary\\Build\\vcvars64\" && cl 7974.c /Fa\n",
      "(0, \"**********************************************************************\\n** Visual Studio 2019 Developer Command Prompt v16.9.3\\n** Copyright (c) 2021 Microsoft Corporation\\n**********************************************************************\\n[vcvarsall.bat] Environment initialized for: 'x64'\\nMicrosoft (R) C/C++ Optimizing Compiler versione 19.28.29913 per x64\\nCopyright (C) Microsoft Corporation. Tutti i diritti  sono riservati.\\n\\n7974.c\\nMicrosoft (R) Incremental Linker Version 14.28.29913.0\\nCopyright (C) Microsoft Corporation.  All rights reserved.\\n\\n/out:7974.exe \\n7974.obj \")\n",
      "(0, '')\n",
      "N: 2079\n",
      "dir: C:\\Users\\matti\\Desktop\\Magistrale\\tesi\\zozzate\n",
      "suffix: c\n",
      "compile_command: \"C:\\Program Files (x86)\\Microsoft Visual Studio\\2019\\BuildTools\\VC\\Auxiliary\\Build\\vcvars64\" && cl <temp_file_name> /Fa\n",
      "\"C:\\Program Files (x86)\\Microsoft Visual Studio\\2019\\BuildTools\\VC\\Auxiliary\\Build\\vcvars64\" && cl 8180.c /Fa\n",
      "(0, \"**********************************************************************\\n** Visual Studio 2019 Developer Command Prompt v16.9.3\\n** Copyright (c) 2021 Microsoft Corporation\\n**********************************************************************\\n[vcvarsall.bat] Environment initialized for: 'x64'\\nMicrosoft (R) C/C++ Optimizing Compiler versione 19.28.29913 per x64\\nCopyright (C) Microsoft Corporation. Tutti i diritti  sono riservati.\\n\\n8180.c\\nMicrosoft (R) Incremental Linker Version 14.28.29913.0\\nCopyright (C) Microsoft Corporation.  All rights reserved.\\n\\n/out:8180.exe \\n8180.obj \")\n",
      "(0, '')\n",
      "N: 2093\n",
      "dir: C:\\Users\\matti\\Desktop\\Magistrale\\tesi\\zozzate\n",
      "suffix: c\n",
      "compile_command: \"C:\\Program Files (x86)\\Microsoft Visual Studio\\2019\\BuildTools\\VC\\Auxiliary\\Build\\vcvars64\" && cl <temp_file_name> /Fa\n",
      "\"C:\\Program Files (x86)\\Microsoft Visual Studio\\2019\\BuildTools\\VC\\Auxiliary\\Build\\vcvars64\" && cl 8256.c /Fa\n",
      "(2, \"**********************************************************************\\n** Visual Studio 2019 Developer Command Prompt v16.9.3\\n** Copyright (c) 2021 Microsoft Corporation\\n**********************************************************************\\n[vcvarsall.bat] Environment initialized for: 'x64'\\nMicrosoft (R) C/C++ Optimizing Compiler versione 19.28.29913 per x64\\nCopyright (C) Microsoft Corporation. Tutti i diritti  sono riservati.\\n\\n8256.c\\n8256.c(21): fatal error C1083: Non Š possibile aprire il file inclusione: 'unistd.h': No such file or directory\")\n",
      "(0, '')\n",
      "N: 2111\n",
      "dir: C:\\Users\\matti\\Desktop\\Magistrale\\tesi\\zozzate\n",
      "suffix: c\n",
      "compile_command: \"C:\\Program Files (x86)\\Microsoft Visual Studio\\2019\\BuildTools\\VC\\Auxiliary\\Build\\vcvars64\" && cl <temp_file_name> /Fa\n",
      "\"C:\\Program Files (x86)\\Microsoft Visual Studio\\2019\\BuildTools\\VC\\Auxiliary\\Build\\vcvars64\" && cl 8411.c /Fa\n",
      "(0, \"**********************************************************************\\n** Visual Studio 2019 Developer Command Prompt v16.9.3\\n** Copyright (c) 2021 Microsoft Corporation\\n**********************************************************************\\n[vcvarsall.bat] Environment initialized for: 'x64'\\nMicrosoft (R) C/C++ Optimizing Compiler versione 19.28.29913 per x64\\nCopyright (C) Microsoft Corporation. Tutti i diritti  sono riservati.\\n\\n8411.c\\nMicrosoft (R) Incremental Linker Version 14.28.29913.0\\nCopyright (C) Microsoft Corporation.  All rights reserved.\\n\\n/out:8411.exe \\n8411.obj \")\n",
      "(0, '')\n",
      "N: 2123\n",
      "dir: C:\\Users\\matti\\Desktop\\Magistrale\\tesi\\zozzate\n",
      "suffix: c\n",
      "compile_command: \"C:\\Program Files (x86)\\Microsoft Visual Studio\\2019\\BuildTools\\VC\\Auxiliary\\Build\\vcvars64\" && cl <temp_file_name> /Fa\n",
      "\"C:\\Program Files (x86)\\Microsoft Visual Studio\\2019\\BuildTools\\VC\\Auxiliary\\Build\\vcvars64\" && cl 8452.c /Fa\n",
      "(0, \"**********************************************************************\\n** Visual Studio 2019 Developer Command Prompt v16.9.3\\n** Copyright (c) 2021 Microsoft Corporation\\n**********************************************************************\\n[vcvarsall.bat] Environment initialized for: 'x64'\\nMicrosoft (R) C/C++ Optimizing Compiler versione 19.28.29913 per x64\\nCopyright (C) Microsoft Corporation. Tutti i diritti  sono riservati.\\n\\n8452.c\\n8452.c(990): warning C4047: 'inizializzazione': 'DWORD' differisce da 'void *' nei livelli di riferimento indiretto\\n8452.c(1024): warning C4133: 'funzione': tipi non compatibili. Da 'DWORD *' a 'const char *'\\n8452.c(1026): warning C4133: 'funzione': tipi non compatibili. Da 'DWORD *' a 'const char *'\\n8452.c(1028): warning C4047: 'funzione': 'char *' differisce da 'uint8_t (*)[14911]' nei livelli di riferimento indiretto\\n8452.c(1028): warning C4024: 'strncpy': tipi diversi tra il parametro 1 formale e quello effettivo\\nMicrosoft (R) Incremental Linker Version 14.28.29913.0\\nCopyright (C) Microsoft Corporation.  All rights reserved.\\n\\n/out:8452.exe \\n8452.obj \")\n",
      "(0, '')\n",
      "N: 2172\n",
      "dir: C:\\Users\\matti\\Desktop\\Magistrale\\tesi\\zozzate\n",
      "suffix: c\n",
      "compile_command: \"C:\\Program Files (x86)\\Microsoft Visual Studio\\2019\\BuildTools\\VC\\Auxiliary\\Build\\vcvars64\" && cl <temp_file_name> /Fa\n",
      "\"C:\\Program Files (x86)\\Microsoft Visual Studio\\2019\\BuildTools\\VC\\Auxiliary\\Build\\vcvars64\" && cl 8650.c /Fa\n",
      "(2, \"**********************************************************************\\n** Visual Studio 2019 Developer Command Prompt v16.9.3\\n** Copyright (c) 2021 Microsoft Corporation\\n**********************************************************************\\n[vcvarsall.bat] Environment initialized for: 'x64'\\nMicrosoft (R) C/C++ Optimizing Compiler versione 19.28.29913 per x64\\nCopyright (C) Microsoft Corporation. Tutti i diritti  sono riservati.\\n\\n8650.c\\n8650.c(20): fatal error C1083: Non Š possibile aprire il file inclusione: 'unistd.h': No such file or directory\")\n",
      "(0, '')\n",
      "N: 2183\n",
      "dir: C:\\Users\\matti\\Desktop\\Magistrale\\tesi\\zozzate\n",
      "suffix: c\n",
      "compile_command: \"C:\\Program Files (x86)\\Microsoft Visual Studio\\2019\\BuildTools\\VC\\Auxiliary\\Build\\vcvars64\" && cl <temp_file_name> /Fa\n",
      "\"C:\\Program Files (x86)\\Microsoft Visual Studio\\2019\\BuildTools\\VC\\Auxiliary\\Build\\vcvars64\" && cl 8767.c /Fa\n",
      "(0, \"**********************************************************************\\n** Visual Studio 2019 Developer Command Prompt v16.9.3\\n** Copyright (c) 2021 Microsoft Corporation\\n**********************************************************************\\n[vcvarsall.bat] Environment initialized for: 'x64'\\nMicrosoft (R) C/C++ Optimizing Compiler versione 19.28.29913 per x64\\nCopyright (C) Microsoft Corporation. Tutti i diritti  sono riservati.\\n\\n8767.c\\nMicrosoft (R) Incremental Linker Version 14.28.29913.0\\nCopyright (C) Microsoft Corporation.  All rights reserved.\\n\\n/out:8767.exe \\n8767.obj \")\n",
      "(0, '')\n",
      "N: 2189\n",
      "dir: C:\\Users\\matti\\Desktop\\Magistrale\\tesi\\zozzate\n",
      "suffix: c\n",
      "compile_command: \"C:\\Program Files (x86)\\Microsoft Visual Studio\\2019\\BuildTools\\VC\\Auxiliary\\Build\\vcvars64\" && cl <temp_file_name> /Fa\n",
      "\"C:\\Program Files (x86)\\Microsoft Visual Studio\\2019\\BuildTools\\VC\\Auxiliary\\Build\\vcvars64\" && cl 8783.c /Fa\n",
      "(0, \"**********************************************************************\\n** Visual Studio 2019 Developer Command Prompt v16.9.3\\n** Copyright (c) 2021 Microsoft Corporation\\n**********************************************************************\\n[vcvarsall.bat] Environment initialized for: 'x64'\\nMicrosoft (R) C/C++ Optimizing Compiler versione 19.28.29913 per x64\\nCopyright (C) Microsoft Corporation. Tutti i diritti  sono riservati.\\n\\n8783.c\\nMicrosoft (R) Incremental Linker Version 14.28.29913.0\\nCopyright (C) Microsoft Corporation.  All rights reserved.\\n\\n/out:8783.exe \\n8783.obj \")\n",
      "(0, '')\n",
      "N: 2202\n",
      "dir: C:\\Users\\matti\\Desktop\\Magistrale\\tesi\\zozzate\n",
      "suffix: c\n",
      "compile_command: \"C:\\Program Files (x86)\\Microsoft Visual Studio\\2019\\BuildTools\\VC\\Auxiliary\\Build\\vcvars64\" && cl <temp_file_name> /Fa\n",
      "\"C:\\Program Files (x86)\\Microsoft Visual Studio\\2019\\BuildTools\\VC\\Auxiliary\\Build\\vcvars64\" && cl 8983.c /Fa\n",
      "(2, \"**********************************************************************\\n** Visual Studio 2019 Developer Command Prompt v16.9.3\\n** Copyright (c) 2021 Microsoft Corporation\\n**********************************************************************\\n[vcvarsall.bat] Environment initialized for: 'x64'\\nMicrosoft (R) C/C++ Optimizing Compiler versione 19.28.29913 per x64\\nCopyright (C) Microsoft Corporation. Tutti i diritti  sono riservati.\\n\\n8983.c\\n8983.c(220): warning C4477: 'fprintf': con la stringa di formato '%d' Š necessario un argomento di tipo 'int', ma il tipo dell'argomento variadic 1 Š 'HANDLE'\\n8983.c(220): warning C4313: 'fprintf': '%d' nella stringa di formato Š in conflitto con l'argomento 1 di tipo 'HANDLE'\\n8983.c(230): warning C4477: 'printf': con la stringa di formato '%08X' Š necessario un argomento di tipo 'unsigned int', ma il tipo dell'argomento variadic 1 Š 'LPVOID'\\n8983.c(230): warning C4313: 'printf': '%X' nella stringa di formato Š in conflitto con l'argomento 1 di tipo 'LPVOID'\\n8983.c(236): error C2036: 'LPVOID': dimensione sconosciuta\\n8983.c(237): error C2036: 'LPVOID': dimensione sconosciuta\\n8983.c(287): warning C4477: 'printf': con la stringa di formato '%08X' Š necessario un argomento di tipo 'unsigned int', ma il tipo dell'argomento variadic 1 Š 'ioctl_ptr *'\\n8983.c(287): warning C4313: 'printf': '%X' nella stringa di formato Š in conflitto con l'argomento 1 di tipo 'ioctl_ptr *'\\n8983.c(288): warning C4477: 'printf': con la stringa di formato '%08X' Š necessario un argomento di tipo 'unsigned int', ma il tipo dell'argomento variadic 1 Š 'ioctl_ptr *'\\n8983.c(288): warning C4313: 'printf': '%X' nella stringa di formato Š in conflitto con l'argomento 1 di tipo 'ioctl_ptr *'\\n8983.c(288): warning C4477: 'printf': con la stringa di formato '%08X' Š necessario un argomento di tipo 'unsigned int', ma il tipo dell'argomento variadic 2 Š 'ioctl_pid *'\\n8983.c(288): warning C4313: 'printf': '%X' nella stringa di formato Š in conflitto con l'argomento 2 di tipo 'ioctl_pid *'\\n8983.c(288): warning C4477: 'printf': con la stringa di formato '%08X' Š necessario un argomento di tipo 'unsigned int', ma il tipo dell'argomento variadic 3 Š 'ioctl_func *'\\n8983.c(288): warning C4313: 'printf': '%X' nella stringa di formato Š in conflitto con l'argomento 3 di tipo 'ioctl_func *'\\n8983.c(290): warning C4477: 'printf': con la stringa di formato '%08X' Š necessario un argomento di tipo 'unsigned int', ma il tipo dell'argomento variadic 1 Š 'ioctl_func *'\\n8983.c(290): warning C4313: 'printf': '%X' nella stringa di formato Š in conflitto con l'argomento 1 di tipo 'ioctl_func *'\\n8983.c(290): warning C4477: 'printf': con la stringa di formato '%08X' Š necessario un argomento di tipo 'unsigned int', ma il tipo dell'argomento variadic 2 Š 'void *'\\n8983.c(290): warning C4313: 'printf': '%X' nella stringa di formato Š in conflitto con l'argomento 2 di tipo 'void *'\\n8983.c(291): warning C4477: 'printf': con la stringa di formato '%08X' Š necessario un argomento di tipo 'unsigned int', ma il tipo dell'argomento variadic 1 Š 'LPVOID *'\\n8983.c(291): warning C4313: 'printf': '%X' nella stringa di formato Š in conflitto con l'argomento 1 di tipo 'LPVOID *'\\n8983.c(291): warning C4477: 'printf': con la stringa di formato '%08X' Š necessario un argomento di tipo 'unsigned int', ma il tipo dell'argomento variadic 2 Š 'LPVOID'\\n8983.c(291): warning C4313: 'printf': '%X' nella stringa di formato Š in conflitto con l'argomento 2 di tipo 'LPVOID'\")\n",
      "(0, '')\n",
      "N: 2203\n",
      "dir: C:\\Users\\matti\\Desktop\\Magistrale\\tesi\\zozzate\n",
      "suffix: c\n",
      "compile_command: \"C:\\Program Files (x86)\\Microsoft Visual Studio\\2019\\BuildTools\\VC\\Auxiliary\\Build\\vcvars64\" && cl <temp_file_name> /Fa\n",
      "\"C:\\Program Files (x86)\\Microsoft Visual Studio\\2019\\BuildTools\\VC\\Auxiliary\\Build\\vcvars64\" && cl 9002.c /Fa\n",
      "(2, \"**********************************************************************\\n** Visual Studio 2019 Developer Command Prompt v16.9.3\\n** Copyright (c) 2021 Microsoft Corporation\\n**********************************************************************\\n[vcvarsall.bat] Environment initialized for: 'x64'\\nMicrosoft (R) C/C++ Optimizing Compiler versione 19.28.29913 per x64\\nCopyright (C) Microsoft Corporation. Tutti i diritti  sono riservati.\\n\\n9002.c\\n9002.c(27): fatal error C1083: Non Š possibile aprire il file inclusione: 'netinet/in.h': No such file or directory\")\n",
      "(0, '')\n"
     ]
    }
   ],
   "source": [
    "source_dir = 'C:\\\\Users\\\\matti\\\\Desktop\\\\Magistrale\\\\tesi\\\\zozzate'\n",
    "vcvars = '\\\"C:\\\\Program Files (x86)\\\\Microsoft Visual Studio\\\\2019\\\\BuildTools\\\\VC\\\\Auxiliary\\\\Build\\\\vcvars64\\\"'\n",
    "\n",
    "c_cli_command = vcvars + ' && cl ' + '<temp_file_name>' + ' /Fa'\n",
    "py_cli_command = 'C:\\\\Python27\\\\python.exe -m PyInstaller --name \\\"' + '<name>' + '\\\" ' + '<temp_file_name>'\n",
    "pl_cli_command = 'pp -o ' + '<name>' + '.exe ' + '<temp_file_name>'\n",
    "rb_cli_command = 'ocra ' + '<temp_file_name>' + ' --no-dep-run'\n",
    "\n",
    "\n",
    "\n",
    "\n",
    "\n",
    "cli_command = vcvars + ' && cl ' + '<temp_file_name>' + ' /Fa'\n",
    "compile_generic(df,'c',source_dir,cli_command)"
   ]
  },
  {
   "cell_type": "code",
   "execution_count": null,
   "metadata": {
    "tags": []
   },
   "outputs": [],
   "source": [
    "suffix = 'c'\n",
    "indexes = df.loc[df.isin([suffix]).any(axis=1)].index.tolist()\n",
    "print(str(indexes))\n",
    "print(df.loc[[7]])\n",
    "#for n in indexes:\n",
    "#    print((df.iloc[n]['exploit']))\n",
    "#df.iloc[n], with n in indexes, to get exploit with suffix extension"
   ]
  },
  {
   "cell_type": "code",
   "execution_count": null,
   "metadata": {
    "tags": [
     "outputPrepend"
    ]
   },
   "outputs": [],
   "source": [
    "#Compile all c codes to get assembly files .s\n",
    "\n",
    "ls = \"ls\"\n",
    "ls = subprocess.getstatusoutput(ls)[1]\n",
    "print(ls.split('\\n'))\n",
    "os.chdir('C:\\\\Users\\\\matti\\\\Desktop\\\\Magistrale\\\\tesi\\\\poc_detection\\\\temp_dir')\n",
    "\n",
    "for n in indexes:\n",
    "    i = n\n",
    "    print('N: ' + str(n))\n",
    "    # tempdir = 'temp_dir\\\\'\n",
    "    try:\n",
    "        suffix = '.c'\n",
    "        temp_file_name = str(df.iloc[i]['exploit_db_id']) + suffix\n",
    "        print('Temp file name: ' + temp_file_name)\n",
    "        temp_file = open(temp_file_name, 'w')\n",
    "        n = temp_file.write(df.iloc[i]['exploit'])\n",
    "        # print(df.iloc[n]['exploit'])\n",
    "        temp_file.close()\n",
    "        # assembly_temp = tempdir + str(df.iloc[i]['exploit_db_id']) + '.s'\n",
    "    \n",
    "        vcvars = '\\\"C:\\\\Program Files (x86)\\\\Microsoft Visual Studio\\\\2019\\\\BuildTools\\\\VC\\\\Auxiliary\\\\Build\\\\vcvars64\\\"'\n",
    "        # vcvars = 'vcvars64'\n",
    "        # print(vcvars)\n",
    "        compile_command = vcvars + ' && cl ' + temp_file_name + ' /Fa'\n",
    "        # compile_command = vcvars + ' && cl \\'' + temp_file_name + '\\' /Fa'\n",
    "        #compile_command = 'gcc -S -o ' + assembly_temp +' ' + temp_file_name\n",
    "        print(compile_command)\n",
    "\n",
    "        cc = subprocess.getstatusoutput(compile_command)\n",
    "        print(cc)\n",
    "        remove = 'del ' + temp_file_name\n",
    "        remove = subprocess.getstatusoutput(remove)\n",
    "        print(remove)\n",
    "    except:\n",
    "        print('Invalid file')\n",
    "\n",
    "    \n",
    "'''\n",
    "for n in indexes:\n",
    "    print((df.iloc[n]['exploit']))\n",
    "'''\n",
    "\n",
    "\n"
   ]
  },
  {
   "cell_type": "code",
   "execution_count": null,
   "metadata": {
    "tags": [
     "outputPrepend"
    ]
   },
   "outputs": [],
   "source": [
    "#Compile all cpp codes to get assembly files .s\n",
    "\n",
    "suffix = 'cpp'\n",
    "indexes = df.loc[df.isin([suffix]).any(axis=1)].index.tolist()\n",
    "print(str(indexes))\n",
    "os.chdir('C:\\\\Users\\\\matti\\\\Desktop\\\\Magistrale\\\\tesi\\\\poc_detection\\\\temp_dir')\n",
    "\n",
    "\n",
    "\"\"\" ls = \"ls\"\n",
    "ls = subprocess.getstatusoutput(ls)[1]\n",
    "print(ls.split('\\n')) \"\"\"\n",
    "\n",
    "for n in indexes:\n",
    "    i = n\n",
    "    print('N: ' + str(n))\n",
    "    try:\n",
    "        suffix = '.cpp'\n",
    "        temp_file_name = str(df.iloc[i]['exploit_db_id']) + suffix\n",
    "        temp_file = open(temp_file_name, 'w')\n",
    "        n = temp_file.write(df.iloc[i]['exploit'])\n",
    "        # print(df.iloc[n]['exploit'])\n",
    "        temp_file.close()\n",
    "        # assembly_temp = tempdir + str(df.iloc[i]['exploit_db_id']) + '.s'\n",
    "        vcvars = '\\\"C:\\\\Program Files (x86)\\\\Microsoft Visual Studio\\\\2019\\\\BuildTools\\\\VC\\\\Auxiliary\\\\Build\\\\vcvars64\\\"'\n",
    "        compile_command = vcvars + ' && cl ' + temp_file_name + ' /Fa'\n",
    "        print(compile_command)\n",
    "\n",
    "        cc = subprocess.getstatusoutput(compile_command)\n",
    "        print(cc)\n",
    "\n",
    "        remove = 'del ' + temp_file_name\n",
    "        remove = subprocess.getstatusoutput(remove)\n",
    "        print(remove)\n",
    "    except:\n",
    "        print('Invalid file')\n",
    "\n",
    "\n"
   ]
  },
  {
   "cell_type": "code",
   "execution_count": null,
   "metadata": {
    "tags": [
     "outputPrepend"
    ]
   },
   "outputs": [],
   "source": [
    "#get py scripts and generate executable from them\n",
    "suffix = 'py'\n",
    "indexes = df.loc[df.isin([suffix]).any(axis=1)].index.tolist()\n",
    "print(str(indexes))\n",
    "os.chdir('C:\\\\Users\\\\matti\\\\Desktop\\\\Magistrale\\\\tesi\\\\poc_detection\\\\temp_dir')\n",
    "\n",
    "# os.chdir('C:\\\\Users\\\\matti\\\\Desktop\\\\Magistrale\\\\tesi\\\\poc_detection\\\\temp_dir')\n",
    "\"\"\" pip_install = 'pip install pyinstaller'\n",
    "pip_install = subprocess.getstatusoutput(pip_install)\n",
    "print(pip_install) \"\"\"\n",
    "#C:\\Python27\n",
    "for n in indexes:\n",
    "    i = n\n",
    "    print('N: ' + str(n))\n",
    "    try:\n",
    "        suffix = '.py'\n",
    "        # python -m PyInstaller --name \"10226\" \"C:\\Users\\matti\\Desktop\\Magistrale\\tesi\\poc_detection\\temp_dir\\10226.py\"\n",
    "        temp_file_name = str(df.iloc[i]['exploit_db_id']) + suffix\n",
    "        temp_file = open(temp_file_name, 'w')\n",
    "        n = temp_file.write(df.iloc[i]['exploit'])\n",
    "        # print(df.iloc[n]['exploit'])\n",
    "        temp_file.close()\n",
    "        generate_exe = 'C:\\\\Python27\\\\python.exe -m PyInstaller --name \\\"' + str(df.iloc[i]['exploit_db_id']) + '\\\" ' + temp_file_name\n",
    "        print(generate_exe)\n",
    "        cc = subprocess.getstatusoutput(generate_exe)\n",
    "        print(cc)\n",
    "        remove = 'del ' + temp_file_name\n",
    "        remove = subprocess.getstatusoutput(remove)\n",
    "        print(remove)\n",
    "        remove = 'del ' + str(df.iloc[i]['exploit_db_id']) + '.spec'\n",
    "        remove = subprocess.getstatusoutput(remove)\n",
    "        print(remove)\n",
    "\n",
    "    except:\n",
    "        print('Invalid file')\n"
   ]
  },
  {
   "cell_type": "code",
   "execution_count": null,
   "metadata": {},
   "outputs": [],
   "source": [
    " #get perl scripts and generate executable from them\n",
    "suffix = 'pl'\n",
    "indexes = df.loc[df.isin([suffix]).any(axis=1)].index.tolist()\n",
    "print(str(indexes))\n",
    "os.chdir('C:\\\\Users\\\\matti\\\\Desktop\\\\Magistrale\\\\tesi\\\\poc_detection\\\\temp_dir')\n",
    "\n",
    "# suffix = '.pl'\n",
    "# # python -m PyInstaller --name \"10226\" \"C:\\Users\\matti\\Desktop\\Magistrale\\tesi\\poc_detection\\temp_dir\\10226.py\"\n",
    "# print(df.iloc[0])\n",
    "# temp_file_name = str(df.iloc[0]['exploit_db_id']) + suffix\n",
    "# temp_file = open(temp_file_name, 'w')\n",
    "# n = temp_file.write(df.iloc[0]['exploit'])\n",
    "# # print(df.iloc[n]['exploit'])\n",
    "# temp_file.close()\n",
    "# generate_exe = 'pp -o ' + str(df.iloc[0]['exploit_db_id']) + '.exe ' + temp_file_name\n",
    "# print(generate_exe)\n",
    "# cc = subprocess.getstatusoutput(generate_exe)\n",
    "# print(cc)\n",
    "# pp -o packed.exe source.pl\n",
    "\n",
    "\n",
    "\n",
    "# os.chdir('C:\\\\Users\\\\matti\\\\Desktop\\\\Magistrale\\\\tesi\\\\poc_detection\\\\temp_dir')\n",
    "\n",
    "for n in indexes:\n",
    "    i = n\n",
    "    print('N: ' + str(n))\n",
    "    try:\n",
    "        suffix = '.pl'\n",
    "        # python -m PyInstaller --name \"10226\" \"C:\\Users\\matti\\Desktop\\Magistrale\\tesi\\poc_detection\\temp_dir\\10226.py\"\n",
    "        temp_file_name = str(df.iloc[i]['exploit_db_id']) + suffix\n",
    "        temp_file = open(temp_file_name, 'w')\n",
    "        n = temp_file.write(df.iloc[i]['exploit'])\n",
    "        # print(df.iloc[n]['exploit'])\n",
    "        temp_file.close()\n",
    "        generate_exe = 'pp -o ' + str(df.iloc[i]['exploit_db_id']) + '.exe ' + temp_file_name\n",
    "        print(generate_exe)\n",
    "        cc = subprocess.getstatusoutput(generate_exe)\n",
    "        print(cc)\n",
    "        remove = 'del ' + temp_file_name\n",
    "        remove = subprocess.getstatusoutput(remove)\n",
    "        print(remove)\n",
    "    except:\n",
    "        print('Invalid file')"
   ]
  },
  {
   "cell_type": "code",
   "execution_count": null,
   "metadata": {
    "tags": [
     "outputPrepend"
    ]
   },
   "outputs": [],
   "source": [
    "# ocra text-creator.rb --no-dep-run\n",
    "# get ruby scripts and generate executable from them\n",
    "suffix = 'rb'\n",
    "indexes = df.loc[df.isin([suffix]).any(axis=1)].index.tolist()\n",
    "print(str(indexes))\n",
    "os.chdir('C:\\\\Users\\\\matti\\\\Desktop\\\\Magistrale\\\\tesi\\\\poc_detection\\\\temp_dir')\n",
    "\n",
    "for n in indexes:\n",
    "    i = n\n",
    "    print('N: ' + str(n))\n",
    "    try:\n",
    "        suffix = '.rb'\n",
    "        temp_file_name = str(df.iloc[i]['exploit_db_id']) + suffix\n",
    "        temp_file = open(temp_file_name, 'w')\n",
    "        n = temp_file.write(df.iloc[i]['exploit'])\n",
    "        temp_file.close()\n",
    "        generate_exe = 'ocra ' + temp_file_name + ' --no-dep-run'\n",
    "        print(generate_exe)\n",
    "        cc = subprocess.getstatusoutput(generate_exe)\n",
    "        print(cc)\n",
    "        remove = 'del ' + temp_file_name\n",
    "        remove = subprocess.getstatusoutput(remove)\n",
    "        print(remove)\n",
    "    except:\n",
    "        print('Invalid file')"
   ]
  },
  {
   "cell_type": "code",
   "execution_count": null,
   "metadata": {},
   "outputs": [],
   "source": [
    "suffix = 'txt'\n",
    "indexes = df.loc[df.isin([suffix]).any(axis=1)].index.tolist()\n",
    "print(str(indexes))\n",
    "print(df.iloc[1510]['exploit'])\n"
   ]
  },
  {
   "cell_type": "code",
   "execution_count": null,
   "metadata": {},
   "outputs": [],
   "source": [
    "# print(df['type_of_exploit'].apply(lambda col: col.unique()))\n",
    "# df\n",
    "print(df['type_of_exploit'].unique())\n",
    "print(df['type_of_exploit'].value_counts())\n"
   ]
  },
  {
   "cell_type": "code",
   "execution_count": null,
   "metadata": {
    "tags": [
     "outputPrepend"
    ]
   },
   "outputs": [],
   "source": [
    "# Get assembly file from exe\n",
    "os.chdir('C:\\\\Users\\\\matti\\\\Desktop\\\\Magistrale\\\\tesi\\\\poc_detection\\\\temp_dir')\n",
    "target_dir = 'C:\\\\Users\\\\matti\\\\Desktop\\\\Magistrale\\\\tesi\\\\poc_detection\\\\temp_dir\\\\assembly'\n",
    "for entry in os.scandir('C:\\\\Users\\\\matti\\\\Desktop\\\\Magistrale\\\\tesi\\\\poc_detection\\\\temp_dir'):\n",
    "    if (entry.path.endswith(\".exe\")):\n",
    "        name = entry.path.split('.')[0].split('\\\\')[8]\n",
    "        try:\n",
    "            generate_assembly = 'dumpbin /DISASM ' + entry.path + ' > assembly\\\\' + name + '.s'\n",
    "            print(generate_assembly)\n",
    "            cc = subprocess.getstatusoutput(generate_assembly)\n",
    "            print(cc)\n",
    "        except:\n",
    "            print(entry.path + ' INVALID ENTRY')"
   ]
  },
  {
   "cell_type": "code",
   "execution_count": null,
   "metadata": {
    "tags": [
     "outputPrepend"
    ]
   },
   "outputs": [],
   "source": [
    "# Get assembly from build folder\n",
    "source_dir = 'C:\\\\Users\\\\matti\\\\Desktop\\\\Magistrale\\\\tesi\\\\poc_detection\\\\temp_dir\\\\build'\n",
    "target_dir = 'C:\\\\Users\\\\matti\\\\Desktop\\\\Magistrale\\\\tesi\\\\poc_detection\\\\temp_dir\\\\assembly'\n",
    "os.chdir(source_dir)\n",
    "count = 0\n",
    "for entry in os.scandir(source_dir):\n",
    "    print(entry.path)\n",
    "    for e in os.scandir(entry.path):\n",
    "        if(e.path.endswith('.exe')):\n",
    "            name = e.path.split('.')[0].split('\\\\')[10]\n",
    "            count = count + 1\n",
    "            try:\n",
    "                generate_assembly = 'dumpbin /DISASM ' + e.path + ' > ' + target_dir +'\\\\' + name + '.s'\n",
    "                print(generate_assembly)\n",
    "                cc = subprocess.getstatusoutput(generate_assembly)\n",
    "                print(cc)\n",
    "            except:\n",
    "                print(entry.path + ' INVALID ENTRY')\n",
    "        # print(entry.path.split('.')[0].split('\\\\'))\n",
    "print(count)"
   ]
  }
 ]
}