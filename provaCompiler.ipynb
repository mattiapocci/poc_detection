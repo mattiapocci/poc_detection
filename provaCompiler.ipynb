{
 "metadata": {
  "language_info": {
   "codemirror_mode": {
    "name": "ipython",
    "version": 3
   },
   "file_extension": ".py",
   "mimetype": "text/x-python",
   "name": "python",
   "nbconvert_exporter": "python",
   "pygments_lexer": "ipython3",
   "version": "3.9.4-final"
  },
  "orig_nbformat": 2,
  "kernelspec": {
   "name": "python394jvsc74a57bd0a0ded08c67edfe2a4354d36b10e2f98b3ecfce6631b76726d618bad84dd97c1f",
   "display_name": "Python 3.9.4 64-bit"
  },
  "metadata": {
   "interpreter": {
    "hash": "a0ded08c67edfe2a4354d36b10e2f98b3ecfce6631b76726d618bad84dd97c1f"
   }
  }
 },
 "nbformat": 4,
 "nbformat_minor": 2,
 "cells": [
  {
   "cell_type": "code",
   "execution_count": null,
   "metadata": {},
   "outputs": [],
   "source": [
    "import subprocess\n",
    "import os\n",
    "from pprint import pprint\n",
    "import json\n",
    "import pandas as pd\n",
    "print('done')"
   ]
  },
  {
   "cell_type": "code",
   "execution_count": null,
   "metadata": {},
   "outputs": [],
   "source": [
    "# df = pd.read_csv('/home/mattia/Downloads/cve_with_exploits.csv')\n",
    "df = pd.read_csv('datasets/cve_with_exploits.csv')\n",
    "print(df)"
   ]
  },
  {
   "cell_type": "code",
   "execution_count": null,
   "metadata": {
    "tags": []
   },
   "outputs": [],
   "source": [
    "suffix = 'c'\n",
    "indexes = df.loc[df.isin([suffix]).any(axis=1)].index.tolist()\n",
    "print(str(indexes))\n",
    "print(df.loc[[7]])\n",
    "#for n in indexes:\n",
    "#    print((df.iloc[n]['exploit']))\n",
    "#df.iloc[n], with n in indexes, to get exploit with suffix extension"
   ]
  },
  {
   "cell_type": "code",
   "execution_count": null,
   "metadata": {
    "tags": [
     "outputPrepend"
    ]
   },
   "outputs": [],
   "source": [
    "#Compile all c codes to get assembly files .s\n",
    "\n",
    "ls = \"ls\"\n",
    "ls = subprocess.getstatusoutput(ls)[1]\n",
    "print(ls.split('\\n'))\n",
    "os.chdir('C:\\\\Users\\\\matti\\\\Desktop\\\\Magistrale\\\\tesi\\\\poc_detection\\\\temp_dir')\n",
    "\n",
    "for n in indexes:\n",
    "    i = n\n",
    "    print('N: ' + str(n))\n",
    "    # tempdir = 'temp_dir\\\\'\n",
    "    try:\n",
    "        suffix = '.c'\n",
    "        temp_file_name = str(df.iloc[i]['exploit_db_id']) + suffix\n",
    "        print('Temp file name: ' + temp_file_name)\n",
    "        temp_file = open(temp_file_name, 'w')\n",
    "        n = temp_file.write(df.iloc[i]['exploit'])\n",
    "        # print(df.iloc[n]['exploit'])\n",
    "        temp_file.close()\n",
    "        # assembly_temp = tempdir + str(df.iloc[i]['exploit_db_id']) + '.s'\n",
    "    \n",
    "        vcvars = '\\\"C:\\\\Program Files (x86)\\\\Microsoft Visual Studio\\\\2019\\\\BuildTools\\\\VC\\\\Auxiliary\\\\Build\\\\vcvars64\\\"'\n",
    "        # vcvars = 'vcvars64'\n",
    "        # print(vcvars)\n",
    "        compile_command = vcvars + ' && cl ' + temp_file_name + ' /Fa'\n",
    "        # compile_command = vcvars + ' && cl \\'' + temp_file_name + '\\' /Fa'\n",
    "        #compile_command = 'gcc -S -o ' + assembly_temp +' ' + temp_file_name\n",
    "        print(compile_command)\n",
    "\n",
    "        cc = subprocess.getstatusoutput(compile_command)\n",
    "        print(cc)\n",
    "        remove = 'del ' + temp_file_name\n",
    "        remove = subprocess.getstatusoutput(remove)\n",
    "        print(remove)\n",
    "    except:\n",
    "        print('Invalid file')\n",
    "\n",
    "    \n",
    "'''\n",
    "for n in indexes:\n",
    "    print((df.iloc[n]['exploit']))\n",
    "'''\n",
    "\n",
    "\n"
   ]
  },
  {
   "cell_type": "code",
   "execution_count": null,
   "metadata": {
    "tags": [
     "outputPrepend"
    ]
   },
   "outputs": [],
   "source": [
    "#Compile all cpp codes to get assembly files .s\n",
    "\n",
    "suffix = 'cpp'\n",
    "indexes = df.loc[df.isin([suffix]).any(axis=1)].index.tolist()\n",
    "print(str(indexes))\n",
    "os.chdir('C:\\\\Users\\\\matti\\\\Desktop\\\\Magistrale\\\\tesi\\\\poc_detection\\\\temp_dir')\n",
    "\n",
    "\n",
    "\"\"\" ls = \"ls\"\n",
    "ls = subprocess.getstatusoutput(ls)[1]\n",
    "print(ls.split('\\n')) \"\"\"\n",
    "\n",
    "for n in indexes:\n",
    "    i = n\n",
    "    print('N: ' + str(n))\n",
    "    try:\n",
    "        suffix = '.cpp'\n",
    "        temp_file_name = str(df.iloc[i]['exploit_db_id']) + suffix\n",
    "        temp_file = open(temp_file_name, 'w')\n",
    "        n = temp_file.write(df.iloc[i]['exploit'])\n",
    "        # print(df.iloc[n]['exploit'])\n",
    "        temp_file.close()\n",
    "        # assembly_temp = tempdir + str(df.iloc[i]['exploit_db_id']) + '.s'\n",
    "        vcvars = '\\\"C:\\\\Program Files (x86)\\\\Microsoft Visual Studio\\\\2019\\\\BuildTools\\\\VC\\\\Auxiliary\\\\Build\\\\vcvars64\\\"'\n",
    "        compile_command = vcvars + ' && cl ' + temp_file_name + ' /Fa'\n",
    "        print(compile_command)\n",
    "\n",
    "        cc = subprocess.getstatusoutput(compile_command)\n",
    "        print(cc)\n",
    "\n",
    "        remove = 'del ' + temp_file_name\n",
    "        remove = subprocess.getstatusoutput(remove)\n",
    "        print(remove)\n",
    "    except:\n",
    "        print('Invalid file')\n",
    "\n",
    "\n"
   ]
  },
  {
   "cell_type": "code",
   "execution_count": null,
   "metadata": {
    "tags": [
     "outputPrepend"
    ]
   },
   "outputs": [],
   "source": [
    "#get py scripts and generate executable from them\n",
    "suffix = 'py'\n",
    "indexes = df.loc[df.isin([suffix]).any(axis=1)].index.tolist()\n",
    "print(str(indexes))\n",
    "os.chdir('C:\\\\Users\\\\matti\\\\Desktop\\\\Magistrale\\\\tesi\\\\poc_detection\\\\temp_dir')\n",
    "\n",
    "# os.chdir('C:\\\\Users\\\\matti\\\\Desktop\\\\Magistrale\\\\tesi\\\\poc_detection\\\\temp_dir')\n",
    "\"\"\" pip_install = 'pip install pyinstaller'\n",
    "pip_install = subprocess.getstatusoutput(pip_install)\n",
    "print(pip_install) \"\"\"\n",
    "#C:\\Python27\n",
    "for n in indexes:\n",
    "    i = n\n",
    "    print('N: ' + str(n))\n",
    "    try:\n",
    "        suffix = '.py'\n",
    "        # python -m PyInstaller --name \"10226\" \"C:\\Users\\matti\\Desktop\\Magistrale\\tesi\\poc_detection\\temp_dir\\10226.py\"\n",
    "        temp_file_name = str(df.iloc[i]['exploit_db_id']) + suffix\n",
    "        temp_file = open(temp_file_name, 'w')\n",
    "        n = temp_file.write(df.iloc[i]['exploit'])\n",
    "        # print(df.iloc[n]['exploit'])\n",
    "        temp_file.close()\n",
    "        generate_exe = 'C:\\\\Python27\\\\python.exe -m PyInstaller --name \\\"' + str(df.iloc[i]['exploit_db_id']) + '\\\" ' + temp_file_name\n",
    "        print(generate_exe)\n",
    "        cc = subprocess.getstatusoutput(generate_exe)\n",
    "        print(cc)\n",
    "        remove = 'del ' + temp_file_name\n",
    "        remove = subprocess.getstatusoutput(remove)\n",
    "        print(remove)\n",
    "        remove = 'del ' + str(df.iloc[i]['exploit_db_id']) + '.spec'\n",
    "        remove = subprocess.getstatusoutput(remove)\n",
    "        print(remove)\n",
    "\n",
    "    except:\n",
    "        print('Invalid file')\n",
    "\n",
    "\n",
    "\n",
    "\"\"\" \n",
    "for n in indexes:\n",
    "    i = n\n",
    "    print('N: ' + str(n))\n",
    "    try:\n",
    "        suffix = '.py'\n",
    "        temp_file_name = str(df.iloc[i]['exploit_db_id']) + suffix\n",
    "        temp_file = open(temp_file_name, 'w')\n",
    "        n = temp_file.write(df.iloc[i]['exploit'])\n",
    "        # print(df.iloc[n]['exploit'])\n",
    "        temp_file.close()\n",
    "        # assembly_temp = tempdir + str(df.iloc[i]['exploit_db_id']) + '.s'\n",
    "\n",
    "        #INSERT HERE CORRECT COMMAND\n",
    "\n",
    "        vcvars = '\\\"C:\\\\Program Files (x86)\\\\Microsoft Visual Studio\\\\2019\\\\BuildTools\\\\VC\\\\Auxiliary\\\\Build\\\\vcvars64\\\"'\n",
    "        compile_command = vcvars + ' && cl ' + temp_file_name + ' /Fa'\n",
    "        print(compile_command)\n",
    "\n",
    "        cc = subprocess.getstatusoutput(compile_command)\n",
    "        print(cc)\n",
    "\n",
    "        remove = 'del ' + temp_file_name\n",
    "        remove = subprocess.getstatusoutput(remove)\n",
    "        print(remove)\n",
    "    except:\n",
    "        print('Invalid file')\n",
    "\n",
    " \"\"\"\n"
   ]
  },
  {
   "cell_type": "code",
   "execution_count": null,
   "metadata": {},
   "outputs": [],
   "source": [
    " #get perl scripts and generate executable from them\n",
    "suffix = 'pl'\n",
    "indexes = df.loc[df.isin([suffix]).any(axis=1)].index.tolist()\n",
    "print(str(indexes))\n",
    "os.chdir('C:\\\\Users\\\\matti\\\\Desktop\\\\Magistrale\\\\tesi\\\\poc_detection\\\\temp_dir')\n",
    "\n",
    "# suffix = '.pl'\n",
    "# # python -m PyInstaller --name \"10226\" \"C:\\Users\\matti\\Desktop\\Magistrale\\tesi\\poc_detection\\temp_dir\\10226.py\"\n",
    "# print(df.iloc[0])\n",
    "# temp_file_name = str(df.iloc[0]['exploit_db_id']) + suffix\n",
    "# temp_file = open(temp_file_name, 'w')\n",
    "# n = temp_file.write(df.iloc[0]['exploit'])\n",
    "# # print(df.iloc[n]['exploit'])\n",
    "# temp_file.close()\n",
    "# generate_exe = 'pp -o ' + str(df.iloc[0]['exploit_db_id']) + '.exe ' + temp_file_name\n",
    "# print(generate_exe)\n",
    "# cc = subprocess.getstatusoutput(generate_exe)\n",
    "# print(cc)\n",
    "# pp -o packed.exe source.pl\n",
    "\n",
    "\n",
    "\n",
    "# os.chdir('C:\\\\Users\\\\matti\\\\Desktop\\\\Magistrale\\\\tesi\\\\poc_detection\\\\temp_dir')\n",
    "\n",
    "for n in indexes:\n",
    "    i = n\n",
    "    print('N: ' + str(n))\n",
    "    try:\n",
    "        suffix = '.pl'\n",
    "        # python -m PyInstaller --name \"10226\" \"C:\\Users\\matti\\Desktop\\Magistrale\\tesi\\poc_detection\\temp_dir\\10226.py\"\n",
    "        temp_file_name = str(df.iloc[i]['exploit_db_id']) + suffix\n",
    "        temp_file = open(temp_file_name, 'w')\n",
    "        n = temp_file.write(df.iloc[i]['exploit'])\n",
    "        # print(df.iloc[n]['exploit'])\n",
    "        temp_file.close()\n",
    "        generate_exe = 'pp -o ' + str(df.iloc[i]['exploit_db_id']) + '.exe ' + temp_file_name\n",
    "        print(generate_exe)\n",
    "        cc = subprocess.getstatusoutput(generate_exe)\n",
    "        print(cc)\n",
    "        remove = 'del ' + temp_file_name\n",
    "        remove = subprocess.getstatusoutput(remove)\n",
    "        print(remove)\n",
    "    except:\n",
    "        print('Invalid file')"
   ]
  },
  {
   "cell_type": "code",
   "execution_count": null,
   "metadata": {
    "tags": [
     "outputPrepend"
    ]
   },
   "outputs": [],
   "source": [
    "# ocra text-creator.rb --no-dep-run\n",
    "# get ruby scripts and generate executable from them\n",
    "suffix = 'rb'\n",
    "indexes = df.loc[df.isin([suffix]).any(axis=1)].index.tolist()\n",
    "print(str(indexes))\n",
    "os.chdir('C:\\\\Users\\\\matti\\\\Desktop\\\\Magistrale\\\\tesi\\\\poc_detection\\\\temp_dir')\n",
    "\n",
    "for n in indexes:\n",
    "    i = n\n",
    "    print('N: ' + str(n))\n",
    "    try:\n",
    "        suffix = '.rb'\n",
    "        temp_file_name = str(df.iloc[i]['exploit_db_id']) + suffix\n",
    "        temp_file = open(temp_file_name, 'w')\n",
    "        n = temp_file.write(df.iloc[i]['exploit'])\n",
    "        temp_file.close()\n",
    "        generate_exe = 'ocra ' + temp_file_name + ' --no-dep-run'\n",
    "        print(generate_exe)\n",
    "        cc = subprocess.getstatusoutput(generate_exe)\n",
    "        print(cc)\n",
    "        remove = 'del ' + temp_file_name\n",
    "        remove = subprocess.getstatusoutput(remove)\n",
    "        print(remove)\n",
    "    except:\n",
    "        print('Invalid file')"
   ]
  },
  {
   "cell_type": "code",
   "execution_count": null,
   "metadata": {},
   "outputs": [],
   "source": [
    "suffix = 'txt'\n",
    "indexes = df.loc[df.isin([suffix]).any(axis=1)].index.tolist()\n",
    "print(str(indexes))\n",
    "print(df.iloc[1510]['exploit'])\n"
   ]
  },
  {
   "cell_type": "code",
   "execution_count": null,
   "metadata": {},
   "outputs": [],
   "source": [
    "# print(df['type_of_exploit'].apply(lambda col: col.unique()))\n",
    "# df\n",
    "print(df['type_of_exploit'].unique())\n",
    "print(df['type_of_exploit'].value_counts())\n"
   ]
  },
  {
   "cell_type": "code",
   "execution_count": null,
   "metadata": {
    "tags": [
     "outputPrepend"
    ]
   },
   "outputs": [],
   "source": [
    "# Get assembly file from exe\n",
    "os.chdir('C:\\\\Users\\\\matti\\\\Desktop\\\\Magistrale\\\\tesi\\\\poc_detection\\\\temp_dir')\n",
    "target_dir = 'C:\\\\Users\\\\matti\\\\Desktop\\\\Magistrale\\\\tesi\\\\poc_detection\\\\temp_dir\\\\assembly'\n",
    "for entry in os.scandir('C:\\\\Users\\\\matti\\\\Desktop\\\\Magistrale\\\\tesi\\\\poc_detection\\\\temp_dir'):\n",
    "    if (entry.path.endswith(\".exe\")):\n",
    "        name = entry.path.split('.')[0].split('\\\\')[8]\n",
    "        try:\n",
    "            generate_assembly = 'dumpbin /DISASM ' + entry.path + ' > assembly\\\\' + name + '.s'\n",
    "            print(generate_assembly)\n",
    "            cc = subprocess.getstatusoutput(generate_assembly)\n",
    "            print(cc)\n",
    "        except:\n",
    "            print(entry.path + ' INVALID ENTRY')"
   ]
  },
  {
   "cell_type": "code",
   "execution_count": null,
   "metadata": {
    "tags": [
     "outputPrepend"
    ]
   },
   "outputs": [],
   "source": [
    "# Get assembly from build folder\n",
    "source_dir = 'C:\\\\Users\\\\matti\\\\Desktop\\\\Magistrale\\\\tesi\\\\poc_detection\\\\temp_dir\\\\build'\n",
    "target_dir = 'C:\\\\Users\\\\matti\\\\Desktop\\\\Magistrale\\\\tesi\\\\poc_detection\\\\temp_dir\\\\assembly'\n",
    "os.chdir(source_dir)\n",
    "count = 0\n",
    "for entry in os.scandir(source_dir):\n",
    "    print(entry.path)\n",
    "    for e in os.scandir(entry.path):\n",
    "        if(e.path.endswith('.exe')):\n",
    "            name = e.path.split('.')[0].split('\\\\')[10]\n",
    "            count = count + 1\n",
    "            try:\n",
    "                generate_assembly = 'dumpbin /DISASM ' + e.path + ' > ' + target_dir +'\\\\' + name + '.s'\n",
    "                print(generate_assembly)\n",
    "                cc = subprocess.getstatusoutput(generate_assembly)\n",
    "                print(cc)\n",
    "            except:\n",
    "                print(entry.path + ' INVALID ENTRY')\n",
    "        # print(entry.path.split('.')[0].split('\\\\'))\n",
    "print(count)"
   ]
  }
 ]
}