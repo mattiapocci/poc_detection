{
 "metadata": {
  "language_info": {
   "codemirror_mode": {
    "name": "ipython",
    "version": 3
   },
   "file_extension": ".py",
   "mimetype": "text/x-python",
   "name": "python",
   "nbconvert_exporter": "python",
   "pygments_lexer": "ipython3",
   "version": "3.8.0-final"
  },
  "orig_nbformat": 2,
  "kernelspec": {
   "name": "python380jvsc74a57bd0c93eb79a4de8b813ee462aca0ebe18c208a4748341e878e931952cb4f431f726",
   "display_name": "Python 3.8.0 64-bit"
  }
 },
 "nbformat": 4,
 "nbformat_minor": 2,
 "cells": [
  {
   "cell_type": "code",
   "execution_count": 1,
   "metadata": {},
   "outputs": [
    {
     "output_type": "stream",
     "name": "stdout",
     "text": [
      "done\n"
     ]
    }
   ],
   "source": [
    "import subprocess\n",
    "import os\n",
    "from pprint import pprint\n",
    "import json\n",
    "import pandas as pd\n",
    "print('done')"
   ]
  },
  {
   "cell_type": "code",
   "execution_count": 2,
   "metadata": {},
   "outputs": [
    {
     "output_type": "stream",
     "name": "stdout",
     "text": [
      "      exploit_db_id                        cve_id  \\\n0             10102                 CVE-2009-4186   \n1             10201                 CVE-2009-4781   \n2             10226                 CVE-2009-4097   \n3             10258                 CVE-2009-4194   \n4             10484                 CVE-2009-4452   \n...             ...                           ...   \n2300           9705                 CVE-2009-4663   \n2301           9707                 CVE-2009-4659   \n2302           9717   CVE-2009-4657 CVE-2009-4658   \n2303           9734                 CVE-2009-4661   \n2304            983                 CVE-2005-1667   \n\n                                                exploit type_of_exploit  \n0     #!/usr/bin/perl\\n# ithinkthereforeiexist.pl\\n#...              pl  \n1     #!/usr/bin/perl\\n\\n# Exploit: TEKUVA Password ...              pl  \n2     #!/usr/bin/python\\n#\\n# ######################...              py  \n3     # Exploit Title: [Golden FTP Server File Delet...              pl  \n4     ShineShadow Security Report 16122009-15\\n\\nTIT...             txt  \n...                                                 ...             ...  \n2300  <html>\\n <head>\\n    <!--\\n      -- Quiksoft E...            html  \n2301  #!/usr/bin/perl\\n#############################...              pl  \n2302  ##############################################...             txt  \n2303  #!/usr/bin/env python\\n\\n#####################...              py  \n2304  /*\\n\\nDataTrac Activity Console DoS Exploit\\n-...             cpp  \n\n[2305 rows x 4 columns]\n"
     ]
    }
   ],
   "source": [
    "# df = pd.read_csv('/home/mattia/Downloads/cve_with_exploits.csv')\n",
    "df = pd.read_csv('datasets/cve_with_exploits.csv')\n",
    "print(df)"
   ]
  },
  {
   "cell_type": "code",
   "execution_count": 3,
   "metadata": {
    "tags": []
   },
   "outputs": [
    {
     "output_type": "stream",
     "name": "stdout",
     "text": [
      "[7, 12, 30, 34, 35, 37, 50, 54, 55, 76, 77, 78, 79, 80, 81, 82, 83, 84, 85, 86, 87, 88, 93, 94, 95, 96, 97, 98, 99, 100, 101, 102, 103, 104, 105, 106, 107, 108, 109, 110, 111, 112, 113, 114, 150, 157, 165, 167, 177, 178, 179, 221, 239, 247, 259, 330, 332, 342, 343, 344, 348, 355, 357, 360, 377, 380, 383, 384, 391, 392, 407, 411, 412, 413, 415, 416, 418, 427, 434, 467, 468, 491, 509, 517, 525, 528, 540, 582, 583, 590, 591, 594, 595, 597, 598, 599, 600, 612, 618, 630, 634, 644, 645, 647, 648, 651, 652, 689, 692, 693, 694, 698, 699, 714, 791, 792, 814, 825, 910, 920, 944, 988, 995, 1000, 1018, 1037, 1051, 1052, 1077, 1107, 1125, 1195, 1218, 1237, 1239, 1266, 1267, 1275, 1276, 1336, 1376, 1381, 1383, 1385, 1409, 1481, 1485, 1486, 1520, 1557, 1585, 1596, 1598, 1621, 1669, 1705, 1711, 1723, 1725, 1729, 1744, 1750, 1754, 1755, 1756, 1757, 1781, 1789, 1808, 1835, 1839, 1845, 1847, 1854, 1855, 1860, 1865, 1866, 1897, 1901, 1905, 1907, 1920, 1929, 1961, 1978, 2059, 2079, 2093, 2111, 2123, 2172, 2183, 2189, 2202, 2203]\n   exploit_db_id          cve_id  \\\n7          10745   CVE-2009-5109   \n\n                                             exploit type_of_exploit  \n7  /*\\n\\nriptheministreamripper.c\\n\\nMini-stream ...               c  \n"
     ]
    }
   ],
   "source": [
    "suffix = 'c'\n",
    "indexes = df.loc[df.isin([suffix]).any(axis=1)].index.tolist()\n",
    "print(str(indexes))\n",
    "print(df.loc[[7]])\n",
    "#for n in indexes:\n",
    "#    print((df.iloc[n]['exploit']))\n",
    "#df.iloc[n], with n in indexes, to get exploit with suffix extension"
   ]
  },
  {
   "cell_type": "code",
   "execution_count": 4,
   "metadata": {
    "tags": [
     "outputPrepend"
    ]
   },
   "outputs": [
    {
     "output_type": "stream",
     "name": "stdout",
     "text": [
      "**********************************************\\n** Visual Studio 2019 Developer Command Prompt v16.9.3\\n** Copyright (c) 2021 Microsoft Corporation\\n**********************************************************************\\n[vcvarsall.bat] Environment initialized for: 'x64'\\nMicrosoft (R) C/C++ Optimizing Compiler versione 19.28.29913 per x64\\nCopyright (C) Microsoft Corporation. Tutti i diritti  sono riservati.\\n\\n6458.c\\n6458.c(20): fatal error C1083: Non Š possibile aprire il file inclusione: 'sys/socket.h': No such file or directory\")\n",
      "(0, '')\n",
      "N: 1905\n",
      "Temp file name: 6498.c\n",
      "\"C:\\Program Files (x86)\\Microsoft Visual Studio\\2019\\BuildTools\\VC\\Auxiliary\\Build\\vcvars64\" && cl 6498.c /Fa\n",
      "(2, \"**********************************************************************\\n** Visual Studio 2019 Developer Command Prompt v16.9.3\\n** Copyright (c) 2021 Microsoft Corporation\\n**********************************************************************\\n[vcvarsall.bat] Environment initialized for: 'x64'\\nMicrosoft (R) C/C++ Optimizing Compiler versione 19.28.29913 per x64\\nCopyright (C) Microsoft Corporation. Tutti i diritti  sono riservati.\\n\\n6498.c\\n6498.c(66): warning C4477: 'fprintf': con la stringa di formato '%d' Š necessario un argomento di tipo 'int', ma il tipo dell'argomento variadic 1 Š 'HANDLE'\\n6498.c(66): warning C4313: 'fprintf': '%d' nella stringa di formato Š in conflitto con l'argomento 1 di tipo 'HANDLE'\\n6498.c(77): warning C4477: 'printf': con la stringa di formato '%08X' Š necessario un argomento di tipo 'unsigned int', ma il tipo dell'argomento variadic 1 Š 'LPVOID'\\n6498.c(77): warning C4313: 'printf': '%X' nella stringa di formato Š in conflitto con l'argomento 1 di tipo 'LPVOID'\\nMicrosoft (R) Incremental Linker Version 14.28.29913.0\\nCopyright (C) Microsoft Corporation.  All rights reserved.\\n\\n/out:6498.exe \\n6498.obj \\n6498.obj : error LNK2019: riferimento al simbolo esterno sleep non risolto nella funzione main\\n6498.exe : fatal error LNK1120: 1 esterni non risolti\")\n",
      "(0, '')\n",
      "N: 1907\n",
      "Temp file name: 6515.c\n",
      "\"C:\\Program Files (x86)\\Microsoft Visual Studio\\2019\\BuildTools\\VC\\Auxiliary\\Build\\vcvars64\" && cl 6515.c /Fa\n",
      "(2, \"**********************************************************************\\n** Visual Studio 2019 Developer Command Prompt v16.9.3\\n** Copyright (c) 2021 Microsoft Corporation\\n**********************************************************************\\n[vcvarsall.bat] Environment initialized for: 'x64'\\nMicrosoft (R) C/C++ Optimizing Compiler versione 19.28.29913 per x64\\nCopyright (C) Microsoft Corporation. Tutti i diritti  sono riservati.\\n\\n6515.c\\n6515.c(28): warning C4142: 'NTSTATUS': ridefinizione di tipo sicura\\nC:\\\\Program Files (x86)\\\\Windows Kits\\\\10\\\\include\\\\10.0.19041.0\\\\shared\\\\bcrypt.h(39): note: vedere la dichiarazione di 'NTSTATUS'\\nMicrosoft (R) Incremental Linker Version 14.28.29913.0\\nCopyright (C) Microsoft Corporation.  All rights reserved.\\n\\n/out:6515.exe \\n6515.obj \\n6515.obj : error LNK2019: riferimento al simbolo esterno __imp_RtlInitUnicodeString non risolto nella funzione main\\n6515.obj : error LNK2019: riferimento al simbolo esterno __imp_RtlFreeUnicodeString non risolto nella funzione main\\n6515.obj : error LNK2019: riferimento al simbolo esterno __imp_NtCreateFile non risolto nella funzione main\\n6515.obj : error LNK2019: riferimento al simbolo esterno __imp_NtDeviceIoControlFile non risolto nella funzione main\\n6515.obj : error LNK2019: riferimento al simbolo esterno __imp_NtClose non risolto nella funzione main\\n6515.obj : error LNK2019: riferimento al simbolo esterno __imp_NtDelayExecution non risolto nella funzione main\\n6515.exe : fatal error LNK1120: 6 esterni non risolti\")\n",
      "(0, '')\n",
      "N: 1920\n",
      "Temp file name: 6647.c\n",
      "\"C:\\Program Files (x86)\\Microsoft Visual Studio\\2019\\BuildTools\\VC\\Auxiliary\\Build\\vcvars64\" && cl 6647.c /Fa\n",
      "(2, \"**********************************************************************\\n** Visual Studio 2019 Developer Command Prompt v16.9.3\\n** Copyright (c) 2021 Microsoft Corporation\\n**********************************************************************\\n[vcvarsall.bat] Environment initialized for: 'x64'\\nMicrosoft (R) C/C++ Optimizing Compiler versione 19.28.29913 per x64\\nCopyright (C) Microsoft Corporation. Tutti i diritti  sono riservati.\\n\\n6647.c\\n6647.c(35): warning C4142: 'NTSTATUS': ridefinizione di tipo sicura\\nC:\\\\Program Files (x86)\\\\Windows Kits\\\\10\\\\include\\\\10.0.19041.0\\\\shared\\\\bcrypt.h(39): note: vedere la dichiarazione di 'NTSTATUS'\\n6647.c(232): warning C4312: 'cast di tipo': conversione da 'unsigned int' a 'PVOID', di dimensioni maggiori\\nMicrosoft (R) Incremental Linker Version 14.28.29913.0\\nCopyright (C) Microsoft Corporation.  All rights reserved.\\n\\n/out:6647.exe \\n6647.obj \\n6647.obj : error LNK2019: riferimento al simbolo esterno __imp_RtlInitUnicodeString non risolto nella funzione main\\n6647.obj : error LNK2019: riferimento al simbolo esterno __imp_NtCreateFile non risolto nella funzione main\\n6647.obj : error LNK2019: riferimento al simbolo esterno __imp_NtDeviceIoControlFile non risolto nella funzione main\\n6647.obj : error LNK2019: riferimento al simbolo esterno __imp_NtDelayExecution non risolto nella funzione main\\n6647.obj : error LNK2019: riferimento al simbolo esterno __imp_NtClose non risolto nella funzione main\\n6647.exe : fatal error LNK1120: 5 esterni non risolti\")\n",
      "(0, '')\n",
      "N: 1929\n",
      "Temp file name: 6671.c\n",
      "\"C:\\Program Files (x86)\\Microsoft Visual Studio\\2019\\BuildTools\\VC\\Auxiliary\\Build\\vcvars64\" && cl 6671.c /Fa\n",
      "(2, \"**********************************************************************\\n** Visual Studio 2019 Developer Command Prompt v16.9.3\\n** Copyright (c) 2021 Microsoft Corporation\\n**********************************************************************\\n[vcvarsall.bat] Environment initialized for: 'x64'\\nMicrosoft (R) C/C++ Optimizing Compiler versione 19.28.29913 per x64\\nCopyright (C) Microsoft Corporation. Tutti i diritti  sono riservati.\\n\\n6671.c\\nMicrosoft (R) Incremental Linker Version 14.28.29913.0\\nCopyright (C) Microsoft Corporation.  All rights reserved.\\n\\n/out:6671.exe \\n6671.obj \\n6671.obj : error LNK2019: riferimento al simbolo esterno __imp_GetStockObject non risolto nella funzione main\\n6671.obj : error LNK2019: riferimento al simbolo esterno __imp_RegisterClassW non risolto nella funzione main\\n6671.obj : error LNK2019: riferimento al simbolo esterno __imp_LoadCursorA non risolto nella funzione main\\n6671.exe : fatal error LNK1120: 3 esterni non risolti\")\n",
      "(0, '')\n",
      "N: 1961\n",
      "Temp file name: 6834.c\n",
      "\"C:\\Program Files (x86)\\Microsoft Visual Studio\\2019\\BuildTools\\VC\\Auxiliary\\Build\\vcvars64\" && cl 6834.c /Fa\n",
      "(2, \"**********************************************************************\\n** Visual Studio 2019 Developer Command Prompt v16.9.3\\n** Copyright (c) 2021 Microsoft Corporation\\n**********************************************************************\\n[vcvarsall.bat] Environment initialized for: 'x64'\\nMicrosoft (R) C/C++ Optimizing Compiler versione 19.28.29913 per x64\\nCopyright (C) Microsoft Corporation. Tutti i diritti  sono riservati.\\n\\n6834.c\\nC:\\\\Program Files (x86)\\\\Microsoft Visual Studio\\\\2019\\\\BuildTools\\\\VC\\\\Tools\\\\MSVC\\\\14.28.29910\\\\include\\\\cstdio(33): error C2061: errore di sintassi: identificatore 'std'\\nC:\\\\Program Files (x86)\\\\Microsoft Visual Studio\\\\2019\\\\BuildTools\\\\VC\\\\Tools\\\\MSVC\\\\14.28.29910\\\\include\\\\cstdio(33): error C2059: errore di sintassi: ';'\\nC:\\\\Program Files (x86)\\\\Microsoft Visual Studio\\\\2019\\\\BuildTools\\\\VC\\\\Tools\\\\MSVC\\\\14.28.29910\\\\include\\\\cstdio(33): error C2449: trovato '{' in ambito file. Si Š omesso di specificare un'intestazione di funzione?\\nC:\\\\Program Files (x86)\\\\Microsoft Visual Studio\\\\2019\\\\BuildTools\\\\VC\\\\Tools\\\\MSVC\\\\14.28.29910\\\\include\\\\cstdio(91): error C2059: errore di sintassi: '}'\\nC:\\\\Program Files (x86)\\\\Windows Kits\\\\10\\\\include\\\\10.0.19041.0\\\\um\\\\winnt.h(1124): warning C4164: '_rotl': funzione intrinseca non dichiarata\\nC:\\\\Program Files (x86)\\\\Windows Kits\\\\10\\\\include\\\\10.0.19041.0\\\\um\\\\winnt.h(1125): warning C4164: '_rotl64': funzione intrinseca non dichiarata\\nC:\\\\Program Files (x86)\\\\Windows Kits\\\\10\\\\include\\\\10.0.19041.0\\\\um\\\\winnt.h(1126): warning C4164: '_rotr': funzione intrinseca non dichiarata\\nC:\\\\Program Files (x86)\\\\Windows Kits\\\\10\\\\include\\\\10.0.19041.0\\\\um\\\\winnt.h(1127): warning C4164: '_rotr64': funzione intrinseca non dichiarata\\n6834.c(89): fatal error C1004: fine del file imprevista\")\n",
      "(0, '')\n",
      "N: 1978\n",
      "Temp file name: 7104.c\n",
      "\"C:\\Program Files (x86)\\Microsoft Visual Studio\\2019\\BuildTools\\VC\\Auxiliary\\Build\\vcvars64\" && cl 7104.c /Fa\n",
      "(2, \"**********************************************************************\\n** Visual Studio 2019 Developer Command Prompt v16.9.3\\n** Copyright (c) 2021 Microsoft Corporation\\n**********************************************************************\\n[vcvarsall.bat] Environment initialized for: 'x64'\\nMicrosoft (R) C/C++ Optimizing Compiler versione 19.28.29913 per x64\\nCopyright (C) Microsoft Corporation. Tutti i diritti  sono riservati.\\n\\n7104.c\\n7104.c(10): fatal error C1083: Non Š possibile aprire il file inclusione: 'stdafx.h': No such file or directory\")\n",
      "(0, '')\n",
      "N: 2059\n",
      "Temp file name: 7974.c\n",
      "\"C:\\Program Files (x86)\\Microsoft Visual Studio\\2019\\BuildTools\\VC\\Auxiliary\\Build\\vcvars64\" && cl 7974.c /Fa\n",
      "(0, \"**********************************************************************\\n** Visual Studio 2019 Developer Command Prompt v16.9.3\\n** Copyright (c) 2021 Microsoft Corporation\\n**********************************************************************\\n[vcvarsall.bat] Environment initialized for: 'x64'\\nMicrosoft (R) C/C++ Optimizing Compiler versione 19.28.29913 per x64\\nCopyright (C) Microsoft Corporation. Tutti i diritti  sono riservati.\\n\\n7974.c\\nMicrosoft (R) Incremental Linker Version 14.28.29913.0\\nCopyright (C) Microsoft Corporation.  All rights reserved.\\n\\n/out:7974.exe \\n7974.obj \")\n",
      "(0, '')\n",
      "N: 2079\n",
      "Temp file name: 8180.c\n",
      "\"C:\\Program Files (x86)\\Microsoft Visual Studio\\2019\\BuildTools\\VC\\Auxiliary\\Build\\vcvars64\" && cl 8180.c /Fa\n",
      "(0, \"**********************************************************************\\n** Visual Studio 2019 Developer Command Prompt v16.9.3\\n** Copyright (c) 2021 Microsoft Corporation\\n**********************************************************************\\n[vcvarsall.bat] Environment initialized for: 'x64'\\nMicrosoft (R) C/C++ Optimizing Compiler versione 19.28.29913 per x64\\nCopyright (C) Microsoft Corporation. Tutti i diritti  sono riservati.\\n\\n8180.c\\nMicrosoft (R) Incremental Linker Version 14.28.29913.0\\nCopyright (C) Microsoft Corporation.  All rights reserved.\\n\\n/out:8180.exe \\n8180.obj \")\n",
      "(0, '')\n",
      "N: 2093\n",
      "Temp file name: 8256.c\n",
      "\"C:\\Program Files (x86)\\Microsoft Visual Studio\\2019\\BuildTools\\VC\\Auxiliary\\Build\\vcvars64\" && cl 8256.c /Fa\n",
      "(2, \"**********************************************************************\\n** Visual Studio 2019 Developer Command Prompt v16.9.3\\n** Copyright (c) 2021 Microsoft Corporation\\n**********************************************************************\\n[vcvarsall.bat] Environment initialized for: 'x64'\\nMicrosoft (R) C/C++ Optimizing Compiler versione 19.28.29913 per x64\\nCopyright (C) Microsoft Corporation. Tutti i diritti  sono riservati.\\n\\n8256.c\\n8256.c(21): fatal error C1083: Non Š possibile aprire il file inclusione: 'unistd.h': No such file or directory\")\n",
      "(0, '')\n",
      "N: 2111\n",
      "Temp file name: 8411.c\n",
      "\"C:\\Program Files (x86)\\Microsoft Visual Studio\\2019\\BuildTools\\VC\\Auxiliary\\Build\\vcvars64\" && cl 8411.c /Fa\n",
      "(0, \"**********************************************************************\\n** Visual Studio 2019 Developer Command Prompt v16.9.3\\n** Copyright (c) 2021 Microsoft Corporation\\n**********************************************************************\\n[vcvarsall.bat] Environment initialized for: 'x64'\\nMicrosoft (R) C/C++ Optimizing Compiler versione 19.28.29913 per x64\\nCopyright (C) Microsoft Corporation. Tutti i diritti  sono riservati.\\n\\n8411.c\\nMicrosoft (R) Incremental Linker Version 14.28.29913.0\\nCopyright (C) Microsoft Corporation.  All rights reserved.\\n\\n/out:8411.exe \\n8411.obj \")\n",
      "(0, '')\n",
      "N: 2123\n",
      "Temp file name: 8452.c\n",
      "\"C:\\Program Files (x86)\\Microsoft Visual Studio\\2019\\BuildTools\\VC\\Auxiliary\\Build\\vcvars64\" && cl 8452.c /Fa\n",
      "(0, \"**********************************************************************\\n** Visual Studio 2019 Developer Command Prompt v16.9.3\\n** Copyright (c) 2021 Microsoft Corporation\\n**********************************************************************\\n[vcvarsall.bat] Environment initialized for: 'x64'\\nMicrosoft (R) C/C++ Optimizing Compiler versione 19.28.29913 per x64\\nCopyright (C) Microsoft Corporation. Tutti i diritti  sono riservati.\\n\\n8452.c\\n8452.c(990): warning C4047: 'inizializzazione': 'DWORD' differisce da 'void *' nei livelli di riferimento indiretto\\n8452.c(1024): warning C4133: 'funzione': tipi non compatibili. Da 'DWORD *' a 'const char *'\\n8452.c(1026): warning C4133: 'funzione': tipi non compatibili. Da 'DWORD *' a 'const char *'\\n8452.c(1028): warning C4047: 'funzione': 'char *' differisce da 'uint8_t (*)[14911]' nei livelli di riferimento indiretto\\n8452.c(1028): warning C4024: 'strncpy': tipi diversi tra il parametro 1 formale e quello effettivo\\nMicrosoft (R) Incremental Linker Version 14.28.29913.0\\nCopyright (C) Microsoft Corporation.  All rights reserved.\\n\\n/out:8452.exe \\n8452.obj \")\n",
      "(0, '')\n",
      "N: 2172\n",
      "Temp file name: 8650.c\n",
      "\"C:\\Program Files (x86)\\Microsoft Visual Studio\\2019\\BuildTools\\VC\\Auxiliary\\Build\\vcvars64\" && cl 8650.c /Fa\n",
      "(2, \"**********************************************************************\\n** Visual Studio 2019 Developer Command Prompt v16.9.3\\n** Copyright (c) 2021 Microsoft Corporation\\n**********************************************************************\\n[vcvarsall.bat] Environment initialized for: 'x64'\\nMicrosoft (R) C/C++ Optimizing Compiler versione 19.28.29913 per x64\\nCopyright (C) Microsoft Corporation. Tutti i diritti  sono riservati.\\n\\n8650.c\\n8650.c(20): fatal error C1083: Non Š possibile aprire il file inclusione: 'unistd.h': No such file or directory\")\n",
      "(0, '')\n",
      "N: 2183\n",
      "Temp file name: 8767.c\n",
      "\"C:\\Program Files (x86)\\Microsoft Visual Studio\\2019\\BuildTools\\VC\\Auxiliary\\Build\\vcvars64\" && cl 8767.c /Fa\n",
      "(0, \"**********************************************************************\\n** Visual Studio 2019 Developer Command Prompt v16.9.3\\n** Copyright (c) 2021 Microsoft Corporation\\n**********************************************************************\\n[vcvarsall.bat] Environment initialized for: 'x64'\\nMicrosoft (R) C/C++ Optimizing Compiler versione 19.28.29913 per x64\\nCopyright (C) Microsoft Corporation. Tutti i diritti  sono riservati.\\n\\n8767.c\\nMicrosoft (R) Incremental Linker Version 14.28.29913.0\\nCopyright (C) Microsoft Corporation.  All rights reserved.\\n\\n/out:8767.exe \\n8767.obj \")\n",
      "(0, '')\n",
      "N: 2189\n",
      "Temp file name: 8783.c\n",
      "\"C:\\Program Files (x86)\\Microsoft Visual Studio\\2019\\BuildTools\\VC\\Auxiliary\\Build\\vcvars64\" && cl 8783.c /Fa\n",
      "(0, \"**********************************************************************\\n** Visual Studio 2019 Developer Command Prompt v16.9.3\\n** Copyright (c) 2021 Microsoft Corporation\\n**********************************************************************\\n[vcvarsall.bat] Environment initialized for: 'x64'\\nMicrosoft (R) C/C++ Optimizing Compiler versione 19.28.29913 per x64\\nCopyright (C) Microsoft Corporation. Tutti i diritti  sono riservati.\\n\\n8783.c\\nMicrosoft (R) Incremental Linker Version 14.28.29913.0\\nCopyright (C) Microsoft Corporation.  All rights reserved.\\n\\n/out:8783.exe \\n8783.obj \")\n",
      "(0, '')\n",
      "N: 2202\n",
      "Temp file name: 8983.c\n",
      "\"C:\\Program Files (x86)\\Microsoft Visual Studio\\2019\\BuildTools\\VC\\Auxiliary\\Build\\vcvars64\" && cl 8983.c /Fa\n",
      "(2, \"**********************************************************************\\n** Visual Studio 2019 Developer Command Prompt v16.9.3\\n** Copyright (c) 2021 Microsoft Corporation\\n**********************************************************************\\n[vcvarsall.bat] Environment initialized for: 'x64'\\nMicrosoft (R) C/C++ Optimizing Compiler versione 19.28.29913 per x64\\nCopyright (C) Microsoft Corporation. Tutti i diritti  sono riservati.\\n\\n8983.c\\n8983.c(220): warning C4477: 'fprintf': con la stringa di formato '%d' Š necessario un argomento di tipo 'int', ma il tipo dell'argomento variadic 1 Š 'HANDLE'\\n8983.c(220): warning C4313: 'fprintf': '%d' nella stringa di formato Š in conflitto con l'argomento 1 di tipo 'HANDLE'\\n8983.c(230): warning C4477: 'printf': con la stringa di formato '%08X' Š necessario un argomento di tipo 'unsigned int', ma il tipo dell'argomento variadic 1 Š 'LPVOID'\\n8983.c(230): warning C4313: 'printf': '%X' nella stringa di formato Š in conflitto con l'argomento 1 di tipo 'LPVOID'\\n8983.c(236): error C2036: 'LPVOID': dimensione sconosciuta\\n8983.c(237): error C2036: 'LPVOID': dimensione sconosciuta\\n8983.c(287): warning C4477: 'printf': con la stringa di formato '%08X' Š necessario un argomento di tipo 'unsigned int', ma il tipo dell'argomento variadic 1 Š 'ioctl_ptr *'\\n8983.c(287): warning C4313: 'printf': '%X' nella stringa di formato Š in conflitto con l'argomento 1 di tipo 'ioctl_ptr *'\\n8983.c(288): warning C4477: 'printf': con la stringa di formato '%08X' Š necessario un argomento di tipo 'unsigned int', ma il tipo dell'argomento variadic 1 Š 'ioctl_ptr *'\\n8983.c(288): warning C4313: 'printf': '%X' nella stringa di formato Š in conflitto con l'argomento 1 di tipo 'ioctl_ptr *'\\n8983.c(288): warning C4477: 'printf': con la stringa di formato '%08X' Š necessario un argomento di tipo 'unsigned int', ma il tipo dell'argomento variadic 2 Š 'ioctl_pid *'\\n8983.c(288): warning C4313: 'printf': '%X' nella stringa di formato Š in conflitto con l'argomento 2 di tipo 'ioctl_pid *'\\n8983.c(288): warning C4477: 'printf': con la stringa di formato '%08X' Š necessario un argomento di tipo 'unsigned int', ma il tipo dell'argomento variadic 3 Š 'ioctl_func *'\\n8983.c(288): warning C4313: 'printf': '%X' nella stringa di formato Š in conflitto con l'argomento 3 di tipo 'ioctl_func *'\\n8983.c(290): warning C4477: 'printf': con la stringa di formato '%08X' Š necessario un argomento di tipo 'unsigned int', ma il tipo dell'argomento variadic 1 Š 'ioctl_func *'\\n8983.c(290): warning C4313: 'printf': '%X' nella stringa di formato Š in conflitto con l'argomento 1 di tipo 'ioctl_func *'\\n8983.c(290): warning C4477: 'printf': con la stringa di formato '%08X' Š necessario un argomento di tipo 'unsigned int', ma il tipo dell'argomento variadic 2 Š 'void *'\\n8983.c(290): warning C4313: 'printf': '%X' nella stringa di formato Š in conflitto con l'argomento 2 di tipo 'void *'\\n8983.c(291): warning C4477: 'printf': con la stringa di formato '%08X' Š necessario un argomento di tipo 'unsigned int', ma il tipo dell'argomento variadic 1 Š 'LPVOID *'\\n8983.c(291): warning C4313: 'printf': '%X' nella stringa di formato Š in conflitto con l'argomento 1 di tipo 'LPVOID *'\\n8983.c(291): warning C4477: 'printf': con la stringa di formato '%08X' Š necessario un argomento di tipo 'unsigned int', ma il tipo dell'argomento variadic 2 Š 'LPVOID'\\n8983.c(291): warning C4313: 'printf': '%X' nella stringa di formato Š in conflitto con l'argomento 2 di tipo 'LPVOID'\")\n",
      "(0, '')\n",
      "N: 2203\n",
      "Temp file name: 9002.c\n",
      "\"C:\\Program Files (x86)\\Microsoft Visual Studio\\2019\\BuildTools\\VC\\Auxiliary\\Build\\vcvars64\" && cl 9002.c /Fa\n",
      "(2, \"**********************************************************************\\n** Visual Studio 2019 Developer Command Prompt v16.9.3\\n** Copyright (c) 2021 Microsoft Corporation\\n**********************************************************************\\n[vcvarsall.bat] Environment initialized for: 'x64'\\nMicrosoft (R) C/C++ Optimizing Compiler versione 19.28.29913 per x64\\nCopyright (C) Microsoft Corporation. Tutti i diritti  sono riservati.\\n\\n9002.c\\n9002.c(27): fatal error C1083: Non Š possibile aprire il file inclusione: 'netinet/in.h': No such file or directory\")\n",
      "(0, '')\n"
     ]
    },
    {
     "output_type": "execute_result",
     "data": {
      "text/plain": [
       "\"\\nfor n in indexes:\\n    print((df.iloc[n]['exploit']))\\n\""
      ]
     },
     "metadata": {},
     "execution_count": 4
    }
   ],
   "source": [
    "#Compile all c codes to get assembly files .s\n",
    "\n",
    "ls = \"ls\"\n",
    "ls = subprocess.getstatusoutput(ls)[1]\n",
    "print(ls.split('\\n'))\n",
    "os.chdir('C:\\\\Users\\\\matti\\\\Desktop\\\\Magistrale\\\\tesi\\\\poc_detection\\\\temp_dir')\n",
    "\n",
    "for n in indexes:\n",
    "    i = n\n",
    "    print('N: ' + str(n))\n",
    "    # tempdir = 'temp_dir\\\\'\n",
    "    try:\n",
    "        tempdir = ''\n",
    "        suffix = '.c'\n",
    "        temp_file_name = tempdir + str(df.iloc[i]['exploit_db_id']) + suffix\n",
    "        print('Temp file name: ' + temp_file_name)\n",
    "        temp_file = open(temp_file_name, 'w')\n",
    "        n = temp_file.write(df.iloc[i]['exploit'])\n",
    "        # print(df.iloc[n]['exploit'])\n",
    "        temp_file.close()\n",
    "        # assembly_temp = tempdir + str(df.iloc[i]['exploit_db_id']) + '.s'\n",
    "    \n",
    "        vcvars = '\\\"C:\\\\Program Files (x86)\\\\Microsoft Visual Studio\\\\2019\\\\BuildTools\\\\VC\\\\Auxiliary\\\\Build\\\\vcvars64\\\"'\n",
    "        # vcvars = 'vcvars64'\n",
    "        # print(vcvars)\n",
    "        compile_command = vcvars + ' && cl ' + temp_file_name + ' /Fa'\n",
    "        # compile_command = vcvars + ' && cl \\'' + temp_file_name + '\\' /Fa'\n",
    "        #compile_command = 'gcc -S -o ' + assembly_temp +' ' + temp_file_name\n",
    "        print(compile_command)\n",
    "\n",
    "        cc = subprocess.getstatusoutput(compile_command)\n",
    "        print(cc)\n",
    "        remove = 'del ' + temp_file_name\n",
    "        remove = subprocess.getstatusoutput(remove)\n",
    "        print(remove)\n",
    "    except:\n",
    "        print('Invalid file')\n",
    "\n",
    "    \n",
    "'''\n",
    "for n in indexes:\n",
    "    print((df.iloc[n]['exploit']))\n",
    "'''\n",
    "\n",
    "\n"
   ]
  },
  {
   "cell_type": "code",
   "execution_count": 66,
   "metadata": {
    "tags": [
     "outputPrepend"
    ]
   },
   "outputs": [
    {
     "output_type": "stream",
     "name": "stdout",
     "text": [
      "36\\\\x32\"\\n      |   ~~~~~~~~~~~~~~~~~~~~~~~~~~~~~~~~~~~~~~~~~~~~~~~~~~~~~~~~~~~~~~~~~~\\n  104 |   \"\\\\x4a\\\\x36\\\\x70\\\\x43\\\\x61\\\\x32\\\\x75\\\\x79\\\\x6f\\\\x4e\\\\x30\\\\x50\\\\x68\\\\x4f\\\\x54\\\\x6e\"\\n      |   ~~~~~~~~~~~~~~~~~~~~~~~~~~~~~~~~~~~~~~~~~~~~~~~~~~~~~~~~~~~~~~~~~~\\n  105 |   \"\\\\x4d\\\\x64\\\\x6e\\\\x6d\\\\x39\\\\x52\\\\x77\\\\x79\\\\x6f\\\\x58\\\\x56\\\\x66\\\\x33\\\\x36\\\\x35\\\\x69\"\\n      |   ~~~~~~~~~~~~~~~~~~~~~~~~~~~~~~~~~~~~~~~~~~~~~~~~~~~~~~~~~~~~~~~~~~\\n  106 |   \"\\\\x6f\\\\x4e\\\\x30\\\\x45\\\\x38\\\\x38\\\\x65\\\\x72\\\\x69\\\\x6b\\\\x36\\\\x77\\\\x39\\\\x33\\\\x67\\\\x79\"\\n      |   ~~~~~~~~~~~~~~~~~~~~~~~~~~~~~~~~~~~~~~~~~~~~~~~~~~~~~~~~~~~~~~~~~~\\n  107 |   \"\\\\x6f\\\\x6e\\\\x36\\\\x70\\\\x50\\\\x31\\\\x44\\\\x62\\\\x74\\\\x73\\\\x65\\\\x6b\\\\x4f\\\\x58\\\\x50\\\\x6d\"\\n      |   ~~~~~~~~~~~~~~~~~~~~~~~~~~~~~~~~~~~~~~~~~~~~~~~~~~~~~~~~~~~~~~~~~~\\n  108 |   \"\\\\x43\\\\x50\\\\x68\\\\x4b\\\\x57\\\\x44\\\\x39\\\\x4f\\\\x36\\\\x64\\\\x39\\\\x71\\\\x47\\\\x6b\\\\x4f\\\\x49\"\\n      |   ~~~~~~~~~~~~~~~~~~~~~~~~~~~~~~~~~~~~~~~~~~~~~~~~~~~~~~~~~~~~~~~~~~\\n  109 |   \"\\\\x46\\\\x63\\\\x65\\\\x6b\\\\x4f\\\\x4a\\\\x70\\\\x71\\\\x76\\\\x50\\\\x6a\\\\x50\\\\x64\\\\x50\\\\x66\\\\x70\"\\n      |   ~~~~~~~~~~~~~~~~~~~~~~~~~~~~~~~~~~~~~~~~~~~~~~~~~~~~~~~~~~~~~~~~~~\\n  110 |   \"\\\\x68\\\\x50\\\\x63\\\\x52\\\\x4d\\\\x6e\\\\x69\\\\x58\\\\x65\\\\x32\\\\x4a\\\\x46\\\\x30\\\\x63\\\\x69\\\\x45\"\\n      |   ~~~~~~~~~~~~~~~~~~~~~~~~~~~~~~~~~~~~~~~~~~~~~~~~~~~~~~~~~~~~~~~~~~\\n  111 |   \"\\\\x79\\\\x48\\\\x4c\\\\x4c\\\\x49\\\\x7a\\\\x47\\\\x63\\\\x5a\\\\x70\\\\x44\\\\x4d\\\\x59\\\\x78\\\\x62\\\\x36\"\\n      |   ~~~~~~~~~~~~~~~~~~~~~~~~~~~~~~~~~~~~~~~~~~~~~~~~~~~~~~~~~~~~~~~~~~\\n  112 |   \"\\\\x51\\\\x39\\\\x50\\\\x38\\\\x73\\\\x4f\\\\x5a\\\\x6b\\\\x4e\\\\x41\\\\x52\\\\x64\\\\x6d\\\\x6b\\\\x4e\\\\x32\"\\n      |   ~~~~~~~~~~~~~~~~~~~~~~~~~~~~~~~~~~~~~~~~~~~~~~~~~~~~~~~~~~~~~~~~~~\\n  113 |   \"\\\\x62\\\\x36\\\\x4c\\\\x4e\\\\x73\\\\x4c\\\\x4d\\\\x43\\\\x4a\\\\x34\\\\x78\\\\x4c\\\\x6b\\\\x6e\\\\x4b\\\\x6e\"\\n      |   ~~~~~~~~~~~~~~~~~~~~~~~~~~~~~~~~~~~~~~~~~~~~~~~~~~~~~~~~~~~~~~~~~~\\n  114 |   \"\\\\x4b\\\\x51\\\\x78\\\\x70\\\\x72\\\\x6b\\\\x4e\\\\x4e\\\\x53\\\\x47\\\\x66\\\\x4b\\\\x4f\\\\x32\\\\x55\\\\x50\"\\n      |   ~~~~~~~~~~~~~~~~~~~~~~~~~~~~~~~~~~~~~~~~~~~~~~~~~~~~~~~~~~~~~~~~~~\\n  115 |   \"\\\\x44\\\\x4b\\\\x4f\\\\x7a\\\\x76\\\\x43\\\\x6b\\\\x70\\\\x57\\\\x62\\\\x72\\\\x46\\\\x31\\\\x66\\\\x31\\\\x32\"\\n      |   ~~~~~~~~~~~~~~~~~~~~~~~~~~~~~~~~~~~~~~~~~~~~~~~~~~~~~~~~~~~~~~~~~~\\n  116 |   \"\\\\x71\\\\x30\\\\x6a\\\\x35\\\\x51\\\\x33\\\\x61\\\\x32\\\\x71\\\\x33\\\\x65\\\\x53\\\\x61\\\\x4b\\\\x4f\\\\x5a\"\\n      |   ~~~~~~~~~~~~~~~~~~~~~~~~~~~~~~~~~~~~~~~~~~~~~~~~~~~~~~~~~~~~~~~~~~\\n  117 |   \"\\\\x70\\\\x30\\\\x68\\\\x6e\\\\x4d\\\\x6e\\\\x39\\\\x73\\\\x35\\\\x7a\\\\x6e\\\\x62\\\\x73\\\\x4b\\\\x4f\\\\x48\"\\n      |   ~~~~~~~~~~~~~~~~~~~~~~~~~~~~~~~~~~~~~~~~~~~~~~~~~~~~~~~~~~~~~~~~~~\\n  118 |   \"\\\\x56\\\\x63\\\\x5a\\\\x6b\\\\x4f\\\\x59\\\\x6f\\\\x57\\\\x47\\\\x39\\\\x6f\\\\x6e\\\\x30\\\\x4e\\\\x6b\\\\x30\"\\n      |   ~~~~~~~~~~~~~~~~~~~~~~~~~~~~~~~~~~~~~~~~~~~~~~~~~~~~~~~~~~~~~~~~~~\\n  119 |   \"\\\\x57\\\\x59\\\\x6c\\\\x4b\\\\x33\\\\x38\\\\x44\\\\x45\\\\x34\\\\x59\\\\x6f\\\\x39\\\\x46\\\\x50\\\\x52\\\\x39\"\\n      |   ~~~~~~~~~~~~~~~~~~~~~~~~~~~~~~~~~~~~~~~~~~~~~~~~~~~~~~~~~~~~~~~~~~\\n  120 |   \"\\\\x6f\\\\x58\\\\x50\\\\x65\\\\x38\\\\x38\\\\x70\\\\x6e\\\\x6a\\\\x37\\\\x74\\\\x53\\\\x6f\\\\x31\\\\x43\\\\x6b\"\\n      |   ~~~~~~~~~~~~~~~~~~~~~~~~~~~~~~~~~~~~~~~~~~~~~~~~~~~~~~~~~~~~~~~~~~\\n  121 |   \"\\\\x4f\\\\x6a\\\\x76\\\\x6b\\\\x4f\\\\x78\\\\x50\\\\x42\"\\n      |   ~~~~~~~~~~~~~~~~~~~~~~~~~~~~~~~~~~\\ntemp_dir/5695.cpp:130:3: warning: ISO C++ forbids converting a string constant to ‘char*’ [-Wwrite-strings]\\n  130 |   \"\\\\xfc\\\\x6a\\\\xeb\\\\x4d\\\\xe8\\\\xf9\\\\xff\\\\xff\\\\xff\\\\x60\\\\x8b\\\\x6c\\\\x24\\\\x24\\\\x8b\"\\n      |   ^~~~~~~~~~~~~~~~~~~~~~~~~~~~~~~~~~~~~~~~~~~~~~~~~~~~~~~~~~~~~~\\n  131 |   \"\\\\x45\\\\x3c\\\\x8b\\\\x7c\\\\x05\\\\x78\\\\x01\\\\xef\\\\x8b\\\\x4f\\\\x18\\\\x8b\\\\x5f\\\\x20\\\\x01\"\\n      |   ~~~~~~~~~~~~~~~~~~~~~~~~~~~~~~~~~~~~~~~~~~~~~~~~~~~~~~~~~~~~~~\\n  132 |   \"\\\\xeb\\\\x49\\\\x8b\\\\x34\\\\x8b\\\\x01\\\\xee\\\\x31\\\\xc0\\\\x99\\\\xac\\\\x84\\\\xc0\\\\x74\\\\x07\"\\n      |   ~~~~~~~~~~~~~~~~~~~~~~~~~~~~~~~~~~~~~~~~~~~~~~~~~~~~~~~~~~~~~~\\n  133 |   \"\\\\xc1\\\\xca\\\\x0d\\\\x01\\\\xc2\\\\xeb\\\\xf4\\\\x3b\\\\x54\\\\x24\\\\x28\\\\x75\\\\xe5\\\\x8b\\\\x5f\"\\n      |   ~~~~~~~~~~~~~~~~~~~~~~~~~~~~~~~~~~~~~~~~~~~~~~~~~~~~~~~~~~~~~~\\n  134 |   \"\\\\x24\\\\x01\\\\xeb\\\\x66\\\\x8b\\\\x0c\\\\x4b\\\\x8b\\\\x5f\\\\x1c\\\\x01\\\\xeb\\\\x03\\\\x2c\\\\x8b\"\\n      |   ~~~~~~~~~~~~~~~~~~~~~~~~~~~~~~~~~~~~~~~~~~~~~~~~~~~~~~~~~~~~~~\\n  135 |   \"\\\\x89\\\\x6c\\\\x24\\\\x1c\\\\x61\\\\xc3\\\\x31\\\\xdb\\\\x64\\\\x8b\\\\x43\\\\x30\\\\x8b\\\\x40\\\\x0c\"\\n      |   ~~~~~~~~~~~~~~~~~~~~~~~~~~~~~~~~~~~~~~~~~~~~~~~~~~~~~~~~~~~~~~\\n  136 |   \"\\\\x8b\\\\x70\\\\x1c\\\\xad\\\\x8b\\\\x40\\\\x08\\\\x5e\\\\x68\\\\x8e\\\\x4e\\\\x0e\\\\xec\\\\x50\\\\xff\"\\n      |   ~~~~~~~~~~~~~~~~~~~~~~~~~~~~~~~~~~~~~~~~~~~~~~~~~~~~~~~~~~~~~~\\n  137 |   \"\\\\xd6\\\\x66\\\\x53\\\\x66\\\\x68\\\\x33\\\\x32\\\\x68\\\\x77\\\\x73\\\\x32\\\\x5f\\\\x54\\\\xff\\\\xd0\"\\n      |   ~~~~~~~~~~~~~~~~~~~~~~~~~~~~~~~~~~~~~~~~~~~~~~~~~~~~~~~~~~~~~~\\n  138 |   \"\\\\x68\\\\xcb\\\\xed\\\\xfc\\\\x3b\\\\x50\\\\xff\\\\xd6\\\\x5f\\\\x89\\\\xe5\\\\x66\\\\x81\\\\xed\\\\x08\"\\n      |   ~~~~~~~~~~~~~~~~~~~~~~~~~~~~~~~~~~~~~~~~~~~~~~~~~~~~~~~~~~~~~~\\n  139 |   \"\\\\x02\\\\x55\\\\x6a\\\\x02\\\\xff\\\\xd0\\\\x68\\\\xd9\\\\x09\\\\xf5\\\\xad\\\\x57\\\\xff\\\\xd6\\\\x53\"\\n      |   ~~~~~~~~~~~~~~~~~~~~~~~~~~~~~~~~~~~~~~~~~~~~~~~~~~~~~~~~~~~~~~\\n  140 |   \"\\\\x53\\\\x53\\\\x53\\\\x43\\\\x53\\\\x43\\\\x53\\\\xff\\\\xd0\\\\x68\\\\x7f\\\\x00\\\\x00\\\\x01\\\\x66\"\\n      |   ~~~~~~~~~~~~~~~~~~~~~~~~~~~~~~~~~~~~~~~~~~~~~~~~~~~~~~~~~~~~~~\\n  141 |   \"\\\\x68\\\\x11\\\\x5c\\\\x66\\\\x53\\\\x89\\\\xe1\\\\x95\\\\x68\\\\xec\\\\xf9\\\\xaa\\\\x60\\\\x57\\\\xff\"\\n      |   ~~~~~~~~~~~~~~~~~~~~~~~~~~~~~~~~~~~~~~~~~~~~~~~~~~~~~~~~~~~~~~\\n  142 |   \"\\\\xd6\\\\x6a\\\\x10\\\\x51\\\\x55\\\\xff\\\\xd0\\\\x66\\\\x6a\\\\x64\\\\x66\\\\x68\\\\x63\\\\x6d\\\\x6a\"\\n      |   ~~~~~~~~~~~~~~~~~~~~~~~~~~~~~~~~~~~~~~~~~~~~~~~~~~~~~~~~~~~~~~\\n  143 |   \"\\\\x50\\\\x59\\\\x29\\\\xcc\\\\x89\\\\xe7\\\\x6a\\\\x44\\\\x89\\\\xe2\\\\x31\\\\xc0\\\\xf3\\\\xaa\\\\x95\"\\n      |   ~~~~~~~~~~~~~~~~~~~~~~~~~~~~~~~~~~~~~~~~~~~~~~~~~~~~~~~~~~~~~~\\n  144 |   \"\\\\x89\\\\xfd\\\\xfe\\\\x42\\\\x2d\\\\xfe\\\\x42\\\\x2c\\\\x8d\\\\x7a\\\\x38\\\\xab\\\\xab\\\\xab\\\\x68\"\\n      |   ~~~~~~~~~~~~~~~~~~~~~~~~~~~~~~~~~~~~~~~~~~~~~~~~~~~~~~~~~~~~~~\\n  145 |   \"\\\\x72\\\\xfe\\\\xb3\\\\x16\\\\xff\\\\x75\\\\x28\\\\xff\\\\xd6\\\\x5b\\\\x57\\\\x52\\\\x51\\\\x51\\\\x51\"\\n      |   ~~~~~~~~~~~~~~~~~~~~~~~~~~~~~~~~~~~~~~~~~~~~~~~~~~~~~~~~~~~~~~\\n  146 |   \"\\\\x6a\\\\x01\\\\x51\\\\x51\\\\x55\\\\x51\\\\xff\\\\xd0\\\\x68\\\\xad\\\\xd9\\\\x05\\\\xce\\\\x53\\\\xff\"\\n      |   ~~~~~~~~~~~~~~~~~~~~~~~~~~~~~~~~~~~~~~~~~~~~~~~~~~~~~~~~~~~~~~\\n  147 |   \"\\\\xd6\\\\x6a\\\\xff\\\\xff\\\\x37\\\\xff\\\\xd0\\\\x68\\\\xe7\\\\x79\\\\xc6\\\\x79\\\\xff\\\\x75\\\\x04\"\\n      |   ~~~~~~~~~~~~~~~~~~~~~~~~~~~~~~~~~~~~~~~~~~~~~~~~~~~~~~~~~~~~~~\\n  148 |   \"\\\\xff\\\\xd6\\\\xff\\\\x77\\\\xfc\\\\xff\\\\xd0\\\\x68\\\\xf0\\\\x8a\\\\x04\\\\x5f\\\\x53\\\\xff\\\\xd6\"\\n      |   ~~~~~~~~~~~~~~~~~~~~~~~~~~~~~~~~~~~~~~~~~~~~~~~~~~~~~~~~~~~~~~\\n  149 |   \"\\\\xff\\\\xd0\"\\n      |   ~~~~~~~~~~\\ntemp_dir/5695.cpp: In function ‘int alphanumeric_exec(char*, int, char*, int*)’:\\ntemp_dir/5695.cpp:197:22: warning: ISO C++ forbids converting a string constant to ‘char*’ [-Wwrite-strings]\\n  197 |  char* valid_chars = \"0123456789BCDEFGHIJKLMNOPQRSTUVWXYZabcdefghijklmnopqrstuvwxyz\"; // mixed chars\\n      |                      ^~~~~~~~~~~~~~~~~~~~~~~~~~~~~~~~~~~~~~~~~~~~~~~~~~~~~~~~~~~~~~~\\ntemp_dir/5695.cpp: In function ‘int main(int, char**)’:\\ntemp_dir/5695.cpp:243:32: warning: ISO C++ forbids converting a string constant to ‘char*’ [-Wwrite-strings]\\n  243 |  while((c = getopt(argc, argv, \"h:t:R:T:\"))!= EOF)\\n      |                                ^~~~~~~~~~')\n",
      "(0, '')\n",
      "N: 1834\n",
      "x86_64-w64-mingw32-g++ -S -o temp_dir/5827.s temp_dir/5827.cpp\n",
      "(0, 'temp_dir/5827.cpp:95:3: warning: ISO C++ forbids converting a string constant to ‘char*’ [-Wwrite-strings]\\n   95 |   \"\\\\x6a\\\\x20\\\\x5b\\\\x93\\\\xf7\\\\xe0\\\\x91\\\\xe8\\\\xff\\\\xff\\\\xff\\\\xff\\\\x30\\\\x5e\\\\x5e\\\\x66\"\\n      |   ^~~~~~~~~~~~~~~~~~~~~~~~~~~~~~~~~~~~~~~~~~~~~~~~~~~~~~~~~~~~~~~~~~\\n   96 |   \"\\\\x8b\\\\x7e\\\\x22\\\\x97\\\\x3c\\\\x60\\\\x7c\\\\x07\\\\x2c\\\\x20\\\\x66\\\\x93\\\\x88\\\\x5e\\\\x22\\\\x83\"\\n      |   ~~~~~~~~~~~~~~~~~~~~~~~~~~~~~~~~~~~~~~~~~~~~~~~~~~~~~~~~~~~~~~~~~~\\n   97 |   \"\\\\xee\\\\xff\\\\xe2\\\\xeb\\\\xe8\\\\xff\\\\xff\\\\xff\\\\xff\\\\x36\\\\x5b\\\\x5b\\\\x93\\\\x91\\\\x83\\\\xe9\"\\n      |   ~~~~~~~~~~~~~~~~~~~~~~~~~~~~~~~~~~~~~~~~~~~~~~~~~~~~~~~~~~~~~~~~~~\\n   98 |   \"\\\\xf8\\\\x69\\\\x69\\\\x69\\\\x69\\\\x69\\\\x69\\\\x69\\\\x69\\\\x69\\\\x69\\\\x69\\\\x71\\\\x7a\\\\x76\\\\x74\"\\n      |   ~~~~~~~~~~~~~~~~~~~~~~~~~~~~~~~~~~~~~~~~~~~~~~~~~~~~~~~~~~~~~~~~~~\\n   99 |   \"\\\\x78\\\\x33\\\\x30\\\\x76\\\\x78\\\\x34\\\\x61\\\\x70\\\\x30\\\\x61\\\\x33\\\\x68\\\\x68\\\\x30\\\\x61\\\\x30\"\\n      |   ~~~~~~~~~~~~~~~~~~~~~~~~~~~~~~~~~~~~~~~~~~~~~~~~~~~~~~~~~~~~~~~~~~\\n  100 |   \"\\\\x30\\\\x61\\\\x62\\\\x61\\\\x61\\\\x62\\\\x74\\\\x61\\\\x61\\\\x71\\\\x32\\\\x61\\\\x62\\\\x32\\\\x62\\\\x62\"\\n      |   ~~~~~~~~~~~~~~~~~~~~~~~~~~~~~~~~~~~~~~~~~~~~~~~~~~~~~~~~~~~~~~~~~~\\n  101 |   \"\\\\x30\\\\x62\\\\x62\\\\x78\\\\x70\\\\x38\\\\x61\\\\x63\\\\x6a\\\\x6a\\\\x69\\\\x6b\\\\x6c\\\\x32\\\\x6a\\\\x6a\"\\n      |   ~~~~~~~~~~~~~~~~~~~~~~~~~~~~~~~~~~~~~~~~~~~~~~~~~~~~~~~~~~~~~~~~~~\\n  102 |   \"\\\\x6b\\\\x70\\\\x6d\\\\x6a\\\\x68\\\\x7a\\\\x79\\\\x6b\\\\x6f\\\\x6b\\\\x6f\\\\x6b\\\\x6f\\\\x33\\\\x70\\\\x6c\"\\n      |   ~~~~~~~~~~~~~~~~~~~~~~~~~~~~~~~~~~~~~~~~~~~~~~~~~~~~~~~~~~~~~~~~~~\\n  103 |   \"\\\\x6b\\\\x72\\\\x6c\\\\x36\\\\x64\\\\x71\\\\x34\\\\x6c\\\\x6b\\\\x71\\\\x75\\\\x77\\\\x6c\\\\x6c\\\\x6b\\\\x73\"\\n      |   ~~~~~~~~~~~~~~~~~~~~~~~~~~~~~~~~~~~~~~~~~~~~~~~~~~~~~~~~~~~~~~~~~~\\n  104 |   \"\\\\x6c\\\\x73\\\\x35\\\\x33\\\\x68\\\\x35\\\\x71\\\\x7a\\\\x6f\\\\x6c\\\\x6b\\\\x70\\\\x6f\\\\x35\\\\x68\\\\x6c\"\\n      |   ~~~~~~~~~~~~~~~~~~~~~~~~~~~~~~~~~~~~~~~~~~~~~~~~~~~~~~~~~~~~~~~~~~\\n  105 |   \"\\\\x6b\\\\x71\\\\x6f\\\\x67\\\\x70\\\\x75\\\\x71\\\\x6a\\\\x6b\\\\x77\\\\x39\\\\x6c\\\\x6b\\\\x77\\\\x64\\\\x6c\"\\n      |   ~~~~~~~~~~~~~~~~~~~~~~~~~~~~~~~~~~~~~~~~~~~~~~~~~~~~~~~~~~~~~~~~~~\\n  106 |   \"\\\\x6b\\\\x75\\\\x71\\\\x7a\\\\x6e\\\\x76\\\\x71\\\\x69\\\\x70\\\\x6d\\\\x69\\\\x6e\\\\x6c\\\\x6b\\\\x34\\\\x69\"\\n      |   ~~~~~~~~~~~~~~~~~~~~~~~~~~~~~~~~~~~~~~~~~~~~~~~~~~~~~~~~~~~~~~~~~~\\n  107 |   \"\\\\x70\\\\x72\\\\x74\\\\x63\\\\x37\\\\x6f\\\\x31\\\\x38\\\\x6a\\\\x74\\\\x6d\\\\x35\\\\x71\\\\x79\\\\x72\\\\x6a\"\\n      |   ~~~~~~~~~~~~~~~~~~~~~~~~~~~~~~~~~~~~~~~~~~~~~~~~~~~~~~~~~~~~~~~~~~\\n  108 |   \"\\\\x6b\\\\x6b\\\\x64\\\\x77\\\\x6b\\\\x71\\\\x64\\\\x67\\\\x74\\\\x67\\\\x78\\\\x32\\\\x75\\\\x6d\\\\x35\\\\x6c\"\\n      |   ~~~~~~~~~~~~~~~~~~~~~~~~~~~~~~~~~~~~~~~~~~~~~~~~~~~~~~~~~~~~~~~~~~\\n  109 |   \"\\\\x6b\\\\x71\\\\x6f\\\\x77\\\\x74\\\\x35\\\\x71\\\\x6a\\\\x6b\\\\x32\\\\x66\\\\x6c\\\\x6b\\\\x74\\\\x6c\\\\x70\"\\n      |   ~~~~~~~~~~~~~~~~~~~~~~~~~~~~~~~~~~~~~~~~~~~~~~~~~~~~~~~~~~~~~~~~~~\\n  110 |   \"\\\\x6b\\\\x6c\\\\x6b\\\\x71\\\\x6f\\\\x35\\\\x6c\\\\x75\\\\x71\\\\x6a\\\\x6b\\\\x75\\\\x73\\\\x66\\\\x6c\\\\x6c\"\\n      |   ~~~~~~~~~~~~~~~~~~~~~~~~~~~~~~~~~~~~~~~~~~~~~~~~~~~~~~~~~~~~~~~~~~\\n  111 |   \"\\\\x6b\\\\x6b\\\\x39\\\\x62\\\\x6c\\\\x76\\\\x64\\\\x75\\\\x6c\\\\x33\\\\x71\\\\x6f\\\\x33\\\\x66\\\\x71\\\\x79\"\\n      |   ~~~~~~~~~~~~~~~~~~~~~~~~~~~~~~~~~~~~~~~~~~~~~~~~~~~~~~~~~~~~~~~~~~\\n  112 |   \"\\\\x6b\\\\x75\\\\x34\\\\x6c\\\\x6b\\\\x71\\\\x73\\\\x36\\\\x70\\\\x6c\\\\x6b\\\\x71\\\\x70\\\\x74\\\\x6c\\\\x6c\"\\n      |   ~~~~~~~~~~~~~~~~~~~~~~~~~~~~~~~~~~~~~~~~~~~~~~~~~~~~~~~~~~~~~~~~~~\\n  113 |   \"\\\\x6b\\\\x72\\\\x70\\\\x75\\\\x6c\\\\x6e\\\\x6d\\\\x6c\\\\x6b\\\\x71\\\\x70\\\\x35\\\\x78\\\\x71\\\\x6e\\\\x73\"\\n      |   ~~~~~~~~~~~~~~~~~~~~~~~~~~~~~~~~~~~~~~~~~~~~~~~~~~~~~~~~~~~~~~~~~~\\n  114 |   \"\\\\x78\\\\x6c\\\\x6e\\\\x70\\\\x6e\\\\x64\\\\x6e\\\\x7a\\\\x6c\\\\x30\\\\x70\\\\x6b\\\\x6f\\\\x78\\\\x76\\\\x35\"\\n      |   ~~~~~~~~~~~~~~~~~~~~~~~~~~~~~~~~~~~~~~~~~~~~~~~~~~~~~~~~~~~~~~~~~~\\n  115 |   \"\\\\x36\\\\x76\\\\x33\\\\x32\\\\x66\\\\x33\\\\x78\\\\x70\\\\x33\\\\x77\\\\x62\\\\x72\\\\x68\\\\x72\\\\x77\\\\x34\"\\n      |   ~~~~~~~~~~~~~~~~~~~~~~~~~~~~~~~~~~~~~~~~~~~~~~~~~~~~~~~~~~~~~~~~~~\\n  116 |   \"\\\\x33\\\\x76\\\\x72\\\\x71\\\\x6f\\\\x70\\\\x74\\\\x6b\\\\x6f\\\\x78\\\\x70\\\\x62\\\\x68\\\\x38\\\\x6b\\\\x6a\"\\n      |   ~~~~~~~~~~~~~~~~~~~~~~~~~~~~~~~~~~~~~~~~~~~~~~~~~~~~~~~~~~~~~~~~~~\\n  117 |   \"\\\\x6d\\\\x6b\\\\x6c\\\\x77\\\\x6b\\\\x66\\\\x30\\\\x6b\\\\x6f\\\\x78\\\\x76\\\\x71\\\\x6f\\\\x6b\\\\x39\\\\x6a\"\\n      |   ~~~~~~~~~~~~~~~~~~~~~~~~~~~~~~~~~~~~~~~~~~~~~~~~~~~~~~~~~~~~~~~~~~\\n  118 |   \"\\\\x65\\\\x73\\\\x76\\\\x6d\\\\x71\\\\x7a\\\\x6d\\\\x73\\\\x38\\\\x64\\\\x62\\\\x70\\\\x75\\\\x62\\\\x6a\\\\x35\"\\n      |   ~~~~~~~~~~~~~~~~~~~~~~~~~~~~~~~~~~~~~~~~~~~~~~~~~~~~~~~~~~~~~~~~~~\\n  119 |   \"\\\\x72\\\\x6b\\\\x6f\\\\x6e\\\\x30\\\\x72\\\\x68\\\\x78\\\\x79\\\\x75\\\\x79\\\\x6b\\\\x65\\\\x6e\\\\x6d\\\\x66\"\\n      |   ~~~~~~~~~~~~~~~~~~~~~~~~~~~~~~~~~~~~~~~~~~~~~~~~~~~~~~~~~~~~~~~~~~\\n  120 |   \"\\\\x37\\\\x6b\\\\x6f\\\\x79\\\\x66\\\\x36\\\\x33\\\\x70\\\\x73\\\\x71\\\\x63\\\\x71\\\\x63\\\\x70\\\\x73\\\\x71\"\\n      |   ~~~~~~~~~~~~~~~~~~~~~~~~~~~~~~~~~~~~~~~~~~~~~~~~~~~~~~~~~~~~~~~~~~\\n  121 |   \"\\\\x73\\\\x71\\\\x63\\\\x31\\\\x73\\\\x36\\\\x33\\\\x6b\\\\x6f\\\\x68\\\\x70\\\\x32\\\\x66\\\\x65\\\\x38\\\\x71\"\\n      |   ~~~~~~~~~~~~~~~~~~~~~~~~~~~~~~~~~~~~~~~~~~~~~~~~~~~~~~~~~~~~~~~~~~\\n  122 |   \"\\\\x37\\\\x74\\\\x6e\\\\x72\\\\x66\\\\x71\\\\x63\\\\x6b\\\\x39\\\\x6b\\\\x71\\\\x6c\\\\x75\\\\x73\\\\x78\\\\x6f\"\\n      |   ~~~~~~~~~~~~~~~~~~~~~~~~~~~~~~~~~~~~~~~~~~~~~~~~~~~~~~~~~~~~~~~~~~\\n  123 |   \"\\\\x74\\\\x75\\\\x6a\\\\x74\\\\x30\\\\x6f\\\\x37\\\\x30\\\\x77\\\\x6b\\\\x6f\\\\x79\\\\x66\\\\x32\\\\x6a\\\\x64\"\\n      |   ~~~~~~~~~~~~~~~~~~~~~~~~~~~~~~~~~~~~~~~~~~~~~~~~~~~~~~~~~~~~~~~~~~\\n  124 |   \"\\\\x70\\\\x36\\\\x31\\\\x31\\\\x65\\\\x6b\\\\x6f\\\\x6e\\\\x30\\\\x75\\\\x38\\\\x6e\\\\x64\\\\x6e\\\\x6d\\\\x76\"\\n      |   ~~~~~~~~~~~~~~~~~~~~~~~~~~~~~~~~~~~~~~~~~~~~~~~~~~~~~~~~~~~~~~~~~~\\n  125 |   \"\\\\x6e\\\\x6b\\\\x79\\\\x71\\\\x67\\\\x6b\\\\x6f\\\\x78\\\\x76\\\\x70\\\\x73\\\\x70\\\\x75\\\\x6b\\\\x6f\\\\x78\"\\n      |   ~~~~~~~~~~~~~~~~~~~~~~~~~~~~~~~~~~~~~~~~~~~~~~~~~~~~~~~~~~~~~~~~~~\\n  126 |   \"\\\\x70\\\\x65\\\\x38\\\\x6b\\\\x75\\\\x31\\\\x79\\\\x6c\\\\x66\\\\x70\\\\x69\\\\x30\\\\x77\\\\x6b\\\\x6f\\\\x6e\"\\n      |   ~~~~~~~~~~~~~~~~~~~~~~~~~~~~~~~~~~~~~~~~~~~~~~~~~~~~~~~~~~~~~~~~~~\\n  127 |   \"\\\\x36\\\\x70\\\\x70\\\\x31\\\\x64\\\\x71\\\\x64\\\\x76\\\\x35\\\\x6b\\\\x6f\\\\x78\\\\x70\\\\x6c\\\\x73\\\\x72\"\\n      |   ~~~~~~~~~~~~~~~~~~~~~~~~~~~~~~~~~~~~~~~~~~~~~~~~~~~~~~~~~~~~~~~~~~\\n  128 |   \"\\\\x68\\\\x6d\\\\x37\\\\x63\\\\x69\\\\x39\\\\x76\\\\x32\\\\x79\\\\x71\\\\x67\\\\x6b\\\\x6f\\\\x6e\\\\x36\\\\x71\"\\n      |   ~~~~~~~~~~~~~~~~~~~~~~~~~~~~~~~~~~~~~~~~~~~~~~~~~~~~~~~~~~~~~~~~~~\\n  129 |   \"\\\\x65\\\\x6b\\\\x6f\\\\x78\\\\x70\\\\x73\\\\x76\\\\x73\\\\x7a\\\\x35\\\\x34\\\\x32\\\\x66\\\\x72\\\\x68\\\\x75\"\\n      |   ~~~~~~~~~~~~~~~~~~~~~~~~~~~~~~~~~~~~~~~~~~~~~~~~~~~~~~~~~~~~~~~~~~\\n  130 |   \"\\\\x33\\\\x72\\\\x6d\\\\x6d\\\\x79\\\\x6b\\\\x75\\\\x72\\\\x6a\\\\x76\\\\x30\\\\x76\\\\x39\\\\x71\\\\x39\\\\x68\"\\n      |   ~~~~~~~~~~~~~~~~~~~~~~~~~~~~~~~~~~~~~~~~~~~~~~~~~~~~~~~~~~~~~~~~~~\\n  131 |   \"\\\\x6c\\\\x6b\\\\x39\\\\x6d\\\\x37\\\\x72\\\\x6a\\\\x30\\\\x64\\\\x6b\\\\x39\\\\x6b\\\\x72\\\\x76\\\\x71\\\\x6f\"\\n      |   ~~~~~~~~~~~~~~~~~~~~~~~~~~~~~~~~~~~~~~~~~~~~~~~~~~~~~~~~~~~~~~~~~~\\n  132 |   \"\\\\x30\\\\x7a\\\\x73\\\\x6e\\\\x6a\\\\x6b\\\\x6e\\\\x70\\\\x62\\\\x76\\\\x6d\\\\x6b\\\\x6e\\\\x67\\\\x32\\\\x36\"\\n      |   ~~~~~~~~~~~~~~~~~~~~~~~~~~~~~~~~~~~~~~~~~~~~~~~~~~~~~~~~~~~~~~~~~~\\n  133 |   \"\\\\x6c\\\\x6a\\\\x33\\\\x6c\\\\x6d\\\\x33\\\\x6a\\\\x76\\\\x78\\\\x6e\\\\x6b\\\\x6e\\\\x6b\\\\x6e\\\\x6b\\\\x63\"\\n      |   ~~~~~~~~~~~~~~~~~~~~~~~~~~~~~~~~~~~~~~~~~~~~~~~~~~~~~~~~~~~~~~~~~~\\n  134 |   \"\\\\x78\\\\x73\\\\x62\\\\x6b\\\\x6e\\\\x6e\\\\x73\\\\x74\\\\x76\\\\x6b\\\\x6f\\\\x62\\\\x75\\\\x70\\\\x64\\\\x6b\"\\n      |   ~~~~~~~~~~~~~~~~~~~~~~~~~~~~~~~~~~~~~~~~~~~~~~~~~~~~~~~~~~~~~~~~~~\\n  135 |   \"\\\\x6f\\\\x38\\\\x76\\\\x71\\\\x6b\\\\x76\\\\x37\\\\x76\\\\x32\\\\x30\\\\x71\\\\x30\\\\x71\\\\x70\\\\x71\\\\x72\"\\n      |   ~~~~~~~~~~~~~~~~~~~~~~~~~~~~~~~~~~~~~~~~~~~~~~~~~~~~~~~~~~~~~~~~~~\\n  136 |   \"\\\\x6a\\\\x65\\\\x71\\\\x30\\\\x71\\\\x30\\\\x71\\\\x30\\\\x75\\\\x70\\\\x71\\\\x6b\\\\x6f\\\\x78\\\\x70\\\\x75\"\\n      |   ~~~~~~~~~~~~~~~~~~~~~~~~~~~~~~~~~~~~~~~~~~~~~~~~~~~~~~~~~~~~~~~~~~\\n  137 |   \"\\\\x38\\\\x6e\\\\x6d\\\\x6e\\\\x39\\\\x74\\\\x65\\\\x78\\\\x6e\\\\x70\\\\x73\\\\x6b\\\\x6f\\\\x6e\\\\x36\\\\x73\"\\n      |   ~~~~~~~~~~~~~~~~~~~~~~~~~~~~~~~~~~~~~~~~~~~~~~~~~~~~~~~~~~~~~~~~~~\\n  138 |   \"\\\\x7a\\\\x6b\\\\x6f\\\\x6b\\\\x6f\\\\x36\\\\x77\\\\x6b\\\\x6f\\\\x6e\\\\x30\\\\x6c\\\\x6b\\\\x36\\\\x37\\\\x6b\"\\n      |   ~~~~~~~~~~~~~~~~~~~~~~~~~~~~~~~~~~~~~~~~~~~~~~~~~~~~~~~~~~~~~~~~~~\\n  139 |   \"\\\\x6c\\\\x6b\\\\x33\\\\x69\\\\x74\\\\x75\\\\x34\\\\x6b\\\\x6f\\\\x38\\\\x76\\\\x66\\\\x32\\\\x6b\\\\x6f\\\\x38\"\\n      |   ~~~~~~~~~~~~~~~~~~~~~~~~~~~~~~~~~~~~~~~~~~~~~~~~~~~~~~~~~~~~~~~~~~\\n  140 |   \"\\\\x70\\\\x33\\\\x78\\\\x7a\\\\x70\\\\x6c\\\\x6a\\\\x63\\\\x34\\\\x71\\\\x6f\\\\x66\\\\x33\\\\x6b\\\\x6f\\\\x6e\"\\n      |   ~~~~~~~~~~~~~~~~~~~~~~~~~~~~~~~~~~~~~~~~~~~~~~~~~~~~~~~~~~~~~~~~~~\\n  141 |   \"\\\\x36\\\\x6b\\\\x6f\\\\x68\\\\x70\\\\x61\\\\x61\"\\n      |   ~~~~~~~~~~~~~~~~~~~~~~~~~~~~~~\\ntemp_dir/5827.cpp: In function ‘int main(int, char**)’:\\ntemp_dir/5827.cpp:184:32: warning: ISO C++ forbids converting a string constant to ‘char*’ [-Wwrite-strings]\\n  184 |  while((c = getopt(argc, argv, \"h:t:R:T:\"))!= EOF)\\n      |                                ^~~~~~~~~~')\n",
      "(0, '')\n",
      "N: 1896\n",
      "x86_64-w64-mingw32-g++ -S -o temp_dir/6389.s temp_dir/6389.cpp\n",
      "(0, '')\n",
      "(0, '')\n",
      "N: 1959\n",
      "x86_64-w64-mingw32-g++ -S -o temp_dir/6831.s temp_dir/6831.cpp\n",
      "(0, 'temp_dir/6831.cpp:352:53: warning: ISO C++ forbids converting a string constant to ‘char*’ [-Wwrite-strings]\\n  352 |                                                  {  \"[*]Microsoft Windows XP 5.1.1.0 SP1 (IA32)English(jmp esp)\",0x778eadcf                  },\\n      |                                                     ^~~~~~~~~~~~~~~~~~~~~~~~~~~~~~~~~~~~~~~~~~~~~~~~~~~~~~~~~~~~\\ntemp_dir/6831.cpp:353:53: warning: ISO C++ forbids converting a string constant to ‘char*’ [-Wwrite-strings]\\n  353 |                                                  {  \"[*]Microsoft Windows Pro sp3 English (call esp)\",0x7C8369F0                             },\\n      |                                                     ^~~~~~~~~~~~~~~~~~~~~~~~~~~~~~~~~~~~~~~~~~~~~~~~~\\ntemp_dir/6831.cpp:354:53: warning: ISO C++ forbids converting a string constant to ‘char*’ [-Wwrite-strings]\\n  354 |                                                  {  \"[*]Microsoft Windows Pro sp3 English (jmp esp)\",0x7C86467B                              },\\n      |                                                     ^~~~~~~~~~~~~~~~~~~~~~~~~~~~~~~~~~~~~~~~~~~~~~~~\\ntemp_dir/6831.cpp:355:53: warning: ISO C++ forbids converting a string constant to ‘char*’ [-Wwrite-strings]\\n  355 |                                                  {  \"[*]Windows XP 5.1.2.0 SP2 (IA32) English (jmp esp)\",0x7d184de7                          },\\n      |                                                     ^~~~~~~~~~~~~~~~~~~~~~~~~~~~~~~~~~~~~~~~~~~~~~~~~~~~\\ntemp_dir/6831.cpp:356:53: warning: ISO C++ forbids converting a string constant to ‘char*’ [-Wwrite-strings]\\n  356 |                                                  {  \"[*]Windows XP 5.1.2.0 SP2 (IA32) German (jmp esp)\",0x77d85197                           },\\n      |                                                     ^~~~~~~~~~~~~~~~~~~~~~~~~~~~~~~~~~~~~~~~~~~~~~~~~~~\\ntemp_dir/6831.cpp:357:53: warning: ISO C++ forbids converting a string constant to ‘char*’ [-Wwrite-strings]\\n  357 |                                                  {  \"[*]Windows 2000 5.0.1.0 SP1 (IA32) English (jmp esp)\",0x69952208                        },\\n      |                                                     ^~~~~~~~~~~~~~~~~~~~~~~~~~~~~~~~~~~~~~~~~~~~~~~~~~~~~~\\ntemp_dir/6831.cpp:358:53: warning: ISO C++ forbids converting a string constant to ‘char*’ [-Wwrite-strings]\\n  358 |                                                  {  \"[*]Crash the program\",0x58585858                                                        },\\n      |                                                     ^~~~~~~~~~~~~~~~~~~~~~')\n",
      "(0, '')\n",
      "N: 2013\n",
      "x86_64-w64-mingw32-g++ -S -o temp_dir/7536.s temp_dir/7536.cpp\n",
      "(1, 'temp_dir/7536.cpp: In function ‘int main()’:\\ntemp_dir/7536.cpp:51:5: error: ‘strcpy’ was not declared in this scope\\n   51 |     strcpy(buffer, \"[CoolPlayer Skin]\\\\nPlaylistSkin=\");\\n      |     ^~~~~~\\ntemp_dir/7536.cpp:16:1: note: ‘strcpy’ is defined in header ‘<cstring>’; did you forget to ‘#include <cstring>’?\\n   15 | #include <cstdlib> //exit\\n  +++ |+#include <cstring>\\n   16 | ')\n",
      "(0, '')\n",
      "N: 2104\n",
      "x86_64-w64-mingw32-g++ -S -o temp_dir/8390.s temp_dir/8390.cpp\n",
      "(0, 'temp_dir/8390.cpp: In function ‘int main(int, char**)’:\\ntemp_dir/8390.cpp:56:80: warning: ISO C++ forbids converting a string constant to ‘char*’ [-Wwrite-strings]\\n   56 |                                                   if ( VIDEO.check ( argv [1], \"-file\") == Neg) {\\n      |                                                                                ^~~~~~~')\n",
      "(0, '')\n",
      "N: 2124\n",
      "x86_64-w64-mingw32-g++ -S -o temp_dir/846.s temp_dir/846.cpp\n",
      "(0, '')\n",
      "(0, '')\n",
      "N: 2289\n",
      "x86_64-w64-mingw32-g++ -S -o temp_dir/9659.s temp_dir/9659.cpp\n",
      "(1, 'temp_dir/9659.cpp:350:21: error: invalid digit \"9\" in octal constant\\n  350 | / milw0rm.com [2009-09-14]\\n      |                     ^~\\ntemp_dir/9659.cpp: In function ‘void args(int, char**)’:\\ntemp_dir/9659.cpp:311:17: error: cast from ‘char*’ to ‘int’ loses precision [-fpermissive]\\n  311 |     file = (int)optarg;\\n      |                 ^~~~~~\\ntemp_dir/9659.cpp: At global scope:\\ntemp_dir/9659.cpp:350:1: error: expected unqualified-id before ‘/’ token\\n  350 | / milw0rm.com [2009-09-14]\\n      | ^')\n",
      "(0, '')\n",
      "N: 2304\n",
      "x86_64-w64-mingw32-g++ -S -o temp_dir/983.s temp_dir/983.cpp\n",
      "(0, '')\n",
      "(0, '')\n"
     ]
    },
    {
     "output_type": "execute_result",
     "data": {
      "text/plain": [
       "\"\\nfor n in indexes:\\n    print((df.iloc[n]['exploit']))\\n\""
      ]
     },
     "metadata": {},
     "execution_count": 66
    }
   ],
   "source": [
    "#Compile all cpp codes to get assembly files .s\n",
    "\n",
    "suffix = 'cpp'\n",
    "indexes = df.loc[df.isin([suffix]).any(axis=1)].index.tolist()\n",
    "print(str(indexes))\n",
    "\n",
    "\n",
    "ls = \"ls\"\n",
    "ls = subprocess.getstatusoutput(ls)[1]\n",
    "print(ls.split('\\n'))\n",
    "\n",
    "for n in indexes:\n",
    "    i = n\n",
    "    print('N: ' + str(n))\n",
    "    tempdir = 'temp_dir/'\n",
    "    suffix = '.cpp'\n",
    "    temp_file_name = tempdir + str(df.iloc[i]['exploit_db_id']) + suffix\n",
    "    temp_file = open(temp_file_name, 'w')\n",
    "    n = temp_file.write(df.iloc[i]['exploit'])\n",
    "    # print(df.iloc[n]['exploit'])\n",
    "    temp_file.close()\n",
    "    assembly_temp = tempdir + str(df.iloc[i]['exploit_db_id']) + '.s'\n",
    "\n",
    "\n",
    "    compile_command = 'x86_64-w64-mingw32-g++ -S -o ' + assembly_temp +' ' + temp_file_name\n",
    "    print(compile_command)\n",
    "\n",
    "    cc = subprocess.getstatusoutput(compile_command)\n",
    "    print(cc)\n",
    "\n",
    "    remove = 'rm ' + temp_file_name\n",
    "    remove = subprocess.getstatusoutput(remove)\n",
    "    print(remove)\n",
    "'''\n",
    "for n in indexes:\n",
    "    print((df.iloc[n]['exploit']))\n",
    "'''\n",
    "\n",
    "\n"
   ]
  },
  {
   "cell_type": "code",
   "execution_count": null,
   "metadata": {},
   "outputs": [],
   "source": []
  }
 ]
}