{
 "metadata": {
  "language_info": {
   "codemirror_mode": {
    "name": "ipython",
    "version": 3
   },
   "file_extension": ".py",
   "mimetype": "text/x-python",
   "name": "python",
   "nbconvert_exporter": "python",
   "pygments_lexer": "ipython3",
   "version": "3.9.4-final"
  },
  "orig_nbformat": 2,
  "kernelspec": {
   "name": "python394jvsc74a57bd0a0ded08c67edfe2a4354d36b10e2f98b3ecfce6631b76726d618bad84dd97c1f",
   "display_name": "Python 3.9.4 64-bit"
  },
  "metadata": {
   "interpreter": {
    "hash": "a0ded08c67edfe2a4354d36b10e2f98b3ecfce6631b76726d618bad84dd97c1f"
   }
  }
 },
 "nbformat": 4,
 "nbformat_minor": 2,
 "cells": [
  {
   "cell_type": "code",
   "execution_count": 1,
   "metadata": {},
   "outputs": [
    {
     "output_type": "stream",
     "name": "stdout",
     "text": [
      "done\n"
     ]
    }
   ],
   "source": [
    "import subprocess\n",
    "import os\n",
    "from pprint import pprint\n",
    "import json\n",
    "import pandas as pd\n",
    "print('done')"
   ]
  },
  {
   "cell_type": "code",
   "execution_count": 2,
   "metadata": {},
   "outputs": [
    {
     "output_type": "stream",
     "name": "stdout",
     "text": [
      "      exploit_db_id                        cve_id  \\\n0             10102                 CVE-2009-4186   \n1             10201                 CVE-2009-4781   \n2             10226                 CVE-2009-4097   \n3             10258                 CVE-2009-4194   \n4             10484                 CVE-2009-4452   \n...             ...                           ...   \n2300           9705                 CVE-2009-4663   \n2301           9707                 CVE-2009-4659   \n2302           9717   CVE-2009-4657 CVE-2009-4658   \n2303           9734                 CVE-2009-4661   \n2304            983                 CVE-2005-1667   \n\n                                                exploit type_of_exploit  \n0     #!/usr/bin/perl\\n# ithinkthereforeiexist.pl\\n#...              pl  \n1     #!/usr/bin/perl\\n\\n# Exploit: TEKUVA Password ...              pl  \n2     #!/usr/bin/python\\n#\\n# ######################...              py  \n3     # Exploit Title: [Golden FTP Server File Delet...              pl  \n4     ShineShadow Security Report 16122009-15\\n\\nTIT...             txt  \n...                                                 ...             ...  \n2300  <html>\\n <head>\\n    <!--\\n      -- Quiksoft E...            html  \n2301  #!/usr/bin/perl\\n#############################...              pl  \n2302  ##############################################...             txt  \n2303  #!/usr/bin/env python\\n\\n#####################...              py  \n2304  /*\\n\\nDataTrac Activity Console DoS Exploit\\n-...             cpp  \n\n[2305 rows x 4 columns]\n"
     ]
    }
   ],
   "source": [
    "# df = pd.read_csv('/home/mattia/Downloads/cve_with_exploits.csv')\n",
    "df = pd.read_csv('datasets/cve_with_exploits.csv')\n",
    "print(df)"
   ]
  },
  {
   "cell_type": "code",
   "execution_count": 3,
   "metadata": {
    "tags": []
   },
   "outputs": [
    {
     "output_type": "stream",
     "name": "stdout",
     "text": [
      "[7, 12, 30, 34, 35, 37, 50, 54, 55, 76, 77, 78, 79, 80, 81, 82, 83, 84, 85, 86, 87, 88, 93, 94, 95, 96, 97, 98, 99, 100, 101, 102, 103, 104, 105, 106, 107, 108, 109, 110, 111, 112, 113, 114, 150, 157, 165, 167, 177, 178, 179, 221, 239, 247, 259, 330, 332, 342, 343, 344, 348, 355, 357, 360, 377, 380, 383, 384, 391, 392, 407, 411, 412, 413, 415, 416, 418, 427, 434, 467, 468, 491, 509, 517, 525, 528, 540, 582, 583, 590, 591, 594, 595, 597, 598, 599, 600, 612, 618, 630, 634, 644, 645, 647, 648, 651, 652, 689, 692, 693, 694, 698, 699, 714, 791, 792, 814, 825, 910, 920, 944, 988, 995, 1000, 1018, 1037, 1051, 1052, 1077, 1107, 1125, 1195, 1218, 1237, 1239, 1266, 1267, 1275, 1276, 1336, 1376, 1381, 1383, 1385, 1409, 1481, 1485, 1486, 1520, 1557, 1585, 1596, 1598, 1621, 1669, 1705, 1711, 1723, 1725, 1729, 1744, 1750, 1754, 1755, 1756, 1757, 1781, 1789, 1808, 1835, 1839, 1845, 1847, 1854, 1855, 1860, 1865, 1866, 1897, 1901, 1905, 1907, 1920, 1929, 1961, 1978, 2059, 2079, 2093, 2111, 2123, 2172, 2183, 2189, 2202, 2203]\n   exploit_db_id          cve_id  \\\n7          10745   CVE-2009-5109   \n\n                                             exploit type_of_exploit  \n7  /*\\n\\nriptheministreamripper.c\\n\\nMini-stream ...               c  \n"
     ]
    }
   ],
   "source": [
    "suffix = 'c'\n",
    "indexes = df.loc[df.isin([suffix]).any(axis=1)].index.tolist()\n",
    "print(str(indexes))\n",
    "print(df.loc[[7]])\n",
    "#for n in indexes:\n",
    "#    print((df.iloc[n]['exploit']))\n",
    "#df.iloc[n], with n in indexes, to get exploit with suffix extension"
   ]
  },
  {
   "cell_type": "code",
   "execution_count": 4,
   "metadata": {
    "tags": [
     "outputPrepend"
    ]
   },
   "outputs": [
    {
     "output_type": "stream",
     "name": "stdout",
     "text": [
      "**********************************************\\n** Visual Studio 2019 Developer Command Prompt v16.9.3\\n** Copyright (c) 2021 Microsoft Corporation\\n**********************************************************************\\n[vcvarsall.bat] Environment initialized for: 'x64'\\nMicrosoft (R) C/C++ Optimizing Compiler versione 19.28.29913 per x64\\nCopyright (C) Microsoft Corporation. Tutti i diritti  sono riservati.\\n\\n6458.c\\n6458.c(20): fatal error C1083: Non Š possibile aprire il file inclusione: 'sys/socket.h': No such file or directory\")\n",
      "(0, '')\n",
      "N: 1905\n",
      "Temp file name: 6498.c\n",
      "\"C:\\Program Files (x86)\\Microsoft Visual Studio\\2019\\BuildTools\\VC\\Auxiliary\\Build\\vcvars64\" && cl 6498.c /Fa\n",
      "(2, \"**********************************************************************\\n** Visual Studio 2019 Developer Command Prompt v16.9.3\\n** Copyright (c) 2021 Microsoft Corporation\\n**********************************************************************\\n[vcvarsall.bat] Environment initialized for: 'x64'\\nMicrosoft (R) C/C++ Optimizing Compiler versione 19.28.29913 per x64\\nCopyright (C) Microsoft Corporation. Tutti i diritti  sono riservati.\\n\\n6498.c\\n6498.c(66): warning C4477: 'fprintf': con la stringa di formato '%d' Š necessario un argomento di tipo 'int', ma il tipo dell'argomento variadic 1 Š 'HANDLE'\\n6498.c(66): warning C4313: 'fprintf': '%d' nella stringa di formato Š in conflitto con l'argomento 1 di tipo 'HANDLE'\\n6498.c(77): warning C4477: 'printf': con la stringa di formato '%08X' Š necessario un argomento di tipo 'unsigned int', ma il tipo dell'argomento variadic 1 Š 'LPVOID'\\n6498.c(77): warning C4313: 'printf': '%X' nella stringa di formato Š in conflitto con l'argomento 1 di tipo 'LPVOID'\\nMicrosoft (R) Incremental Linker Version 14.28.29913.0\\nCopyright (C) Microsoft Corporation.  All rights reserved.\\n\\n/out:6498.exe \\n6498.obj \\n6498.obj : error LNK2019: riferimento al simbolo esterno sleep non risolto nella funzione main\\n6498.exe : fatal error LNK1120: 1 esterni non risolti\")\n",
      "(0, '')\n",
      "N: 1907\n",
      "Temp file name: 6515.c\n",
      "\"C:\\Program Files (x86)\\Microsoft Visual Studio\\2019\\BuildTools\\VC\\Auxiliary\\Build\\vcvars64\" && cl 6515.c /Fa\n",
      "(2, \"**********************************************************************\\n** Visual Studio 2019 Developer Command Prompt v16.9.3\\n** Copyright (c) 2021 Microsoft Corporation\\n**********************************************************************\\n[vcvarsall.bat] Environment initialized for: 'x64'\\nMicrosoft (R) C/C++ Optimizing Compiler versione 19.28.29913 per x64\\nCopyright (C) Microsoft Corporation. Tutti i diritti  sono riservati.\\n\\n6515.c\\n6515.c(28): warning C4142: 'NTSTATUS': ridefinizione di tipo sicura\\nC:\\\\Program Files (x86)\\\\Windows Kits\\\\10\\\\include\\\\10.0.19041.0\\\\shared\\\\bcrypt.h(39): note: vedere la dichiarazione di 'NTSTATUS'\\nMicrosoft (R) Incremental Linker Version 14.28.29913.0\\nCopyright (C) Microsoft Corporation.  All rights reserved.\\n\\n/out:6515.exe \\n6515.obj \\n6515.obj : error LNK2019: riferimento al simbolo esterno __imp_RtlInitUnicodeString non risolto nella funzione main\\n6515.obj : error LNK2019: riferimento al simbolo esterno __imp_RtlFreeUnicodeString non risolto nella funzione main\\n6515.obj : error LNK2019: riferimento al simbolo esterno __imp_NtCreateFile non risolto nella funzione main\\n6515.obj : error LNK2019: riferimento al simbolo esterno __imp_NtDeviceIoControlFile non risolto nella funzione main\\n6515.obj : error LNK2019: riferimento al simbolo esterno __imp_NtClose non risolto nella funzione main\\n6515.obj : error LNK2019: riferimento al simbolo esterno __imp_NtDelayExecution non risolto nella funzione main\\n6515.exe : fatal error LNK1120: 6 esterni non risolti\")\n",
      "(0, '')\n",
      "N: 1920\n",
      "Temp file name: 6647.c\n",
      "\"C:\\Program Files (x86)\\Microsoft Visual Studio\\2019\\BuildTools\\VC\\Auxiliary\\Build\\vcvars64\" && cl 6647.c /Fa\n",
      "(2, \"**********************************************************************\\n** Visual Studio 2019 Developer Command Prompt v16.9.3\\n** Copyright (c) 2021 Microsoft Corporation\\n**********************************************************************\\n[vcvarsall.bat] Environment initialized for: 'x64'\\nMicrosoft (R) C/C++ Optimizing Compiler versione 19.28.29913 per x64\\nCopyright (C) Microsoft Corporation. Tutti i diritti  sono riservati.\\n\\n6647.c\\n6647.c(35): warning C4142: 'NTSTATUS': ridefinizione di tipo sicura\\nC:\\\\Program Files (x86)\\\\Windows Kits\\\\10\\\\include\\\\10.0.19041.0\\\\shared\\\\bcrypt.h(39): note: vedere la dichiarazione di 'NTSTATUS'\\n6647.c(232): warning C4312: 'cast di tipo': conversione da 'unsigned int' a 'PVOID', di dimensioni maggiori\\nMicrosoft (R) Incremental Linker Version 14.28.29913.0\\nCopyright (C) Microsoft Corporation.  All rights reserved.\\n\\n/out:6647.exe \\n6647.obj \\n6647.obj : error LNK2019: riferimento al simbolo esterno __imp_RtlInitUnicodeString non risolto nella funzione main\\n6647.obj : error LNK2019: riferimento al simbolo esterno __imp_NtCreateFile non risolto nella funzione main\\n6647.obj : error LNK2019: riferimento al simbolo esterno __imp_NtDeviceIoControlFile non risolto nella funzione main\\n6647.obj : error LNK2019: riferimento al simbolo esterno __imp_NtDelayExecution non risolto nella funzione main\\n6647.obj : error LNK2019: riferimento al simbolo esterno __imp_NtClose non risolto nella funzione main\\n6647.exe : fatal error LNK1120: 5 esterni non risolti\")\n",
      "(0, '')\n",
      "N: 1929\n",
      "Temp file name: 6671.c\n",
      "\"C:\\Program Files (x86)\\Microsoft Visual Studio\\2019\\BuildTools\\VC\\Auxiliary\\Build\\vcvars64\" && cl 6671.c /Fa\n",
      "(2, \"**********************************************************************\\n** Visual Studio 2019 Developer Command Prompt v16.9.3\\n** Copyright (c) 2021 Microsoft Corporation\\n**********************************************************************\\n[vcvarsall.bat] Environment initialized for: 'x64'\\nMicrosoft (R) C/C++ Optimizing Compiler versione 19.28.29913 per x64\\nCopyright (C) Microsoft Corporation. Tutti i diritti  sono riservati.\\n\\n6671.c\\nMicrosoft (R) Incremental Linker Version 14.28.29913.0\\nCopyright (C) Microsoft Corporation.  All rights reserved.\\n\\n/out:6671.exe \\n6671.obj \\n6671.obj : error LNK2019: riferimento al simbolo esterno __imp_GetStockObject non risolto nella funzione main\\n6671.obj : error LNK2019: riferimento al simbolo esterno __imp_RegisterClassW non risolto nella funzione main\\n6671.obj : error LNK2019: riferimento al simbolo esterno __imp_LoadCursorA non risolto nella funzione main\\n6671.exe : fatal error LNK1120: 3 esterni non risolti\")\n",
      "(0, '')\n",
      "N: 1961\n",
      "Temp file name: 6834.c\n",
      "\"C:\\Program Files (x86)\\Microsoft Visual Studio\\2019\\BuildTools\\VC\\Auxiliary\\Build\\vcvars64\" && cl 6834.c /Fa\n",
      "(2, \"**********************************************************************\\n** Visual Studio 2019 Developer Command Prompt v16.9.3\\n** Copyright (c) 2021 Microsoft Corporation\\n**********************************************************************\\n[vcvarsall.bat] Environment initialized for: 'x64'\\nMicrosoft (R) C/C++ Optimizing Compiler versione 19.28.29913 per x64\\nCopyright (C) Microsoft Corporation. Tutti i diritti  sono riservati.\\n\\n6834.c\\nC:\\\\Program Files (x86)\\\\Microsoft Visual Studio\\\\2019\\\\BuildTools\\\\VC\\\\Tools\\\\MSVC\\\\14.28.29910\\\\include\\\\cstdio(33): error C2061: errore di sintassi: identificatore 'std'\\nC:\\\\Program Files (x86)\\\\Microsoft Visual Studio\\\\2019\\\\BuildTools\\\\VC\\\\Tools\\\\MSVC\\\\14.28.29910\\\\include\\\\cstdio(33): error C2059: errore di sintassi: ';'\\nC:\\\\Program Files (x86)\\\\Microsoft Visual Studio\\\\2019\\\\BuildTools\\\\VC\\\\Tools\\\\MSVC\\\\14.28.29910\\\\include\\\\cstdio(33): error C2449: trovato '{' in ambito file. Si Š omesso di specificare un'intestazione di funzione?\\nC:\\\\Program Files (x86)\\\\Microsoft Visual Studio\\\\2019\\\\BuildTools\\\\VC\\\\Tools\\\\MSVC\\\\14.28.29910\\\\include\\\\cstdio(91): error C2059: errore di sintassi: '}'\\nC:\\\\Program Files (x86)\\\\Windows Kits\\\\10\\\\include\\\\10.0.19041.0\\\\um\\\\winnt.h(1124): warning C4164: '_rotl': funzione intrinseca non dichiarata\\nC:\\\\Program Files (x86)\\\\Windows Kits\\\\10\\\\include\\\\10.0.19041.0\\\\um\\\\winnt.h(1125): warning C4164: '_rotl64': funzione intrinseca non dichiarata\\nC:\\\\Program Files (x86)\\\\Windows Kits\\\\10\\\\include\\\\10.0.19041.0\\\\um\\\\winnt.h(1126): warning C4164: '_rotr': funzione intrinseca non dichiarata\\nC:\\\\Program Files (x86)\\\\Windows Kits\\\\10\\\\include\\\\10.0.19041.0\\\\um\\\\winnt.h(1127): warning C4164: '_rotr64': funzione intrinseca non dichiarata\\n6834.c(89): fatal error C1004: fine del file imprevista\")\n",
      "(0, '')\n",
      "N: 1978\n",
      "Temp file name: 7104.c\n",
      "\"C:\\Program Files (x86)\\Microsoft Visual Studio\\2019\\BuildTools\\VC\\Auxiliary\\Build\\vcvars64\" && cl 7104.c /Fa\n",
      "(2, \"**********************************************************************\\n** Visual Studio 2019 Developer Command Prompt v16.9.3\\n** Copyright (c) 2021 Microsoft Corporation\\n**********************************************************************\\n[vcvarsall.bat] Environment initialized for: 'x64'\\nMicrosoft (R) C/C++ Optimizing Compiler versione 19.28.29913 per x64\\nCopyright (C) Microsoft Corporation. Tutti i diritti  sono riservati.\\n\\n7104.c\\n7104.c(10): fatal error C1083: Non Š possibile aprire il file inclusione: 'stdafx.h': No such file or directory\")\n",
      "(0, '')\n",
      "N: 2059\n",
      "Temp file name: 7974.c\n",
      "\"C:\\Program Files (x86)\\Microsoft Visual Studio\\2019\\BuildTools\\VC\\Auxiliary\\Build\\vcvars64\" && cl 7974.c /Fa\n",
      "(0, \"**********************************************************************\\n** Visual Studio 2019 Developer Command Prompt v16.9.3\\n** Copyright (c) 2021 Microsoft Corporation\\n**********************************************************************\\n[vcvarsall.bat] Environment initialized for: 'x64'\\nMicrosoft (R) C/C++ Optimizing Compiler versione 19.28.29913 per x64\\nCopyright (C) Microsoft Corporation. Tutti i diritti  sono riservati.\\n\\n7974.c\\nMicrosoft (R) Incremental Linker Version 14.28.29913.0\\nCopyright (C) Microsoft Corporation.  All rights reserved.\\n\\n/out:7974.exe \\n7974.obj \")\n",
      "(0, '')\n",
      "N: 2079\n",
      "Temp file name: 8180.c\n",
      "\"C:\\Program Files (x86)\\Microsoft Visual Studio\\2019\\BuildTools\\VC\\Auxiliary\\Build\\vcvars64\" && cl 8180.c /Fa\n",
      "(0, \"**********************************************************************\\n** Visual Studio 2019 Developer Command Prompt v16.9.3\\n** Copyright (c) 2021 Microsoft Corporation\\n**********************************************************************\\n[vcvarsall.bat] Environment initialized for: 'x64'\\nMicrosoft (R) C/C++ Optimizing Compiler versione 19.28.29913 per x64\\nCopyright (C) Microsoft Corporation. Tutti i diritti  sono riservati.\\n\\n8180.c\\nMicrosoft (R) Incremental Linker Version 14.28.29913.0\\nCopyright (C) Microsoft Corporation.  All rights reserved.\\n\\n/out:8180.exe \\n8180.obj \")\n",
      "(0, '')\n",
      "N: 2093\n",
      "Temp file name: 8256.c\n",
      "\"C:\\Program Files (x86)\\Microsoft Visual Studio\\2019\\BuildTools\\VC\\Auxiliary\\Build\\vcvars64\" && cl 8256.c /Fa\n",
      "(2, \"**********************************************************************\\n** Visual Studio 2019 Developer Command Prompt v16.9.3\\n** Copyright (c) 2021 Microsoft Corporation\\n**********************************************************************\\n[vcvarsall.bat] Environment initialized for: 'x64'\\nMicrosoft (R) C/C++ Optimizing Compiler versione 19.28.29913 per x64\\nCopyright (C) Microsoft Corporation. Tutti i diritti  sono riservati.\\n\\n8256.c\\n8256.c(21): fatal error C1083: Non Š possibile aprire il file inclusione: 'unistd.h': No such file or directory\")\n",
      "(0, '')\n",
      "N: 2111\n",
      "Temp file name: 8411.c\n",
      "\"C:\\Program Files (x86)\\Microsoft Visual Studio\\2019\\BuildTools\\VC\\Auxiliary\\Build\\vcvars64\" && cl 8411.c /Fa\n",
      "(0, \"**********************************************************************\\n** Visual Studio 2019 Developer Command Prompt v16.9.3\\n** Copyright (c) 2021 Microsoft Corporation\\n**********************************************************************\\n[vcvarsall.bat] Environment initialized for: 'x64'\\nMicrosoft (R) C/C++ Optimizing Compiler versione 19.28.29913 per x64\\nCopyright (C) Microsoft Corporation. Tutti i diritti  sono riservati.\\n\\n8411.c\\nMicrosoft (R) Incremental Linker Version 14.28.29913.0\\nCopyright (C) Microsoft Corporation.  All rights reserved.\\n\\n/out:8411.exe \\n8411.obj \")\n",
      "(0, '')\n",
      "N: 2123\n",
      "Temp file name: 8452.c\n",
      "\"C:\\Program Files (x86)\\Microsoft Visual Studio\\2019\\BuildTools\\VC\\Auxiliary\\Build\\vcvars64\" && cl 8452.c /Fa\n",
      "(0, \"**********************************************************************\\n** Visual Studio 2019 Developer Command Prompt v16.9.3\\n** Copyright (c) 2021 Microsoft Corporation\\n**********************************************************************\\n[vcvarsall.bat] Environment initialized for: 'x64'\\nMicrosoft (R) C/C++ Optimizing Compiler versione 19.28.29913 per x64\\nCopyright (C) Microsoft Corporation. Tutti i diritti  sono riservati.\\n\\n8452.c\\n8452.c(990): warning C4047: 'inizializzazione': 'DWORD' differisce da 'void *' nei livelli di riferimento indiretto\\n8452.c(1024): warning C4133: 'funzione': tipi non compatibili. Da 'DWORD *' a 'const char *'\\n8452.c(1026): warning C4133: 'funzione': tipi non compatibili. Da 'DWORD *' a 'const char *'\\n8452.c(1028): warning C4047: 'funzione': 'char *' differisce da 'uint8_t (*)[14911]' nei livelli di riferimento indiretto\\n8452.c(1028): warning C4024: 'strncpy': tipi diversi tra il parametro 1 formale e quello effettivo\\nMicrosoft (R) Incremental Linker Version 14.28.29913.0\\nCopyright (C) Microsoft Corporation.  All rights reserved.\\n\\n/out:8452.exe \\n8452.obj \")\n",
      "(0, '')\n",
      "N: 2172\n",
      "Temp file name: 8650.c\n",
      "\"C:\\Program Files (x86)\\Microsoft Visual Studio\\2019\\BuildTools\\VC\\Auxiliary\\Build\\vcvars64\" && cl 8650.c /Fa\n",
      "(2, \"**********************************************************************\\n** Visual Studio 2019 Developer Command Prompt v16.9.3\\n** Copyright (c) 2021 Microsoft Corporation\\n**********************************************************************\\n[vcvarsall.bat] Environment initialized for: 'x64'\\nMicrosoft (R) C/C++ Optimizing Compiler versione 19.28.29913 per x64\\nCopyright (C) Microsoft Corporation. Tutti i diritti  sono riservati.\\n\\n8650.c\\n8650.c(20): fatal error C1083: Non Š possibile aprire il file inclusione: 'unistd.h': No such file or directory\")\n",
      "(0, '')\n",
      "N: 2183\n",
      "Temp file name: 8767.c\n",
      "\"C:\\Program Files (x86)\\Microsoft Visual Studio\\2019\\BuildTools\\VC\\Auxiliary\\Build\\vcvars64\" && cl 8767.c /Fa\n",
      "(0, \"**********************************************************************\\n** Visual Studio 2019 Developer Command Prompt v16.9.3\\n** Copyright (c) 2021 Microsoft Corporation\\n**********************************************************************\\n[vcvarsall.bat] Environment initialized for: 'x64'\\nMicrosoft (R) C/C++ Optimizing Compiler versione 19.28.29913 per x64\\nCopyright (C) Microsoft Corporation. Tutti i diritti  sono riservati.\\n\\n8767.c\\nMicrosoft (R) Incremental Linker Version 14.28.29913.0\\nCopyright (C) Microsoft Corporation.  All rights reserved.\\n\\n/out:8767.exe \\n8767.obj \")\n",
      "(0, '')\n",
      "N: 2189\n",
      "Temp file name: 8783.c\n",
      "\"C:\\Program Files (x86)\\Microsoft Visual Studio\\2019\\BuildTools\\VC\\Auxiliary\\Build\\vcvars64\" && cl 8783.c /Fa\n",
      "(0, \"**********************************************************************\\n** Visual Studio 2019 Developer Command Prompt v16.9.3\\n** Copyright (c) 2021 Microsoft Corporation\\n**********************************************************************\\n[vcvarsall.bat] Environment initialized for: 'x64'\\nMicrosoft (R) C/C++ Optimizing Compiler versione 19.28.29913 per x64\\nCopyright (C) Microsoft Corporation. Tutti i diritti  sono riservati.\\n\\n8783.c\\nMicrosoft (R) Incremental Linker Version 14.28.29913.0\\nCopyright (C) Microsoft Corporation.  All rights reserved.\\n\\n/out:8783.exe \\n8783.obj \")\n",
      "(0, '')\n",
      "N: 2202\n",
      "Temp file name: 8983.c\n",
      "\"C:\\Program Files (x86)\\Microsoft Visual Studio\\2019\\BuildTools\\VC\\Auxiliary\\Build\\vcvars64\" && cl 8983.c /Fa\n",
      "(2, \"**********************************************************************\\n** Visual Studio 2019 Developer Command Prompt v16.9.3\\n** Copyright (c) 2021 Microsoft Corporation\\n**********************************************************************\\n[vcvarsall.bat] Environment initialized for: 'x64'\\nMicrosoft (R) C/C++ Optimizing Compiler versione 19.28.29913 per x64\\nCopyright (C) Microsoft Corporation. Tutti i diritti  sono riservati.\\n\\n8983.c\\n8983.c(220): warning C4477: 'fprintf': con la stringa di formato '%d' Š necessario un argomento di tipo 'int', ma il tipo dell'argomento variadic 1 Š 'HANDLE'\\n8983.c(220): warning C4313: 'fprintf': '%d' nella stringa di formato Š in conflitto con l'argomento 1 di tipo 'HANDLE'\\n8983.c(230): warning C4477: 'printf': con la stringa di formato '%08X' Š necessario un argomento di tipo 'unsigned int', ma il tipo dell'argomento variadic 1 Š 'LPVOID'\\n8983.c(230): warning C4313: 'printf': '%X' nella stringa di formato Š in conflitto con l'argomento 1 di tipo 'LPVOID'\\n8983.c(236): error C2036: 'LPVOID': dimensione sconosciuta\\n8983.c(237): error C2036: 'LPVOID': dimensione sconosciuta\\n8983.c(287): warning C4477: 'printf': con la stringa di formato '%08X' Š necessario un argomento di tipo 'unsigned int', ma il tipo dell'argomento variadic 1 Š 'ioctl_ptr *'\\n8983.c(287): warning C4313: 'printf': '%X' nella stringa di formato Š in conflitto con l'argomento 1 di tipo 'ioctl_ptr *'\\n8983.c(288): warning C4477: 'printf': con la stringa di formato '%08X' Š necessario un argomento di tipo 'unsigned int', ma il tipo dell'argomento variadic 1 Š 'ioctl_ptr *'\\n8983.c(288): warning C4313: 'printf': '%X' nella stringa di formato Š in conflitto con l'argomento 1 di tipo 'ioctl_ptr *'\\n8983.c(288): warning C4477: 'printf': con la stringa di formato '%08X' Š necessario un argomento di tipo 'unsigned int', ma il tipo dell'argomento variadic 2 Š 'ioctl_pid *'\\n8983.c(288): warning C4313: 'printf': '%X' nella stringa di formato Š in conflitto con l'argomento 2 di tipo 'ioctl_pid *'\\n8983.c(288): warning C4477: 'printf': con la stringa di formato '%08X' Š necessario un argomento di tipo 'unsigned int', ma il tipo dell'argomento variadic 3 Š 'ioctl_func *'\\n8983.c(288): warning C4313: 'printf': '%X' nella stringa di formato Š in conflitto con l'argomento 3 di tipo 'ioctl_func *'\\n8983.c(290): warning C4477: 'printf': con la stringa di formato '%08X' Š necessario un argomento di tipo 'unsigned int', ma il tipo dell'argomento variadic 1 Š 'ioctl_func *'\\n8983.c(290): warning C4313: 'printf': '%X' nella stringa di formato Š in conflitto con l'argomento 1 di tipo 'ioctl_func *'\\n8983.c(290): warning C4477: 'printf': con la stringa di formato '%08X' Š necessario un argomento di tipo 'unsigned int', ma il tipo dell'argomento variadic 2 Š 'void *'\\n8983.c(290): warning C4313: 'printf': '%X' nella stringa di formato Š in conflitto con l'argomento 2 di tipo 'void *'\\n8983.c(291): warning C4477: 'printf': con la stringa di formato '%08X' Š necessario un argomento di tipo 'unsigned int', ma il tipo dell'argomento variadic 1 Š 'LPVOID *'\\n8983.c(291): warning C4313: 'printf': '%X' nella stringa di formato Š in conflitto con l'argomento 1 di tipo 'LPVOID *'\\n8983.c(291): warning C4477: 'printf': con la stringa di formato '%08X' Š necessario un argomento di tipo 'unsigned int', ma il tipo dell'argomento variadic 2 Š 'LPVOID'\\n8983.c(291): warning C4313: 'printf': '%X' nella stringa di formato Š in conflitto con l'argomento 2 di tipo 'LPVOID'\")\n",
      "(0, '')\n",
      "N: 2203\n",
      "Temp file name: 9002.c\n",
      "\"C:\\Program Files (x86)\\Microsoft Visual Studio\\2019\\BuildTools\\VC\\Auxiliary\\Build\\vcvars64\" && cl 9002.c /Fa\n",
      "(2, \"**********************************************************************\\n** Visual Studio 2019 Developer Command Prompt v16.9.3\\n** Copyright (c) 2021 Microsoft Corporation\\n**********************************************************************\\n[vcvarsall.bat] Environment initialized for: 'x64'\\nMicrosoft (R) C/C++ Optimizing Compiler versione 19.28.29913 per x64\\nCopyright (C) Microsoft Corporation. Tutti i diritti  sono riservati.\\n\\n9002.c\\n9002.c(27): fatal error C1083: Non Š possibile aprire il file inclusione: 'netinet/in.h': No such file or directory\")\n",
      "(0, '')\n"
     ]
    },
    {
     "output_type": "execute_result",
     "data": {
      "text/plain": [
       "\"\\nfor n in indexes:\\n    print((df.iloc[n]['exploit']))\\n\""
      ]
     },
     "metadata": {},
     "execution_count": 4
    }
   ],
   "source": [
    "#Compile all c codes to get assembly files .s\n",
    "\n",
    "ls = \"ls\"\n",
    "ls = subprocess.getstatusoutput(ls)[1]\n",
    "print(ls.split('\\n'))\n",
    "os.chdir('C:\\\\Users\\\\matti\\\\Desktop\\\\Magistrale\\\\tesi\\\\poc_detection\\\\temp_dir')\n",
    "\n",
    "for n in indexes:\n",
    "    i = n\n",
    "    print('N: ' + str(n))\n",
    "    # tempdir = 'temp_dir\\\\'\n",
    "    try:\n",
    "        suffix = '.c'\n",
    "        temp_file_name = str(df.iloc[i]['exploit_db_id']) + suffix\n",
    "        print('Temp file name: ' + temp_file_name)\n",
    "        temp_file = open(temp_file_name, 'w')\n",
    "        n = temp_file.write(df.iloc[i]['exploit'])\n",
    "        # print(df.iloc[n]['exploit'])\n",
    "        temp_file.close()\n",
    "        # assembly_temp = tempdir + str(df.iloc[i]['exploit_db_id']) + '.s'\n",
    "    \n",
    "        vcvars = '\\\"C:\\\\Program Files (x86)\\\\Microsoft Visual Studio\\\\2019\\\\BuildTools\\\\VC\\\\Auxiliary\\\\Build\\\\vcvars64\\\"'\n",
    "        # vcvars = 'vcvars64'\n",
    "        # print(vcvars)\n",
    "        compile_command = vcvars + ' && cl ' + temp_file_name + ' /Fa'\n",
    "        # compile_command = vcvars + ' && cl \\'' + temp_file_name + '\\' /Fa'\n",
    "        #compile_command = 'gcc -S -o ' + assembly_temp +' ' + temp_file_name\n",
    "        print(compile_command)\n",
    "\n",
    "        cc = subprocess.getstatusoutput(compile_command)\n",
    "        print(cc)\n",
    "        remove = 'del ' + temp_file_name\n",
    "        remove = subprocess.getstatusoutput(remove)\n",
    "        print(remove)\n",
    "    except:\n",
    "        print('Invalid file')\n",
    "\n",
    "    \n",
    "'''\n",
    "for n in indexes:\n",
    "    print((df.iloc[n]['exploit']))\n",
    "'''\n",
    "\n",
    "\n"
   ]
  },
  {
   "cell_type": "code",
   "execution_count": 3,
   "metadata": {
    "tags": [
     "outputPrepend"
    ]
   },
   "outputs": [
    {
     "output_type": "stream",
     "name": "stdout",
     "text": [
      "*********************\\n** Visual Studio 2019 Developer Command Prompt v16.9.3\\n** Copyright (c) 2021 Microsoft Corporation\\n**********************************************************************\\n[vcvarsall.bat] Environment initialized for: 'x64'\\nMicrosoft (R) C/C++ Optimizing Compiler versione 19.28.29913 per x64\\nCopyright (C) Microsoft Corporation. Tutti i diritti  sono riservati.\\n\\n44478.cpp\\n44478.cpp(233): error C4235: utilizzata estensione non standard: parola chiave '__asm' non supportata in questa architettura\\n44478.cpp(233): error C2065: 'mov': identificatore non dichiarato\\n44478.cpp(233): error C2146: errore di sintassi: ';' mancante prima dell'identificatore 'eax'\\n44478.cpp(233): error C2065: 'eax': identificatore non dichiarato\\n44478.cpp(233): error C2143: errore di sintassi: ';' mancante prima di '}'\\n44478.cpp(234): error C4235: utilizzata estensione non standard: parola chiave '__asm' non supportata in questa architettura\\n44478.cpp(234): error C2059: errore di sintassi: 'user-defined literal'\\n44478.cpp(255): warning C4311: 'cast di tipo': troncamento puntatore da 'PVOID' a 'DWORD'\\n44478.cpp(256): warning C4311: 'cast di tipo': troncamento puntatore da 'PVOID' a 'DWORD'\\n44478.cpp(257): warning C4311: 'cast di tipo': troncamento puntatore da 'PVOID' a 'DWORD'\\n44478.cpp(258): warning C4311: 'cast di tipo': troncamento puntatore da 'PVOID' a 'DWORD'\\n44478.cpp(259): warning C4311: 'cast di tipo': troncamento puntatore da 'PVOID' a 'DWORD'\\n44478.cpp(260): warning C4311: 'cast di tipo': troncamento puntatore da 'PVOID' a 'DWORD'\\n44478.cpp(261): warning C4311: 'cast di tipo': troncamento puntatore da 'PVOID' a 'DWORD'\\n44478.cpp(263): warning C4311: 'cast di tipo': troncamento puntatore da 'PVOID' a 'DWORD'\\n44478.cpp(265): warning C4311: 'cast di tipo': troncamento puntatore da 'PVOID' a 'DWORD'\\n44478.cpp(269): error C2065: 'GCL_MENUNAME': identificatore non dichiarato\\n44478.cpp(269): warning C4311: 'cast di tipo': troncamento puntatore da 'DWORD *' a 'LONG'\\n44478.cpp(301): error C2065: 'GWL_WNDPROC': identificatore non dichiarato\\n44478.cpp(301): warning C4311: 'cast di tipo': troncamento puntatore da 'LRESULT (__cdecl *)(HWND,UINT,WPARAM,LPARAM)' a 'LONG'\\n44478.cpp(398): error C2664: 'BOOL CreateProcessW(LPCWSTR,LPWSTR,LPSECURITY_ATTRIBUTES,LPSECURITY_ATTRIBUTES,BOOL,DWORD,LPVOID,LPCWSTR,LPSTARTUPINFOW,LPPROCESS_INFORMATION)': impossibile convertire l'argomento 9 da 'STARTUPINFO *' a 'LPSTARTUPINFOW'\\n44478.cpp(398): note: I tipi a cui si punta sono privi di relazioni. La conversione richiede reinterpret_cast, cast di tipo C o cast di tipo funzione\\nC:\\\\Program Files (x86)\\\\Windows Kits\\\\10\\\\include\\\\10.0.19041.0\\\\um\\\\processthreadsapi.h(377): note: vedere la dichiarazione di 'CreateProcessW'\\n44478.cpp(481): warning C4311: 'cast di tipo': troncamento puntatore da 'PBYTE' a 'LONG'\\n44478.cpp(485): warning C4311: 'cast di tipo': troncamento puntatore da 'PVOID' a 'LONG'\\n44478.cpp(492): error C2065: 'GWL_WNDPROC': identificatore non dichiarato\\n44478.cpp(492): warning C4311: 'cast di tipo': troncamento puntatore da 'BYTE *' a 'LONG'\")\n",
      "(0, '')\n",
      "N: 1468\n",
      "\"C:\\Program Files (x86)\\Microsoft Visual Studio\\2019\\BuildTools\\VC\\Auxiliary\\Build\\vcvars64\" && cl 44479.cpp /Fa\n",
      "(2, \"**********************************************************************\\n** Visual Studio 2019 Developer Command Prompt v16.9.3\\n** Copyright (c) 2021 Microsoft Corporation\\n**********************************************************************\\n[vcvarsall.bat] Environment initialized for: 'x64'\\nMicrosoft (R) C/C++ Optimizing Compiler versione 19.28.29913 per x64\\nCopyright (C) Microsoft Corporation. Tutti i diritti  sono riservati.\\n\\n44479.cpp\\n44479.cpp(190): warning C4312: 'cast di tipo': conversione da 'DWORD' a 'PVOID', di dimensioni maggiori\\n44479.cpp(306): warning C4311: 'cast di tipo': troncamento puntatore da 'HBITMAP' a 'DWORD'\\n44479.cpp(455): error C2664: 'BOOL CreateProcessW(LPCWSTR,LPWSTR,LPSECURITY_ATTRIBUTES,LPSECURITY_ATTRIBUTES,BOOL,DWORD,LPVOID,LPCWSTR,LPSTARTUPINFOW,LPPROCESS_INFORMATION)': impossibile convertire l'argomento 9 da 'STARTUPINFO *' a 'LPSTARTUPINFOW'\\n44479.cpp(455): note: I tipi a cui si punta sono privi di relazioni. La conversione richiede reinterpret_cast, cast di tipo C o cast di tipo funzione\\nC:\\\\Program Files (x86)\\\\Windows Kits\\\\10\\\\include\\\\10.0.19041.0\\\\um\\\\processthreadsapi.h(377): note: vedere la dichiarazione di 'CreateProcessW'\\n44479.cpp(473): warning C4312: 'cast di tipo': conversione da 'DWORD' a 'PVOID', di dimensioni maggiori\\n44479.cpp(480): warning C4312: 'cast di tipo': conversione da 'DWORD' a 'PVOID', di dimensioni maggiori\\n44479.cpp(600): warning C4312: 'cast di tipo': conversione da 'DWORD' a 'HPALETTE', di dimensioni maggiori\\n44479.cpp(610): warning C4312: 'cast di tipo': conversione da 'DWORD' a 'PVOID', di dimensioni maggiori\\n44479.cpp(614): warning C4312: 'cast di tipo': conversione da 'DWORD' a 'PVOID', di dimensioni maggiori\")\n",
      "(0, '')\n",
      "N: 1469\n",
      "\"C:\\Program Files (x86)\\Microsoft Visual Studio\\2019\\BuildTools\\VC\\Auxiliary\\Build\\vcvars64\" && cl 44480.cpp /Fa\n",
      "(2, \"**********************************************************************\\n** Visual Studio 2019 Developer Command Prompt v16.9.3\\n** Copyright (c) 2021 Microsoft Corporation\\n**********************************************************************\\n[vcvarsall.bat] Environment initialized for: 'x64'\\nMicrosoft (R) C/C++ Optimizing Compiler versione 19.28.29913 per x64\\nCopyright (C) Microsoft Corporation. Tutti i diritti  sono riservati.\\n\\n44480.cpp\\n44480.cpp(269): warning C4312: 'cast di tipo': conversione da 'DWORD' a 'PVOID', di dimensioni maggiori\\n44480.cpp(310): warning C4311: 'cast di tipo': troncamento puntatore da 'HBITMAP' a 'DWORD'\\n44480.cpp(459): error C2664: 'BOOL CreateProcessW(LPCWSTR,LPWSTR,LPSECURITY_ATTRIBUTES,LPSECURITY_ATTRIBUTES,BOOL,DWORD,LPVOID,LPCWSTR,LPSTARTUPINFOW,LPPROCESS_INFORMATION)': impossibile convertire l'argomento 9 da 'STARTUPINFO *' a 'LPSTARTUPINFOW'\\n44480.cpp(459): note: I tipi a cui si punta sono privi di relazioni. La conversione richiede reinterpret_cast, cast di tipo C o cast di tipo funzione\\nC:\\\\Program Files (x86)\\\\Windows Kits\\\\10\\\\include\\\\10.0.19041.0\\\\um\\\\processthreadsapi.h(377): note: vedere la dichiarazione di 'CreateProcessW'\\n44480.cpp(477): warning C4312: 'cast di tipo': conversione da 'DWORD' a 'PVOID', di dimensioni maggiori\\n44480.cpp(484): warning C4312: 'cast di tipo': conversione da 'DWORD' a 'PVOID', di dimensioni maggiori\\n44480.cpp(617): warning C4312: 'cast di tipo': conversione da 'DWORD' a 'PVOID', di dimensioni maggiori\\n44480.cpp(621): warning C4312: 'cast di tipo': conversione da 'DWORD' a 'PVOID', di dimensioni maggiori\")\n",
      "(0, '')\n",
      "N: 1490\n",
      "\"C:\\Program Files (x86)\\Microsoft Visual Studio\\2019\\BuildTools\\VC\\Auxiliary\\Build\\vcvars64\" && cl 44615.cpp /Fa\n",
      "(2, \"**********************************************************************\\n** Visual Studio 2019 Developer Command Prompt v16.9.3\\n** Copyright (c) 2021 Microsoft Corporation\\n**********************************************************************\\n[vcvarsall.bat] Environment initialized for: 'x64'\\nMicrosoft (R) C/C++ Optimizing Compiler versione 19.28.29913 per x64\\nCopyright (C) Microsoft Corporation. Tutti i diritti  sono riservati.\\n\\n44615.cpp\\n44615.cpp(1): fatal error C1021: comando per il preprocessore 'Exploit' non valido\")\n",
      "(0, '')\n",
      "N: 1492\n",
      "\"C:\\Program Files (x86)\\Microsoft Visual Studio\\2019\\BuildTools\\VC\\Auxiliary\\Build\\vcvars64\" && cl 44619.cpp /Fa\n",
      "(2, \"**********************************************************************\\n** Visual Studio 2019 Developer Command Prompt v16.9.3\\n** Copyright (c) 2021 Microsoft Corporation\\n**********************************************************************\\n[vcvarsall.bat] Environment initialized for: 'x64'\\nMicrosoft (R) C/C++ Optimizing Compiler versione 19.28.29913 per x64\\nCopyright (C) Microsoft Corporation. Tutti i diritti  sono riservati.\\n\\n44619.cpp\\n44619.cpp(1): fatal error C1021: comando per il preprocessore 'Exploit' non valido\")\n",
      "(0, '')\n",
      "N: 1532\n",
      "\"C:\\Program Files (x86)\\Microsoft Visual Studio\\2019\\BuildTools\\VC\\Auxiliary\\Build\\vcvars64\" && cl 45149.cpp /Fa\n",
      "(2, \"**********************************************************************\\n** Visual Studio 2019 Developer Command Prompt v16.9.3\\n** Copyright (c) 2021 Microsoft Corporation\\n**********************************************************************\\n[vcvarsall.bat] Environment initialized for: 'x64'\\nMicrosoft (R) C/C++ Optimizing Compiler versione 19.28.29913 per x64\\nCopyright (C) Microsoft Corporation. Tutti i diritti  sono riservati.\\n\\n45149.cpp\\n45149.cpp(1): fatal error C1083: Non Š possibile aprire il file inclusione: 'stdafx.h': No such file or directory\")\n",
      "(0, '')\n",
      "N: 1679\n",
      "Invalid file\n",
      "N: 1742\n",
      "\"C:\\Program Files (x86)\\Microsoft Visual Studio\\2019\\BuildTools\\VC\\Auxiliary\\Build\\vcvars64\" && cl 5077.cpp /Fa\n",
      "(0, \"**********************************************************************\\n** Visual Studio 2019 Developer Command Prompt v16.9.3\\n** Copyright (c) 2021 Microsoft Corporation\\n**********************************************************************\\n[vcvarsall.bat] Environment initialized for: 'x64'\\nMicrosoft (R) C/C++ Optimizing Compiler versione 19.28.29913 per x64\\nCopyright (C) Microsoft Corporation. Tutti i diritti  sono riservati.\\n\\n5077.cpp\\nMicrosoft (R) Incremental Linker Version 14.28.29913.0\\nCopyright (C) Microsoft Corporation.  All rights reserved.\\n\\n/out:5077.exe \\n5077.obj \")\n",
      "(0, '')\n",
      "N: 1774\n",
      "\"C:\\Program Files (x86)\\Microsoft Visual Studio\\2019\\BuildTools\\VC\\Auxiliary\\Build\\vcvars64\" && cl 5250.cpp /Fa\n",
      "(2, \"**********************************************************************\\n** Visual Studio 2019 Developer Command Prompt v16.9.3\\n** Copyright (c) 2021 Microsoft Corporation\\n**********************************************************************\\n[vcvarsall.bat] Environment initialized for: 'x64'\\nMicrosoft (R) C/C++ Optimizing Compiler versione 19.28.29913 per x64\\nCopyright (C) Microsoft Corporation. Tutti i diritti  sono riservati.\\n\\n5250.cpp\\n5250.cpp(42): error C4430: identificatore di tipo mancante, verr… utilizzato int. Nota: default-int non Š pi— supportato in C++\\n5250.cpp(75): warning C4551: chiamata di funzione senza elenco di argomenti\\n5250.cpp(86): warning C4551: chiamata di funzione senza elenco di argomenti\")\n",
      "(0, '')\n",
      "N: 1795\n",
      "\"C:\\Program Files (x86)\\Microsoft Visual Studio\\2019\\BuildTools\\VC\\Auxiliary\\Build\\vcvars64\" && cl 5442.cpp /Fa\n",
      "(2, \"**********************************************************************\\n** Visual Studio 2019 Developer Command Prompt v16.9.3\\n** Copyright (c) 2021 Microsoft Corporation\\n**********************************************************************\\n[vcvarsall.bat] Environment initialized for: 'x64'\\nMicrosoft (R) C/C++ Optimizing Compiler versione 19.28.29913 per x64\\nCopyright (C) Microsoft Corporation. Tutti i diritti  sono riservati.\\n\\n5442.cpp\\n5442.cpp(13): error C4430: identificatore di tipo mancante, verr… utilizzato int. Nota: default-int non Š pi— supportato in C++\\n5442.cpp(13): error C2059: errore di sintassi: ':'\")\n",
      "(0, '')\n",
      "N: 1803\n",
      "\"C:\\Program Files (x86)\\Microsoft Visual Studio\\2019\\BuildTools\\VC\\Auxiliary\\Build\\vcvars64\" && cl 5492.cpp /Fa\n",
      "(2, \"**********************************************************************\\n** Visual Studio 2019 Developer Command Prompt v16.9.3\\n** Copyright (c) 2021 Microsoft Corporation\\n**********************************************************************\\n[vcvarsall.bat] Environment initialized for: 'x64'\\nMicrosoft (R) C/C++ Optimizing Compiler versione 19.28.29913 per x64\\nCopyright (C) Microsoft Corporation. Tutti i diritti  sono riservati.\\n\\n5492.cpp\\n5492.cpp(4): fatal error C1083: Non Š possibile aprire il file inclusione: 'stdafx.h': No such file or directory\")\n",
      "(0, '')\n",
      "N: 1819\n",
      "\"C:\\Program Files (x86)\\Microsoft Visual Studio\\2019\\BuildTools\\VC\\Auxiliary\\Build\\vcvars64\" && cl 5694.cpp /Fa\n",
      "(0, \"**********************************************************************\\n** Visual Studio 2019 Developer Command Prompt v16.9.3\\n** Copyright (c) 2021 Microsoft Corporation\\n**********************************************************************\\n[vcvarsall.bat] Environment initialized for: 'x64'\\nMicrosoft (R) C/C++ Optimizing Compiler versione 19.28.29913 per x64\\nCopyright (C) Microsoft Corporation. Tutti i diritti  sono riservati.\\n\\n5694.cpp\\nMicrosoft (R) Incremental Linker Version 14.28.29913.0\\nCopyright (C) Microsoft Corporation.  All rights reserved.\\n\\n/out:5694.exe \\n5694.obj \")\n",
      "(0, '')\n",
      "N: 1820\n",
      "\"C:\\Program Files (x86)\\Microsoft Visual Studio\\2019\\BuildTools\\VC\\Auxiliary\\Build\\vcvars64\" && cl 5695.cpp /Fa\n",
      "(0, \"**********************************************************************\\n** Visual Studio 2019 Developer Command Prompt v16.9.3\\n** Copyright (c) 2021 Microsoft Corporation\\n**********************************************************************\\n[vcvarsall.bat] Environment initialized for: 'x64'\\nMicrosoft (R) C/C++ Optimizing Compiler versione 19.28.29913 per x64\\nCopyright (C) Microsoft Corporation. Tutti i diritti  sono riservati.\\n\\n5695.cpp\\nMicrosoft (R) Incremental Linker Version 14.28.29913.0\\nCopyright (C) Microsoft Corporation.  All rights reserved.\\n\\n/out:5695.exe \\n5695.obj \")\n",
      "(0, '')\n",
      "N: 1834\n",
      "\"C:\\Program Files (x86)\\Microsoft Visual Studio\\2019\\BuildTools\\VC\\Auxiliary\\Build\\vcvars64\" && cl 5827.cpp /Fa\n",
      "(0, \"**********************************************************************\\n** Visual Studio 2019 Developer Command Prompt v16.9.3\\n** Copyright (c) 2021 Microsoft Corporation\\n**********************************************************************\\n[vcvarsall.bat] Environment initialized for: 'x64'\\nMicrosoft (R) C/C++ Optimizing Compiler versione 19.28.29913 per x64\\nCopyright (C) Microsoft Corporation. Tutti i diritti  sono riservati.\\n\\n5827.cpp\\nMicrosoft (R) Incremental Linker Version 14.28.29913.0\\nCopyright (C) Microsoft Corporation.  All rights reserved.\\n\\n/out:5827.exe \\n5827.obj \")\n",
      "(0, '')\n",
      "N: 1896\n",
      "\"C:\\Program Files (x86)\\Microsoft Visual Studio\\2019\\BuildTools\\VC\\Auxiliary\\Build\\vcvars64\" && cl 6389.cpp /Fa\n",
      "(0, \"**********************************************************************\\n** Visual Studio 2019 Developer Command Prompt v16.9.3\\n** Copyright (c) 2021 Microsoft Corporation\\n**********************************************************************\\n[vcvarsall.bat] Environment initialized for: 'x64'\\nMicrosoft (R) C/C++ Optimizing Compiler versione 19.28.29913 per x64\\nCopyright (C) Microsoft Corporation. Tutti i diritti  sono riservati.\\n\\n6389.cpp\\nMicrosoft (R) Incremental Linker Version 14.28.29913.0\\nCopyright (C) Microsoft Corporation.  All rights reserved.\\n\\n/out:6389.exe \\n6389.obj \")\n",
      "(0, '')\n",
      "N: 1959\n",
      "\"C:\\Program Files (x86)\\Microsoft Visual Studio\\2019\\BuildTools\\VC\\Auxiliary\\Build\\vcvars64\" && cl 6831.cpp /Fa\n",
      "(0, \"**********************************************************************\\n** Visual Studio 2019 Developer Command Prompt v16.9.3\\n** Copyright (c) 2021 Microsoft Corporation\\n**********************************************************************\\n[vcvarsall.bat] Environment initialized for: 'x64'\\nMicrosoft (R) C/C++ Optimizing Compiler versione 19.28.29913 per x64\\nCopyright (C) Microsoft Corporation. Tutti i diritti  sono riservati.\\n\\n6831.cpp\\nMicrosoft (R) Incremental Linker Version 14.28.29913.0\\nCopyright (C) Microsoft Corporation.  All rights reserved.\\n\\n/out:6831.exe \\n6831.obj \")\n",
      "(0, '')\n",
      "N: 2013\n",
      "\"C:\\Program Files (x86)\\Microsoft Visual Studio\\2019\\BuildTools\\VC\\Auxiliary\\Build\\vcvars64\" && cl 7536.cpp /Fa\n",
      "(0, \"**********************************************************************\\n** Visual Studio 2019 Developer Command Prompt v16.9.3\\n** Copyright (c) 2021 Microsoft Corporation\\n**********************************************************************\\n[vcvarsall.bat] Environment initialized for: 'x64'\\nMicrosoft (R) C/C++ Optimizing Compiler versione 19.28.29913 per x64\\nCopyright (C) Microsoft Corporation. Tutti i diritti  sono riservati.\\n\\n7536.cpp\\nC:\\\\Program Files (x86)\\\\Microsoft Visual Studio\\\\2019\\\\BuildTools\\\\VC\\\\Tools\\\\MSVC\\\\14.28.29910\\\\include\\\\ostream(746): warning C4530: utilizzato gestore eccezioni C++, ma la semantica di rimozione non Š abilitata. Specificare /EHsc\\n7536.cpp(50): note: vedere il riferimento all'istanza 'std::basic_ostream<char,std::char_traits<char>> &std::operator <<<std::char_traits<char>>(std::basic_ostream<char,std::char_traits<char>> &,const char *)' della funzione modello di cui Š in corso la compilazione\\nMicrosoft (R) Incremental Linker Version 14.28.29913.0\\nCopyright (C) Microsoft Corporation.  All rights reserved.\\n\\n/out:7536.exe \\n7536.obj \")\n",
      "(0, '')\n",
      "N: 2104\n",
      "\"C:\\Program Files (x86)\\Microsoft Visual Studio\\2019\\BuildTools\\VC\\Auxiliary\\Build\\vcvars64\" && cl 8390.cpp /Fa\n",
      "(0, \"**********************************************************************\\n** Visual Studio 2019 Developer Command Prompt v16.9.3\\n** Copyright (c) 2021 Microsoft Corporation\\n**********************************************************************\\n[vcvarsall.bat] Environment initialized for: 'x64'\\nMicrosoft (R) C/C++ Optimizing Compiler versione 19.28.29913 per x64\\nCopyright (C) Microsoft Corporation. Tutti i diritti  sono riservati.\\n\\n8390.cpp\\nMicrosoft (R) Incremental Linker Version 14.28.29913.0\\nCopyright (C) Microsoft Corporation.  All rights reserved.\\n\\n/out:8390.exe \\n8390.obj \")\n",
      "(0, '')\n",
      "N: 2124\n",
      "\"C:\\Program Files (x86)\\Microsoft Visual Studio\\2019\\BuildTools\\VC\\Auxiliary\\Build\\vcvars64\" && cl 846.cpp /Fa\n",
      "(2, \"**********************************************************************\\n** Visual Studio 2019 Developer Command Prompt v16.9.3\\n** Copyright (c) 2021 Microsoft Corporation\\n**********************************************************************\\n[vcvarsall.bat] Environment initialized for: 'x64'\\nMicrosoft (R) C/C++ Optimizing Compiler versione 19.28.29913 per x64\\nCopyright (C) Microsoft Corporation. Tutti i diritti  sono riservati.\\n\\n846.cpp\\nMicrosoft (R) Incremental Linker Version 14.28.29913.0\\nCopyright (C) Microsoft Corporation.  All rights reserved.\\n\\n/out:846.exe \\n846.obj \\n846.obj : error LNK2019: riferimento al simbolo esterno __imp_RegCloseKey non risolto nella funzione main\\n846.obj : error LNK2019: riferimento al simbolo esterno __imp_RegOpenKeyExA non risolto nella funzione main\\n846.obj : error LNK2019: riferimento al simbolo esterno __imp_RegQueryValueExA non risolto nella funzione main\\n846.exe : fatal error LNK1120: 3 esterni non risolti\")\n",
      "(0, '')\n",
      "N: 2289\n",
      "\"C:\\Program Files (x86)\\Microsoft Visual Studio\\2019\\BuildTools\\VC\\Auxiliary\\Build\\vcvars64\" && cl 9659.cpp /Fa\n",
      "(2, \"**********************************************************************\\n** Visual Studio 2019 Developer Command Prompt v16.9.3\\n** Copyright (c) 2021 Microsoft Corporation\\n**********************************************************************\\n[vcvarsall.bat] Environment initialized for: 'x64'\\nMicrosoft (R) C/C++ Optimizing Compiler versione 19.28.29913 per x64\\nCopyright (C) Microsoft Corporation. Tutti i diritti  sono riservati.\\n\\n9659.cpp\\n9659.cpp(204): fatal error C1083: Non Š possibile aprire il file inclusione: 'getopt.h': No such file or directory\")\n",
      "(0, '')\n",
      "N: 2304\n",
      "\"C:\\Program Files (x86)\\Microsoft Visual Studio\\2019\\BuildTools\\VC\\Auxiliary\\Build\\vcvars64\" && cl 983.cpp /Fa\n",
      "(0, \"**********************************************************************\\n** Visual Studio 2019 Developer Command Prompt v16.9.3\\n** Copyright (c) 2021 Microsoft Corporation\\n**********************************************************************\\n[vcvarsall.bat] Environment initialized for: 'x64'\\nMicrosoft (R) C/C++ Optimizing Compiler versione 19.28.29913 per x64\\nCopyright (C) Microsoft Corporation. Tutti i diritti  sono riservati.\\n\\n983.cpp\\nMicrosoft (R) Incremental Linker Version 14.28.29913.0\\nCopyright (C) Microsoft Corporation.  All rights reserved.\\n\\n/out:983.exe \\n983.obj \")\n",
      "(0, '')\n"
     ]
    }
   ],
   "source": [
    "#Compile all cpp codes to get assembly files .s\n",
    "\n",
    "suffix = 'cpp'\n",
    "indexes = df.loc[df.isin([suffix]).any(axis=1)].index.tolist()\n",
    "print(str(indexes))\n",
    "os.chdir('C:\\\\Users\\\\matti\\\\Desktop\\\\Magistrale\\\\tesi\\\\poc_detection\\\\temp_dir')\n",
    "\n",
    "\n",
    "\"\"\" ls = \"ls\"\n",
    "ls = subprocess.getstatusoutput(ls)[1]\n",
    "print(ls.split('\\n')) \"\"\"\n",
    "\n",
    "for n in indexes:\n",
    "    i = n\n",
    "    print('N: ' + str(n))\n",
    "    try:\n",
    "        suffix = '.cpp'\n",
    "        temp_file_name = str(df.iloc[i]['exploit_db_id']) + suffix\n",
    "        temp_file = open(temp_file_name, 'w')\n",
    "        n = temp_file.write(df.iloc[i]['exploit'])\n",
    "        # print(df.iloc[n]['exploit'])\n",
    "        temp_file.close()\n",
    "        # assembly_temp = tempdir + str(df.iloc[i]['exploit_db_id']) + '.s'\n",
    "        vcvars = '\\\"C:\\\\Program Files (x86)\\\\Microsoft Visual Studio\\\\2019\\\\BuildTools\\\\VC\\\\Auxiliary\\\\Build\\\\vcvars64\\\"'\n",
    "        compile_command = vcvars + ' && cl ' + temp_file_name + ' /Fa'\n",
    "        print(compile_command)\n",
    "\n",
    "        cc = subprocess.getstatusoutput(compile_command)\n",
    "        print(cc)\n",
    "\n",
    "        remove = 'del ' + temp_file_name\n",
    "        remove = subprocess.getstatusoutput(remove)\n",
    "        print(remove)\n",
    "    except:\n",
    "        print('Invalid file')\n",
    "\n",
    "\n"
   ]
  },
  {
   "cell_type": "code",
   "execution_count": 3,
   "metadata": {
    "tags": [
     "outputPrepend"
    ]
   },
   "outputs": [
    {
     "output_type": "stream",
     "name": "stdout",
     "text": [
      "direct Microsoft.VC90.CRT version (9, 0, 21022, 8) -> (9, 0, 30729, 9625)\\n1098 INFO: Analyzing C:\\\\Users\\\\matti\\\\Desktop\\\\Magistrale\\\\tesi\\\\poc_detection\\\\temp_dir\\\\9671.py\\n1174 INFO: Processing module hooks...\\n1174 INFO: Loading module hook \"hook-encodings.py\"...\\n4190 INFO: Looking for ctypes DLLs\\n4190 INFO: Analyzing run-time hooks ...\\n4190 INFO: Looking for dynamic libraries\\n4240 INFO: Looking for eggs\\n4240 INFO: Using Python library C:\\\\WINDOWS\\\\system32\\\\python27.dll\\n4240 INFO: Found binding redirects: \\n[BindingRedirect(name=u\\'Microsoft.VC90.CRT\\', language=None, arch=u\\'x86\\', oldVersion=(9, 0, 21022, 8), newVersion=(9, 0, 30729, 9625), publicKeyToken=u\\'1fc8b3b9a1e18e3b\\')]\\n4260 INFO: Warnings written to C:\\\\Users\\\\matti\\\\Desktop\\\\Magistrale\\\\tesi\\\\poc_detection\\\\temp_dir\\\\build\\\\9671\\\\warn-9671.txt\\n4285 INFO: Graph cross-reference written to C:\\\\Users\\\\matti\\\\Desktop\\\\Magistrale\\\\tesi\\\\poc_detection\\\\temp_dir\\\\build\\\\9671\\\\xref-9671.html\\n4329 INFO: checking PYZ\\n4329 INFO: Building PYZ because PYZ-00.toc is non existent\\n4329 INFO: Building PYZ (ZlibArchive) C:\\\\Users\\\\matti\\\\Desktop\\\\Magistrale\\\\tesi\\\\poc_detection\\\\temp_dir\\\\build\\\\9671\\\\PYZ-00.pyz\\n4615 INFO: Building PYZ (ZlibArchive) C:\\\\Users\\\\matti\\\\Desktop\\\\Magistrale\\\\tesi\\\\poc_detection\\\\temp_dir\\\\build\\\\9671\\\\PYZ-00.pyz completed successfully.\\n4641 INFO: checking PKG\\n4641 INFO: Building PKG because PKG-00.toc is non existent\\n4641 INFO: Building PKG (CArchive) PKG-00.pkg\\n4670 INFO: Building PKG (CArchive) PKG-00.pkg completed successfully.\\n4674 INFO: Bootloader C:\\\\Python27\\\\lib\\\\site-packages\\\\PyInstaller\\\\bootloader\\\\Windows-32bit\\\\run.exe\\n4674 INFO: checking EXE\\n4674 INFO: Building EXE because EXE-00.toc is non existent\\n4674 INFO: Building EXE from EXE-00.toc\\n4676 INFO: Appending archive to EXE C:\\\\Users\\\\matti\\\\Desktop\\\\Magistrale\\\\tesi\\\\poc_detection\\\\temp_dir\\\\build\\\\9671\\\\9671.exe\\n4677 INFO: Building EXE from EXE-00.toc completed successfully.\\n4683 INFO: checking COLLECT\\n4683 INFO: Building COLLECT because COLLECT-00.toc is non existent\\n4684 INFO: Building COLLECT COLLECT-00.toc\\n4739 INFO: Redirecting Microsoft.VC90.CRT version (9, 0, 21022, 8) -> (9, 0, 30729, 9625)\\n4799 INFO: Building COLLECT COLLECT-00.toc completed successfully.')\n",
      "(0, '')\n",
      "(0, '')\n",
      "N: 2292\n",
      "C:\\Python27\\python.exe -m PyInstaller --name \"9673\" 9673.py\n",
      "(0, '159 INFO: PyInstaller: 3.6\\n159 INFO: Python: 2.7.18\\n160 INFO: Platform: Windows-10-10.0.19041\\n161 INFO: wrote C:\\\\Users\\\\matti\\\\Desktop\\\\Magistrale\\\\tesi\\\\poc_detection\\\\temp_dir\\\\9673.spec\\n166 INFO: UPX is not available.\\n170 INFO: Extending PYTHONPATH with paths\\n[\\'C:\\\\\\\\Users\\\\\\\\matti\\\\\\\\Desktop\\\\\\\\Magistrale\\\\\\\\tesi\\\\\\\\poc_detection\\\\\\\\temp_dir\\',\\n \\'C:\\\\\\\\Users\\\\\\\\matti\\\\\\\\Desktop\\\\\\\\Magistrale\\\\\\\\tesi\\\\\\\\poc_detection\\\\\\\\temp_dir\\']\\n170 INFO: checking Analysis\\n170 INFO: Building Analysis because Analysis-00.toc is non existent\\n170 INFO: Initializing module dependency graph...\\n174 INFO: Caching module graph hooks...\\n184 INFO: Caching module dependency graph...\\n200 INFO: running Analysis Analysis-00.toc\\n200 INFO: Adding Microsoft.VC90.CRT to dependent assemblies of final executable\\n  required by C:\\\\Python27\\\\python.exe\\n337 INFO: Found C:\\\\WINDOWS\\\\WinSxS\\\\Manifests\\\\x86_policy.9.0.microsoft.vc90.crt_1fc8b3b9a1e18e3b_9.0.30729.1_none_8550c6b5d18a9128.manifest\\n338 INFO: Found C:\\\\WINDOWS\\\\WinSxS\\\\Manifests\\\\x86_policy.9.0.microsoft.vc90.crt_1fc8b3b9a1e18e3b_9.0.30729.6161_none_f480bfaef65491a5.manifest\\n340 INFO: Found C:\\\\WINDOWS\\\\WinSxS\\\\Manifests\\\\x86_policy.9.0.microsoft.vc90.crt_1fc8b3b9a1e18e3b_9.0.30729.9625_none_f47c6864f6588bd7.manifest\\n450 INFO: Searching for assembly x86_Microsoft.VC90.CRT_1fc8b3b9a1e18e3b_9.0.30729.9625_none ...\\n450 INFO: Found manifest C:\\\\WINDOWS\\\\WinSxS\\\\Manifests\\\\x86_microsoft.vc90.crt_1fc8b3b9a1e18e3b_9.0.30729.9625_none_508ef7e4bcbbe589.manifest\\n450 INFO: Searching for file msvcr90.dll\\n450 INFO: Found file C:\\\\WINDOWS\\\\WinSxS\\\\x86_microsoft.vc90.crt_1fc8b3b9a1e18e3b_9.0.30729.9625_none_508ef7e4bcbbe589\\\\msvcr90.dll\\n450 INFO: Searching for file msvcp90.dll\\n450 INFO: Found file C:\\\\WINDOWS\\\\WinSxS\\\\x86_microsoft.vc90.crt_1fc8b3b9a1e18e3b_9.0.30729.9625_none_508ef7e4bcbbe589\\\\msvcp90.dll\\n450 INFO: Searching for file msvcm90.dll\\n450 INFO: Found file C:\\\\WINDOWS\\\\WinSxS\\\\x86_microsoft.vc90.crt_1fc8b3b9a1e18e3b_9.0.30729.9625_none_508ef7e4bcbbe589\\\\msvcm90.dll\\n631 INFO: Found C:\\\\WINDOWS\\\\WinSxS\\\\Manifests\\\\x86_policy.9.0.microsoft.vc90.crt_1fc8b3b9a1e18e3b_9.0.30729.1_none_8550c6b5d18a9128.manifest\\n634 INFO: Found C:\\\\WINDOWS\\\\WinSxS\\\\Manifests\\\\x86_policy.9.0.microsoft.vc90.crt_1fc8b3b9a1e18e3b_9.0.30729.6161_none_f480bfaef65491a5.manifest\\n634 INFO: Found C:\\\\WINDOWS\\\\WinSxS\\\\Manifests\\\\x86_policy.9.0.microsoft.vc90.crt_1fc8b3b9a1e18e3b_9.0.30729.9625_none_f47c6864f6588bd7.manifest\\n637 INFO: Adding redirect Microsoft.VC90.CRT version (9, 0, 21022, 8) -> (9, 0, 30729, 9625)\\n940 INFO: Analyzing C:\\\\Users\\\\matti\\\\Desktop\\\\Magistrale\\\\tesi\\\\poc_detection\\\\temp_dir\\\\9673.py\\n3229 INFO: Processing module hooks...\\n3230 INFO: Loading module hook \"hook-encodings.py\"...\\n3948 INFO: Looking for ctypes DLLs\\n3948 INFO: Analyzing run-time hooks ...\\n3948 INFO: Looking for dynamic libraries\\n4048 INFO: Looking for eggs\\n4048 INFO: Using Python library C:\\\\WINDOWS\\\\system32\\\\python27.dll\\n4048 INFO: Found binding redirects: \\n[BindingRedirect(name=u\\'Microsoft.VC90.CRT\\', language=None, arch=u\\'x86\\', oldVersion=(9, 0, 21022, 8), newVersion=(9, 0, 30729, 9625), publicKeyToken=u\\'1fc8b3b9a1e18e3b\\')]\\n4048 INFO: Warnings written to C:\\\\Users\\\\matti\\\\Desktop\\\\Magistrale\\\\tesi\\\\poc_detection\\\\temp_dir\\\\build\\\\9673\\\\warn-9673.txt\\n4080 INFO: Graph cross-reference written to C:\\\\Users\\\\matti\\\\Desktop\\\\Magistrale\\\\tesi\\\\poc_detection\\\\temp_dir\\\\build\\\\9673\\\\xref-9673.html\\n4127 INFO: checking PYZ\\n4127 INFO: Building PYZ because PYZ-00.toc is non existent\\n4127 INFO: Building PYZ (ZlibArchive) C:\\\\Users\\\\matti\\\\Desktop\\\\Magistrale\\\\tesi\\\\poc_detection\\\\temp_dir\\\\build\\\\9673\\\\PYZ-00.pyz\\n4399 INFO: Building PYZ (ZlibArchive) C:\\\\Users\\\\matti\\\\Desktop\\\\Magistrale\\\\tesi\\\\poc_detection\\\\temp_dir\\\\build\\\\9673\\\\PYZ-00.pyz completed successfully.\\n4440 INFO: checking PKG\\n4440 INFO: Building PKG because PKG-00.toc is non existent\\n4440 INFO: Building PKG (CArchive) PKG-00.pkg\\n4463 INFO: Building PKG (CArchive) PKG-00.pkg completed successfully.\\n4468 INFO: Bootloader C:\\\\Python27\\\\lib\\\\site-packages\\\\PyInstaller\\\\bootloader\\\\Windows-32bit\\\\run.exe\\n4468 INFO: checking EXE\\n4468 INFO: Building EXE because EXE-00.toc is non existent\\n4468 INFO: Building EXE from EXE-00.toc\\n4468 INFO: Appending archive to EXE C:\\\\Users\\\\matti\\\\Desktop\\\\Magistrale\\\\tesi\\\\poc_detection\\\\temp_dir\\\\build\\\\9673\\\\9673.exe\\n4470 INFO: Building EXE from EXE-00.toc completed successfully.\\n4479 INFO: checking COLLECT\\n4479 INFO: Building COLLECT because COLLECT-00.toc is non existent\\n4480 INFO: Building COLLECT COLLECT-00.toc\\n4529 INFO: Redirecting Microsoft.VC90.CRT version (9, 0, 21022, 8) -> (9, 0, 30729, 9625)\\n4601 INFO: Building COLLECT COLLECT-00.toc completed successfully.')\n",
      "(0, '')\n",
      "(0, '')\n",
      "N: 2296\n",
      "C:\\Python27\\python.exe -m PyInstaller --name \"9690\" 9690.py\n",
      "(1, '230 INFO: PyInstaller: 3.6\\n230 INFO: Python: 2.7.18\\n230 INFO: Platform: Windows-10-10.0.19041\\n233 INFO: wrote C:\\\\Users\\\\matti\\\\Desktop\\\\Magistrale\\\\tesi\\\\poc_detection\\\\temp_dir\\\\9690.spec\\n237 INFO: UPX is not available.\\n242 INFO: Extending PYTHONPATH with paths\\n[\\'C:\\\\\\\\Users\\\\\\\\matti\\\\\\\\Desktop\\\\\\\\Magistrale\\\\\\\\tesi\\\\\\\\poc_detection\\\\\\\\temp_dir\\',\\n \\'C:\\\\\\\\Users\\\\\\\\matti\\\\\\\\Desktop\\\\\\\\Magistrale\\\\\\\\tesi\\\\\\\\poc_detection\\\\\\\\temp_dir\\']\\n242 INFO: checking Analysis\\n243 INFO: Building Analysis because Analysis-00.toc is non existent\\n243 INFO: Initializing module dependency graph...\\n249 INFO: Caching module graph hooks...\\n273 INFO: Caching module dependency graph...\\n308 INFO: running Analysis Analysis-00.toc\\n318 INFO: Adding Microsoft.VC90.CRT to dependent assemblies of final executable\\n  required by C:\\\\Python27\\\\python.exe\\n546 INFO: Found C:\\\\WINDOWS\\\\WinSxS\\\\Manifests\\\\x86_policy.9.0.microsoft.vc90.crt_1fc8b3b9a1e18e3b_9.0.30729.1_none_8550c6b5d18a9128.manifest\\n548 INFO: Found C:\\\\WINDOWS\\\\WinSxS\\\\Manifests\\\\x86_policy.9.0.microsoft.vc90.crt_1fc8b3b9a1e18e3b_9.0.30729.6161_none_f480bfaef65491a5.manifest\\n559 INFO: Found C:\\\\WINDOWS\\\\WinSxS\\\\Manifests\\\\x86_policy.9.0.microsoft.vc90.crt_1fc8b3b9a1e18e3b_9.0.30729.9625_none_f47c6864f6588bd7.manifest\\n700 INFO: Searching for assembly x86_Microsoft.VC90.CRT_1fc8b3b9a1e18e3b_9.0.30729.9625_none ...\\n700 INFO: Found manifest C:\\\\WINDOWS\\\\WinSxS\\\\Manifests\\\\x86_microsoft.vc90.crt_1fc8b3b9a1e18e3b_9.0.30729.9625_none_508ef7e4bcbbe589.manifest\\n700 INFO: Searching for file msvcr90.dll\\n700 INFO: Found file C:\\\\WINDOWS\\\\WinSxS\\\\x86_microsoft.vc90.crt_1fc8b3b9a1e18e3b_9.0.30729.9625_none_508ef7e4bcbbe589\\\\msvcr90.dll\\n700 INFO: Searching for file msvcp90.dll\\n700 INFO: Found file C:\\\\WINDOWS\\\\WinSxS\\\\x86_microsoft.vc90.crt_1fc8b3b9a1e18e3b_9.0.30729.9625_none_508ef7e4bcbbe589\\\\msvcp90.dll\\n700 INFO: Searching for file msvcm90.dll\\n700 INFO: Found file C:\\\\WINDOWS\\\\WinSxS\\\\x86_microsoft.vc90.crt_1fc8b3b9a1e18e3b_9.0.30729.9625_none_508ef7e4bcbbe589\\\\msvcm90.dll\\n799 INFO: Found C:\\\\WINDOWS\\\\WinSxS\\\\Manifests\\\\x86_policy.9.0.microsoft.vc90.crt_1fc8b3b9a1e18e3b_9.0.30729.1_none_8550c6b5d18a9128.manifest\\n799 INFO: Found C:\\\\WINDOWS\\\\WinSxS\\\\Manifests\\\\x86_policy.9.0.microsoft.vc90.crt_1fc8b3b9a1e18e3b_9.0.30729.6161_none_f480bfaef65491a5.manifest\\n799 INFO: Found C:\\\\WINDOWS\\\\WinSxS\\\\Manifests\\\\x86_policy.9.0.microsoft.vc90.crt_1fc8b3b9a1e18e3b_9.0.30729.9625_none_f47c6864f6588bd7.manifest\\n799 INFO: Adding redirect Microsoft.VC90.CRT version (9, 0, 21022, 8) -> (9, 0, 30729, 9625)\\n849 INFO: Analyzing C:\\\\Users\\\\matti\\\\Desktop\\\\Magistrale\\\\tesi\\\\poc_detection\\\\temp_dir\\\\9690.py\\n\\nSyntax error in C:\\\\Users\\\\matti\\\\Desktop\\\\Magistrale\\\\tesi\\\\poc_detection\\\\temp_dir\\\\9690.py\\n  File \"C:\\\\Users\\\\matti\\\\Desktop\\\\Magistrale\\\\tesi\\\\poc_detection\\\\temp_dir\\\\9690.py\", line 13\\n     print \"\\\\n[*] Usage: %s <ip> <port>\\\\n\" % sys.argv[0]\\n         ^\\n IndentationError: expected an indented block\\n')\n",
      "(0, '')\n",
      "(0, '')\n",
      "N: 2299\n",
      "C:\\Python27\\python.exe -m PyInstaller --name \"9695\" 9695.py\n",
      "(0, '121 INFO: PyInstaller: 3.6\\n121 INFO: Python: 2.7.18\\n121 INFO: Platform: Windows-10-10.0.19041\\n123 INFO: wrote C:\\\\Users\\\\matti\\\\Desktop\\\\Magistrale\\\\tesi\\\\poc_detection\\\\temp_dir\\\\9695.spec\\n126 INFO: UPX is not available.\\n128 INFO: Extending PYTHONPATH with paths\\n[\\'C:\\\\\\\\Users\\\\\\\\matti\\\\\\\\Desktop\\\\\\\\Magistrale\\\\\\\\tesi\\\\\\\\poc_detection\\\\\\\\temp_dir\\',\\n \\'C:\\\\\\\\Users\\\\\\\\matti\\\\\\\\Desktop\\\\\\\\Magistrale\\\\\\\\tesi\\\\\\\\poc_detection\\\\\\\\temp_dir\\']\\n128 INFO: checking Analysis\\n128 INFO: Building Analysis because Analysis-00.toc is non existent\\n128 INFO: Initializing module dependency graph...\\n130 INFO: Caching module graph hooks...\\n130 INFO: Caching module dependency graph...\\n157 INFO: running Analysis Analysis-00.toc\\n162 INFO: Adding Microsoft.VC90.CRT to dependent assemblies of final executable\\n  required by C:\\\\Python27\\\\python.exe\\n470 INFO: Found C:\\\\WINDOWS\\\\WinSxS\\\\Manifests\\\\x86_policy.9.0.microsoft.vc90.crt_1fc8b3b9a1e18e3b_9.0.30729.1_none_8550c6b5d18a9128.manifest\\n472 INFO: Found C:\\\\WINDOWS\\\\WinSxS\\\\Manifests\\\\x86_policy.9.0.microsoft.vc90.crt_1fc8b3b9a1e18e3b_9.0.30729.6161_none_f480bfaef65491a5.manifest\\n476 INFO: Found C:\\\\WINDOWS\\\\WinSxS\\\\Manifests\\\\x86_policy.9.0.microsoft.vc90.crt_1fc8b3b9a1e18e3b_9.0.30729.9625_none_f47c6864f6588bd7.manifest\\n662 INFO: Searching for assembly x86_Microsoft.VC90.CRT_1fc8b3b9a1e18e3b_9.0.30729.9625_none ...\\n663 INFO: Found manifest C:\\\\WINDOWS\\\\WinSxS\\\\Manifests\\\\x86_microsoft.vc90.crt_1fc8b3b9a1e18e3b_9.0.30729.9625_none_508ef7e4bcbbe589.manifest\\n666 INFO: Searching for file msvcr90.dll\\n667 INFO: Found file C:\\\\WINDOWS\\\\WinSxS\\\\x86_microsoft.vc90.crt_1fc8b3b9a1e18e3b_9.0.30729.9625_none_508ef7e4bcbbe589\\\\msvcr90.dll\\n667 INFO: Searching for file msvcp90.dll\\n667 INFO: Found file C:\\\\WINDOWS\\\\WinSxS\\\\x86_microsoft.vc90.crt_1fc8b3b9a1e18e3b_9.0.30729.9625_none_508ef7e4bcbbe589\\\\msvcp90.dll\\n667 INFO: Searching for file msvcm90.dll\\n667 INFO: Found file C:\\\\WINDOWS\\\\WinSxS\\\\x86_microsoft.vc90.crt_1fc8b3b9a1e18e3b_9.0.30729.9625_none_508ef7e4bcbbe589\\\\msvcm90.dll\\n870 INFO: Found C:\\\\WINDOWS\\\\WinSxS\\\\Manifests\\\\x86_policy.9.0.microsoft.vc90.crt_1fc8b3b9a1e18e3b_9.0.30729.1_none_8550c6b5d18a9128.manifest\\n871 INFO: Found C:\\\\WINDOWS\\\\WinSxS\\\\Manifests\\\\x86_policy.9.0.microsoft.vc90.crt_1fc8b3b9a1e18e3b_9.0.30729.6161_none_f480bfaef65491a5.manifest\\n874 INFO: Found C:\\\\WINDOWS\\\\WinSxS\\\\Manifests\\\\x86_policy.9.0.microsoft.vc90.crt_1fc8b3b9a1e18e3b_9.0.30729.9625_none_f47c6864f6588bd7.manifest\\n875 INFO: Adding redirect Microsoft.VC90.CRT version (9, 0, 21022, 8) -> (9, 0, 30729, 9625)\\n930 INFO: Analyzing C:\\\\Users\\\\matti\\\\Desktop\\\\Magistrale\\\\tesi\\\\poc_detection\\\\temp_dir\\\\9695.py\\n1014 INFO: Processing module hooks...\\n1014 INFO: Loading module hook \"hook-encodings.py\"...\\n3314 INFO: Looking for ctypes DLLs\\n3314 INFO: Analyzing run-time hooks ...\\n3318 INFO: Looking for dynamic libraries\\n3368 INFO: Looking for eggs\\n3368 INFO: Using Python library C:\\\\WINDOWS\\\\system32\\\\python27.dll\\n3368 INFO: Found binding redirects: \\n[BindingRedirect(name=u\\'Microsoft.VC90.CRT\\', language=None, arch=u\\'x86\\', oldVersion=(9, 0, 21022, 8), newVersion=(9, 0, 30729, 9625), publicKeyToken=u\\'1fc8b3b9a1e18e3b\\')]\\n3371 INFO: Warnings written to C:\\\\Users\\\\matti\\\\Desktop\\\\Magistrale\\\\tesi\\\\poc_detection\\\\temp_dir\\\\build\\\\9695\\\\warn-9695.txt\\n3377 INFO: Graph cross-reference written to C:\\\\Users\\\\matti\\\\Desktop\\\\Magistrale\\\\tesi\\\\poc_detection\\\\temp_dir\\\\build\\\\9695\\\\xref-9695.html\\n3427 INFO: checking PYZ\\n3427 INFO: Building PYZ because PYZ-00.toc is non existent\\n3427 INFO: Building PYZ (ZlibArchive) C:\\\\Users\\\\matti\\\\Desktop\\\\Magistrale\\\\tesi\\\\poc_detection\\\\temp_dir\\\\build\\\\9695\\\\PYZ-00.pyz\\n3654 INFO: Building PYZ (ZlibArchive) C:\\\\Users\\\\matti\\\\Desktop\\\\Magistrale\\\\tesi\\\\poc_detection\\\\temp_dir\\\\build\\\\9695\\\\PYZ-00.pyz completed successfully.\\n3677 INFO: checking PKG\\n3677 INFO: Building PKG because PKG-00.toc is non existent\\n3677 INFO: Building PKG (CArchive) PKG-00.pkg\\n3707 INFO: Building PKG (CArchive) PKG-00.pkg completed successfully.\\n3710 INFO: Bootloader C:\\\\Python27\\\\lib\\\\site-packages\\\\PyInstaller\\\\bootloader\\\\Windows-32bit\\\\run.exe\\n3710 INFO: checking EXE\\n3710 INFO: Building EXE because EXE-00.toc is non existent\\n3710 INFO: Building EXE from EXE-00.toc\\n3712 INFO: Appending archive to EXE C:\\\\Users\\\\matti\\\\Desktop\\\\Magistrale\\\\tesi\\\\poc_detection\\\\temp_dir\\\\build\\\\9695\\\\9695.exe\\n3715 INFO: Building EXE from EXE-00.toc completed successfully.\\n3720 INFO: checking COLLECT\\n3720 INFO: Building COLLECT because COLLECT-00.toc is non existent\\n3722 INFO: Building COLLECT COLLECT-00.toc\\n3773 INFO: Redirecting Microsoft.VC90.CRT version (9, 0, 21022, 8) -> (9, 0, 30729, 9625)\\n3827 INFO: Building COLLECT COLLECT-00.toc completed successfully.')\n",
      "(0, '')\n",
      "(0, '')\n",
      "N: 2303\n",
      "C:\\Python27\\python.exe -m PyInstaller --name \"9734\" 9734.py\n",
      "(0, '124 INFO: PyInstaller: 3.6\\n124 INFO: Python: 2.7.18\\n124 INFO: Platform: Windows-10-10.0.19041\\n124 INFO: wrote C:\\\\Users\\\\matti\\\\Desktop\\\\Magistrale\\\\tesi\\\\poc_detection\\\\temp_dir\\\\9734.spec\\n139 INFO: UPX is not available.\\n143 INFO: Extending PYTHONPATH with paths\\n[\\'C:\\\\\\\\Users\\\\\\\\matti\\\\\\\\Desktop\\\\\\\\Magistrale\\\\\\\\tesi\\\\\\\\poc_detection\\\\\\\\temp_dir\\',\\n \\'C:\\\\\\\\Users\\\\\\\\matti\\\\\\\\Desktop\\\\\\\\Magistrale\\\\\\\\tesi\\\\\\\\poc_detection\\\\\\\\temp_dir\\']\\n143 INFO: checking Analysis\\n143 INFO: Building Analysis because Analysis-00.toc is non existent\\n143 INFO: Initializing module dependency graph...\\n150 INFO: Caching module graph hooks...\\n172 INFO: Caching module dependency graph...\\n203 INFO: running Analysis Analysis-00.toc\\n213 INFO: Adding Microsoft.VC90.CRT to dependent assemblies of final executable\\n  required by C:\\\\Python27\\\\python.exe\\n379 INFO: Found C:\\\\WINDOWS\\\\WinSxS\\\\Manifests\\\\x86_policy.9.0.microsoft.vc90.crt_1fc8b3b9a1e18e3b_9.0.30729.1_none_8550c6b5d18a9128.manifest\\n381 INFO: Found C:\\\\WINDOWS\\\\WinSxS\\\\Manifests\\\\x86_policy.9.0.microsoft.vc90.crt_1fc8b3b9a1e18e3b_9.0.30729.6161_none_f480bfaef65491a5.manifest\\n383 INFO: Found C:\\\\WINDOWS\\\\WinSxS\\\\Manifests\\\\x86_policy.9.0.microsoft.vc90.crt_1fc8b3b9a1e18e3b_9.0.30729.9625_none_f47c6864f6588bd7.manifest\\n720 INFO: Searching for assembly x86_Microsoft.VC90.CRT_1fc8b3b9a1e18e3b_9.0.30729.9625_none ...\\n720 INFO: Found manifest C:\\\\WINDOWS\\\\WinSxS\\\\Manifests\\\\x86_microsoft.vc90.crt_1fc8b3b9a1e18e3b_9.0.30729.9625_none_508ef7e4bcbbe589.manifest\\n723 INFO: Searching for file msvcr90.dll\\n723 INFO: Found file C:\\\\WINDOWS\\\\WinSxS\\\\x86_microsoft.vc90.crt_1fc8b3b9a1e18e3b_9.0.30729.9625_none_508ef7e4bcbbe589\\\\msvcr90.dll\\n723 INFO: Searching for file msvcp90.dll\\n723 INFO: Found file C:\\\\WINDOWS\\\\WinSxS\\\\x86_microsoft.vc90.crt_1fc8b3b9a1e18e3b_9.0.30729.9625_none_508ef7e4bcbbe589\\\\msvcp90.dll\\n723 INFO: Searching for file msvcm90.dll\\n725 INFO: Found file C:\\\\WINDOWS\\\\WinSxS\\\\x86_microsoft.vc90.crt_1fc8b3b9a1e18e3b_9.0.30729.9625_none_508ef7e4bcbbe589\\\\msvcm90.dll\\n916 INFO: Found C:\\\\WINDOWS\\\\WinSxS\\\\Manifests\\\\x86_policy.9.0.microsoft.vc90.crt_1fc8b3b9a1e18e3b_9.0.30729.1_none_8550c6b5d18a9128.manifest\\n917 INFO: Found C:\\\\WINDOWS\\\\WinSxS\\\\Manifests\\\\x86_policy.9.0.microsoft.vc90.crt_1fc8b3b9a1e18e3b_9.0.30729.6161_none_f480bfaef65491a5.manifest\\n920 INFO: Found C:\\\\WINDOWS\\\\WinSxS\\\\Manifests\\\\x86_policy.9.0.microsoft.vc90.crt_1fc8b3b9a1e18e3b_9.0.30729.9625_none_f47c6864f6588bd7.manifest\\n921 INFO: Adding redirect Microsoft.VC90.CRT version (9, 0, 21022, 8) -> (9, 0, 30729, 9625)\\n1047 INFO: Analyzing C:\\\\Users\\\\matti\\\\Desktop\\\\Magistrale\\\\tesi\\\\poc_detection\\\\temp_dir\\\\9734.py\\n1183 INFO: Processing module hooks...\\n1184 INFO: Loading module hook \"hook-encodings.py\"...\\n3552 INFO: Looking for ctypes DLLs\\n3552 INFO: Analyzing run-time hooks ...\\n3559 INFO: Looking for dynamic libraries\\n3610 INFO: Looking for eggs\\n3610 INFO: Using Python library C:\\\\WINDOWS\\\\system32\\\\python27.dll\\n3610 INFO: Found binding redirects: \\n[BindingRedirect(name=u\\'Microsoft.VC90.CRT\\', language=None, arch=u\\'x86\\', oldVersion=(9, 0, 21022, 8), newVersion=(9, 0, 30729, 9625), publicKeyToken=u\\'1fc8b3b9a1e18e3b\\')]\\n3613 INFO: Warnings written to C:\\\\Users\\\\matti\\\\Desktop\\\\Magistrale\\\\tesi\\\\poc_detection\\\\temp_dir\\\\build\\\\9734\\\\warn-9734.txt\\n3633 INFO: Graph cross-reference written to C:\\\\Users\\\\matti\\\\Desktop\\\\Magistrale\\\\tesi\\\\poc_detection\\\\temp_dir\\\\build\\\\9734\\\\xref-9734.html\\n3667 INFO: checking PYZ\\n3669 INFO: Building PYZ because PYZ-00.toc is non existent\\n3669 INFO: Building PYZ (ZlibArchive) C:\\\\Users\\\\matti\\\\Desktop\\\\Magistrale\\\\tesi\\\\poc_detection\\\\temp_dir\\\\build\\\\9734\\\\PYZ-00.pyz\\n3917 INFO: Building PYZ (ZlibArchive) C:\\\\Users\\\\matti\\\\Desktop\\\\Magistrale\\\\tesi\\\\poc_detection\\\\temp_dir\\\\build\\\\9734\\\\PYZ-00.pyz completed successfully.\\n3959 INFO: checking PKG\\n3959 INFO: Building PKG because PKG-00.toc is non existent\\n3959 INFO: Building PKG (CArchive) PKG-00.pkg\\n3976 INFO: Building PKG (CArchive) PKG-00.pkg completed successfully.\\n3979 INFO: Bootloader C:\\\\Python27\\\\lib\\\\site-packages\\\\PyInstaller\\\\bootloader\\\\Windows-32bit\\\\run.exe\\n3979 INFO: checking EXE\\n3979 INFO: Building EXE because EXE-00.toc is non existent\\n3979 INFO: Building EXE from EXE-00.toc\\n3980 INFO: Appending archive to EXE C:\\\\Users\\\\matti\\\\Desktop\\\\Magistrale\\\\tesi\\\\poc_detection\\\\temp_dir\\\\build\\\\9734\\\\9734.exe\\n3982 INFO: Building EXE from EXE-00.toc completed successfully.\\n3986 INFO: checking COLLECT\\n3986 INFO: Building COLLECT because COLLECT-00.toc is non existent\\n3986 INFO: Building COLLECT COLLECT-00.toc\\n4036 INFO: Redirecting Microsoft.VC90.CRT version (9, 0, 21022, 8) -> (9, 0, 30729, 9625)\\n4087 INFO: Building COLLECT COLLECT-00.toc completed successfully.')\n",
      "(0, '')\n",
      "(0, '')\n"
     ]
    },
    {
     "output_type": "execute_result",
     "data": {
      "text/plain": [
       "' \\nfor n in indexes:\\n    i = n\\n    print(\\'N: \\' + str(n))\\n    try:\\n        suffix = \\'.py\\'\\n        temp_file_name = str(df.iloc[i][\\'exploit_db_id\\']) + suffix\\n        temp_file = open(temp_file_name, \\'w\\')\\n        n = temp_file.write(df.iloc[i][\\'exploit\\'])\\n        # print(df.iloc[n][\\'exploit\\'])\\n        temp_file.close()\\n        # assembly_temp = tempdir + str(df.iloc[i][\\'exploit_db_id\\']) + \\'.s\\'\\n\\n        #INSERT HERE CORRECT COMMAND\\n\\n        vcvars = \\'\"C:\\\\Program Files (x86)\\\\Microsoft Visual Studio\\\\2019\\\\BuildTools\\\\VC\\\\Auxiliary\\\\Build\\\\vcvars64\"\\'\\n        compile_command = vcvars + \\' && cl \\' + temp_file_name + \\' /Fa\\'\\n        print(compile_command)\\n\\n        cc = subprocess.getstatusoutput(compile_command)\\n        print(cc)\\n\\n        remove = \\'del \\' + temp_file_name\\n        remove = subprocess.getstatusoutput(remove)\\n        print(remove)\\n    except:\\n        print(\\'Invalid file\\')\\n\\n '"
      ]
     },
     "metadata": {},
     "execution_count": 3
    }
   ],
   "source": [
    "#get py scripts and generate executable from them\n",
    "suffix = 'py'\n",
    "indexes = df.loc[df.isin([suffix]).any(axis=1)].index.tolist()\n",
    "print(str(indexes))\n",
    "os.chdir('C:\\\\Users\\\\matti\\\\Desktop\\\\Magistrale\\\\tesi\\\\poc_detection\\\\temp_dir')\n",
    "\n",
    "# os.chdir('C:\\\\Users\\\\matti\\\\Desktop\\\\Magistrale\\\\tesi\\\\poc_detection\\\\temp_dir')\n",
    "\"\"\" pip_install = 'pip install pyinstaller'\n",
    "pip_install = subprocess.getstatusoutput(pip_install)\n",
    "print(pip_install) \"\"\"\n",
    "#C:\\Python27\n",
    "for n in indexes:\n",
    "    i = n\n",
    "    print('N: ' + str(n))\n",
    "    try:\n",
    "        suffix = '.py'\n",
    "        # python -m PyInstaller --name \"10226\" \"C:\\Users\\matti\\Desktop\\Magistrale\\tesi\\poc_detection\\temp_dir\\10226.py\"\n",
    "        temp_file_name = str(df.iloc[i]['exploit_db_id']) + suffix\n",
    "        temp_file = open(temp_file_name, 'w')\n",
    "        n = temp_file.write(df.iloc[i]['exploit'])\n",
    "        # print(df.iloc[n]['exploit'])\n",
    "        temp_file.close()\n",
    "        generate_exe = 'C:\\\\Python27\\\\python.exe -m PyInstaller --name \\\"' + str(df.iloc[i]['exploit_db_id']) + '\\\" ' + temp_file_name\n",
    "        print(generate_exe)\n",
    "        cc = subprocess.getstatusoutput(generate_exe)\n",
    "        print(cc)\n",
    "        remove = 'del ' + temp_file_name\n",
    "        remove = subprocess.getstatusoutput(remove)\n",
    "        print(remove)\n",
    "        remove = 'del ' + str(df.iloc[i]['exploit_db_id']) + '.spec'\n",
    "        remove = subprocess.getstatusoutput(remove)\n",
    "        print(remove)\n",
    "\n",
    "    except:\n",
    "        print('Invalid file')\n",
    "\n",
    "\n",
    "\n",
    "\"\"\" \n",
    "for n in indexes:\n",
    "    i = n\n",
    "    print('N: ' + str(n))\n",
    "    try:\n",
    "        suffix = '.py'\n",
    "        temp_file_name = str(df.iloc[i]['exploit_db_id']) + suffix\n",
    "        temp_file = open(temp_file_name, 'w')\n",
    "        n = temp_file.write(df.iloc[i]['exploit'])\n",
    "        # print(df.iloc[n]['exploit'])\n",
    "        temp_file.close()\n",
    "        # assembly_temp = tempdir + str(df.iloc[i]['exploit_db_id']) + '.s'\n",
    "\n",
    "        #INSERT HERE CORRECT COMMAND\n",
    "\n",
    "        vcvars = '\\\"C:\\\\Program Files (x86)\\\\Microsoft Visual Studio\\\\2019\\\\BuildTools\\\\VC\\\\Auxiliary\\\\Build\\\\vcvars64\\\"'\n",
    "        compile_command = vcvars + ' && cl ' + temp_file_name + ' /Fa'\n",
    "        print(compile_command)\n",
    "\n",
    "        cc = subprocess.getstatusoutput(compile_command)\n",
    "        print(cc)\n",
    "\n",
    "        remove = 'del ' + temp_file_name\n",
    "        remove = subprocess.getstatusoutput(remove)\n",
    "        print(remove)\n",
    "    except:\n",
    "        print('Invalid file')\n",
    "\n",
    " \"\"\"\n"
   ]
  },
  {
   "cell_type": "code",
   "execution_count": 3,
   "metadata": {},
   "outputs": [
    {
     "output_type": "stream",
     "name": "stdout",
     "text": [
      "[0, 1, 3, 9, 18, 24, 25, 29, 33, 38, 39, 41, 43, 45, 58, 59, 66, 73, 134, 155, 175, 195, 204, 207, 216, 232, 244, 251, 252, 268, 273, 293, 311, 325, 334, 340, 341, 346, 363, 368, 371, 374, 390, 395, 396, 429, 435, 436, 437, 438, 453, 454, 455, 456, 461, 487, 494, 508, 510, 532, 533, 535, 543, 553, 557, 573, 574, 575, 580, 622, 642, 643, 695, 854, 855, 859, 904, 1095, 1109, 1153, 1238, 1247, 1292, 1293, 1354, 1425, 1479, 1507, 1519, 1683, 1692, 1730, 1732, 1739, 1740, 1741, 1753, 1773, 1778, 1784, 1787, 1794, 1797, 1811, 1814, 1821, 1822, 1828, 1833, 1838, 1846, 1849, 1851, 1852, 1853, 1858, 1869, 1872, 1873, 1879, 1884, 1886, 1921, 1922, 1927, 1936, 1943, 1952, 1954, 1955, 1956, 1971, 1975, 1989, 1991, 1995, 2015, 2019, 2020, 2022, 2024, 2025, 2029, 2030, 2031, 2032, 2033, 2034, 2035, 2036, 2038, 2039, 2045, 2046, 2049, 2056, 2057, 2058, 2061, 2063, 2064, 2067, 2074, 2075, 2076, 2081, 2083, 2084, 2085, 2087, 2095, 2102, 2103, 2105, 2106, 2107, 2108, 2109, 2110, 2112, 2113, 2114, 2116, 2120, 2122, 2125, 2126, 2127, 2128, 2129, 2134, 2137, 2139, 2144, 2148, 2149, 2152, 2153, 2154, 2157, 2158, 2161, 2162, 2163, 2164, 2165, 2166, 2167, 2168, 2169, 2170, 2171, 2174, 2175, 2177, 2181, 2185, 2199, 2201, 2207, 2208, 2209, 2210, 2211, 2212, 2213, 2216, 2222, 2223, 2225, 2226, 2227, 2230, 2231, 2232, 2235, 2236, 2237, 2238, 2244, 2247, 2248, 2250, 2251, 2253, 2254, 2255, 2258, 2259, 2261, 2262, 2263, 2264, 2268, 2269, 2270, 2271, 2273, 2277, 2279, 2280, 2283, 2287, 2288, 2295, 2297, 2301]\nexploit_db_id                                                  10102\ncve_id                                                 CVE-2009-4186\nexploit            #!/usr/bin/perl\\n# ithinkthereforeiexist.pl\\n#...\ntype_of_exploit                                                   pl\nName: 0, dtype: object\npp -o 10102.exe 10102.pl\n(1, '\"pp\" non Š riconosciuto come comando interno o esterno,\\n un programma eseguibile o un file batch.')\n"
     ]
    }
   ],
   "source": [
    " #get perl scripts and generate executable from them\n",
    "suffix = 'pl'\n",
    "indexes = df.loc[df.isin([suffix]).any(axis=1)].index.tolist()\n",
    "print(str(indexes))\n",
    "os.chdir('C:\\\\Users\\\\matti\\\\Desktop\\\\Magistrale\\\\tesi\\\\poc_detection\\\\temp_dir')\n",
    "\n",
    "suffix = '.pl'\n",
    "# python -m PyInstaller --name \"10226\" \"C:\\Users\\matti\\Desktop\\Magistrale\\tesi\\poc_detection\\temp_dir\\10226.py\"\n",
    "print(df.iloc[0])\n",
    "temp_file_name = str(df.iloc[0]['exploit_db_id']) + suffix\n",
    "temp_file = open(temp_file_name, 'w')\n",
    "n = temp_file.write(df.iloc[0]['exploit'])\n",
    "# print(df.iloc[n]['exploit'])\n",
    "temp_file.close()\n",
    "generate_exe = 'pp -o ' + str(df.iloc[0]['exploit_db_id']) + '.exe ' + temp_file_name\n",
    "print(generate_exe)\n",
    "cc = subprocess.getstatusoutput(generate_exe)\n",
    "print(cc)\n",
    "# pp -o packed.exe source.pl\n",
    "\n",
    "\n",
    "\n",
    "# os.chdir('C:\\\\Users\\\\matti\\\\Desktop\\\\Magistrale\\\\tesi\\\\poc_detection\\\\temp_dir')\n",
    "\n",
    "#C:\\Python27\n",
    "# for n in indexes:\n",
    "#     i = n\n",
    "#     print('N: ' + str(n))\n",
    "#     try:\n",
    "#         suffix = '.py'\n",
    "#         # python -m PyInstaller --name \"10226\" \"C:\\Users\\matti\\Desktop\\Magistrale\\tesi\\poc_detection\\temp_dir\\10226.py\"\n",
    "#         temp_file_name = str(df.iloc[i]['exploit_db_id']) + suffix\n",
    "#         temp_file = open(temp_file_name, 'w')\n",
    "#         n = temp_file.write(df.iloc[i]['exploit'])\n",
    "#         # print(df.iloc[n]['exploit'])\n",
    "#         temp_file.close()\n",
    "#         generate_exe = 'C:\\\\Python27\\\\python.exe -m PyInstaller --name \\\"' + str(df.iloc[i]['exploit_db_id']) + '\\\" ' + temp_file_name\n",
    "#         print(generate_exe)\n",
    "#         cc = subprocess.getstatusoutput(generate_exe)\n",
    "#         print(cc)\n",
    "#         remove = 'del ' + temp_file_name\n",
    "#         remove = subprocess.getstatusoutput(remove)\n",
    "#         print(remove)\n",
    "#         remove = 'del ' + str(df.iloc[i]['exploit_db_id']) + '.spec'\n",
    "#         remove = subprocess.getstatusoutput(remove)\n",
    "#         print(remove)\n",
    "\n",
    "#     except:\n",
    "#         print('Invalid file')"
   ]
  },
  {
   "cell_type": "code",
   "execution_count": 9,
   "metadata": {},
   "outputs": [
    {
     "output_type": "stream",
     "name": "stdout",
     "text": [
      "['pl' 'py' 'txt' 'html' 'c' 'rb' 'php' 'cpp' 'js' 'sh' 'pm' 'cs' 'g' 'ps1'\n 'xhtml' 'svg' 'md' 'asp' 'asm' 'jar']\ntxt      667\nhtml     385\npy       372\npl       267\nc        196\nrb       182\ncpp       98\nphp       52\njs        52\ncs        15\nps1        4\nsh         3\npm         3\nasp        2\nmd         2\ng          1\nasm        1\njar        1\nxhtml      1\nsvg        1\nName: type_of_exploit, dtype: int64\n"
     ]
    }
   ],
   "source": [
    "# print(df['type_of_exploit'].apply(lambda col: col.unique()))\n",
    "# df\n",
    "print(df['type_of_exploit'].unique())\n",
    "print(df['type_of_exploit'].value_counts())\n"
   ]
  }
 ]
}