{
 "metadata": {
  "language_info": {
   "codemirror_mode": {
    "name": "ipython",
    "version": 3
   },
   "file_extension": ".py",
   "mimetype": "text/x-python",
   "name": "python",
   "nbconvert_exporter": "python",
   "pygments_lexer": "ipython3",
   "version": "3.8.0-final"
  },
  "orig_nbformat": 2,
  "kernelspec": {
   "name": "python380jvsc74a57bd0c93eb79a4de8b813ee462aca0ebe18c208a4748341e878e931952cb4f431f726",
   "display_name": "Python 3.8.0 64-bit"
  }
 },
 "nbformat": 4,
 "nbformat_minor": 2,
 "cells": [
  {
   "cell_type": "code",
   "execution_count": 2,
   "metadata": {},
   "outputs": [
    {
     "output_type": "stream",
     "name": "stdout",
     "text": [
      "done\n"
     ]
    }
   ],
   "source": [
    "import subprocess\n",
    "import os\n",
    "from pprint import pprint\n",
    "import json\n",
    "import pandas as pd\n",
    "print('done')"
   ]
  },
  {
   "cell_type": "code",
   "execution_count": 3,
   "metadata": {},
   "outputs": [
    {
     "output_type": "stream",
     "name": "stdout",
     "text": [
      "      exploit_db_id                        cve_id  \\\n0             10102                 CVE-2009-4186   \n1             10201                 CVE-2009-4781   \n2             10226                 CVE-2009-4097   \n3             10258                 CVE-2009-4194   \n4             10484                 CVE-2009-4452   \n...             ...                           ...   \n2300           9705                 CVE-2009-4663   \n2301           9707                 CVE-2009-4659   \n2302           9717   CVE-2009-4657 CVE-2009-4658   \n2303           9734                 CVE-2009-4661   \n2304            983                 CVE-2005-1667   \n\n                                                exploit type_of_exploit  \n0     #!/usr/bin/perl\\n# ithinkthereforeiexist.pl\\n#...              pl  \n1     #!/usr/bin/perl\\n\\n# Exploit: TEKUVA Password ...              pl  \n2     #!/usr/bin/python\\n#\\n# ######################...              py  \n3     # Exploit Title: [Golden FTP Server File Delet...              pl  \n4     ShineShadow Security Report 16122009-15\\n\\nTIT...             txt  \n...                                                 ...             ...  \n2300  <html>\\n <head>\\n    <!--\\n      -- Quiksoft E...            html  \n2301  #!/usr/bin/perl\\n#############################...              pl  \n2302  ##############################################...             txt  \n2303  #!/usr/bin/env python\\n\\n#####################...              py  \n2304  /*\\n\\nDataTrac Activity Console DoS Exploit\\n-...             cpp  \n\n[2305 rows x 4 columns]\n"
     ]
    }
   ],
   "source": [
    "# df = pd.read_csv('/home/mattia/Downloads/cve_with_exploits.csv')\n",
    "df = pd.read_csv('datasets/cve_with_exploits.csv')\n",
    "print(df)"
   ]
  },
  {
   "cell_type": "code",
   "execution_count": 4,
   "metadata": {
    "tags": []
   },
   "outputs": [
    {
     "output_type": "stream",
     "name": "stdout",
     "text": [
      "[7, 12, 30, 34, 35, 37, 50, 54, 55, 76, 77, 78, 79, 80, 81, 82, 83, 84, 85, 86, 87, 88, 93, 94, 95, 96, 97, 98, 99, 100, 101, 102, 103, 104, 105, 106, 107, 108, 109, 110, 111, 112, 113, 114, 150, 157, 165, 167, 177, 178, 179, 221, 239, 247, 259, 330, 332, 342, 343, 344, 348, 355, 357, 360, 377, 380, 383, 384, 391, 392, 407, 411, 412, 413, 415, 416, 418, 427, 434, 467, 468, 491, 509, 517, 525, 528, 540, 582, 583, 590, 591, 594, 595, 597, 598, 599, 600, 612, 618, 630, 634, 644, 645, 647, 648, 651, 652, 689, 692, 693, 694, 698, 699, 714, 791, 792, 814, 825, 910, 920, 944, 988, 995, 1000, 1018, 1037, 1051, 1052, 1077, 1107, 1125, 1195, 1218, 1237, 1239, 1266, 1267, 1275, 1276, 1336, 1376, 1381, 1383, 1385, 1409, 1481, 1485, 1486, 1520, 1557, 1585, 1596, 1598, 1621, 1669, 1705, 1711, 1723, 1725, 1729, 1744, 1750, 1754, 1755, 1756, 1757, 1781, 1789, 1808, 1835, 1839, 1845, 1847, 1854, 1855, 1860, 1865, 1866, 1897, 1901, 1905, 1907, 1920, 1929, 1961, 1978, 2059, 2079, 2093, 2111, 2123, 2172, 2183, 2189, 2202, 2203]\n   exploit_db_id          cve_id  \\\n7          10745   CVE-2009-5109   \n\n                                             exploit type_of_exploit  \n7  /*\\n\\nriptheministreamripper.c\\n\\nMini-stream ...               c  \n"
     ]
    }
   ],
   "source": [
    "suffix = 'c'\n",
    "indexes = df.loc[df.isin([suffix]).any(axis=1)].index.tolist()\n",
    "print(str(indexes))\n",
    "print(df.loc[[7]])\n",
    "#for n in indexes:\n",
    "#    print((df.iloc[n]['exploit']))\n",
    "#df.iloc[n], with n in indexes, to get exploit with suffix extension"
   ]
  },
  {
   "cell_type": "code",
   "execution_count": 16,
   "metadata": {},
   "outputs": [
    {
     "output_type": "stream",
     "name": "stdout",
     "text": [
      "['PATH=C:\\\\Users\\\\matti\\\\AppData\\\\Local\\\\Programs\\\\Python\\\\Python38\\\\lib\\\\site-packages\\\\numpy\\\\DLLs', 'C:\\\\WINDOWS\\\\system32', 'C:\\\\WINDOWS', 'C:\\\\WINDOWS\\\\System32\\\\Wbem', 'C:\\\\WINDOWS\\\\System32\\\\WindowsPowerShell\\\\v1.0\\\\', 'C:\\\\WINDOWS\\\\System32\\\\OpenSSH\\\\', 'C:\\\\Program Files\\\\Git\\\\cmd', 'C:\\\\Users\\\\matti\\\\AppData\\\\Local\\\\Microsoft\\\\WindowsApps', 'C:\\\\Program Files\\\\JetBrains\\\\PyCharm 2019.2.3\\\\bin', '', 'C:\\\\Users\\\\matti\\\\AppData\\\\Roaming\\\\Zoom\\\\bin', 'C:\\\\Users\\\\matti\\\\AppData\\\\Local\\\\Programs\\\\Microsoft VS Code\\\\bin', 'C:\\\\Program Files (x86)\\\\mingw-w64\\\\i686-8.1.0-posix-dwarf-rt_v6-rev0\\\\mingw32\\\\bin', 'C:\\\\Program Files (x86)\\\\mingw-w64\\\\i686-8.1.0-win32-dwarf-rt_v6-rev0\\\\mingw32\\\\bin', 'C:\\\\Program Files (x86)\\\\Microsoft Visual Studio\\\\2019\\\\BuildTools\\\\VC\\\\Tools\\\\MSVC\\\\14.28.29910\\\\bin\\\\Hostx64\\\\x64', '', 'C:\\\\Users\\\\matti\\\\AppData\\\\Local\\\\Programs\\\\Python\\\\Python38\\\\lib\\\\site-packages\\\\pywin32_system32']\n\"vcvars64\" non Š riconosciuto come comando interno o esterno,\n un programma eseguibile o un file batch.\n"
     ]
    }
   ],
   "source": [
    "path = 'path'\n",
    "path = subprocess.getstatusoutput(path)[1]\n",
    "print(path.split(';'))\n",
    "\n",
    "vcvars = 'vcvars64'\n",
    "vcvars = subprocess.getstatusoutput(vcvars)[1]\n",
    "print(vcvars)"
   ]
  },
  {
   "cell_type": "code",
   "execution_count": 5,
   "metadata": {
    "tags": [
     "outputPrepend"
    ]
   },
   "outputs": [
    {
     "output_type": "stream",
     "name": "stdout",
     "text": [
      "VC\\Auxiliary\\Build\\vcvars64\" && cl 2815.c /Fa\n",
      "(0, \"**********************************************************************\\n** Visual Studio 2019 Developer Command Prompt v16.9.3\\n** Copyright (c) 2021 Microsoft Corporation\\n**********************************************************************\\n[vcvarsall.bat] Environment initialized for: 'x64'\\nMicrosoft (R) C/C++ Optimizing Compiler versione 19.28.29913 per x64\\nCopyright (C) Microsoft Corporation. Tutti i diritti  sono riservati.\\n\\n2815.c\\nMicrosoft (R) Incremental Linker Version 14.28.29913.0\\nCopyright (C) Microsoft Corporation.  All rights reserved.\\n\\n/out:2815.exe \\n2815.obj \")\n",
      "(0, '')\n",
      "N: 412\n",
      "Temp file name: 2860.c\n",
      "\"C:\\Program Files (x86)\\Microsoft Visual Studio\\2019\\BuildTools\\VC\\Auxiliary\\Build\\vcvars64\" && cl 2860.c /Fa\n",
      "(0, \"**********************************************************************\\n** Visual Studio 2019 Developer Command Prompt v16.9.3\\n** Copyright (c) 2021 Microsoft Corporation\\n**********************************************************************\\n[vcvarsall.bat] Environment initialized for: 'x64'\\nMicrosoft (R) C/C++ Optimizing Compiler versione 19.28.29913 per x64\\nCopyright (C) Microsoft Corporation. Tutti i diritti  sono riservati.\\n\\n2860.c\\nMicrosoft (R) Incremental Linker Version 14.28.29913.0\\nCopyright (C) Microsoft Corporation.  All rights reserved.\\n\\n/out:2860.exe \\n2860.obj \")\n",
      "(0, '')\n",
      "N: 413\n",
      "Temp file name: 2861.c\n",
      "\"C:\\Program Files (x86)\\Microsoft Visual Studio\\2019\\BuildTools\\VC\\Auxiliary\\Build\\vcvars64\" && cl 2861.c /Fa\n",
      "(0, \"**********************************************************************\\n** Visual Studio 2019 Developer Command Prompt v16.9.3\\n** Copyright (c) 2021 Microsoft Corporation\\n**********************************************************************\\n[vcvarsall.bat] Environment initialized for: 'x64'\\nMicrosoft (R) C/C++ Optimizing Compiler versione 19.28.29913 per x64\\nCopyright (C) Microsoft Corporation. Tutti i diritti  sono riservati.\\n\\n2861.c\\nMicrosoft (R) Incremental Linker Version 14.28.29913.0\\nCopyright (C) Microsoft Corporation.  All rights reserved.\\n\\n/out:2861.exe \\n2861.obj \")\n",
      "(0, '')\n",
      "N: 415\n",
      "Temp file name: 2872.c\n",
      "\"C:\\Program Files (x86)\\Microsoft Visual Studio\\2019\\BuildTools\\VC\\Auxiliary\\Build\\vcvars64\" && cl 2872.c /Fa\n",
      "(2, \"**********************************************************************\\n** Visual Studio 2019 Developer Command Prompt v16.9.3\\n** Copyright (c) 2021 Microsoft Corporation\\n**********************************************************************\\n[vcvarsall.bat] Environment initialized for: 'x64'\\nMicrosoft (R) C/C++ Optimizing Compiler versione 19.28.29913 per x64\\nCopyright (C) Microsoft Corporation. Tutti i diritti  sono riservati.\\n\\n2872.c\\n2872.c(70): fatal error C1083: Non Š possibile aprire il file inclusione: 'unistd.h': No such file or directory\")\n",
      "(0, '')\n",
      "N: 416\n",
      "Temp file name: 2873.c\n",
      "\"C:\\Program Files (x86)\\Microsoft Visual Studio\\2019\\BuildTools\\VC\\Auxiliary\\Build\\vcvars64\" && cl 2873.c /Fa\n",
      "(0, \"**********************************************************************\\n** Visual Studio 2019 Developer Command Prompt v16.9.3\\n** Copyright (c) 2021 Microsoft Corporation\\n**********************************************************************\\n[vcvarsall.bat] Environment initialized for: 'x64'\\nMicrosoft (R) C/C++ Optimizing Compiler versione 19.28.29913 per x64\\nCopyright (C) Microsoft Corporation. Tutti i diritti  sono riservati.\\n\\n2873.c\\nMicrosoft (R) Incremental Linker Version 14.28.29913.0\\nCopyright (C) Microsoft Corporation.  All rights reserved.\\n\\n/out:2873.exe \\n2873.obj \")\n",
      "(0, '')\n",
      "N: 418\n",
      "Temp file name: 2880.c\n",
      "\"C:\\Program Files (x86)\\Microsoft Visual Studio\\2019\\BuildTools\\VC\\Auxiliary\\Build\\vcvars64\" && cl 2880.c /Fa\n",
      "(0, \"**********************************************************************\\n** Visual Studio 2019 Developer Command Prompt v16.9.3\\n** Copyright (c) 2021 Microsoft Corporation\\n**********************************************************************\\n[vcvarsall.bat] Environment initialized for: 'x64'\\nMicrosoft (R) C/C++ Optimizing Compiler versione 19.28.29913 per x64\\nCopyright (C) Microsoft Corporation. Tutti i diritti  sono riservati.\\n\\n2880.c\\nMicrosoft (R) Incremental Linker Version 14.28.29913.0\\nCopyright (C) Microsoft Corporation.  All rights reserved.\\n\\n/out:2880.exe \\n2880.obj \")\n",
      "(0, '')\n",
      "N: 427\n",
      "Temp file name: 2950.c\n",
      "\"C:\\Program Files (x86)\\Microsoft Visual Studio\\2019\\BuildTools\\VC\\Auxiliary\\Build\\vcvars64\" && cl 2950.c /Fa\n",
      "(2, \"**********************************************************************\\n** Visual Studio 2019 Developer Command Prompt v16.9.3\\n** Copyright (c) 2021 Microsoft Corporation\\n**********************************************************************\\n[vcvarsall.bat] Environment initialized for: 'x64'\\nMicrosoft (R) C/C++ Optimizing Compiler versione 19.28.29913 per x64\\nCopyright (C) Microsoft Corporation. Tutti i diritti  sono riservati.\\n\\n2950.c\\n2950.c(64): fatal error C1083: Non Š possibile aprire il file inclusione: 'unistd.h': No such file or directory\")\n",
      "(0, '')\n",
      "N: 434\n",
      "Temp file name: 2972.c\n",
      "\"C:\\Program Files (x86)\\Microsoft Visual Studio\\2019\\BuildTools\\VC\\Auxiliary\\Build\\vcvars64\" && cl 2972.c /Fa\n",
      "(2, \"**********************************************************************\\n** Visual Studio 2019 Developer Command Prompt v16.9.3\\n** Copyright (c) 2021 Microsoft Corporation\\n**********************************************************************\\n[vcvarsall.bat] Environment initialized for: 'x64'\\nMicrosoft (R) C/C++ Optimizing Compiler versione 19.28.29913 per x64\\nCopyright (C) Microsoft Corporation. Tutti i diritti  sono riservati.\\n\\n2972.c\\n2972.c(83): error C2065: 'i': identificatore non dichiarato\\n2972.c(92): error C2065: 'i': identificatore non dichiarato\\n2972.c(100): error C2065: 'i': identificatore non dichiarato\\n2972.c(101): error C2065: 'i': identificatore non dichiarato\")\n",
      "(0, '')\n",
      "N: 467\n",
      "Temp file name: 3126.c\n",
      "\"C:\\Program Files (x86)\\Microsoft Visual Studio\\2019\\BuildTools\\VC\\Auxiliary\\Build\\vcvars64\" && cl 3126.c /Fa\n",
      "(0, \"**********************************************************************\\n** Visual Studio 2019 Developer Command Prompt v16.9.3\\n** Copyright (c) 2021 Microsoft Corporation\\n**********************************************************************\\n[vcvarsall.bat] Environment initialized for: 'x64'\\nMicrosoft (R) C/C++ Optimizing Compiler versione 19.28.29913 per x64\\nCopyright (C) Microsoft Corporation. Tutti i diritti  sono riservati.\\n\\n3126.c\\nMicrosoft (R) Incremental Linker Version 14.28.29913.0\\nCopyright (C) Microsoft Corporation.  All rights reserved.\\n\\n/out:3126.exe \\n3126.obj \")\n",
      "(0, '')\n",
      "N: 468\n",
      "Temp file name: 3128.c\n",
      "\"C:\\Program Files (x86)\\Microsoft Visual Studio\\2019\\BuildTools\\VC\\Auxiliary\\Build\\vcvars64\" && cl 3128.c /Fa\n",
      "(0, \"**********************************************************************\\n** Visual Studio 2019 Developer Command Prompt v16.9.3\\n** Copyright (c) 2021 Microsoft Corporation\\n**********************************************************************\\n[vcvarsall.bat] Environment initialized for: 'x64'\\nMicrosoft (R) C/C++ Optimizing Compiler versione 19.28.29913 per x64\\nCopyright (C) Microsoft Corporation. Tutti i diritti  sono riservati.\\n\\n3128.c\\nMicrosoft (R) Incremental Linker Version 14.28.29913.0\\nCopyright (C) Microsoft Corporation.  All rights reserved.\\n\\n/out:3128.exe \\n3128.obj \")\n",
      "(0, '')\n",
      "N: 491\n",
      "Temp file name: 3224.c\n",
      "\"C:\\Program Files (x86)\\Microsoft Visual Studio\\2019\\BuildTools\\VC\\Auxiliary\\Build\\vcvars64\" && cl 3224.c /Fa\n",
      "(2, \"**********************************************************************\\n** Visual Studio 2019 Developer Command Prompt v16.9.3\\n** Copyright (c) 2021 Microsoft Corporation\\n**********************************************************************\\n[vcvarsall.bat] Environment initialized for: 'x64'\\nMicrosoft (R) C/C++ Optimizing Compiler versione 19.28.29913 per x64\\nCopyright (C) Microsoft Corporation. Tutti i diritti  sono riservati.\\n\\n3224.c\\n3224.c(28): fatal error C1083: Non Š possibile aprire il file inclusione: 'unistd.h': No such file or directory\")\n",
      "(0, '')\n",
      "N: 509\n",
      "Temp file name: 3296.c\n",
      "\"C:\\Program Files (x86)\\Microsoft Visual Studio\\2019\\BuildTools\\VC\\Auxiliary\\Build\\vcvars64\" && cl 3296.c /Fa\n",
      "(0, \"**********************************************************************\\n** Visual Studio 2019 Developer Command Prompt v16.9.3\\n** Copyright (c) 2021 Microsoft Corporation\\n**********************************************************************\\n[vcvarsall.bat] Environment initialized for: 'x64'\\nMicrosoft (R) C/C++ Optimizing Compiler versione 19.28.29913 per x64\\nCopyright (C) Microsoft Corporation. Tutti i diritti  sono riservati.\\n\\n3296.c\\n3296.c(108): warning C4312: 'cast di tipo': conversione da 'int' a 'char *', di dimensioni maggiori\\n3296.c(115): warning C4312: 'cast di tipo': conversione da 'int' a 'char *', di dimensioni maggiori\\nMicrosoft (R) Incremental Linker Version 14.28.29913.0\\nCopyright (C) Microsoft Corporation.  All rights reserved.\\n\\n/out:3296.exe \\n3296.obj \")\n",
      "(0, '')\n",
      "N: 517\n",
      "Temp file name: 3331.c\n",
      "\"C:\\Program Files (x86)\\Microsoft Visual Studio\\2019\\BuildTools\\VC\\Auxiliary\\Build\\vcvars64\" && cl 3331.c /Fa\n",
      "(2, \"**********************************************************************\\n** Visual Studio 2019 Developer Command Prompt v16.9.3\\n** Copyright (c) 2021 Microsoft Corporation\\n**********************************************************************\\n[vcvarsall.bat] Environment initialized for: 'x64'\\nMicrosoft (R) C/C++ Optimizing Compiler versione 19.28.29913 per x64\\nCopyright (C) Microsoft Corporation. Tutti i diritti  sono riservati.\\n\\n3331.c\\n3331.c(23): fatal error C1083: Non Š possibile aprire il file inclusione: 'sys/socket.h': No such file or directory\")\n",
      "(0, '')\n",
      "N: 525\n",
      "Temp file name: 3342.c\n",
      "\"C:\\Program Files (x86)\\Microsoft Visual Studio\\2019\\BuildTools\\VC\\Auxiliary\\Build\\vcvars64\" && cl 3342.c /Fa\n",
      "(0, \"**********************************************************************\\n** Visual Studio 2019 Developer Command Prompt v16.9.3\\n** Copyright (c) 2021 Microsoft Corporation\\n**********************************************************************\\n[vcvarsall.bat] Environment initialized for: 'x64'\\nMicrosoft (R) C/C++ Optimizing Compiler versione 19.28.29913 per x64\\nCopyright (C) Microsoft Corporation. Tutti i diritti  sono riservati.\\n\\n3342.c\\nMicrosoft (R) Incremental Linker Version 14.28.29913.0\\nCopyright (C) Microsoft Corporation.  All rights reserved.\\n\\n/out:3342.exe \\n3342.obj \")\n",
      "(0, '')\n",
      "N: 528\n",
      "Temp file name: 3349.c\n",
      "\"C:\\Program Files (x86)\\Microsoft Visual Studio\\2019\\BuildTools\\VC\\Auxiliary\\Build\\vcvars64\" && cl 3349.c /Fa\n",
      "(0, \"**********************************************************************\\n** Visual Studio 2019 Developer Command Prompt v16.9.3\\n** Copyright (c) 2021 Microsoft Corporation\\n**********************************************************************\\n[vcvarsall.bat] Environment initialized for: 'x64'\\nMicrosoft (R) C/C++ Optimizing Compiler versione 19.28.29913 per x64\\nCopyright (C) Microsoft Corporation. Tutti i diritti  sono riservati.\\n\\n3349.c\\nMicrosoft (R) Incremental Linker Version 14.28.29913.0\\nCopyright (C) Microsoft Corporation.  All rights reserved.\\n\\n/out:3349.exe \\n3349.obj \")\n",
      "(0, '')\n",
      "N: 540\n",
      "Temp file name: 3395.c\n",
      "\"C:\\Program Files (x86)\\Microsoft Visual Studio\\2019\\BuildTools\\VC\\Auxiliary\\Build\\vcvars64\" && cl 3395.c /Fa\n",
      "(0, \"**********************************************************************\\n** Visual Studio 2019 Developer Command Prompt v16.9.3\\n** Copyright (c) 2021 Microsoft Corporation\\n**********************************************************************\\n[vcvarsall.bat] Environment initialized for: 'x64'\\nMicrosoft (R) C/C++ Optimizing Compiler versione 19.28.29913 per x64\\nCopyright (C) Microsoft Corporation. Tutti i diritti  sono riservati.\\n\\n3395.c\\nMicrosoft (R) Incremental Linker Version 14.28.29913.0\\nCopyright (C) Microsoft Corporation.  All rights reserved.\\n\\n/out:3395.exe \\n3395.obj \")\n",
      "(0, '')\n",
      "N: 582\n",
      "Temp file name: 3544.c\n",
      "\"C:\\Program Files (x86)\\Microsoft Visual Studio\\2019\\BuildTools\\VC\\Auxiliary\\Build\\vcvars64\" && cl 3544.c /Fa\n",
      "(0, \"**********************************************************************\\n** Visual Studio 2019 Developer Command Prompt v16.9.3\\n** Copyright (c) 2021 Microsoft Corporation\\n**********************************************************************\\n[vcvarsall.bat] Environment initialized for: 'x64'\\nMicrosoft (R) C/C++ Optimizing Compiler versione 19.28.29913 per x64\\nCopyright (C) Microsoft Corporation. Tutti i diritti  sono riservati.\\n\\n3544.c\\nMicrosoft (R) Incremental Linker Version 14.28.29913.0\\nCopyright (C) Microsoft Corporation.  All rights reserved.\\n\\n/out:3544.exe \\n3544.obj \")\n",
      "(0, '')\n",
      "N: 583\n",
      "Temp file name: 3547.c\n",
      "\"C:\\Program Files (x86)\\Microsoft Visual Studio\\2019\\BuildTools\\VC\\Auxiliary\\Build\\vcvars64\" && cl 3547.c /Fa\n",
      "(0, \"**********************************************************************\\n** Visual Studio 2019 Developer Command Prompt v16.9.3\\n** Copyright (c) 2021 Microsoft Corporation\\n**********************************************************************\\n[vcvarsall.bat] Environment initialized for: 'x64'\\nMicrosoft (R) C/C++ Optimizing Compiler versione 19.28.29913 per x64\\nCopyright (C) Microsoft Corporation. Tutti i diritti  sono riservati.\\n\\n3547.c\\n3547.c(80): warning C4477: 'printf': con la stringa di formato '%d' Š necessario un argomento di tipo 'int', ma il tipo dell'argomento variadic 2 Š 'size_t'\\n3547.c(80): note: provare a usare '%zd' nella stringa di formato\\n3547.c(87): warning C4477: 'printf': con la stringa di formato '%d' Š necessario un argomento di tipo 'int', ma il tipo dell'argomento variadic 2 Š 'size_t'\\n3547.c(87): note: provare a usare '%zd' nella stringa di formato\\n3547.c(94): warning C4477: 'printf': con la stringa di formato '%d' Š necessario un argomento di tipo 'int', ma il tipo dell'argomento variadic 2 Š 'size_t'\\n3547.c(94): note: provare a usare '%zd' nella stringa di formato\\n3547.c(101): warning C4477: 'printf': con la stringa di formato '%d' Š necessario un argomento di tipo 'int', ma il tipo dell'argomento variadic 2 Š 'size_t'\\n3547.c(101): note: provare a usare '%zd' nella stringa di formato\\n3547.c(108): warning C4477: 'printf': con la stringa di formato '%d' Š necessario un argomento di tipo 'int', ma il tipo dell'argomento variadic 2 Š 'size_t'\\n3547.c(108): note: provare a usare '%zd' nella stringa di formato\\n3547.c(115): warning C4477: 'printf': con la stringa di formato '%d' Š necessario un argomento di tipo 'int', ma il tipo dell'argomento variadic 2 Š 'size_t'\\n3547.c(115): note: provare a usare '%zd' nella stringa di formato\\nMicrosoft (R) Incremental Linker Version 14.28.29913.0\\nCopyright (C) Microsoft Corporation.  All rights reserved.\\n\\n/out:3547.exe \\n3547.obj \")\n",
      "(0, '')\n",
      "N: 590\n",
      "Temp file name: 35905.c\n",
      "\"C:\\Program Files (x86)\\Microsoft Visual Studio\\2019\\BuildTools\\VC\\Auxiliary\\Build\\vcvars64\" && cl 35905.c /Fa\n",
      "(0, \"**********************************************************************\\n** Visual Studio 2019 Developer Command Prompt v16.9.3\\n** Copyright (c) 2021 Microsoft Corporation\\n**********************************************************************\\n[vcvarsall.bat] Environment initialized for: 'x64'\\nMicrosoft (R) C/C++ Optimizing Compiler versione 19.28.29913 per x64\\nCopyright (C) Microsoft Corporation. Tutti i diritti  sono riservati.\\n\\n35905.c\\n35905.c(226): warning C4477: 'printf': con la stringa di formato '%d' Š necessario un argomento di tipo 'int', ma il tipo dell'argomento variadic 1 Š 'size_t'\\n35905.c(226): note: provare a usare '%zd' nella stringa di formato\\n35905.c(232): warning C4477: 'printf': con la stringa di formato '%d' Š necessario un argomento di tipo 'int', ma il tipo dell'argomento variadic 1 Š 'size_t'\\n35905.c(232): note: provare a usare '%zd' nella stringa di formato\\n35905.c(240): warning C4133: 'funzione': tipi non compatibili. Da 'DWORD *' a 'SIZE_T *'\\nMicrosoft (R) Incremental Linker Version 14.28.29913.0\\nCopyright (C) Microsoft Corporation.  All rights reserved.\\n\\n/out:35905.exe \\n35905.obj \")\n",
      "(0, '')\n",
      "N: 591\n",
      "Temp file name: 3593.c\n",
      "\"C:\\Program Files (x86)\\Microsoft Visual Studio\\2019\\BuildTools\\VC\\Auxiliary\\Build\\vcvars64\" && cl 3593.c /Fa\n",
      "(0, \"**********************************************************************\\n** Visual Studio 2019 Developer Command Prompt v16.9.3\\n** Copyright (c) 2021 Microsoft Corporation\\n**********************************************************************\\n[vcvarsall.bat] Environment initialized for: 'x64'\\nMicrosoft (R) C/C++ Optimizing Compiler versione 19.28.29913 per x64\\nCopyright (C) Microsoft Corporation. Tutti i diritti  sono riservati.\\n\\n3593.c\\nMicrosoft (R) Incremental Linker Version 14.28.29913.0\\nCopyright (C) Microsoft Corporation.  All rights reserved.\\n\\n/out:3593.exe \\n3593.obj \")\n",
      "(0, '')\n",
      "N: 594\n",
      "Temp file name: 35953.c\n",
      "\"C:\\Program Files (x86)\\Microsoft Visual Studio\\2019\\BuildTools\\VC\\Auxiliary\\Build\\vcvars64\" && cl 35953.c /Fa\n",
      "(0, \"**********************************************************************\\n** Visual Studio 2019 Developer Command Prompt v16.9.3\\n** Copyright (c) 2021 Microsoft Corporation\\n**********************************************************************\\n[vcvarsall.bat] Environment initialized for: 'x64'\\nMicrosoft (R) C/C++ Optimizing Compiler versione 19.28.29913 per x64\\nCopyright (C) Microsoft Corporation. Tutti i diritti  sono riservati.\\n\\n35953.c\\n35953.c(185): warning C4477: 'printf': con la stringa di formato '%08x' Š necessario un argomento di tipo 'unsigned int', ma il tipo dell'argomento variadic 1 Š 'FUNCTPTR'\\n35953.c(185): warning C4313: 'printf': '%x' nella stringa di formato Š in conflitto con l'argomento 1 di tipo 'FUNCTPTR'\\n35953.c(186): warning C4477: 'printf': con la stringa di formato '%08x' Š necessario un argomento di tipo 'unsigned int', ma il tipo dell'argomento variadic 1 Š 'HMODULE'\\n35953.c(186): warning C4313: 'printf': '%x' nella stringa di formato Š in conflitto con l'argomento 1 di tipo 'HMODULE'\\n35953.c(187): warning C4477: 'printf': con la stringa di formato '%08x' Š necessario un argomento di tipo 'unsigned int', ma il tipo dell'argomento variadic 1 Š 'PVOID'\\n35953.c(187): warning C4313: 'printf': '%x' nella stringa di formato Š in conflitto con l'argomento 1 di tipo 'PVOID'\\n35953.c(189): warning C4311: 'cast di tipo': troncamento puntatore da 'FUNCTPTR' a 'DWORD'\\n35953.c(189): warning C4311: 'cast di tipo': troncamento puntatore da 'HMODULE' a 'DWORD'\\n35953.c(189): warning C4311: 'cast di tipo': troncamento puntatore da 'PVOID' a 'DWORD'\\n35953.c(299): warning C4477: 'printf': con la stringa di formato '%.8x' Š necessario un argomento di tipo 'unsigned int', ma il tipo dell'argomento variadic 1 Š 'LPVOID'\\n35953.c(299): warning C4313: 'printf': '%x' nella stringa di formato Š in conflitto con l'argomento 1 di tipo 'LPVOID'\\n35953.c(306): warning C4477: 'printf': con la stringa di formato '%d' Š necessario un argomento di tipo 'int', ma il tipo dell'argomento variadic 1 Š 'size_t'\\n35953.c(306): note: provare a usare '%zd' nella stringa di formato\\n35953.c(312): warning C4477: 'printf': con la stringa di formato '%d' Š necessario un argomento di tipo 'int', ma il tipo dell'argomento variadic 1 Š 'size_t'\\n35953.c(312): note: provare a usare '%zd' nella stringa di formato\\n35953.c(332): warning C4477: 'printf': con la stringa di formato '%08x' Š necessario un argomento di tipo 'unsigned int', ma il tipo dell'argomento variadic 1 Š 'LPVOID'\\n35953.c(332): warning C4313: 'printf': '%x' nella stringa di formato Š in conflitto con l'argomento 1 di tipo 'LPVOID'\\n35953.c(337): warning C4312: 'cast di tipo': conversione da 'DWORD' a 'LPVOID', di dimensioni maggiori\\nMicrosoft (R) Incremental Linker Version 14.28.29913.0\\nCopyright (C) Microsoft Corporation.  All rights reserved.\\n\\n/out:35953.exe \\n35953.obj \")\n",
      "(0, '')\n",
      "N: 595\n",
      "Temp file name: 35962.c\n"
     ]
    },
    {
     "output_type": "error",
     "ename": "UnicodeEncodeError",
     "evalue": "'charmap' codec can't encode character '\\ufeff' in position 0: character maps to <undefined>",
     "traceback": [
      "\u001b[1;31m---------------------------------------------------------------------------\u001b[0m",
      "\u001b[1;31mUnicodeEncodeError\u001b[0m                        Traceback (most recent call last)",
      "\u001b[1;32m<ipython-input-5-c3f792b1eb0d>\u001b[0m in \u001b[0;36m<module>\u001b[1;34m\u001b[0m\n\u001b[0;32m     15\u001b[0m     \u001b[0mprint\u001b[0m\u001b[1;33m(\u001b[0m\u001b[1;34m'Temp file name: '\u001b[0m \u001b[1;33m+\u001b[0m \u001b[0mtemp_file_name\u001b[0m\u001b[1;33m)\u001b[0m\u001b[1;33m\u001b[0m\u001b[1;33m\u001b[0m\u001b[0m\n\u001b[0;32m     16\u001b[0m     \u001b[0mtemp_file\u001b[0m \u001b[1;33m=\u001b[0m \u001b[0mopen\u001b[0m\u001b[1;33m(\u001b[0m\u001b[0mtemp_file_name\u001b[0m\u001b[1;33m,\u001b[0m \u001b[1;34m'w'\u001b[0m\u001b[1;33m)\u001b[0m\u001b[1;33m\u001b[0m\u001b[1;33m\u001b[0m\u001b[0m\n\u001b[1;32m---> 17\u001b[1;33m     \u001b[0mn\u001b[0m \u001b[1;33m=\u001b[0m \u001b[0mtemp_file\u001b[0m\u001b[1;33m.\u001b[0m\u001b[0mwrite\u001b[0m\u001b[1;33m(\u001b[0m\u001b[0mdf\u001b[0m\u001b[1;33m.\u001b[0m\u001b[0miloc\u001b[0m\u001b[1;33m[\u001b[0m\u001b[0mi\u001b[0m\u001b[1;33m]\u001b[0m\u001b[1;33m[\u001b[0m\u001b[1;34m'exploit'\u001b[0m\u001b[1;33m]\u001b[0m\u001b[1;33m)\u001b[0m\u001b[1;33m\u001b[0m\u001b[1;33m\u001b[0m\u001b[0m\n\u001b[0m\u001b[0;32m     18\u001b[0m     \u001b[1;31m# print(df.iloc[n]['exploit'])\u001b[0m\u001b[1;33m\u001b[0m\u001b[1;33m\u001b[0m\u001b[1;33m\u001b[0m\u001b[0m\n\u001b[0;32m     19\u001b[0m     \u001b[0mtemp_file\u001b[0m\u001b[1;33m.\u001b[0m\u001b[0mclose\u001b[0m\u001b[1;33m(\u001b[0m\u001b[1;33m)\u001b[0m\u001b[1;33m\u001b[0m\u001b[1;33m\u001b[0m\u001b[0m\n",
      "\u001b[1;32m~\\AppData\\Local\\Programs\\Python\\Python38\\lib\\encodings\\cp1252.py\u001b[0m in \u001b[0;36mencode\u001b[1;34m(self, input, final)\u001b[0m\n\u001b[0;32m     17\u001b[0m \u001b[1;32mclass\u001b[0m \u001b[0mIncrementalEncoder\u001b[0m\u001b[1;33m(\u001b[0m\u001b[0mcodecs\u001b[0m\u001b[1;33m.\u001b[0m\u001b[0mIncrementalEncoder\u001b[0m\u001b[1;33m)\u001b[0m\u001b[1;33m:\u001b[0m\u001b[1;33m\u001b[0m\u001b[1;33m\u001b[0m\u001b[0m\n\u001b[0;32m     18\u001b[0m     \u001b[1;32mdef\u001b[0m \u001b[0mencode\u001b[0m\u001b[1;33m(\u001b[0m\u001b[0mself\u001b[0m\u001b[1;33m,\u001b[0m \u001b[0minput\u001b[0m\u001b[1;33m,\u001b[0m \u001b[0mfinal\u001b[0m\u001b[1;33m=\u001b[0m\u001b[1;32mFalse\u001b[0m\u001b[1;33m)\u001b[0m\u001b[1;33m:\u001b[0m\u001b[1;33m\u001b[0m\u001b[1;33m\u001b[0m\u001b[0m\n\u001b[1;32m---> 19\u001b[1;33m         \u001b[1;32mreturn\u001b[0m \u001b[0mcodecs\u001b[0m\u001b[1;33m.\u001b[0m\u001b[0mcharmap_encode\u001b[0m\u001b[1;33m(\u001b[0m\u001b[0minput\u001b[0m\u001b[1;33m,\u001b[0m\u001b[0mself\u001b[0m\u001b[1;33m.\u001b[0m\u001b[0merrors\u001b[0m\u001b[1;33m,\u001b[0m\u001b[0mencoding_table\u001b[0m\u001b[1;33m)\u001b[0m\u001b[1;33m[\u001b[0m\u001b[1;36m0\u001b[0m\u001b[1;33m]\u001b[0m\u001b[1;33m\u001b[0m\u001b[1;33m\u001b[0m\u001b[0m\n\u001b[0m\u001b[0;32m     20\u001b[0m \u001b[1;33m\u001b[0m\u001b[0m\n\u001b[0;32m     21\u001b[0m \u001b[1;32mclass\u001b[0m \u001b[0mIncrementalDecoder\u001b[0m\u001b[1;33m(\u001b[0m\u001b[0mcodecs\u001b[0m\u001b[1;33m.\u001b[0m\u001b[0mIncrementalDecoder\u001b[0m\u001b[1;33m)\u001b[0m\u001b[1;33m:\u001b[0m\u001b[1;33m\u001b[0m\u001b[1;33m\u001b[0m\u001b[0m\n",
      "\u001b[1;31mUnicodeEncodeError\u001b[0m: 'charmap' codec can't encode character '\\ufeff' in position 0: character maps to <undefined>"
     ]
    }
   ],
   "source": [
    "#Compile all c codes to get assembly files .s\n",
    "\n",
    "ls = \"ls\"\n",
    "ls = subprocess.getstatusoutput(ls)[1]\n",
    "print(ls.split('\\n'))\n",
    "os.chdir('C:\\\\Users\\\\matti\\\\Desktop\\\\Magistrale\\\\tesi\\\\poc_detection\\\\temp_dir')\n",
    "\n",
    "for n in indexes:\n",
    "    i = n\n",
    "    print('N: ' + str(n))\n",
    "    # tempdir = 'temp_dir\\\\'\n",
    "    tempdir = ''\n",
    "    suffix = '.c'\n",
    "    temp_file_name = tempdir + str(df.iloc[i]['exploit_db_id']) + suffix\n",
    "    print('Temp file name: ' + temp_file_name)\n",
    "    temp_file = open(temp_file_name, 'w')\n",
    "    n = temp_file.write(df.iloc[i]['exploit'])\n",
    "    # print(df.iloc[n]['exploit'])\n",
    "    temp_file.close()\n",
    "    # assembly_temp = tempdir + str(df.iloc[i]['exploit_db_id']) + '.s'\n",
    "\n",
    "    vcvars = '\\\"C:\\\\Program Files (x86)\\\\Microsoft Visual Studio\\\\2019\\\\BuildTools\\\\VC\\\\Auxiliary\\\\Build\\\\vcvars64\\\"'\n",
    "    # vcvars = 'vcvars64'\n",
    "    # print(vcvars)\n",
    "    compile_command = vcvars + ' && cl ' + temp_file_name + ' /Fa'\n",
    "    # compile_command = vcvars + ' && cl \\'' + temp_file_name + '\\' /Fa'\n",
    "    #compile_command = 'gcc -S -o ' + assembly_temp +' ' + temp_file_name\n",
    "    print(compile_command)\n",
    "\n",
    "    cc = subprocess.getstatusoutput(compile_command)\n",
    "    print(cc)\n",
    "\n",
    "    remove = 'del ' + temp_file_name\n",
    "    remove = subprocess.getstatusoutput(remove)\n",
    "    print(remove)\n",
    "'''\n",
    "for n in indexes:\n",
    "    print((df.iloc[n]['exploit']))\n",
    "'''\n",
    "\n",
    "\n"
   ]
  },
  {
   "cell_type": "code",
   "execution_count": 66,
   "metadata": {
    "tags": [
     "outputPrepend"
    ]
   },
   "outputs": [
    {
     "output_type": "stream",
     "name": "stdout",
     "text": [
      "36\\\\x32\"\\n      |   ~~~~~~~~~~~~~~~~~~~~~~~~~~~~~~~~~~~~~~~~~~~~~~~~~~~~~~~~~~~~~~~~~~\\n  104 |   \"\\\\x4a\\\\x36\\\\x70\\\\x43\\\\x61\\\\x32\\\\x75\\\\x79\\\\x6f\\\\x4e\\\\x30\\\\x50\\\\x68\\\\x4f\\\\x54\\\\x6e\"\\n      |   ~~~~~~~~~~~~~~~~~~~~~~~~~~~~~~~~~~~~~~~~~~~~~~~~~~~~~~~~~~~~~~~~~~\\n  105 |   \"\\\\x4d\\\\x64\\\\x6e\\\\x6d\\\\x39\\\\x52\\\\x77\\\\x79\\\\x6f\\\\x58\\\\x56\\\\x66\\\\x33\\\\x36\\\\x35\\\\x69\"\\n      |   ~~~~~~~~~~~~~~~~~~~~~~~~~~~~~~~~~~~~~~~~~~~~~~~~~~~~~~~~~~~~~~~~~~\\n  106 |   \"\\\\x6f\\\\x4e\\\\x30\\\\x45\\\\x38\\\\x38\\\\x65\\\\x72\\\\x69\\\\x6b\\\\x36\\\\x77\\\\x39\\\\x33\\\\x67\\\\x79\"\\n      |   ~~~~~~~~~~~~~~~~~~~~~~~~~~~~~~~~~~~~~~~~~~~~~~~~~~~~~~~~~~~~~~~~~~\\n  107 |   \"\\\\x6f\\\\x6e\\\\x36\\\\x70\\\\x50\\\\x31\\\\x44\\\\x62\\\\x74\\\\x73\\\\x65\\\\x6b\\\\x4f\\\\x58\\\\x50\\\\x6d\"\\n      |   ~~~~~~~~~~~~~~~~~~~~~~~~~~~~~~~~~~~~~~~~~~~~~~~~~~~~~~~~~~~~~~~~~~\\n  108 |   \"\\\\x43\\\\x50\\\\x68\\\\x4b\\\\x57\\\\x44\\\\x39\\\\x4f\\\\x36\\\\x64\\\\x39\\\\x71\\\\x47\\\\x6b\\\\x4f\\\\x49\"\\n      |   ~~~~~~~~~~~~~~~~~~~~~~~~~~~~~~~~~~~~~~~~~~~~~~~~~~~~~~~~~~~~~~~~~~\\n  109 |   \"\\\\x46\\\\x63\\\\x65\\\\x6b\\\\x4f\\\\x4a\\\\x70\\\\x71\\\\x76\\\\x50\\\\x6a\\\\x50\\\\x64\\\\x50\\\\x66\\\\x70\"\\n      |   ~~~~~~~~~~~~~~~~~~~~~~~~~~~~~~~~~~~~~~~~~~~~~~~~~~~~~~~~~~~~~~~~~~\\n  110 |   \"\\\\x68\\\\x50\\\\x63\\\\x52\\\\x4d\\\\x6e\\\\x69\\\\x58\\\\x65\\\\x32\\\\x4a\\\\x46\\\\x30\\\\x63\\\\x69\\\\x45\"\\n      |   ~~~~~~~~~~~~~~~~~~~~~~~~~~~~~~~~~~~~~~~~~~~~~~~~~~~~~~~~~~~~~~~~~~\\n  111 |   \"\\\\x79\\\\x48\\\\x4c\\\\x4c\\\\x49\\\\x7a\\\\x47\\\\x63\\\\x5a\\\\x70\\\\x44\\\\x4d\\\\x59\\\\x78\\\\x62\\\\x36\"\\n      |   ~~~~~~~~~~~~~~~~~~~~~~~~~~~~~~~~~~~~~~~~~~~~~~~~~~~~~~~~~~~~~~~~~~\\n  112 |   \"\\\\x51\\\\x39\\\\x50\\\\x38\\\\x73\\\\x4f\\\\x5a\\\\x6b\\\\x4e\\\\x41\\\\x52\\\\x64\\\\x6d\\\\x6b\\\\x4e\\\\x32\"\\n      |   ~~~~~~~~~~~~~~~~~~~~~~~~~~~~~~~~~~~~~~~~~~~~~~~~~~~~~~~~~~~~~~~~~~\\n  113 |   \"\\\\x62\\\\x36\\\\x4c\\\\x4e\\\\x73\\\\x4c\\\\x4d\\\\x43\\\\x4a\\\\x34\\\\x78\\\\x4c\\\\x6b\\\\x6e\\\\x4b\\\\x6e\"\\n      |   ~~~~~~~~~~~~~~~~~~~~~~~~~~~~~~~~~~~~~~~~~~~~~~~~~~~~~~~~~~~~~~~~~~\\n  114 |   \"\\\\x4b\\\\x51\\\\x78\\\\x70\\\\x72\\\\x6b\\\\x4e\\\\x4e\\\\x53\\\\x47\\\\x66\\\\x4b\\\\x4f\\\\x32\\\\x55\\\\x50\"\\n      |   ~~~~~~~~~~~~~~~~~~~~~~~~~~~~~~~~~~~~~~~~~~~~~~~~~~~~~~~~~~~~~~~~~~\\n  115 |   \"\\\\x44\\\\x4b\\\\x4f\\\\x7a\\\\x76\\\\x43\\\\x6b\\\\x70\\\\x57\\\\x62\\\\x72\\\\x46\\\\x31\\\\x66\\\\x31\\\\x32\"\\n      |   ~~~~~~~~~~~~~~~~~~~~~~~~~~~~~~~~~~~~~~~~~~~~~~~~~~~~~~~~~~~~~~~~~~\\n  116 |   \"\\\\x71\\\\x30\\\\x6a\\\\x35\\\\x51\\\\x33\\\\x61\\\\x32\\\\x71\\\\x33\\\\x65\\\\x53\\\\x61\\\\x4b\\\\x4f\\\\x5a\"\\n      |   ~~~~~~~~~~~~~~~~~~~~~~~~~~~~~~~~~~~~~~~~~~~~~~~~~~~~~~~~~~~~~~~~~~\\n  117 |   \"\\\\x70\\\\x30\\\\x68\\\\x6e\\\\x4d\\\\x6e\\\\x39\\\\x73\\\\x35\\\\x7a\\\\x6e\\\\x62\\\\x73\\\\x4b\\\\x4f\\\\x48\"\\n      |   ~~~~~~~~~~~~~~~~~~~~~~~~~~~~~~~~~~~~~~~~~~~~~~~~~~~~~~~~~~~~~~~~~~\\n  118 |   \"\\\\x56\\\\x63\\\\x5a\\\\x6b\\\\x4f\\\\x59\\\\x6f\\\\x57\\\\x47\\\\x39\\\\x6f\\\\x6e\\\\x30\\\\x4e\\\\x6b\\\\x30\"\\n      |   ~~~~~~~~~~~~~~~~~~~~~~~~~~~~~~~~~~~~~~~~~~~~~~~~~~~~~~~~~~~~~~~~~~\\n  119 |   \"\\\\x57\\\\x59\\\\x6c\\\\x4b\\\\x33\\\\x38\\\\x44\\\\x45\\\\x34\\\\x59\\\\x6f\\\\x39\\\\x46\\\\x50\\\\x52\\\\x39\"\\n      |   ~~~~~~~~~~~~~~~~~~~~~~~~~~~~~~~~~~~~~~~~~~~~~~~~~~~~~~~~~~~~~~~~~~\\n  120 |   \"\\\\x6f\\\\x58\\\\x50\\\\x65\\\\x38\\\\x38\\\\x70\\\\x6e\\\\x6a\\\\x37\\\\x74\\\\x53\\\\x6f\\\\x31\\\\x43\\\\x6b\"\\n      |   ~~~~~~~~~~~~~~~~~~~~~~~~~~~~~~~~~~~~~~~~~~~~~~~~~~~~~~~~~~~~~~~~~~\\n  121 |   \"\\\\x4f\\\\x6a\\\\x76\\\\x6b\\\\x4f\\\\x78\\\\x50\\\\x42\"\\n      |   ~~~~~~~~~~~~~~~~~~~~~~~~~~~~~~~~~~\\ntemp_dir/5695.cpp:130:3: warning: ISO C++ forbids converting a string constant to ‘char*’ [-Wwrite-strings]\\n  130 |   \"\\\\xfc\\\\x6a\\\\xeb\\\\x4d\\\\xe8\\\\xf9\\\\xff\\\\xff\\\\xff\\\\x60\\\\x8b\\\\x6c\\\\x24\\\\x24\\\\x8b\"\\n      |   ^~~~~~~~~~~~~~~~~~~~~~~~~~~~~~~~~~~~~~~~~~~~~~~~~~~~~~~~~~~~~~\\n  131 |   \"\\\\x45\\\\x3c\\\\x8b\\\\x7c\\\\x05\\\\x78\\\\x01\\\\xef\\\\x8b\\\\x4f\\\\x18\\\\x8b\\\\x5f\\\\x20\\\\x01\"\\n      |   ~~~~~~~~~~~~~~~~~~~~~~~~~~~~~~~~~~~~~~~~~~~~~~~~~~~~~~~~~~~~~~\\n  132 |   \"\\\\xeb\\\\x49\\\\x8b\\\\x34\\\\x8b\\\\x01\\\\xee\\\\x31\\\\xc0\\\\x99\\\\xac\\\\x84\\\\xc0\\\\x74\\\\x07\"\\n      |   ~~~~~~~~~~~~~~~~~~~~~~~~~~~~~~~~~~~~~~~~~~~~~~~~~~~~~~~~~~~~~~\\n  133 |   \"\\\\xc1\\\\xca\\\\x0d\\\\x01\\\\xc2\\\\xeb\\\\xf4\\\\x3b\\\\x54\\\\x24\\\\x28\\\\x75\\\\xe5\\\\x8b\\\\x5f\"\\n      |   ~~~~~~~~~~~~~~~~~~~~~~~~~~~~~~~~~~~~~~~~~~~~~~~~~~~~~~~~~~~~~~\\n  134 |   \"\\\\x24\\\\x01\\\\xeb\\\\x66\\\\x8b\\\\x0c\\\\x4b\\\\x8b\\\\x5f\\\\x1c\\\\x01\\\\xeb\\\\x03\\\\x2c\\\\x8b\"\\n      |   ~~~~~~~~~~~~~~~~~~~~~~~~~~~~~~~~~~~~~~~~~~~~~~~~~~~~~~~~~~~~~~\\n  135 |   \"\\\\x89\\\\x6c\\\\x24\\\\x1c\\\\x61\\\\xc3\\\\x31\\\\xdb\\\\x64\\\\x8b\\\\x43\\\\x30\\\\x8b\\\\x40\\\\x0c\"\\n      |   ~~~~~~~~~~~~~~~~~~~~~~~~~~~~~~~~~~~~~~~~~~~~~~~~~~~~~~~~~~~~~~\\n  136 |   \"\\\\x8b\\\\x70\\\\x1c\\\\xad\\\\x8b\\\\x40\\\\x08\\\\x5e\\\\x68\\\\x8e\\\\x4e\\\\x0e\\\\xec\\\\x50\\\\xff\"\\n      |   ~~~~~~~~~~~~~~~~~~~~~~~~~~~~~~~~~~~~~~~~~~~~~~~~~~~~~~~~~~~~~~\\n  137 |   \"\\\\xd6\\\\x66\\\\x53\\\\x66\\\\x68\\\\x33\\\\x32\\\\x68\\\\x77\\\\x73\\\\x32\\\\x5f\\\\x54\\\\xff\\\\xd0\"\\n      |   ~~~~~~~~~~~~~~~~~~~~~~~~~~~~~~~~~~~~~~~~~~~~~~~~~~~~~~~~~~~~~~\\n  138 |   \"\\\\x68\\\\xcb\\\\xed\\\\xfc\\\\x3b\\\\x50\\\\xff\\\\xd6\\\\x5f\\\\x89\\\\xe5\\\\x66\\\\x81\\\\xed\\\\x08\"\\n      |   ~~~~~~~~~~~~~~~~~~~~~~~~~~~~~~~~~~~~~~~~~~~~~~~~~~~~~~~~~~~~~~\\n  139 |   \"\\\\x02\\\\x55\\\\x6a\\\\x02\\\\xff\\\\xd0\\\\x68\\\\xd9\\\\x09\\\\xf5\\\\xad\\\\x57\\\\xff\\\\xd6\\\\x53\"\\n      |   ~~~~~~~~~~~~~~~~~~~~~~~~~~~~~~~~~~~~~~~~~~~~~~~~~~~~~~~~~~~~~~\\n  140 |   \"\\\\x53\\\\x53\\\\x53\\\\x43\\\\x53\\\\x43\\\\x53\\\\xff\\\\xd0\\\\x68\\\\x7f\\\\x00\\\\x00\\\\x01\\\\x66\"\\n      |   ~~~~~~~~~~~~~~~~~~~~~~~~~~~~~~~~~~~~~~~~~~~~~~~~~~~~~~~~~~~~~~\\n  141 |   \"\\\\x68\\\\x11\\\\x5c\\\\x66\\\\x53\\\\x89\\\\xe1\\\\x95\\\\x68\\\\xec\\\\xf9\\\\xaa\\\\x60\\\\x57\\\\xff\"\\n      |   ~~~~~~~~~~~~~~~~~~~~~~~~~~~~~~~~~~~~~~~~~~~~~~~~~~~~~~~~~~~~~~\\n  142 |   \"\\\\xd6\\\\x6a\\\\x10\\\\x51\\\\x55\\\\xff\\\\xd0\\\\x66\\\\x6a\\\\x64\\\\x66\\\\x68\\\\x63\\\\x6d\\\\x6a\"\\n      |   ~~~~~~~~~~~~~~~~~~~~~~~~~~~~~~~~~~~~~~~~~~~~~~~~~~~~~~~~~~~~~~\\n  143 |   \"\\\\x50\\\\x59\\\\x29\\\\xcc\\\\x89\\\\xe7\\\\x6a\\\\x44\\\\x89\\\\xe2\\\\x31\\\\xc0\\\\xf3\\\\xaa\\\\x95\"\\n      |   ~~~~~~~~~~~~~~~~~~~~~~~~~~~~~~~~~~~~~~~~~~~~~~~~~~~~~~~~~~~~~~\\n  144 |   \"\\\\x89\\\\xfd\\\\xfe\\\\x42\\\\x2d\\\\xfe\\\\x42\\\\x2c\\\\x8d\\\\x7a\\\\x38\\\\xab\\\\xab\\\\xab\\\\x68\"\\n      |   ~~~~~~~~~~~~~~~~~~~~~~~~~~~~~~~~~~~~~~~~~~~~~~~~~~~~~~~~~~~~~~\\n  145 |   \"\\\\x72\\\\xfe\\\\xb3\\\\x16\\\\xff\\\\x75\\\\x28\\\\xff\\\\xd6\\\\x5b\\\\x57\\\\x52\\\\x51\\\\x51\\\\x51\"\\n      |   ~~~~~~~~~~~~~~~~~~~~~~~~~~~~~~~~~~~~~~~~~~~~~~~~~~~~~~~~~~~~~~\\n  146 |   \"\\\\x6a\\\\x01\\\\x51\\\\x51\\\\x55\\\\x51\\\\xff\\\\xd0\\\\x68\\\\xad\\\\xd9\\\\x05\\\\xce\\\\x53\\\\xff\"\\n      |   ~~~~~~~~~~~~~~~~~~~~~~~~~~~~~~~~~~~~~~~~~~~~~~~~~~~~~~~~~~~~~~\\n  147 |   \"\\\\xd6\\\\x6a\\\\xff\\\\xff\\\\x37\\\\xff\\\\xd0\\\\x68\\\\xe7\\\\x79\\\\xc6\\\\x79\\\\xff\\\\x75\\\\x04\"\\n      |   ~~~~~~~~~~~~~~~~~~~~~~~~~~~~~~~~~~~~~~~~~~~~~~~~~~~~~~~~~~~~~~\\n  148 |   \"\\\\xff\\\\xd6\\\\xff\\\\x77\\\\xfc\\\\xff\\\\xd0\\\\x68\\\\xf0\\\\x8a\\\\x04\\\\x5f\\\\x53\\\\xff\\\\xd6\"\\n      |   ~~~~~~~~~~~~~~~~~~~~~~~~~~~~~~~~~~~~~~~~~~~~~~~~~~~~~~~~~~~~~~\\n  149 |   \"\\\\xff\\\\xd0\"\\n      |   ~~~~~~~~~~\\ntemp_dir/5695.cpp: In function ‘int alphanumeric_exec(char*, int, char*, int*)’:\\ntemp_dir/5695.cpp:197:22: warning: ISO C++ forbids converting a string constant to ‘char*’ [-Wwrite-strings]\\n  197 |  char* valid_chars = \"0123456789BCDEFGHIJKLMNOPQRSTUVWXYZabcdefghijklmnopqrstuvwxyz\"; // mixed chars\\n      |                      ^~~~~~~~~~~~~~~~~~~~~~~~~~~~~~~~~~~~~~~~~~~~~~~~~~~~~~~~~~~~~~~\\ntemp_dir/5695.cpp: In function ‘int main(int, char**)’:\\ntemp_dir/5695.cpp:243:32: warning: ISO C++ forbids converting a string constant to ‘char*’ [-Wwrite-strings]\\n  243 |  while((c = getopt(argc, argv, \"h:t:R:T:\"))!= EOF)\\n      |                                ^~~~~~~~~~')\n",
      "(0, '')\n",
      "N: 1834\n",
      "x86_64-w64-mingw32-g++ -S -o temp_dir/5827.s temp_dir/5827.cpp\n",
      "(0, 'temp_dir/5827.cpp:95:3: warning: ISO C++ forbids converting a string constant to ‘char*’ [-Wwrite-strings]\\n   95 |   \"\\\\x6a\\\\x20\\\\x5b\\\\x93\\\\xf7\\\\xe0\\\\x91\\\\xe8\\\\xff\\\\xff\\\\xff\\\\xff\\\\x30\\\\x5e\\\\x5e\\\\x66\"\\n      |   ^~~~~~~~~~~~~~~~~~~~~~~~~~~~~~~~~~~~~~~~~~~~~~~~~~~~~~~~~~~~~~~~~~\\n   96 |   \"\\\\x8b\\\\x7e\\\\x22\\\\x97\\\\x3c\\\\x60\\\\x7c\\\\x07\\\\x2c\\\\x20\\\\x66\\\\x93\\\\x88\\\\x5e\\\\x22\\\\x83\"\\n      |   ~~~~~~~~~~~~~~~~~~~~~~~~~~~~~~~~~~~~~~~~~~~~~~~~~~~~~~~~~~~~~~~~~~\\n   97 |   \"\\\\xee\\\\xff\\\\xe2\\\\xeb\\\\xe8\\\\xff\\\\xff\\\\xff\\\\xff\\\\x36\\\\x5b\\\\x5b\\\\x93\\\\x91\\\\x83\\\\xe9\"\\n      |   ~~~~~~~~~~~~~~~~~~~~~~~~~~~~~~~~~~~~~~~~~~~~~~~~~~~~~~~~~~~~~~~~~~\\n   98 |   \"\\\\xf8\\\\x69\\\\x69\\\\x69\\\\x69\\\\x69\\\\x69\\\\x69\\\\x69\\\\x69\\\\x69\\\\x69\\\\x71\\\\x7a\\\\x76\\\\x74\"\\n      |   ~~~~~~~~~~~~~~~~~~~~~~~~~~~~~~~~~~~~~~~~~~~~~~~~~~~~~~~~~~~~~~~~~~\\n   99 |   \"\\\\x78\\\\x33\\\\x30\\\\x76\\\\x78\\\\x34\\\\x61\\\\x70\\\\x30\\\\x61\\\\x33\\\\x68\\\\x68\\\\x30\\\\x61\\\\x30\"\\n      |   ~~~~~~~~~~~~~~~~~~~~~~~~~~~~~~~~~~~~~~~~~~~~~~~~~~~~~~~~~~~~~~~~~~\\n  100 |   \"\\\\x30\\\\x61\\\\x62\\\\x61\\\\x61\\\\x62\\\\x74\\\\x61\\\\x61\\\\x71\\\\x32\\\\x61\\\\x62\\\\x32\\\\x62\\\\x62\"\\n      |   ~~~~~~~~~~~~~~~~~~~~~~~~~~~~~~~~~~~~~~~~~~~~~~~~~~~~~~~~~~~~~~~~~~\\n  101 |   \"\\\\x30\\\\x62\\\\x62\\\\x78\\\\x70\\\\x38\\\\x61\\\\x63\\\\x6a\\\\x6a\\\\x69\\\\x6b\\\\x6c\\\\x32\\\\x6a\\\\x6a\"\\n      |   ~~~~~~~~~~~~~~~~~~~~~~~~~~~~~~~~~~~~~~~~~~~~~~~~~~~~~~~~~~~~~~~~~~\\n  102 |   \"\\\\x6b\\\\x70\\\\x6d\\\\x6a\\\\x68\\\\x7a\\\\x79\\\\x6b\\\\x6f\\\\x6b\\\\x6f\\\\x6b\\\\x6f\\\\x33\\\\x70\\\\x6c\"\\n      |   ~~~~~~~~~~~~~~~~~~~~~~~~~~~~~~~~~~~~~~~~~~~~~~~~~~~~~~~~~~~~~~~~~~\\n  103 |   \"\\\\x6b\\\\x72\\\\x6c\\\\x36\\\\x64\\\\x71\\\\x34\\\\x6c\\\\x6b\\\\x71\\\\x75\\\\x77\\\\x6c\\\\x6c\\\\x6b\\\\x73\"\\n      |   ~~~~~~~~~~~~~~~~~~~~~~~~~~~~~~~~~~~~~~~~~~~~~~~~~~~~~~~~~~~~~~~~~~\\n  104 |   \"\\\\x6c\\\\x73\\\\x35\\\\x33\\\\x68\\\\x35\\\\x71\\\\x7a\\\\x6f\\\\x6c\\\\x6b\\\\x70\\\\x6f\\\\x35\\\\x68\\\\x6c\"\\n      |   ~~~~~~~~~~~~~~~~~~~~~~~~~~~~~~~~~~~~~~~~~~~~~~~~~~~~~~~~~~~~~~~~~~\\n  105 |   \"\\\\x6b\\\\x71\\\\x6f\\\\x67\\\\x70\\\\x75\\\\x71\\\\x6a\\\\x6b\\\\x77\\\\x39\\\\x6c\\\\x6b\\\\x77\\\\x64\\\\x6c\"\\n      |   ~~~~~~~~~~~~~~~~~~~~~~~~~~~~~~~~~~~~~~~~~~~~~~~~~~~~~~~~~~~~~~~~~~\\n  106 |   \"\\\\x6b\\\\x75\\\\x71\\\\x7a\\\\x6e\\\\x76\\\\x71\\\\x69\\\\x70\\\\x6d\\\\x69\\\\x6e\\\\x6c\\\\x6b\\\\x34\\\\x69\"\\n      |   ~~~~~~~~~~~~~~~~~~~~~~~~~~~~~~~~~~~~~~~~~~~~~~~~~~~~~~~~~~~~~~~~~~\\n  107 |   \"\\\\x70\\\\x72\\\\x74\\\\x63\\\\x37\\\\x6f\\\\x31\\\\x38\\\\x6a\\\\x74\\\\x6d\\\\x35\\\\x71\\\\x79\\\\x72\\\\x6a\"\\n      |   ~~~~~~~~~~~~~~~~~~~~~~~~~~~~~~~~~~~~~~~~~~~~~~~~~~~~~~~~~~~~~~~~~~\\n  108 |   \"\\\\x6b\\\\x6b\\\\x64\\\\x77\\\\x6b\\\\x71\\\\x64\\\\x67\\\\x74\\\\x67\\\\x78\\\\x32\\\\x75\\\\x6d\\\\x35\\\\x6c\"\\n      |   ~~~~~~~~~~~~~~~~~~~~~~~~~~~~~~~~~~~~~~~~~~~~~~~~~~~~~~~~~~~~~~~~~~\\n  109 |   \"\\\\x6b\\\\x71\\\\x6f\\\\x77\\\\x74\\\\x35\\\\x71\\\\x6a\\\\x6b\\\\x32\\\\x66\\\\x6c\\\\x6b\\\\x74\\\\x6c\\\\x70\"\\n      |   ~~~~~~~~~~~~~~~~~~~~~~~~~~~~~~~~~~~~~~~~~~~~~~~~~~~~~~~~~~~~~~~~~~\\n  110 |   \"\\\\x6b\\\\x6c\\\\x6b\\\\x71\\\\x6f\\\\x35\\\\x6c\\\\x75\\\\x71\\\\x6a\\\\x6b\\\\x75\\\\x73\\\\x66\\\\x6c\\\\x6c\"\\n      |   ~~~~~~~~~~~~~~~~~~~~~~~~~~~~~~~~~~~~~~~~~~~~~~~~~~~~~~~~~~~~~~~~~~\\n  111 |   \"\\\\x6b\\\\x6b\\\\x39\\\\x62\\\\x6c\\\\x76\\\\x64\\\\x75\\\\x6c\\\\x33\\\\x71\\\\x6f\\\\x33\\\\x66\\\\x71\\\\x79\"\\n      |   ~~~~~~~~~~~~~~~~~~~~~~~~~~~~~~~~~~~~~~~~~~~~~~~~~~~~~~~~~~~~~~~~~~\\n  112 |   \"\\\\x6b\\\\x75\\\\x34\\\\x6c\\\\x6b\\\\x71\\\\x73\\\\x36\\\\x70\\\\x6c\\\\x6b\\\\x71\\\\x70\\\\x74\\\\x6c\\\\x6c\"\\n      |   ~~~~~~~~~~~~~~~~~~~~~~~~~~~~~~~~~~~~~~~~~~~~~~~~~~~~~~~~~~~~~~~~~~\\n  113 |   \"\\\\x6b\\\\x72\\\\x70\\\\x75\\\\x6c\\\\x6e\\\\x6d\\\\x6c\\\\x6b\\\\x71\\\\x70\\\\x35\\\\x78\\\\x71\\\\x6e\\\\x73\"\\n      |   ~~~~~~~~~~~~~~~~~~~~~~~~~~~~~~~~~~~~~~~~~~~~~~~~~~~~~~~~~~~~~~~~~~\\n  114 |   \"\\\\x78\\\\x6c\\\\x6e\\\\x70\\\\x6e\\\\x64\\\\x6e\\\\x7a\\\\x6c\\\\x30\\\\x70\\\\x6b\\\\x6f\\\\x78\\\\x76\\\\x35\"\\n      |   ~~~~~~~~~~~~~~~~~~~~~~~~~~~~~~~~~~~~~~~~~~~~~~~~~~~~~~~~~~~~~~~~~~\\n  115 |   \"\\\\x36\\\\x76\\\\x33\\\\x32\\\\x66\\\\x33\\\\x78\\\\x70\\\\x33\\\\x77\\\\x62\\\\x72\\\\x68\\\\x72\\\\x77\\\\x34\"\\n      |   ~~~~~~~~~~~~~~~~~~~~~~~~~~~~~~~~~~~~~~~~~~~~~~~~~~~~~~~~~~~~~~~~~~\\n  116 |   \"\\\\x33\\\\x76\\\\x72\\\\x71\\\\x6f\\\\x70\\\\x74\\\\x6b\\\\x6f\\\\x78\\\\x70\\\\x62\\\\x68\\\\x38\\\\x6b\\\\x6a\"\\n      |   ~~~~~~~~~~~~~~~~~~~~~~~~~~~~~~~~~~~~~~~~~~~~~~~~~~~~~~~~~~~~~~~~~~\\n  117 |   \"\\\\x6d\\\\x6b\\\\x6c\\\\x77\\\\x6b\\\\x66\\\\x30\\\\x6b\\\\x6f\\\\x78\\\\x76\\\\x71\\\\x6f\\\\x6b\\\\x39\\\\x6a\"\\n      |   ~~~~~~~~~~~~~~~~~~~~~~~~~~~~~~~~~~~~~~~~~~~~~~~~~~~~~~~~~~~~~~~~~~\\n  118 |   \"\\\\x65\\\\x73\\\\x76\\\\x6d\\\\x71\\\\x7a\\\\x6d\\\\x73\\\\x38\\\\x64\\\\x62\\\\x70\\\\x75\\\\x62\\\\x6a\\\\x35\"\\n      |   ~~~~~~~~~~~~~~~~~~~~~~~~~~~~~~~~~~~~~~~~~~~~~~~~~~~~~~~~~~~~~~~~~~\\n  119 |   \"\\\\x72\\\\x6b\\\\x6f\\\\x6e\\\\x30\\\\x72\\\\x68\\\\x78\\\\x79\\\\x75\\\\x79\\\\x6b\\\\x65\\\\x6e\\\\x6d\\\\x66\"\\n      |   ~~~~~~~~~~~~~~~~~~~~~~~~~~~~~~~~~~~~~~~~~~~~~~~~~~~~~~~~~~~~~~~~~~\\n  120 |   \"\\\\x37\\\\x6b\\\\x6f\\\\x79\\\\x66\\\\x36\\\\x33\\\\x70\\\\x73\\\\x71\\\\x63\\\\x71\\\\x63\\\\x70\\\\x73\\\\x71\"\\n      |   ~~~~~~~~~~~~~~~~~~~~~~~~~~~~~~~~~~~~~~~~~~~~~~~~~~~~~~~~~~~~~~~~~~\\n  121 |   \"\\\\x73\\\\x71\\\\x63\\\\x31\\\\x73\\\\x36\\\\x33\\\\x6b\\\\x6f\\\\x68\\\\x70\\\\x32\\\\x66\\\\x65\\\\x38\\\\x71\"\\n      |   ~~~~~~~~~~~~~~~~~~~~~~~~~~~~~~~~~~~~~~~~~~~~~~~~~~~~~~~~~~~~~~~~~~\\n  122 |   \"\\\\x37\\\\x74\\\\x6e\\\\x72\\\\x66\\\\x71\\\\x63\\\\x6b\\\\x39\\\\x6b\\\\x71\\\\x6c\\\\x75\\\\x73\\\\x78\\\\x6f\"\\n      |   ~~~~~~~~~~~~~~~~~~~~~~~~~~~~~~~~~~~~~~~~~~~~~~~~~~~~~~~~~~~~~~~~~~\\n  123 |   \"\\\\x74\\\\x75\\\\x6a\\\\x74\\\\x30\\\\x6f\\\\x37\\\\x30\\\\x77\\\\x6b\\\\x6f\\\\x79\\\\x66\\\\x32\\\\x6a\\\\x64\"\\n      |   ~~~~~~~~~~~~~~~~~~~~~~~~~~~~~~~~~~~~~~~~~~~~~~~~~~~~~~~~~~~~~~~~~~\\n  124 |   \"\\\\x70\\\\x36\\\\x31\\\\x31\\\\x65\\\\x6b\\\\x6f\\\\x6e\\\\x30\\\\x75\\\\x38\\\\x6e\\\\x64\\\\x6e\\\\x6d\\\\x76\"\\n      |   ~~~~~~~~~~~~~~~~~~~~~~~~~~~~~~~~~~~~~~~~~~~~~~~~~~~~~~~~~~~~~~~~~~\\n  125 |   \"\\\\x6e\\\\x6b\\\\x79\\\\x71\\\\x67\\\\x6b\\\\x6f\\\\x78\\\\x76\\\\x70\\\\x73\\\\x70\\\\x75\\\\x6b\\\\x6f\\\\x78\"\\n      |   ~~~~~~~~~~~~~~~~~~~~~~~~~~~~~~~~~~~~~~~~~~~~~~~~~~~~~~~~~~~~~~~~~~\\n  126 |   \"\\\\x70\\\\x65\\\\x38\\\\x6b\\\\x75\\\\x31\\\\x79\\\\x6c\\\\x66\\\\x70\\\\x69\\\\x30\\\\x77\\\\x6b\\\\x6f\\\\x6e\"\\n      |   ~~~~~~~~~~~~~~~~~~~~~~~~~~~~~~~~~~~~~~~~~~~~~~~~~~~~~~~~~~~~~~~~~~\\n  127 |   \"\\\\x36\\\\x70\\\\x70\\\\x31\\\\x64\\\\x71\\\\x64\\\\x76\\\\x35\\\\x6b\\\\x6f\\\\x78\\\\x70\\\\x6c\\\\x73\\\\x72\"\\n      |   ~~~~~~~~~~~~~~~~~~~~~~~~~~~~~~~~~~~~~~~~~~~~~~~~~~~~~~~~~~~~~~~~~~\\n  128 |   \"\\\\x68\\\\x6d\\\\x37\\\\x63\\\\x69\\\\x39\\\\x76\\\\x32\\\\x79\\\\x71\\\\x67\\\\x6b\\\\x6f\\\\x6e\\\\x36\\\\x71\"\\n      |   ~~~~~~~~~~~~~~~~~~~~~~~~~~~~~~~~~~~~~~~~~~~~~~~~~~~~~~~~~~~~~~~~~~\\n  129 |   \"\\\\x65\\\\x6b\\\\x6f\\\\x78\\\\x70\\\\x73\\\\x76\\\\x73\\\\x7a\\\\x35\\\\x34\\\\x32\\\\x66\\\\x72\\\\x68\\\\x75\"\\n      |   ~~~~~~~~~~~~~~~~~~~~~~~~~~~~~~~~~~~~~~~~~~~~~~~~~~~~~~~~~~~~~~~~~~\\n  130 |   \"\\\\x33\\\\x72\\\\x6d\\\\x6d\\\\x79\\\\x6b\\\\x75\\\\x72\\\\x6a\\\\x76\\\\x30\\\\x76\\\\x39\\\\x71\\\\x39\\\\x68\"\\n      |   ~~~~~~~~~~~~~~~~~~~~~~~~~~~~~~~~~~~~~~~~~~~~~~~~~~~~~~~~~~~~~~~~~~\\n  131 |   \"\\\\x6c\\\\x6b\\\\x39\\\\x6d\\\\x37\\\\x72\\\\x6a\\\\x30\\\\x64\\\\x6b\\\\x39\\\\x6b\\\\x72\\\\x76\\\\x71\\\\x6f\"\\n      |   ~~~~~~~~~~~~~~~~~~~~~~~~~~~~~~~~~~~~~~~~~~~~~~~~~~~~~~~~~~~~~~~~~~\\n  132 |   \"\\\\x30\\\\x7a\\\\x73\\\\x6e\\\\x6a\\\\x6b\\\\x6e\\\\x70\\\\x62\\\\x76\\\\x6d\\\\x6b\\\\x6e\\\\x67\\\\x32\\\\x36\"\\n      |   ~~~~~~~~~~~~~~~~~~~~~~~~~~~~~~~~~~~~~~~~~~~~~~~~~~~~~~~~~~~~~~~~~~\\n  133 |   \"\\\\x6c\\\\x6a\\\\x33\\\\x6c\\\\x6d\\\\x33\\\\x6a\\\\x76\\\\x78\\\\x6e\\\\x6b\\\\x6e\\\\x6b\\\\x6e\\\\x6b\\\\x63\"\\n      |   ~~~~~~~~~~~~~~~~~~~~~~~~~~~~~~~~~~~~~~~~~~~~~~~~~~~~~~~~~~~~~~~~~~\\n  134 |   \"\\\\x78\\\\x73\\\\x62\\\\x6b\\\\x6e\\\\x6e\\\\x73\\\\x74\\\\x76\\\\x6b\\\\x6f\\\\x62\\\\x75\\\\x70\\\\x64\\\\x6b\"\\n      |   ~~~~~~~~~~~~~~~~~~~~~~~~~~~~~~~~~~~~~~~~~~~~~~~~~~~~~~~~~~~~~~~~~~\\n  135 |   \"\\\\x6f\\\\x38\\\\x76\\\\x71\\\\x6b\\\\x76\\\\x37\\\\x76\\\\x32\\\\x30\\\\x71\\\\x30\\\\x71\\\\x70\\\\x71\\\\x72\"\\n      |   ~~~~~~~~~~~~~~~~~~~~~~~~~~~~~~~~~~~~~~~~~~~~~~~~~~~~~~~~~~~~~~~~~~\\n  136 |   \"\\\\x6a\\\\x65\\\\x71\\\\x30\\\\x71\\\\x30\\\\x71\\\\x30\\\\x75\\\\x70\\\\x71\\\\x6b\\\\x6f\\\\x78\\\\x70\\\\x75\"\\n      |   ~~~~~~~~~~~~~~~~~~~~~~~~~~~~~~~~~~~~~~~~~~~~~~~~~~~~~~~~~~~~~~~~~~\\n  137 |   \"\\\\x38\\\\x6e\\\\x6d\\\\x6e\\\\x39\\\\x74\\\\x65\\\\x78\\\\x6e\\\\x70\\\\x73\\\\x6b\\\\x6f\\\\x6e\\\\x36\\\\x73\"\\n      |   ~~~~~~~~~~~~~~~~~~~~~~~~~~~~~~~~~~~~~~~~~~~~~~~~~~~~~~~~~~~~~~~~~~\\n  138 |   \"\\\\x7a\\\\x6b\\\\x6f\\\\x6b\\\\x6f\\\\x36\\\\x77\\\\x6b\\\\x6f\\\\x6e\\\\x30\\\\x6c\\\\x6b\\\\x36\\\\x37\\\\x6b\"\\n      |   ~~~~~~~~~~~~~~~~~~~~~~~~~~~~~~~~~~~~~~~~~~~~~~~~~~~~~~~~~~~~~~~~~~\\n  139 |   \"\\\\x6c\\\\x6b\\\\x33\\\\x69\\\\x74\\\\x75\\\\x34\\\\x6b\\\\x6f\\\\x38\\\\x76\\\\x66\\\\x32\\\\x6b\\\\x6f\\\\x38\"\\n      |   ~~~~~~~~~~~~~~~~~~~~~~~~~~~~~~~~~~~~~~~~~~~~~~~~~~~~~~~~~~~~~~~~~~\\n  140 |   \"\\\\x70\\\\x33\\\\x78\\\\x7a\\\\x70\\\\x6c\\\\x6a\\\\x63\\\\x34\\\\x71\\\\x6f\\\\x66\\\\x33\\\\x6b\\\\x6f\\\\x6e\"\\n      |   ~~~~~~~~~~~~~~~~~~~~~~~~~~~~~~~~~~~~~~~~~~~~~~~~~~~~~~~~~~~~~~~~~~\\n  141 |   \"\\\\x36\\\\x6b\\\\x6f\\\\x68\\\\x70\\\\x61\\\\x61\"\\n      |   ~~~~~~~~~~~~~~~~~~~~~~~~~~~~~~\\ntemp_dir/5827.cpp: In function ‘int main(int, char**)’:\\ntemp_dir/5827.cpp:184:32: warning: ISO C++ forbids converting a string constant to ‘char*’ [-Wwrite-strings]\\n  184 |  while((c = getopt(argc, argv, \"h:t:R:T:\"))!= EOF)\\n      |                                ^~~~~~~~~~')\n",
      "(0, '')\n",
      "N: 1896\n",
      "x86_64-w64-mingw32-g++ -S -o temp_dir/6389.s temp_dir/6389.cpp\n",
      "(0, '')\n",
      "(0, '')\n",
      "N: 1959\n",
      "x86_64-w64-mingw32-g++ -S -o temp_dir/6831.s temp_dir/6831.cpp\n",
      "(0, 'temp_dir/6831.cpp:352:53: warning: ISO C++ forbids converting a string constant to ‘char*’ [-Wwrite-strings]\\n  352 |                                                  {  \"[*]Microsoft Windows XP 5.1.1.0 SP1 (IA32)English(jmp esp)\",0x778eadcf                  },\\n      |                                                     ^~~~~~~~~~~~~~~~~~~~~~~~~~~~~~~~~~~~~~~~~~~~~~~~~~~~~~~~~~~~\\ntemp_dir/6831.cpp:353:53: warning: ISO C++ forbids converting a string constant to ‘char*’ [-Wwrite-strings]\\n  353 |                                                  {  \"[*]Microsoft Windows Pro sp3 English (call esp)\",0x7C8369F0                             },\\n      |                                                     ^~~~~~~~~~~~~~~~~~~~~~~~~~~~~~~~~~~~~~~~~~~~~~~~~\\ntemp_dir/6831.cpp:354:53: warning: ISO C++ forbids converting a string constant to ‘char*’ [-Wwrite-strings]\\n  354 |                                                  {  \"[*]Microsoft Windows Pro sp3 English (jmp esp)\",0x7C86467B                              },\\n      |                                                     ^~~~~~~~~~~~~~~~~~~~~~~~~~~~~~~~~~~~~~~~~~~~~~~~\\ntemp_dir/6831.cpp:355:53: warning: ISO C++ forbids converting a string constant to ‘char*’ [-Wwrite-strings]\\n  355 |                                                  {  \"[*]Windows XP 5.1.2.0 SP2 (IA32) English (jmp esp)\",0x7d184de7                          },\\n      |                                                     ^~~~~~~~~~~~~~~~~~~~~~~~~~~~~~~~~~~~~~~~~~~~~~~~~~~~\\ntemp_dir/6831.cpp:356:53: warning: ISO C++ forbids converting a string constant to ‘char*’ [-Wwrite-strings]\\n  356 |                                                  {  \"[*]Windows XP 5.1.2.0 SP2 (IA32) German (jmp esp)\",0x77d85197                           },\\n      |                                                     ^~~~~~~~~~~~~~~~~~~~~~~~~~~~~~~~~~~~~~~~~~~~~~~~~~~\\ntemp_dir/6831.cpp:357:53: warning: ISO C++ forbids converting a string constant to ‘char*’ [-Wwrite-strings]\\n  357 |                                                  {  \"[*]Windows 2000 5.0.1.0 SP1 (IA32) English (jmp esp)\",0x69952208                        },\\n      |                                                     ^~~~~~~~~~~~~~~~~~~~~~~~~~~~~~~~~~~~~~~~~~~~~~~~~~~~~~\\ntemp_dir/6831.cpp:358:53: warning: ISO C++ forbids converting a string constant to ‘char*’ [-Wwrite-strings]\\n  358 |                                                  {  \"[*]Crash the program\",0x58585858                                                        },\\n      |                                                     ^~~~~~~~~~~~~~~~~~~~~~')\n",
      "(0, '')\n",
      "N: 2013\n",
      "x86_64-w64-mingw32-g++ -S -o temp_dir/7536.s temp_dir/7536.cpp\n",
      "(1, 'temp_dir/7536.cpp: In function ‘int main()’:\\ntemp_dir/7536.cpp:51:5: error: ‘strcpy’ was not declared in this scope\\n   51 |     strcpy(buffer, \"[CoolPlayer Skin]\\\\nPlaylistSkin=\");\\n      |     ^~~~~~\\ntemp_dir/7536.cpp:16:1: note: ‘strcpy’ is defined in header ‘<cstring>’; did you forget to ‘#include <cstring>’?\\n   15 | #include <cstdlib> //exit\\n  +++ |+#include <cstring>\\n   16 | ')\n",
      "(0, '')\n",
      "N: 2104\n",
      "x86_64-w64-mingw32-g++ -S -o temp_dir/8390.s temp_dir/8390.cpp\n",
      "(0, 'temp_dir/8390.cpp: In function ‘int main(int, char**)’:\\ntemp_dir/8390.cpp:56:80: warning: ISO C++ forbids converting a string constant to ‘char*’ [-Wwrite-strings]\\n   56 |                                                   if ( VIDEO.check ( argv [1], \"-file\") == Neg) {\\n      |                                                                                ^~~~~~~')\n",
      "(0, '')\n",
      "N: 2124\n",
      "x86_64-w64-mingw32-g++ -S -o temp_dir/846.s temp_dir/846.cpp\n",
      "(0, '')\n",
      "(0, '')\n",
      "N: 2289\n",
      "x86_64-w64-mingw32-g++ -S -o temp_dir/9659.s temp_dir/9659.cpp\n",
      "(1, 'temp_dir/9659.cpp:350:21: error: invalid digit \"9\" in octal constant\\n  350 | / milw0rm.com [2009-09-14]\\n      |                     ^~\\ntemp_dir/9659.cpp: In function ‘void args(int, char**)’:\\ntemp_dir/9659.cpp:311:17: error: cast from ‘char*’ to ‘int’ loses precision [-fpermissive]\\n  311 |     file = (int)optarg;\\n      |                 ^~~~~~\\ntemp_dir/9659.cpp: At global scope:\\ntemp_dir/9659.cpp:350:1: error: expected unqualified-id before ‘/’ token\\n  350 | / milw0rm.com [2009-09-14]\\n      | ^')\n",
      "(0, '')\n",
      "N: 2304\n",
      "x86_64-w64-mingw32-g++ -S -o temp_dir/983.s temp_dir/983.cpp\n",
      "(0, '')\n",
      "(0, '')\n"
     ]
    },
    {
     "output_type": "execute_result",
     "data": {
      "text/plain": [
       "\"\\nfor n in indexes:\\n    print((df.iloc[n]['exploit']))\\n\""
      ]
     },
     "metadata": {},
     "execution_count": 66
    }
   ],
   "source": [
    "#Compile all cpp codes to get assembly files .s\n",
    "\n",
    "suffix = 'cpp'\n",
    "indexes = df.loc[df.isin([suffix]).any(axis=1)].index.tolist()\n",
    "print(str(indexes))\n",
    "\n",
    "\n",
    "ls = \"ls\"\n",
    "ls = subprocess.getstatusoutput(ls)[1]\n",
    "print(ls.split('\\n'))\n",
    "\n",
    "for n in indexes:\n",
    "    i = n\n",
    "    print('N: ' + str(n))\n",
    "    tempdir = 'temp_dir/'\n",
    "    suffix = '.cpp'\n",
    "    temp_file_name = tempdir + str(df.iloc[i]['exploit_db_id']) + suffix\n",
    "    temp_file = open(temp_file_name, 'w')\n",
    "    n = temp_file.write(df.iloc[i]['exploit'])\n",
    "    # print(df.iloc[n]['exploit'])\n",
    "    temp_file.close()\n",
    "    assembly_temp = tempdir + str(df.iloc[i]['exploit_db_id']) + '.s'\n",
    "\n",
    "\n",
    "    compile_command = 'x86_64-w64-mingw32-g++ -S -o ' + assembly_temp +' ' + temp_file_name\n",
    "    print(compile_command)\n",
    "\n",
    "    cc = subprocess.getstatusoutput(compile_command)\n",
    "    print(cc)\n",
    "\n",
    "    remove = 'rm ' + temp_file_name\n",
    "    remove = subprocess.getstatusoutput(remove)\n",
    "    print(remove)\n",
    "'''\n",
    "for n in indexes:\n",
    "    print((df.iloc[n]['exploit']))\n",
    "'''\n",
    "\n",
    "\n"
   ]
  },
  {
   "cell_type": "code",
   "execution_count": null,
   "metadata": {},
   "outputs": [],
   "source": []
  }
 ]
}