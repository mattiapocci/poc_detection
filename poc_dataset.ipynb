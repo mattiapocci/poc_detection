{
  "nbformat": 4,
  "nbformat_minor": 0,
  "metadata": {
    "colab": {
      "name": "poc_dataset.ipynb",
      "provenance": [],
      "collapsed_sections": [
        "3PxHq-_fpSgE",
        "4FG7QTPrlK_M",
        "6hcwTftA4S8e",
        "u6eNmbO2S-tp",
        "mZz9UhXAyFYE",
        "WfKydAKr_oXG",
        "NyOMRcZf__3A",
        "0roTcY3d-2qt",
        "P3PrUoqMS9iD"
      ],
      "authorship_tag": "ABX9TyPXUwIHrWJClr2VBx5Igghl",
      "include_colab_link": true
    },
    "kernelspec": {
      "name": "python394jvsc74a57bd0a0ded08c67edfe2a4354d36b10e2f98b3ecfce6631b76726d618bad84dd97c1f",
      "display_name": "Python 3.9.4 64-bit"
    },
    "metadata": {
      "interpreter": {
        "hash": "a0ded08c67edfe2a4354d36b10e2f98b3ecfce6631b76726d618bad84dd97c1f"
      }
    }
  },
  "cells": [
    {
      "cell_type": "markdown",
      "metadata": {
        "id": "view-in-github",
        "colab_type": "text"
      },
      "source": [
        "<a href=\"https://colab.research.google.com/github/mattiapocci/poc_detection/blob/main/poc_dataset.ipynb\" target=\"_parent\"><img src=\"https://colab.research.google.com/assets/colab-badge.svg\" alt=\"Open In Colab\"/></a>"
      ]
    },
    {
      "cell_type": "markdown",
      "metadata": {
        "id": "5s8W1AstBSct"
      },
      "source": [
        "# Mount Drive"
      ]
    },
    {
      "cell_type": "code",
      "metadata": {
        "colab": {
          "base_uri": "https://localhost:8080/"
        },
        "id": "z54UiDL4k3Ye",
        "outputId": "f5f5dd63-0bee-4a08-bc24-88024a3805a7"
      },
      "source": [
        "from google.colab import drive\n",
        "drive.mount('/content/gdrive', force_remount=True)"
      ],
      "execution_count": null,
      "outputs": [
        {
          "output_type": "stream",
          "text": [
            "Mounted at /content/gdrive\n"
          ],
          "name": "stdout"
        }
      ]
    },
    {
      "cell_type": "markdown",
      "metadata": {
        "id": "3PxHq-_fpSgE"
      },
      "source": [
        "#Python packages installation"
      ]
    },
    {
      "cell_type": "code",
      "metadata": {
        "id": "x1t9MpT4pQl9"
      },
      "source": [
        "!pip install beautifulsoup4\n",
        "!pip install pandas"
      ],
      "execution_count": null,
      "outputs": []
    },
    {
      "cell_type": "markdown",
      "metadata": {
        "id": "4FG7QTPrlK_M"
      },
      "source": [
        "# Imports"
      ]
    },
    {
      "cell_type": "code",
      "metadata": {
        "id": "Sx8IXEgjo_Ps"
      },
      "source": [
        "import pandas as pd\n",
        "from bs4 import BeautifulSoup\n",
        "import requests"
      ],
      "execution_count": 2,
      "outputs": []
    },
    {
      "cell_type": "markdown",
      "metadata": {
        "id": "6hcwTftA4S8e"
      },
      "source": [
        "# Load from drive"
      ]
    },
    {
      "cell_type": "code",
      "metadata": {
        "id": "MYDhuXl_41pl"
      },
      "source": [
        "%cd gdrive/MyDrive/poc_detection/\n",
        "!ls\n",
        "mitre_df = pd.read_csv(\"cleaned_mitre.csv\")\n",
        "print(\"Loaded mitre_df\")\n",
        "df_exploits = pd.read_csv(\"exploit-database/files_exploits.csv\")\n",
        "print(\"Loaded df_exploits\")\n",
        "df_shellcodes = pd.read_csv(\"exploit-database/files_shellcodes.csv\")\n",
        "print(\"Loaded df_shellcodes\")\n",
        "cve_exploit_df = pd.read_csv(\"exploit_db_cve.csv\")\n",
        "print(\"Loaded cve_exploit_df\")"
      ],
      "execution_count": null,
      "outputs": []
    },
    {
      "cell_type": "code",
      "metadata": {
        "id": "3DfWkykx6v3f"
      },
      "source": [
        "mitre_df"
      ],
      "execution_count": null,
      "outputs": []
    },
    {
      "cell_type": "code",
      "metadata": {
        "id": "AtMcfd6k6xzb"
      },
      "source": [
        "df_exploits"
      ],
      "execution_count": null,
      "outputs": []
    },
    {
      "cell_type": "code",
      "metadata": {
        "id": "UHMTDA3960c9"
      },
      "source": [
        "df_shellcodes"
      ],
      "execution_count": null,
      "outputs": []
    },
    {
      "cell_type": "code",
      "metadata": {
        "id": "XBBy8qU_63gl"
      },
      "source": [
        "cve_exploit_df"
      ],
      "execution_count": null,
      "outputs": []
    },
    {
      "cell_type": "markdown",
      "metadata": {
        "id": "FWzeMwySzijP"
      },
      "source": [
        "# Mitre processing"
      ]
    },
    {
      "cell_type": "code",
      "metadata": {
        "id": "OZaBXXb34rF2"
      },
      "source": [],
      "execution_count": null,
      "outputs": []
    },
    {
      "cell_type": "markdown",
      "metadata": {
        "id": "sZx9Elsw5hLA"
      },
      "source": [
        "## Navigate to correct directory"
      ]
    },
    {
      "cell_type": "code",
      "metadata": {
        "id": "dAy7JJBzzqQu"
      },
      "source": [
        "#!git clone https://github.com/offensive-security/exploitd\n",
        "#!ls gdrive/MyDrive/poc_detection/\n",
        "%cd gdrive/MyDrive/poc_detection/\n",
        "!ls"
      ],
      "execution_count": null,
      "outputs": []
    },
    {
      "cell_type": "code",
      "metadata": {
        "id": "z9gztDms5n4O"
      },
      "source": [
        "mitre = open(\"allitems.xml\", \"r\")\n",
        "soup = BeautifulSoup(mitre)\n",
        "#print(soup.prettify())\n",
        "result = soup.prettify().splitlines()\n",
        "print('\\n'.join(result[:1000] + result[-1000:]))"
      ],
      "execution_count": null,
      "outputs": []
    },
    {
      "cell_type": "code",
      "metadata": {
        "id": "B4IDUR-w9RvI"
      },
      "source": [
        "elements = soup.find_all(\"item\")\n",
        "'''\n",
        "for e in elements:\n",
        "    print(e)\n",
        "    print(\"_____________________________________________-\")\n",
        "'''\n",
        "#print(elements)"
      ],
      "execution_count": null,
      "outputs": []
    },
    {
      "cell_type": "code",
      "metadata": {
        "id": "x2zFULy7_x8r"
      },
      "source": [
        "'''\n",
        "for e in elements:\n",
        "    print(e.find(\"desc\").string)\n",
        "    try:\n",
        "        print(e[\"name\"] + \" | \" + e[\"seq\"] + \" | \" + e[\"type\"])\n",
        "    except:\n",
        "        print(\"invalid entry\")\n",
        "'''\n",
        "mitre_df = pd.DataFrame(columns=[\"name\", \"type\", \"desc\"])\n",
        "list_of_lists = []\n",
        "for e in elements:\n",
        "    list_of_lists.append([str(e[\"name\"]), str(e[\"type\"]), e.find(\"desc\").string])\n",
        "    '''\n",
        "    mitre_df.append({\n",
        "        \"name\": e.find(\"name\").string,\n",
        "        \"type\":  e.find(\"type\").string,\n",
        "        \"desc\": e.find(\"desc\").string\n",
        "      }, ignore_index=True)\n",
        "    '''\n",
        "    \n",
        "mitre_df = pd.DataFrame(list_of_lists, columns=['name', 'type', 'desc'])\n",
        "mitre_df"
      ],
      "execution_count": null,
      "outputs": []
    },
    {
      "cell_type": "markdown",
      "metadata": {
        "id": "W51M8OWHSyMX"
      },
      "source": [
        "### Processing"
      ]
    },
    {
      "cell_type": "code",
      "metadata": {
        "id": "w8X1tARgP-1Z"
      },
      "source": [
        "\n",
        "print(\"1, initial\", mitre_df.shape, \"TOT = \", mitre_df.shape[0]*mitre_df.shape[1])\n",
        "\n",
        "print(\"__________________________________________\")\n",
        "for e in elements:\n",
        "    print(e.find(\"desc\").string)\n",
        "#mitre_df = mitre_df.drop(mitre_df[mitre_df[\"type\"] == \"CAN\"].index)\n",
        "#mitre_df=mitre_df.drop(columns=[\"type\"])\n",
        "patternDel = \"^\\*\\*\"\n",
        "filter = mitre_df[\"desc\"].str.contains(patternDel)\n",
        "mitre_df = mitre_df[~filter]\n",
        "\n",
        "print(\"2, descrizione senza **\", mitre_df.shape, \"TOT = \", mitre_df.shape[0]*mitre_df.shape[1])\n",
        "mitre_df"
      ],
      "execution_count": null,
      "outputs": []
    },
    {
      "cell_type": "markdown",
      "metadata": {
        "id": "E6y8X5brqojr"
      },
      "source": [
        "### Load csv"
      ]
    },
    {
      "cell_type": "code",
      "metadata": {
        "id": "-wchormipkEb"
      },
      "source": [
        "!ls\n",
        "mitre_df.to_csv(r'cleaned_mitre.csv', index = False)\n",
        "#mitre_df = pd.read_csv(\"cleaned_mitre.csv\")\n",
        "mitre_df"
      ],
      "execution_count": null,
      "outputs": []
    },
    {
      "cell_type": "markdown",
      "metadata": {
        "id": "u6eNmbO2S-tp"
      },
      "source": [
        "# Exploit db"
      ]
    },
    {
      "cell_type": "code",
      "metadata": {
        "id": "_FdrT0ENTBJQ"
      },
      "source": [
        "#df = pd.read_csv(\"/exploitdb/\", encoding='ISO-8859-1')\n",
        "!ls\n",
        "#%cd exploit-database/\n",
        "#!ls"
      ],
      "execution_count": null,
      "outputs": []
    },
    {
      "cell_type": "markdown",
      "metadata": {
        "id": "ChAGOt2IsQHH"
      },
      "source": [
        "### Load files_exploits and files_shellcodes"
      ]
    },
    {
      "cell_type": "code",
      "metadata": {
        "id": "jvFrcvNnsOZ2"
      },
      "source": [
        "files_exploits = open(\"files_exploits.csv\", 'r')\n",
        "files_shellcodes = open(\"files_shellcodes.csv\", 'r')\n",
        "df_exploits = pd.read_csv(files_exploits)\n",
        "df_shellcodes = pd.read_csv(files_shellcodes)\n",
        "print(\"Exploits\\n\")\n",
        "df_exploits\n",
        "#print(\"Shellcodes\\n\")\n",
        "#df_shellcodes"
      ],
      "execution_count": null,
      "outputs": []
    },
    {
      "cell_type": "code",
      "metadata": {
        "id": "EOrqi0KNuFw1"
      },
      "source": [
        "print(\"Shellcodes\\n\")\n",
        "df_shellcodes"
      ],
      "execution_count": null,
      "outputs": []
    },
    {
      "cell_type": "markdown",
      "metadata": {
        "id": "mZz9UhXAyFYE"
      },
      "source": [
        "# Mapping CVE and exploit-db"
      ]
    },
    {
      "cell_type": "code",
      "metadata": {
        "id": "V9ZzLuaryKOC",
        "tags": [
          "outputPrepend"
        ]
      },
      "source": [
        "mapping_url = 'https://cve.mitre.org/data/refs/refmap/source-EXPLOIT-DB.html'\n",
        "mapping_site = requests.get(mapping_url)\n",
        "soup = BeautifulSoup(mapping_site.text)\n",
        "print(soup.prettify())"
      ],
      "execution_count": 3,
      "outputs": [
        {
          "output_type": "stream",
          "name": "stdout",
          "text": [
            "ame=CVE-2009-3349\">\n      CVE-2009-3349\n     </a>\n    </td>\n   </tr>\n   <tr>\n    <td>\n     EXPLOIT-DB:9646\n    </td>\n    <td>\n     <a href=\"http://cve.mitre.org/cgi-bin/cvename.cgi?name=CVE-2009-3322\">\n      CVE-2009-3322\n     </a>\n    </td>\n   </tr>\n   <tr>\n    <td>\n     EXPLOIT-DB:9647\n    </td>\n    <td>\n     <a href=\"http://cve.mitre.org/cgi-bin/cvename.cgi?name=CVE-2009-3361\">\n      CVE-2009-3361\n     </a>\n    </td>\n   </tr>\n   <tr>\n    <td>\n     EXPLOIT-DB:9648\n    </td>\n    <td>\n     <a href=\"http://cve.mitre.org/cgi-bin/cvename.cgi?name=CVE-2009-3357\">\n      CVE-2009-3357\n     </a>\n     <a href=\"http://cve.mitre.org/cgi-bin/cvename.cgi?name=CVE-2009-3368\">\n      CVE-2009-3368\n     </a>\n    </td>\n   </tr>\n   <tr>\n    <td>\n     EXPLOIT-DB:9649\n    </td>\n    <td>\n     <a href=\"http://cve.mitre.org/cgi-bin/cvename.cgi?name=CVE-2009-3544\">\n      CVE-2009-3544\n     </a>\n    </td>\n   </tr>\n   <tr>\n    <td>\n     EXPLOIT-DB:9653\n    </td>\n    <td>\n     <a href=\"http://cve.mitre.org/cgi-bin/cvename.cgi?name=CVE-2009-3335\">\n      CVE-2009-3335\n     </a>\n    </td>\n   </tr>\n   <tr>\n    <td>\n     EXPLOIT-DB:9654\n    </td>\n    <td>\n     <a href=\"http://cve.mitre.org/cgi-bin/cvename.cgi?name=CVE-2009-3342\">\n      CVE-2009-3342\n     </a>\n    </td>\n   </tr>\n   <tr>\n    <td>\n     EXPLOIT-DB:9655\n    </td>\n    <td>\n     <a href=\"http://cve.mitre.org/cgi-bin/cvename.cgi?name=CVE-2009-4107\">\n      CVE-2009-4107\n     </a>\n    </td>\n   </tr>\n   <tr>\n    <td>\n     EXPLOIT-DB:9656\n    </td>\n    <td>\n     <a href=\"http://cve.mitre.org/cgi-bin/cvename.cgi?name=CVE-2009-3365\">\n      CVE-2009-3365\n     </a>\n    </td>\n   </tr>\n   <tr>\n    <td>\n     EXPLOIT-DB:9657\n    </td>\n    <td>\n     <a href=\"http://cve.mitre.org/cgi-bin/cvename.cgi?name=CVE-2009-3663\">\n      CVE-2009-3663\n     </a>\n    </td>\n   </tr>\n   <tr>\n    <td>\n     EXPLOIT-DB:9659\n    </td>\n    <td>\n     <a href=\"http://cve.mitre.org/cgi-bin/cvename.cgi?name=CVE-2009-3338\">\n      CVE-2009-3338\n     </a>\n    </td>\n   </tr>\n   <tr>\n    <td>\n     EXPLOIT-DB:9664\n    </td>\n    <td>\n     <a href=\"http://cve.mitre.org/cgi-bin/cvename.cgi?name=CVE-2009-3545\">\n      CVE-2009-3545\n     </a>\n    </td>\n   </tr>\n   <tr>\n    <td>\n     EXPLOIT-DB:9665\n    </td>\n    <td>\n     <a href=\"http://cve.mitre.org/cgi-bin/cvename.cgi?name=CVE-2009-3336\">\n      CVE-2009-3336\n     </a>\n    </td>\n   </tr>\n   <tr>\n    <td>\n     EXPLOIT-DB:9666\n    </td>\n    <td>\n     <a href=\"http://cve.mitre.org/cgi-bin/cvename.cgi?name=CVE-2009-3271\">\n      CVE-2009-3271\n     </a>\n    </td>\n   </tr>\n   <tr>\n    <td>\n     EXPLOIT-DB:9669\n    </td>\n    <td>\n     <a href=\"http://cve.mitre.org/cgi-bin/cvename.cgi?name=CVE-2009-3659\">\n      CVE-2009-3659\n     </a>\n    </td>\n   </tr>\n   <tr>\n    <td>\n     EXPLOIT-DB:9671\n    </td>\n    <td>\n     <a href=\"http://cve.mitre.org/cgi-bin/cvename.cgi?name=CVE-2009-3574\">\n      CVE-2009-3574\n     </a>\n    </td>\n   </tr>\n   <tr>\n    <td>\n     EXPLOIT-DB:9673\n    </td>\n    <td>\n     <a href=\"http://cve.mitre.org/cgi-bin/cvename.cgi?name=CVE-2009-4660\">\n      CVE-2009-4660\n     </a>\n    </td>\n   </tr>\n   <tr>\n    <td>\n     EXPLOIT-DB:9675\n    </td>\n    <td>\n     <a href=\"http://cve.mitre.org/cgi-bin/cvename.cgi?name=CVE-2009-3343\">\n      CVE-2009-3343\n     </a>\n    </td>\n   </tr>\n   <tr>\n    <td>\n     EXPLOIT-DB:9681\n    </td>\n    <td>\n     <a href=\"http://cve.mitre.org/cgi-bin/cvename.cgi?name=CVE-2009-3660\">\n      CVE-2009-3660\n     </a>\n    </td>\n   </tr>\n   <tr>\n    <td>\n     EXPLOIT-DB:9682\n    </td>\n    <td>\n     <a href=\"http://cve.mitre.org/cgi-bin/cvename.cgi?name=CVE-2009-3244\">\n      CVE-2009-3244\n     </a>\n    </td>\n   </tr>\n   <tr>\n    <td>\n     EXPLOIT-DB:9683\n    </td>\n    <td>\n     <a href=\"http://cve.mitre.org/cgi-bin/cvename.cgi?name=CVE-2009-3863\">\n      CVE-2009-3863\n     </a>\n    </td>\n   </tr>\n   <tr>\n    <td>\n     EXPLOIT-DB:9689\n    </td>\n    <td>\n     <a href=\"http://cve.mitre.org/cgi-bin/cvename.cgi?name=CVE-2009-3449\">\n      CVE-2009-3449\n     </a>\n    </td>\n   </tr>\n   <tr>\n    <td>\n     EXPLOIT-DB:9690\n    </td>\n    <td>\n     <a href=\"http://cve.mitre.org/cgi-bin/cvename.cgi?name=CVE-2009-4660\">\n      CVE-2009-4660\n     </a>\n    </td>\n   </tr>\n   <tr>\n    <td>\n     EXPLOIT-DB:9691\n    </td>\n    <td>\n     <a href=\"http://cve.mitre.org/cgi-bin/cvename.cgi?name=CVE-2009-4656\">\n      CVE-2009-4656\n     </a>\n    </td>\n   </tr>\n   <tr>\n    <td>\n     EXPLOIT-DB:9693\n    </td>\n    <td>\n     <a href=\"http://cve.mitre.org/cgi-bin/cvename.cgi?name=CVE-2009-3661\">\n      CVE-2009-3661\n     </a>\n    </td>\n   </tr>\n   <tr>\n    <td>\n     EXPLOIT-DB:9694\n    </td>\n    <td>\n     <a href=\"http://cve.mitre.org/cgi-bin/cvename.cgi?name=CVE-2009-3646\">\n      CVE-2009-3646\n     </a>\n    </td>\n   </tr>\n   <tr>\n    <td>\n     EXPLOIT-DB:9695\n    </td>\n    <td>\n     <a href=\"http://cve.mitre.org/cgi-bin/cvename.cgi?name=CVE-2009-4661\">\n      CVE-2009-4661\n     </a>\n    </td>\n   </tr>\n   <tr>\n    <td>\n     EXPLOIT-DB:9696\n    </td>\n    <td>\n     <a href=\"http://cve.mitre.org/cgi-bin/cvename.cgi?name=CVE-2009-3667\">\n      CVE-2009-3667\n     </a>\n    </td>\n   </tr>\n   <tr>\n    <td>\n     EXPLOIT-DB:9697\n    </td>\n    <td>\n     <a href=\"http://cve.mitre.org/cgi-bin/cvename.cgi?name=CVE-2009-3669\">\n      CVE-2009-3669\n     </a>\n    </td>\n   </tr>\n   <tr>\n    <td>\n     EXPLOIT-DB:9699\n    </td>\n    <td>\n     <a href=\"http://cve.mitre.org/cgi-bin/cvename.cgi?name=CVE-2006-3144\">\n      CVE-2006-3144\n     </a>\n     <a href=\"http://cve.mitre.org/cgi-bin/cvename.cgi?name=CVE-2008-6614\">\n      CVE-2008-6614\n     </a>\n    </td>\n   </tr>\n   <tr>\n    <td>\n     EXPLOIT-DB:9700\n    </td>\n    <td>\n     <a href=\"http://cve.mitre.org/cgi-bin/cvename.cgi?name=CVE-2009-3321\">\n      CVE-2009-3321\n     </a>\n    </td>\n   </tr>\n   <tr>\n    <td>\n     EXPLOIT-DB:9702\n    </td>\n    <td>\n     <a href=\"http://cve.mitre.org/cgi-bin/cvename.cgi?name=CVE-2009-3314\">\n      CVE-2009-3314\n     </a>\n    </td>\n   </tr>\n   <tr>\n    <td>\n     EXPLOIT-DB:9703\n    </td>\n    <td>\n     <a href=\"http://cve.mitre.org/cgi-bin/cvename.cgi?name=CVE-2009-3312\">\n      CVE-2009-3312\n     </a>\n    </td>\n   </tr>\n   <tr>\n    <td>\n     EXPLOIT-DB:9705\n    </td>\n    <td>\n     <a href=\"http://cve.mitre.org/cgi-bin/cvename.cgi?name=CVE-2009-4663\">\n      CVE-2009-4663\n     </a>\n    </td>\n   </tr>\n   <tr>\n    <td>\n     EXPLOIT-DB:9706\n    </td>\n    <td>\n     <a href=\"http://cve.mitre.org/cgi-bin/cvename.cgi?name=CVE-2009-3318\">\n      CVE-2009-3318\n     </a>\n    </td>\n   </tr>\n   <tr>\n    <td>\n     EXPLOIT-DB:9707\n    </td>\n    <td>\n     <a href=\"http://cve.mitre.org/cgi-bin/cvename.cgi?name=CVE-2009-4659\">\n      CVE-2009-4659\n     </a>\n    </td>\n   </tr>\n   <tr>\n    <td>\n     EXPLOIT-DB:9708\n    </td>\n    <td>\n     <a href=\"http://cve.mitre.org/cgi-bin/cvename.cgi?name=CVE-2009-3317\">\n      CVE-2009-3317\n     </a>\n    </td>\n   </tr>\n   <tr>\n    <td>\n     EXPLOIT-DB:9710\n    </td>\n    <td>\n     <a href=\"http://cve.mitre.org/cgi-bin/cvename.cgi?name=CVE-2009-3309\">\n      CVE-2009-3309\n     </a>\n    </td>\n   </tr>\n   <tr>\n    <td>\n     EXPLOIT-DB:9711\n    </td>\n    <td>\n     <a href=\"http://cve.mitre.org/cgi-bin/cvename.cgi?name=CVE-2009-3313\">\n      CVE-2009-3313\n     </a>\n    </td>\n   </tr>\n   <tr>\n    <td>\n     EXPLOIT-DB:9712\n    </td>\n    <td>\n     <a href=\"http://cve.mitre.org/cgi-bin/cvename.cgi?name=CVE-2009-3315\">\n      CVE-2009-3315\n     </a>\n    </td>\n   </tr>\n   <tr>\n    <td>\n     EXPLOIT-DB:9713\n    </td>\n    <td>\n     <a href=\"http://cve.mitre.org/cgi-bin/cvename.cgi?name=CVE-2009-3316\">\n      CVE-2009-3316\n     </a>\n    </td>\n   </tr>\n   <tr>\n    <td>\n     EXPLOIT-DB:9714\n    </td>\n    <td>\n     <a href=\"http://cve.mitre.org/cgi-bin/cvename.cgi?name=CVE-2009-3333\">\n      CVE-2009-3333\n     </a>\n    </td>\n   </tr>\n   <tr>\n    <td>\n     EXPLOIT-DB:9715\n    </td>\n    <td>\n     <a href=\"http://cve.mitre.org/cgi-bin/cvename.cgi?name=CVE-2009-3310\">\n      CVE-2009-3310\n     </a>\n    </td>\n   </tr>\n   <tr>\n    <td>\n     EXPLOIT-DB:9716\n    </td>\n    <td>\n     <a href=\"http://cve.mitre.org/cgi-bin/cvename.cgi?name=CVE-2009-3306\">\n      CVE-2009-3306\n     </a>\n    </td>\n   </tr>\n   <tr>\n    <td>\n     EXPLOIT-DB:9717\n    </td>\n    <td>\n     <a href=\"http://cve.mitre.org/cgi-bin/cvename.cgi?name=CVE-2009-4657\">\n      CVE-2009-4657\n     </a>\n     <a href=\"http://cve.mitre.org/cgi-bin/cvename.cgi?name=CVE-2009-4658\">\n      CVE-2009-4658\n     </a>\n    </td>\n   </tr>\n   <tr>\n    <td>\n     EXPLOIT-DB:9718\n    </td>\n    <td>\n     <a href=\"http://cve.mitre.org/cgi-bin/cvename.cgi?name=CVE-2009-3561\">\n      CVE-2009-3561\n     </a>\n     <a href=\"http://cve.mitre.org/cgi-bin/cvename.cgi?name=CVE-2009-3562\">\n      CVE-2009-3562\n     </a>\n    </td>\n   </tr>\n   <tr>\n    <td>\n     EXPLOIT-DB:9719\n    </td>\n    <td>\n     <a href=\"http://cve.mitre.org/cgi-bin/cvename.cgi?name=CVE-2009-3308\">\n      CVE-2009-3308\n     </a>\n    </td>\n   </tr>\n   <tr>\n    <td>\n     EXPLOIT-DB:9720\n    </td>\n    <td>\n     <a href=\"http://cve.mitre.org/cgi-bin/cvename.cgi?name=CVE-2009-3307\">\n      CVE-2009-3307\n     </a>\n    </td>\n   </tr>\n   <tr>\n    <td>\n     EXPLOIT-DB:9721\n    </td>\n    <td>\n     <a href=\"http://cve.mitre.org/cgi-bin/cvename.cgi?name=CVE-2009-3325\">\n      CVE-2009-3325\n     </a>\n    </td>\n   </tr>\n   <tr>\n    <td>\n     EXPLOIT-DB:9722\n    </td>\n    <td>\n     <a href=\"http://cve.mitre.org/cgi-bin/cvename.cgi?name=CVE-2009-3331\">\n      CVE-2009-3331\n     </a>\n    </td>\n   </tr>\n   <tr>\n    <td>\n     EXPLOIT-DB:9723\n    </td>\n    <td>\n     <a href=\"http://cve.mitre.org/cgi-bin/cvename.cgi?name=CVE-2009-3332\">\n      CVE-2009-3332\n     </a>\n    </td>\n   </tr>\n   <tr>\n    <td>\n     EXPLOIT-DB:9724\n    </td>\n    <td>\n     <a href=\"http://cve.mitre.org/cgi-bin/cvename.cgi?name=CVE-2009-3323\">\n      CVE-2009-3323\n     </a>\n    </td>\n   </tr>\n   <tr>\n    <td>\n     EXPLOIT-DB:9725\n    </td>\n    <td>\n     <a href=\"http://cve.mitre.org/cgi-bin/cvename.cgi?name=CVE-2009-3329\">\n      CVE-2009-3329\n     </a>\n    </td>\n   </tr>\n   <tr>\n    <td>\n     EXPLOIT-DB:9726\n    </td>\n    <td>\n     <a href=\"http://cve.mitre.org/cgi-bin/cvename.cgi?name=CVE-2009-3330\">\n      CVE-2009-3330\n     </a>\n    </td>\n   </tr>\n   <tr>\n    <td>\n     EXPLOIT-DB:9727\n    </td>\n    <td>\n     <a href=\"http://cve.mitre.org/cgi-bin/cvename.cgi?name=CVE-2009-3326\">\n      CVE-2009-3326\n     </a>\n    </td>\n   </tr>\n   <tr>\n    <td>\n     EXPLOIT-DB:9728\n    </td>\n    <td>\n     <a href=\"http://cve.mitre.org/cgi-bin/cvename.cgi?name=CVE-2009-3324\">\n      CVE-2009-3324\n     </a>\n    </td>\n   </tr>\n   <tr>\n    <td>\n     EXPLOIT-DB:9729\n    </td>\n    <td>\n     <a href=\"http://cve.mitre.org/cgi-bin/cvename.cgi?name=CVE-2009-3492\">\n      CVE-2009-3492\n     </a>\n    </td>\n   </tr>\n   <tr>\n    <td>\n     EXPLOIT-DB:9730\n    </td>\n    <td>\n     <a href=\"http://cve.mitre.org/cgi-bin/cvename.cgi?name=CVE-2009-3327\">\n      CVE-2009-3327\n     </a>\n     <a href=\"http://cve.mitre.org/cgi-bin/cvename.cgi?name=CVE-2009-3328\">\n      CVE-2009-3328\n     </a>\n    </td>\n   </tr>\n   <tr>\n    <td>\n     EXPLOIT-DB:9732\n    </td>\n    <td>\n     <a href=\"http://cve.mitre.org/cgi-bin/cvename.cgi?name=CVE-2009-3334\">\n      CVE-2009-3334\n     </a>\n    </td>\n   </tr>\n   <tr>\n    <td>\n     EXPLOIT-DB:9733\n    </td>\n    <td>\n     <a href=\"http://cve.mitre.org/cgi-bin/cvename.cgi?name=CVE-2009-3446\">\n      CVE-2009-3446\n     </a>\n    </td>\n   </tr>\n   <tr>\n    <td>\n     EXPLOIT-DB:9734\n    </td>\n    <td>\n     <a href=\"http://cve.mitre.org/cgi-bin/cvename.cgi?name=CVE-2009-4661\">\n      CVE-2009-4661\n     </a>\n    </td>\n   </tr>\n   <tr>\n    <td>\n     EXPLOIT-DB:983\n    </td>\n    <td>\n     <a href=\"http://cve.mitre.org/cgi-bin/cvename.cgi?name=CVE-2005-1667\">\n      CVE-2005-1667\n     </a>\n    </td>\n   </tr>\n   <tr>\n    <td>\n     EXPLOIT-DB:9926\n    </td>\n    <td>\n     <a href=\"http://cve.mitre.org/cgi-bin/cvename.cgi?name=CVE-2011-4908\">\n      CVE-2011-4908\n     </a>\n    </td>\n   </tr>\n   <tr>\n    <td>\n     EXPLOIT-DB:Exploit Database\n    </td>\n    <td>\n     <a href=\"http://cve.mitre.org/cgi-bin/cvename.cgi?name=CVE-2011-4094\">\n      CVE-2011-4094\n     </a>\n     <a href=\"http://cve.mitre.org/cgi-bin/cvename.cgi?name=CVE-2014-1860\">\n      CVE-2014-1860\n     </a>\n     <a href=\"http://cve.mitre.org/cgi-bin/cvename.cgi?name=CVE-2014-2072\">\n      CVE-2014-2072\n     </a>\n     <a href=\"http://cve.mitre.org/cgi-bin/cvename.cgi?name=CVE-2014-5081\">\n      CVE-2014-5081\n     </a>\n     <a href=\"http://cve.mitre.org/cgi-bin/cvename.cgi?name=CVE-2015-9464\">\n      CVE-2015-9464\n     </a>\n     <a href=\"http://cve.mitre.org/cgi-bin/cvename.cgi?name=CVE-2015-9480\">\n      CVE-2015-9480\n     </a>\n     <a href=\"http://cve.mitre.org/cgi-bin/cvename.cgi?name=CVE-2016-10972\">\n      CVE-2016-10972\n     </a>\n     <a href=\"http://cve.mitre.org/cgi-bin/cvename.cgi?name=CVE-2016-10997\">\n      CVE-2016-10997\n     </a>\n     <a href=\"http://cve.mitre.org/cgi-bin/cvename.cgi?name=CVE-2017-18346\">\n      CVE-2017-18346\n     </a>\n     <a href=\"http://cve.mitre.org/cgi-bin/cvename.cgi?name=CVE-2017-18601\">\n      CVE-2017-18601\n     </a>\n     <a href=\"http://cve.mitre.org/cgi-bin/cvename.cgi?name=CVE-2017-18602\">\n      CVE-2017-18602\n     </a>\n     <a href=\"http://cve.mitre.org/cgi-bin/cvename.cgi?name=CVE-2018-11227\">\n      CVE-2018-11227\n     </a>\n     <a href=\"http://cve.mitre.org/cgi-bin/cvename.cgi?name=CVE-2018-12715\">\n      CVE-2018-12715\n     </a>\n     <a href=\"http://cve.mitre.org/cgi-bin/cvename.cgi?name=CVE-2019-1010136\">\n      CVE-2019-1010136\n     </a>\n     <a href=\"http://cve.mitre.org/cgi-bin/cvename.cgi?name=CVE-2019-1010163\">\n      CVE-2019-1010163\n     </a>\n     <a href=\"http://cve.mitre.org/cgi-bin/cvename.cgi?name=CVE-2019-12922\">\n      CVE-2019-12922\n     </a>\n     <a href=\"http://cve.mitre.org/cgi-bin/cvename.cgi?name=CVE-2019-13063\">\n      CVE-2019-13063\n     </a>\n     <a href=\"http://cve.mitre.org/cgi-bin/cvename.cgi?name=CVE-2019-14221\">\n      CVE-2019-14221\n     </a>\n     <a href=\"http://cve.mitre.org/cgi-bin/cvename.cgi?name=CVE-2019-14430\">\n      CVE-2019-14430\n     </a>\n     <a href=\"http://cve.mitre.org/cgi-bin/cvename.cgi?name=CVE-2019-16532\">\n      CVE-2019-16532\n     </a>\n     <a href=\"http://cve.mitre.org/cgi-bin/cvename.cgi?name=CVE-2019-16724\">\n      CVE-2019-16724\n     </a>\n     <a href=\"http://cve.mitre.org/cgi-bin/cvename.cgi?name=CVE-2020-10218\">\n      CVE-2020-10218\n     </a>\n     <a href=\"http://cve.mitre.org/cgi-bin/cvename.cgi?name=CVE-2020-10879\">\n      CVE-2020-10879\n     </a>\n     <a href=\"http://cve.mitre.org/cgi-bin/cvename.cgi?name=CVE-2020-11457\">\n      CVE-2020-11457\n     </a>\n     <a href=\"http://cve.mitre.org/cgi-bin/cvename.cgi?name=CVE-2020-13426\">\n      CVE-2020-13426\n     </a>\n     <a href=\"http://cve.mitre.org/cgi-bin/cvename.cgi?name=CVE-2020-14943\">\n      CVE-2020-14943\n     </a>\n     <a href=\"http://cve.mitre.org/cgi-bin/cvename.cgi?name=CVE-2020-21987\">\n      CVE-2020-21987\n     </a>\n     <a href=\"http://cve.mitre.org/cgi-bin/cvename.cgi?name=CVE-2020-21989\">\n      CVE-2020-21989\n     </a>\n     <a href=\"http://cve.mitre.org/cgi-bin/cvename.cgi?name=CVE-2020-21990\">\n      CVE-2020-21990\n     </a>\n     <a href=\"http://cve.mitre.org/cgi-bin/cvename.cgi?name=CVE-2020-21991\">\n      CVE-2020-21991\n     </a>\n     <a href=\"http://cve.mitre.org/cgi-bin/cvename.cgi?name=CVE-2020-21994\">\n      CVE-2020-21994\n     </a>\n     <a href=\"http://cve.mitre.org/cgi-bin/cvename.cgi?name=CVE-2020-21995\">\n      CVE-2020-21995\n     </a>\n     <a href=\"http://cve.mitre.org/cgi-bin/cvename.cgi?name=CVE-2020-21996\">\n      CVE-2020-21996\n     </a>\n     <a href=\"http://cve.mitre.org/cgi-bin/cvename.cgi?name=CVE-2020-21997\">\n      CVE-2020-21997\n     </a>\n     <a href=\"http://cve.mitre.org/cgi-bin/cvename.cgi?name=CVE-2020-22000\">\n      CVE-2020-22000\n     </a>\n     <a href=\"http://cve.mitre.org/cgi-bin/cvename.cgi?name=CVE-2020-22001\">\n      CVE-2020-22001\n     </a>\n     <a href=\"http://cve.mitre.org/cgi-bin/cvename.cgi?name=CVE-2021-28269\">\n      CVE-2021-28269\n     </a>\n     <a href=\"http://cve.mitre.org/cgi-bin/cvename.cgi?name=CVE-2021-28271\">\n      CVE-2021-28271\n     </a>\n    </td>\n   </tr>\n   <tr>\n    <td>\n     EXPLOIT-DB:Explooit Database\n    </td>\n    <td>\n     <a href=\"http://cve.mitre.org/cgi-bin/cvename.cgi?name=CVE-2017-1000475\">\n      CVE-2017-1000475\n     </a>\n    </td>\n   </tr>\n  </table>\n  <!--end Main Content-->\n </div>\n <!-- end content pane -->\n <!--/Page-->\n <!--Footer-->\n <div class=\"noprint\" id=\"FootPane\">\n  <div id=\"footbar\">\n   <span style=\"font-weight:bold\">\n    Page Last Updated or Reviewed:\n   </span>\n   May 03, 2021\n  </div>\n  <div>\n   <div id=\"Footer\">\n    <table>\n     <tr>\n      <td>\n       <div class=\"noprint\" style=\"font-size:70%; text-align:center; padding-top:0px; padding-bottom:3px;\">\n        <b>\n         <a href=\"/sitemap.html\">\n          Site Map\n         </a>\n         |\n         <a href=\"/about/termsofuse.html\">\n          Terms of Use\n         </a>\n         |\n         <a href=\"/about/privacy_policy.html\">\n          Privacy Policy\n         </a>\n         |\n         <a href=\"/about/contactus.html\">\n          Contact Us\n         </a>\n         | \n                           Follow CVE\n        </b>\n        <a href=\"https://twitter.com/CVEnew/\" target=\"_blank\">\n         <img alt=\"Twitter\" height=\"20\" src=\"/images/twitter.jpg\" style=\"border:0;vertical-align:right;margin-left:3px;margin-right:3px;\" title=\"@CVEnew Twitter\" width=\"20\"/>\n        </a>\n        <a href=\"https://www.linkedin.com/showcase/cve-cwe-capec\" target=\"_blank\">\n         <img alt=\"LinkedIn\" height=\"20\" src=\"/images/linkedin.jpg\" style=\"border:0;vertical-align:right;margin-left:0px;margin-right:3px;\" title=\"CVE on LinkedIn\" width=\"20\"/>\n        </a>\n        <a href=\"https://github.com/CVEProject\" target=\"_blank\">\n         <img alt=\"GitHub\" height=\"20\" src=\"/images/GitHub_round_sm\" style=\"border:0;vertical-align:right;margin-left:0px;margin-right:1px;\" title=\"CVEProject on GitHub\" width=\"20\"/>\n        </a>\n        <a href=\"https://www.youtube.com/channel/UCUHd2XFDsKH8kjMZQaSKpDQ/\" target=\"_blank\">\n         <img alt=\"YouTube\" height=\"20\" src=\"/images/youtube.png\" style=\"border:0;vertical-align:right;margin-left:0px;margin-right:3px;\" title=\"CVE on YouTube\" width=\"22\"/>\n        </a>\n        <a href=\"https://medium.com/@cve_program\" target=\"_blank\">\n         <img alt=\"Medium\" height=\"20\" src=\"/images/medium.png\" style=\"border:0;vertical-align:right;margin-left:0px;margin-right:3px;\" title=\"CVE on Medium\" width=\"20\"/>\n        </a>\n        <a href=\"/find/index.html\">\n         <img height=\"21\" src=\"/images/search_icon.png\" style=\"border:0;vertical-align:right;margin-left:0px;margin-right:3px;\" title=\"Search CVE Website\" width=\"21\"/>\n        </a>\n       </div>\n      </td>\n     </tr>\n    </table>\n   </div>\n   <tr>\n    <td>\n     <p>\n      Use of the CVE® List and the associated references from this website are subject to the\n      <a href=\"/about/termsofuse.html\">\n       terms of use\n      </a>\n      . \n                             CVE is sponsored by the\n      <a href=\"https://www.dhs.gov/\" target=\"_blank\">\n       U.S. Department of Homeland Security\n      </a>\n      (DHS)\n      <a href=\"https://www.dhs.gov/cisa/cybersecurity-division/\" target=\"_blank\">\n       Cybersecurity and Infrastructure Security Agency\n      </a>\n      (CISA). Copyright © 1999–2021,\n      <a href=\"https://www.mitre.org/\" target=\"_blank\">\n       The MITRE Corporation\n      </a>\n      . CVE is a registered trademark and the CVE logo is a trademark of The MITRE Corporation.\n     </p>\n    </td>\n   </tr>\n   <!--/Footer-->\n  </div>\n </div>\n <!-- Google Analytics -->\n <script>\n  (function(i,s,o,g,r,a,m){i['GoogleAnalyticsObject']=r;i[r]=i[r]||function(){\n(i[r].q=i[r].q||[]).push(arguments)},i[r].l=1*new Date();a=s.createElement(o),\nm=s.getElementsByTagName(o)[0];a.async=1;a.src=g;m.parentNode.insertBefore(a,m)\n})(window,document,'script','//www.google-analytics.com/analytics.js','ga');\n\nga('create', 'UA-37948909-1', 'auto');\nga('send', 'pageview');\n </script>\n <!-- End Google Analytics -->\n</html>\n\n"
          ]
        }
      ]
    },
    {
      "cell_type": "markdown",
      "metadata": {
        "id": "WfKydAKr_oXG"
      },
      "source": [
        "### Create cve_exploit_df, a dataframe with exploit_db_id and cve_id for mapping"
      ]
    },
    {
      "cell_type": "code",
      "metadata": {
        "id": "am6O8SMr0Bnh"
      },
      "source": [
        "cve_exploit_df = pd.DataFrame(columns=[\"exploit_db_id\", \"cve_id\"])\n",
        "tr_list = soup.find_all('tr')\n",
        "list_of_lists = []\n",
        "for tr in tr_list:\n",
        "    td_list = tr.find_all('td')\n",
        "    \n",
        "    try:\n",
        "        list_of_lists.append([str(td_list[0].string), str(td_list[1].text)])\n",
        "        #cve_exploit_df.append(pd.DataFrame([str(td_list[0].string), str(td_list[1].text)]))\n",
        "    except:\n",
        "        pass\n",
        "    #print(tr)\n",
        "    \n",
        "cve_exploit_df = pd.DataFrame(list_of_lists, columns=[\"exploit_db_id\",\"cve_id\"])\n",
        "print('success')\n"
      ],
      "execution_count": 4,
      "outputs": [
        {
          "output_type": "stream",
          "name": "stdout",
          "text": [
            "success\n"
          ]
        }
      ]
    },
    {
      "cell_type": "code",
      "metadata": {
        "id": "2j3ASusd2ztR"
      },
      "source": [
        "cve_exploit_df"
      ],
      "execution_count": 5,
      "outputs": [
        {
          "output_type": "execute_result",
          "data": {
            "text/plain": [
              "                      exploit_db_id  \\\n",
              "0                              None   \n",
              "1                              None   \n",
              "2                            Source   \n",
              "3                       Description   \n",
              "4                               URL   \n",
              "...                             ...   \n",
              "10839               EXPLOIT-DB:9734   \n",
              "10840                EXPLOIT-DB:983   \n",
              "10841               EXPLOIT-DB:9926   \n",
              "10842   EXPLOIT-DB:Exploit Database   \n",
              "10843  EXPLOIT-DB:Explooit Database   \n",
              "\n",
              "                                                  cve_id  \n",
              "0      \\n\\n\\nGo to for:\\nCVSS ScoresCPE Info\\n\\n\\n\\n\\...  \n",
              "1                                                         \n",
              "2                                             EXPLOIT-DB  \n",
              "3                                      Exploits Database  \n",
              "4                              http://www.exploit-db.com  \n",
              "...                                                  ...  \n",
              "10839                                    CVE-2009-4661\\n  \n",
              "10840                                    CVE-2005-1667\\n  \n",
              "10841                                    CVE-2011-4908\\n  \n",
              "10842   CVE-2011-4094 CVE-2014-1860 CVE-2014-2072 CVE...  \n",
              "10843                                 CVE-2017-1000475\\n  \n",
              "\n",
              "[10844 rows x 2 columns]"
            ],
            "text/html": "<div>\n<style scoped>\n    .dataframe tbody tr th:only-of-type {\n        vertical-align: middle;\n    }\n\n    .dataframe tbody tr th {\n        vertical-align: top;\n    }\n\n    .dataframe thead th {\n        text-align: right;\n    }\n</style>\n<table border=\"1\" class=\"dataframe\">\n  <thead>\n    <tr style=\"text-align: right;\">\n      <th></th>\n      <th>exploit_db_id</th>\n      <th>cve_id</th>\n    </tr>\n  </thead>\n  <tbody>\n    <tr>\n      <th>0</th>\n      <td>None</td>\n      <td>\\n\\n\\nGo to for:\\nCVSS ScoresCPE Info\\n\\n\\n\\n\\...</td>\n    </tr>\n    <tr>\n      <th>1</th>\n      <td>None</td>\n      <td></td>\n    </tr>\n    <tr>\n      <th>2</th>\n      <td>Source</td>\n      <td>EXPLOIT-DB</td>\n    </tr>\n    <tr>\n      <th>3</th>\n      <td>Description</td>\n      <td>Exploits Database</td>\n    </tr>\n    <tr>\n      <th>4</th>\n      <td>URL</td>\n      <td>http://www.exploit-db.com</td>\n    </tr>\n    <tr>\n      <th>...</th>\n      <td>...</td>\n      <td>...</td>\n    </tr>\n    <tr>\n      <th>10839</th>\n      <td>EXPLOIT-DB:9734</td>\n      <td>CVE-2009-4661\\n</td>\n    </tr>\n    <tr>\n      <th>10840</th>\n      <td>EXPLOIT-DB:983</td>\n      <td>CVE-2005-1667\\n</td>\n    </tr>\n    <tr>\n      <th>10841</th>\n      <td>EXPLOIT-DB:9926</td>\n      <td>CVE-2011-4908\\n</td>\n    </tr>\n    <tr>\n      <th>10842</th>\n      <td>EXPLOIT-DB:Exploit Database</td>\n      <td>CVE-2011-4094 CVE-2014-1860 CVE-2014-2072 CVE...</td>\n    </tr>\n    <tr>\n      <th>10843</th>\n      <td>EXPLOIT-DB:Explooit Database</td>\n      <td>CVE-2017-1000475\\n</td>\n    </tr>\n  </tbody>\n</table>\n<p>10844 rows × 2 columns</p>\n</div>"
          },
          "metadata": {},
          "execution_count": 5
        }
      ]
    },
    {
      "cell_type": "markdown",
      "metadata": {
        "id": "NyOMRcZf__3A"
      },
      "source": [
        "### Filter "
      ]
    },
    {
      "cell_type": "code",
      "metadata": {
        "id": "98aDFDgV4mB9"
      },
      "source": [
        "print(\"__________________________________________\")\n",
        "#levo quelli senza pattern su exploit_db_id\n",
        "patternDel = \"^EXPLOIT-DB\"\n",
        "filter = cve_exploit_df[\"exploit_db_id\"].str.contains(patternDel)\n",
        "cve_exploit_df = cve_exploit_df[filter]\n",
        "cve_exploit_df"
      ],
      "execution_count": 6,
      "outputs": [
        {
          "output_type": "stream",
          "name": "stdout",
          "text": [
            "__________________________________________\n"
          ]
        },
        {
          "output_type": "execute_result",
          "data": {
            "text/plain": [
              "                      exploit_db_id  \\\n",
              "6                  EXPLOIT-DB:10102   \n",
              "7                   EXPLOIT-DB:1013   \n",
              "8                  EXPLOIT-DB:10168   \n",
              "9                  EXPLOIT-DB:10180   \n",
              "10                 EXPLOIT-DB:10183   \n",
              "...                             ...   \n",
              "10839               EXPLOIT-DB:9734   \n",
              "10840                EXPLOIT-DB:983   \n",
              "10841               EXPLOIT-DB:9926   \n",
              "10842   EXPLOIT-DB:Exploit Database   \n",
              "10843  EXPLOIT-DB:Explooit Database   \n",
              "\n",
              "                                                  cve_id  \n",
              "6                                        CVE-2009-4186\\n  \n",
              "7                                        CVE-2005-1598\\n  \n",
              "8                                        CVE-2009-4767\\n  \n",
              "9            CVE-2009-4091 CVE-2009-4092 CVE-2009-4093\\n  \n",
              "10                                       CVE-2011-4906\\n  \n",
              "...                                                  ...  \n",
              "10839                                    CVE-2009-4661\\n  \n",
              "10840                                    CVE-2005-1667\\n  \n",
              "10841                                    CVE-2011-4908\\n  \n",
              "10842   CVE-2011-4094 CVE-2014-1860 CVE-2014-2072 CVE...  \n",
              "10843                                 CVE-2017-1000475\\n  \n",
              "\n",
              "[10838 rows x 2 columns]"
            ],
            "text/html": "<div>\n<style scoped>\n    .dataframe tbody tr th:only-of-type {\n        vertical-align: middle;\n    }\n\n    .dataframe tbody tr th {\n        vertical-align: top;\n    }\n\n    .dataframe thead th {\n        text-align: right;\n    }\n</style>\n<table border=\"1\" class=\"dataframe\">\n  <thead>\n    <tr style=\"text-align: right;\">\n      <th></th>\n      <th>exploit_db_id</th>\n      <th>cve_id</th>\n    </tr>\n  </thead>\n  <tbody>\n    <tr>\n      <th>6</th>\n      <td>EXPLOIT-DB:10102</td>\n      <td>CVE-2009-4186\\n</td>\n    </tr>\n    <tr>\n      <th>7</th>\n      <td>EXPLOIT-DB:1013</td>\n      <td>CVE-2005-1598\\n</td>\n    </tr>\n    <tr>\n      <th>8</th>\n      <td>EXPLOIT-DB:10168</td>\n      <td>CVE-2009-4767\\n</td>\n    </tr>\n    <tr>\n      <th>9</th>\n      <td>EXPLOIT-DB:10180</td>\n      <td>CVE-2009-4091 CVE-2009-4092 CVE-2009-4093\\n</td>\n    </tr>\n    <tr>\n      <th>10</th>\n      <td>EXPLOIT-DB:10183</td>\n      <td>CVE-2011-4906\\n</td>\n    </tr>\n    <tr>\n      <th>...</th>\n      <td>...</td>\n      <td>...</td>\n    </tr>\n    <tr>\n      <th>10839</th>\n      <td>EXPLOIT-DB:9734</td>\n      <td>CVE-2009-4661\\n</td>\n    </tr>\n    <tr>\n      <th>10840</th>\n      <td>EXPLOIT-DB:983</td>\n      <td>CVE-2005-1667\\n</td>\n    </tr>\n    <tr>\n      <th>10841</th>\n      <td>EXPLOIT-DB:9926</td>\n      <td>CVE-2011-4908\\n</td>\n    </tr>\n    <tr>\n      <th>10842</th>\n      <td>EXPLOIT-DB:Exploit Database</td>\n      <td>CVE-2011-4094 CVE-2014-1860 CVE-2014-2072 CVE...</td>\n    </tr>\n    <tr>\n      <th>10843</th>\n      <td>EXPLOIT-DB:Explooit Database</td>\n      <td>CVE-2017-1000475\\n</td>\n    </tr>\n  </tbody>\n</table>\n<p>10838 rows × 2 columns</p>\n</div>"
          },
          "metadata": {},
          "execution_count": 6
        }
      ]
    },
    {
      "cell_type": "code",
      "metadata": {
        "id": "ZjvuzbJ-615o"
      },
      "source": [
        "for index, row in cve_exploit_df.iterrows():\n",
        "    exploit_db_id = row['exploit_db_id']\n",
        "    try:\n",
        "        id = exploit_db_id.split(':')[1]\n",
        "        cve_exploit_df.loc[index, 'exploit_db_id'] = id\n",
        "    except:\n",
        "        cve_exploit_df.loc[index, 'exploit_db_id'] = \"Invalid\"\n",
        "\n",
        "cve_exploit_df"
      ],
      "execution_count": 7,
      "outputs": [
        {
          "output_type": "stream",
          "name": "stderr",
          "text": [
            "C:\\Users\\matti\\AppData\\Local\\Programs\\Python\\Python39\\lib\\site-packages\\pandas\\core\\indexing.py:1637: SettingWithCopyWarning: \nA value is trying to be set on a copy of a slice from a DataFrame\n\nSee the caveats in the documentation: https://pandas.pydata.org/pandas-docs/stable/user_guide/indexing.html#returning-a-view-versus-a-copy\n  self._setitem_single_block(indexer, value, name)\nC:\\Users\\matti\\AppData\\Local\\Programs\\Python\\Python39\\lib\\site-packages\\pandas\\core\\indexing.py:692: SettingWithCopyWarning: \nA value is trying to be set on a copy of a slice from a DataFrame\n\nSee the caveats in the documentation: https://pandas.pydata.org/pandas-docs/stable/user_guide/indexing.html#returning-a-view-versus-a-copy\n  iloc._setitem_with_indexer(indexer, value, self.name)\n"
          ]
        },
        {
          "output_type": "execute_result",
          "data": {
            "text/plain": [
              "           exploit_db_id                                             cve_id\n",
              "6                  10102                                    CVE-2009-4186\\n\n",
              "7                   1013                                    CVE-2005-1598\\n\n",
              "8                  10168                                    CVE-2009-4767\\n\n",
              "9                  10180        CVE-2009-4091 CVE-2009-4092 CVE-2009-4093\\n\n",
              "10                 10183                                    CVE-2011-4906\\n\n",
              "...                  ...                                                ...\n",
              "10839               9734                                    CVE-2009-4661\\n\n",
              "10840                983                                    CVE-2005-1667\\n\n",
              "10841               9926                                    CVE-2011-4908\\n\n",
              "10842   Exploit Database   CVE-2011-4094 CVE-2014-1860 CVE-2014-2072 CVE...\n",
              "10843  Explooit Database                                 CVE-2017-1000475\\n\n",
              "\n",
              "[10838 rows x 2 columns]"
            ],
            "text/html": "<div>\n<style scoped>\n    .dataframe tbody tr th:only-of-type {\n        vertical-align: middle;\n    }\n\n    .dataframe tbody tr th {\n        vertical-align: top;\n    }\n\n    .dataframe thead th {\n        text-align: right;\n    }\n</style>\n<table border=\"1\" class=\"dataframe\">\n  <thead>\n    <tr style=\"text-align: right;\">\n      <th></th>\n      <th>exploit_db_id</th>\n      <th>cve_id</th>\n    </tr>\n  </thead>\n  <tbody>\n    <tr>\n      <th>6</th>\n      <td>10102</td>\n      <td>CVE-2009-4186\\n</td>\n    </tr>\n    <tr>\n      <th>7</th>\n      <td>1013</td>\n      <td>CVE-2005-1598\\n</td>\n    </tr>\n    <tr>\n      <th>8</th>\n      <td>10168</td>\n      <td>CVE-2009-4767\\n</td>\n    </tr>\n    <tr>\n      <th>9</th>\n      <td>10180</td>\n      <td>CVE-2009-4091 CVE-2009-4092 CVE-2009-4093\\n</td>\n    </tr>\n    <tr>\n      <th>10</th>\n      <td>10183</td>\n      <td>CVE-2011-4906\\n</td>\n    </tr>\n    <tr>\n      <th>...</th>\n      <td>...</td>\n      <td>...</td>\n    </tr>\n    <tr>\n      <th>10839</th>\n      <td>9734</td>\n      <td>CVE-2009-4661\\n</td>\n    </tr>\n    <tr>\n      <th>10840</th>\n      <td>983</td>\n      <td>CVE-2005-1667\\n</td>\n    </tr>\n    <tr>\n      <th>10841</th>\n      <td>9926</td>\n      <td>CVE-2011-4908\\n</td>\n    </tr>\n    <tr>\n      <th>10842</th>\n      <td>Exploit Database</td>\n      <td>CVE-2011-4094 CVE-2014-1860 CVE-2014-2072 CVE...</td>\n    </tr>\n    <tr>\n      <th>10843</th>\n      <td>Explooit Database</td>\n      <td>CVE-2017-1000475\\n</td>\n    </tr>\n  </tbody>\n</table>\n<p>10838 rows × 2 columns</p>\n</div>"
          },
          "metadata": {},
          "execution_count": 7
        }
      ]
    },
    {
      "cell_type": "code",
      "metadata": {
        "id": "n_qxPUGF-Ewd"
      },
      "source": [
        "for index, row in cve_exploit_df.iterrows():\n",
        "    cve_id = row['cve_id']\n",
        "    try:\n",
        "        id = cve_id.split('\\n')[0]\n",
        "        cve_exploit_df.loc[index, 'cve_id'] = id\n",
        "    except:\n",
        "        cve_exploit_df.loc[index, 'cve_id'] = \"Invalid\"\n",
        "\n",
        "cve_exploit_df"
      ],
      "execution_count": 8,
      "outputs": [
        {
          "output_type": "stream",
          "name": "stderr",
          "text": [
            "C:\\Users\\matti\\AppData\\Local\\Programs\\Python\\Python39\\lib\\site-packages\\pandas\\core\\indexing.py:1637: SettingWithCopyWarning: \nA value is trying to be set on a copy of a slice from a DataFrame\n\nSee the caveats in the documentation: https://pandas.pydata.org/pandas-docs/stable/user_guide/indexing.html#returning-a-view-versus-a-copy\n  self._setitem_single_block(indexer, value, name)\nC:\\Users\\matti\\AppData\\Local\\Programs\\Python\\Python39\\lib\\site-packages\\pandas\\core\\indexing.py:692: SettingWithCopyWarning: \nA value is trying to be set on a copy of a slice from a DataFrame\n\nSee the caveats in the documentation: https://pandas.pydata.org/pandas-docs/stable/user_guide/indexing.html#returning-a-view-versus-a-copy\n  iloc._setitem_with_indexer(indexer, value, self.name)\n"
          ]
        },
        {
          "output_type": "execute_result",
          "data": {
            "text/plain": [
              "           exploit_db_id                                             cve_id\n",
              "6                  10102                                      CVE-2009-4186\n",
              "7                   1013                                      CVE-2005-1598\n",
              "8                  10168                                      CVE-2009-4767\n",
              "9                  10180          CVE-2009-4091 CVE-2009-4092 CVE-2009-4093\n",
              "10                 10183                                      CVE-2011-4906\n",
              "...                  ...                                                ...\n",
              "10839               9734                                      CVE-2009-4661\n",
              "10840                983                                      CVE-2005-1667\n",
              "10841               9926                                      CVE-2011-4908\n",
              "10842   Exploit Database   CVE-2011-4094 CVE-2014-1860 CVE-2014-2072 CVE...\n",
              "10843  Explooit Database                                   CVE-2017-1000475\n",
              "\n",
              "[10838 rows x 2 columns]"
            ],
            "text/html": "<div>\n<style scoped>\n    .dataframe tbody tr th:only-of-type {\n        vertical-align: middle;\n    }\n\n    .dataframe tbody tr th {\n        vertical-align: top;\n    }\n\n    .dataframe thead th {\n        text-align: right;\n    }\n</style>\n<table border=\"1\" class=\"dataframe\">\n  <thead>\n    <tr style=\"text-align: right;\">\n      <th></th>\n      <th>exploit_db_id</th>\n      <th>cve_id</th>\n    </tr>\n  </thead>\n  <tbody>\n    <tr>\n      <th>6</th>\n      <td>10102</td>\n      <td>CVE-2009-4186</td>\n    </tr>\n    <tr>\n      <th>7</th>\n      <td>1013</td>\n      <td>CVE-2005-1598</td>\n    </tr>\n    <tr>\n      <th>8</th>\n      <td>10168</td>\n      <td>CVE-2009-4767</td>\n    </tr>\n    <tr>\n      <th>9</th>\n      <td>10180</td>\n      <td>CVE-2009-4091 CVE-2009-4092 CVE-2009-4093</td>\n    </tr>\n    <tr>\n      <th>10</th>\n      <td>10183</td>\n      <td>CVE-2011-4906</td>\n    </tr>\n    <tr>\n      <th>...</th>\n      <td>...</td>\n      <td>...</td>\n    </tr>\n    <tr>\n      <th>10839</th>\n      <td>9734</td>\n      <td>CVE-2009-4661</td>\n    </tr>\n    <tr>\n      <th>10840</th>\n      <td>983</td>\n      <td>CVE-2005-1667</td>\n    </tr>\n    <tr>\n      <th>10841</th>\n      <td>9926</td>\n      <td>CVE-2011-4908</td>\n    </tr>\n    <tr>\n      <th>10842</th>\n      <td>Exploit Database</td>\n      <td>CVE-2011-4094 CVE-2014-1860 CVE-2014-2072 CVE...</td>\n    </tr>\n    <tr>\n      <th>10843</th>\n      <td>Explooit Database</td>\n      <td>CVE-2017-1000475</td>\n    </tr>\n  </tbody>\n</table>\n<p>10838 rows × 2 columns</p>\n</div>"
          },
          "metadata": {},
          "execution_count": 8
        }
      ]
    },
    {
      "cell_type": "markdown",
      "metadata": {
        "id": "0roTcY3d-2qt"
      },
      "source": [
        "## Save/**load**"
      ]
    },
    {
      "cell_type": "code",
      "metadata": {
        "id": "RHFFYbYn-5Xz"
      },
      "source": [
        "cve_exploit_df.to_csv(r'datasets/exploit_db_cve.csv', index = False)\n",
        "#cve_exploit_df = pd.read_csv(\"datasets/exploit_db_cve.csv\")\n",
        "# !ls\n"
      ],
      "execution_count": 10,
      "outputs": []
    },
    {
      "cell_type": "markdown",
      "metadata": {
        "id": "tq7XcCz7A78-"
      },
      "source": [
        "# CVE clustering"
      ]
    },
    {
      "cell_type": "code",
      "metadata": {
        "id": "_R6-N7y8BHba"
      },
      "source": [
        "#missing values\n",
        "#remove stop words\n",
        "#remove punctuation\n",
        "#remove adjectives, adverbs, verbs\n",
        "#remove version numbers\n",
        "#remove single character words\n",
        "df = pd.read_csv(\"cleaned_mitre.csv\")\n",
        "df"
      ],
      "execution_count": null,
      "outputs": []
    },
    {
      "cell_type": "code",
      "metadata": {
        "id": "szTs0G8fMI9q"
      },
      "source": [
        "import nltk\n",
        "from nltk.corpus import stopwords\n",
        "nltk.download('stopwords')\n",
        "stop = stopwords.words('english')"
      ],
      "execution_count": null,
      "outputs": []
    },
    {
      "cell_type": "code",
      "metadata": {
        "id": "-mkw7tp6Mq_4"
      },
      "source": [
        "print(stop)"
      ],
      "execution_count": null,
      "outputs": []
    },
    {
      "cell_type": "markdown",
      "metadata": {
        "id": "roe9wnGxNNlg"
      },
      "source": [
        "### Remove stop words from df"
      ]
    },
    {
      "cell_type": "code",
      "metadata": {
        "id": "dctpLNIKM1Ld"
      },
      "source": [
        "df['desc'] = df['desc'].apply(lambda x: x.lower())\n",
        "#df['desc'] = df['desc'].apply(lambda x: (word for word in x if word not in stop))\n",
        "#df['desc'] = df['desc'].apply(lambda x: [item for item in x if item not in stop])\n",
        "df['desc'] = df['desc'].apply(lambda x: ' '.join([word for word in x.split() if word not in (stop)]))\n",
        "df['desc'][0]"
      ],
      "execution_count": null,
      "outputs": []
    },
    {
      "cell_type": "code",
      "metadata": {
        "id": "fyiAKqJ5T-Bc"
      },
      "source": [
        "df1 = df\n",
        "df1"
      ],
      "execution_count": null,
      "outputs": []
    },
    {
      "cell_type": "code",
      "metadata": {
        "id": "BT4Ivy4bULL1"
      },
      "source": [
        "#remove everything that doesnt contain windows\n",
        "patternDel = \".*windows.*\"\n",
        "filter = df[\"desc\"].str.contains(patternDel)\n",
        "df = df[filter]\n",
        "df = df.reset_index()\n",
        "df"
      ],
      "execution_count": null,
      "outputs": []
    },
    {
      "cell_type": "code",
      "metadata": {
        "id": "qAqoYzC0U8aS"
      },
      "source": [
        "df['desc'][11]\n",
        "df1 = df\n",
        "#df = df1"
      ],
      "execution_count": null,
      "outputs": []
    },
    {
      "cell_type": "code",
      "metadata": {
        "id": "vHNj73voXztn"
      },
      "source": [
        "#remove single char words\n",
        "df['desc'] = df['desc'].apply(lambda x: ' '.join([word for word in x.split() if len(word) != 1]))\n",
        "df\n"
      ],
      "execution_count": null,
      "outputs": []
    },
    {
      "cell_type": "markdown",
      "metadata": {
        "id": "P3PrUoqMS9iD"
      },
      "source": [
        "### Spacy"
      ]
    },
    {
      "cell_type": "code",
      "metadata": {
        "id": "og-DSXfaTAWY"
      },
      "source": [
        "import spacy\n",
        "\n",
        "nlp = spacy.load(\"en_core_web_sm\")\n",
        "doc = nlp(\"ip_input.c bsd-derived tcp/ip implementations allows remote attackers cause denial service (crash hang) via crafted packets.\")\n",
        "for token in doc:\n",
        "    print(token.text, token.pos_, token.dep_)"
      ],
      "execution_count": null,
      "outputs": []
    },
    {
      "cell_type": "markdown",
      "metadata": {
        "id": "xgEnwXyrd3AF"
      },
      "source": [
        "# Nvd CVE"
      ]
    },
    {
      "cell_type": "code",
      "metadata": {
        "id": "WIyB_HZQd55J"
      },
      "source": [
        "import json\n",
        "import pprint\n",
        "\n",
        "f = open('nvdcve-1.1-modified.json','r')\n",
        "nvd = json.load(f)\n",
        "print(nvd.keys())\n",
        "print(len(nvd['CVE_Items']))\n",
        "print((nvd['CVE_Items'])[0].keys())\n",
        "print((nvd['CVE_Items'])[0]['impact'])\n",
        "print((nvd['CVE_Items'])[0]['cve'].keys())\n",
        "print((nvd['CVE_Items'])[0]['cve']['CVE_data_meta']['ID'])\n",
        "print((nvd['CVE_Items'])[0]['cve']['references']['reference_data'])\n",
        "print((nvd['CVE_Items'])[0]['cve']['description']['description_data'][0]['value'])"
      ],
      "execution_count": null,
      "outputs": []
    },
    {
      "cell_type": "code",
      "metadata": {
        "id": "xQIVRh-ihNzX"
      },
      "source": [
        "final_dict = {}\n",
        "for cve in nvd['CVE_Items']:\n",
        "    final_dict[cve['cve']['CVE_data_meta']['ID']] = {}\n",
        "    final_dict[cve['cve']['CVE_data_meta']['ID']]['references'] = cve['cve']['references']['reference_data']\n",
        "    final_dict[cve['cve']['CVE_data_meta']['ID']]['description'] = cve['cve']['description']['description_data'][0]['value']"
      ],
      "execution_count": null,
      "outputs": []
    },
    {
      "cell_type": "code",
      "metadata": {
        "id": "YnpZEWSwkjpQ"
      },
      "source": [
        "print(final_dict)"
      ],
      "execution_count": null,
      "outputs": []
    },
    {
      "cell_type": "code",
      "metadata": {
        "id": "pKNudR0fk58u"
      },
      "source": [
        "with open(\"nvd.json\", \"w\") as outfile:  \n",
        "    json.dump(final_dict, outfile) "
      ],
      "execution_count": null,
      "outputs": []
    },
    {
      "cell_type": "code",
      "metadata": {
        "id": "y89ElAGklZb6"
      },
      "source": [
        "!ls"
      ],
      "execution_count": null,
      "outputs": []
    },
    {
      "cell_type": "markdown",
      "metadata": {
        "id": "h7I8I9yDloSs"
      },
      "source": [
        "# Clone git of CVEProject/cvelist"
      ]
    },
    {
      "cell_type": "code",
      "metadata": {
        "id": "vwjJYZehluig"
      },
      "source": [
        "#!git clone https://github.com/CVEProject/cvelist\n",
        "#%cd cvelist/\n",
        "import subprocess \n",
        "ls = !ls 2000/0xxx\n",
        "folders = ['1999', '2000', '2001', '2002', '2003', '2004', '2005', '2006', '2007', '2008', '2009', '2010', '2011', '2012', '2013', '2014', '2015', '2016', '2017', '2018', '2019', '2020', '2021']\n",
        "print()\n",
        "cvelist = []\n",
        "for folder in folders:\n",
        "    ls = \"ls \" + folder\n",
        "    ls = subprocess.getstatusoutput(ls)\n",
        "    print(ls)\n",
        "    str_list = ls[1].split('\\n')\n",
        "    #str_list[:] = [x for x in str_list if x]\n",
        "    print(str_list)\n",
        "    for f in str_list:\n",
        "        ls = \"ls \" + folder + '/' + f\n",
        "        ls = subprocess.getstatusoutput(ls)\n",
        "        print(ls[1])\n",
        "        jsonlist = ls[1].split('\\n')\n",
        "        jsonlist[:] = [x for x in jsonlist if x]\n",
        "        print(jsonlist)\n",
        "        for j in jsonlist:\n",
        "            current_file = open(folder + '/' + f + '/' + j)\n",
        "            current = json.load(current_file)\n",
        "            cvelist.append(current)\n",
        "            print('Inserted element ' + j)\n",
        "print(len(cvelist))\n",
        "print(cvelist[0])\n",
        "    #cvelist.append(json.load(folder))"
      ],
      "execution_count": null,
      "outputs": []
    },
    {
      "cell_type": "code",
      "metadata": {
        "id": "3IjV2kvO1GwD"
      },
      "source": [
        "%cd .."
      ],
      "execution_count": null,
      "outputs": []
    },
    {
      "cell_type": "markdown",
      "metadata": {
        "id": "HzEo53q27q-F"
      },
      "source": [
        "Save to json"
      ]
    },
    {
      "cell_type": "code",
      "metadata": {
        "id": "O1pOUeDZzzbg"
      },
      "source": [
        "with open('cvelist.json', 'w') as fout:\n",
        "    json.dump(cvelist, fout)"
      ],
      "execution_count": null,
      "outputs": []
    },
    {
      "cell_type": "code",
      "metadata": {
        "id": "AunpaoYt6aa-"
      },
      "source": [
        "!ls"
      ],
      "execution_count": null,
      "outputs": []
    },
    {
      "cell_type": "markdown",
      "metadata": {
        "id": "KmuXtyOA7o-t"
      },
      "source": [
        "Load json"
      ]
    },
    {
      "cell_type": "code",
      "metadata": {
        "id": "IDoWt3VW6_Qm"
      },
      "source": [
        "with open('cvelist.json', 'r') as fin:\n",
        "    aaaa = json.load(fin)"
      ],
      "execution_count": null,
      "outputs": []
    },
    {
      "cell_type": "code",
      "metadata": {
        "id": "7P-dxdaG7YD9"
      },
      "source": [
        "print(str(len(cvelist)) + ' ' + str(len(aaaa)))"
      ],
      "execution_count": null,
      "outputs": []
    }
  ]
}