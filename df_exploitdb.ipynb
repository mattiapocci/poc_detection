{
 "metadata": {
  "language_info": {
   "codemirror_mode": {
    "name": "ipython",
    "version": 3
   },
   "file_extension": ".py",
   "mimetype": "text/x-python",
   "name": "python",
   "nbconvert_exporter": "python",
   "pygments_lexer": "ipython3",
   "version": "3.8.5"
  },
  "orig_nbformat": 2,
  "kernelspec": {
   "name": "python38564bitcdf243f569714b3da2d53922a45f0d29",
   "display_name": "Python 3.8.5 64-bit"
  },
  "metadata": {
   "interpreter": {
    "hash": "31f2aee4e71d21fbe5cf8b01ff0e069b9275f58929596ceb00d14d90e3e16cd6"
   }
  }
 },
 "nbformat": 4,
 "nbformat_minor": 2,
 "cells": [
  {
   "cell_type": "code",
   "execution_count": 1,
   "metadata": {},
   "outputs": [
    {
     "output_type": "stream",
     "name": "stdout",
     "text": [
      "done\n"
     ]
    }
   ],
   "source": [
    "import subprocess\n",
    "import pandas as pd\n",
    "print('done')"
   ]
  },
  {
   "cell_type": "code",
   "execution_count": 2,
   "metadata": {},
   "outputs": [
    {
     "output_type": "stream",
     "name": "stdout",
     "text": [
      "['aix', 'alpha', 'android', 'arm', 'ashx', 'asp', 'aspx', 'atheos', 'beos', 'bsd', 'bsd_x86', 'cfm', 'cgi', 'freebsd', 'freebsd_x86', 'freebsd_x86-64', 'hardware', 'hp-ux', 'immunix', 'ios', 'irix', 'java', 'json', 'jsp', 'linux', 'linux_mips', 'linux_sparc', 'linux_x86', 'linux_x86-64', 'lua', 'macos', 'minix', 'multiple', 'netbsd_x86', 'netware', 'nodejs', 'novell', 'openbsd', 'osx', 'osx_ppc', 'palm_os', 'perl', 'php', 'plan9', 'python', 'qnx', 'ruby', 'sco', 'solaris', 'solaris_sparc', 'solaris_x86', 'tru64', 'ultrix', 'unix', 'unixware', 'vxworks', 'watchos', 'windows', 'windows_x86', 'windows_x86-64', 'xml']\n"
     ]
    }
   ],
   "source": [
    "ls = \"ls /opt/exploit-database/exploits/\"\n",
    "ls = subprocess.getstatusoutput(ls)\n",
    "ls_exploits = ls[1].split('\\n')\n",
    "print(ls_exploits)\n",
    "exploit_df = pd.DataFrame(columns=['id','exploit'])\n",
    "\n",
    "for folder in ls_exploits:"
   ]
  },
  {
   "cell_type": "code",
   "execution_count": null,
   "metadata": {},
   "outputs": [],
   "source": [
    "ls = \"ls /opt/exploit-database/exploits/\"\n",
    "ls = subprocess.getstatusoutput(ls)\n",
    "ls_exploits = ls[1].split('\\n')\n",
    "\n",
    "exploit_df = pd.DataFrame(columns=['id','exploit'])\n",
    "for folder in ls_exploits:\n",
    "    #print(folder.lower())\n",
    "    #print('---')\n",
    "    if 'windows' in folder.lower():\n",
    "        ls = \"ls /opt/exploit-database/exploits/\" + folder\n",
    "        ls = subprocess.getstatusoutput(ls)\n",
    "        winfolders = ls[1].split('\\n')\n",
    "        #print(winfolders)\n",
    "        for wf in winfolders:\n",
    "            ls = \"ls /opt/exploit-database/exploits/\" + folder + '/' + wf\n",
    "            ls = subprocess.getstatusoutput(ls)\n",
    "            subfolders = ls[1].split('\\n')\n",
    "            #print(subfolders)\n",
    "            for s in subfolders:\n",
    "                print(s)\n",
    "                with open('/opt/exploit-database/exploits/' + folder + '/' + wf + '/' + s,'r') as f:\n",
    "                    content = f.read()\n",
    "                exploit_df = exploit_df.append({'id' : s , 'exploit' : content} , ignore_index=True)\n",
    "                print('Added exploit with id: ' + s)\n",
    "        \n",
    "\n",
    "print(exploit_df)\n",
    "exploit_df.to_csv(r'wincve_exploitdb_exploits.csv', index = False)\n",
    "\n",
    "ls = \"ls /opt/exploit-database/shellcodes/\"\n",
    "ls = subprocess.getstatusoutput(ls)\n",
    "ls_shellcodes = ls[1].split('\\n')\n",
    "shellcodes_df = pd.DataFrame(columns=['id','shellcode'])\n",
    "for folder in ls_shellcodes:\n",
    "    #print(folder.lower())\n",
    "    #print('---')\n",
    "    if 'windows' in folder.lower():\n",
    "        ls = \"ls /opt/exploit-database/shellcodes/\" + folder\n",
    "        ls = subprocess.getstatusoutput(ls)\n",
    "        winfolders = ls[1].split('\\n')\n",
    "        print(winfolders)\n",
    "        #print(winfolders)\n",
    "        for s in winfolders:\n",
    "            print(s)\n",
    "            with open('/opt/exploit-database/shellcodes/' + folder + '/' + s,'r') as f:\n",
    "                content = f.read()\n",
    "            shellcodes_df = shellcodes_df.append({'id' : s , 'shellcode' : content} , ignore_index=True)\n",
    "            print('Added shellcode with id: ' + s)\n",
    "print(shellcodes_df)\n",
    "shellcodes_df.to_csv(r'wincve_exploitdb_shellcodes.csv', index = False)"
   ]
  }
 ]
}